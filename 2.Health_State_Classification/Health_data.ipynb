{
 "cells": [
  {
   "cell_type": "markdown",
   "id": "e8cd0b47-6710-4cd9-8fb1-9bc5f5b4063c",
   "metadata": {},
   "source": [
    "## Analysing data\n",
    "\n",
    "출처는 kaggle 사이트를 참고하여 직접 실습을 따라해보았습니다.\n",
    "(https://www.kaggle.com/devprabal/bmi-prediction-of-health-status)"
   ]
  },
  {
   "cell_type": "markdown",
   "id": "5996fbe6-6f2b-4438-938d-0d8e88c52642",
   "metadata": {},
   "source": [
    "(1) 데이터 불러오기 및 결측치 확인"
   ]
  },
  {
   "cell_type": "code",
   "execution_count": 59,
   "id": "b50a7159-5ebf-4bb6-b42b-2b1a42356929",
   "metadata": {},
   "outputs": [],
   "source": [
    "import numpy as np\n",
    "import pandas as pd\n",
    "\n",
    "import os"
   ]
  },
  {
   "cell_type": "code",
   "execution_count": 60,
   "id": "5c32b9d9-720e-45a7-a69a-10fcc2d48bbb",
   "metadata": {},
   "outputs": [],
   "source": [
    "data = pd.read_csv('./500_Person_Gender_Height_Weight_Index.csv',engine='python',encoding='CP949')\n",
    "data_visual = pd.read_csv('./500_Person_Gender_Height_Weight_Index.csv',engine='python',encoding='CP949')"
   ]
  },
  {
   "cell_type": "code",
   "execution_count": 61,
   "id": "526af628-15ab-437e-834d-a807325be1f5",
   "metadata": {},
   "outputs": [
    {
     "data": {
      "text/html": [
       "<div>\n",
       "<style scoped>\n",
       "    .dataframe tbody tr th:only-of-type {\n",
       "        vertical-align: middle;\n",
       "    }\n",
       "\n",
       "    .dataframe tbody tr th {\n",
       "        vertical-align: top;\n",
       "    }\n",
       "\n",
       "    .dataframe thead th {\n",
       "        text-align: right;\n",
       "    }\n",
       "</style>\n",
       "<table border=\"1\" class=\"dataframe\">\n",
       "  <thead>\n",
       "    <tr style=\"text-align: right;\">\n",
       "      <th></th>\n",
       "      <th>Gender</th>\n",
       "      <th>Height</th>\n",
       "      <th>Weight</th>\n",
       "      <th>Index</th>\n",
       "    </tr>\n",
       "  </thead>\n",
       "  <tbody>\n",
       "    <tr>\n",
       "      <th>0</th>\n",
       "      <td>여자</td>\n",
       "      <td>141</td>\n",
       "      <td>146</td>\n",
       "      <td>5</td>\n",
       "    </tr>\n",
       "    <tr>\n",
       "      <th>1</th>\n",
       "      <td>여자</td>\n",
       "      <td>141</td>\n",
       "      <td>76</td>\n",
       "      <td>4</td>\n",
       "    </tr>\n",
       "    <tr>\n",
       "      <th>2</th>\n",
       "      <td>남자</td>\n",
       "      <td>141</td>\n",
       "      <td>129</td>\n",
       "      <td>5</td>\n",
       "    </tr>\n",
       "    <tr>\n",
       "      <th>3</th>\n",
       "      <td>남자</td>\n",
       "      <td>141</td>\n",
       "      <td>152</td>\n",
       "      <td>5</td>\n",
       "    </tr>\n",
       "    <tr>\n",
       "      <th>4</th>\n",
       "      <td>남자</td>\n",
       "      <td>141</td>\n",
       "      <td>79</td>\n",
       "      <td>3</td>\n",
       "    </tr>\n",
       "  </tbody>\n",
       "</table>\n",
       "</div>"
      ],
      "text/plain": [
       "  Gender  Height  Weight  Index\n",
       "0     여자     141     146      5\n",
       "1     여자     141      76      4\n",
       "2     남자     141     129      5\n",
       "3     남자     141     152      5\n",
       "4     남자     141      79      3"
      ]
     },
     "execution_count": 61,
     "metadata": {},
     "output_type": "execute_result"
    }
   ],
   "source": [
    "data.head()\n"
   ]
  },
  {
   "cell_type": "code",
   "execution_count": 62,
   "id": "211091b4-a918-4fd0-b057-59f339d904a3",
   "metadata": {},
   "outputs": [
    {
     "data": {
      "text/plain": [
       "(777, 4)"
      ]
     },
     "execution_count": 62,
     "metadata": {},
     "output_type": "execute_result"
    }
   ],
   "source": [
    "data.shape"
   ]
  },
  {
   "cell_type": "code",
   "execution_count": 63,
   "id": "8fb5d5c8-6042-4e2a-898a-19e286dc1c7e",
   "metadata": {},
   "outputs": [
    {
     "data": {
      "text/plain": [
       "Gender    False\n",
       "Height    False\n",
       "Weight    False\n",
       "Index     False\n",
       "dtype: bool"
      ]
     },
     "execution_count": 63,
     "metadata": {},
     "output_type": "execute_result"
    }
   ],
   "source": [
    "# 결측치 확인\n",
    "\n",
    "data.isnull().any()"
   ]
  },
  {
   "cell_type": "code",
   "execution_count": 64,
   "id": "9041fc2c-5a5c-4fb2-8b9c-3f7dc219dabe",
   "metadata": {},
   "outputs": [],
   "source": [
    "# 데이터를 0~5까지 나누어서 체질과 식단 추천 함께해주기!"
   ]
  },
  {
   "cell_type": "code",
   "execution_count": 65,
   "id": "c5ba325a-b588-4cdd-ac77-916f3a9a3f92",
   "metadata": {},
   "outputs": [],
   "source": [
    "\n",
    "\n",
    "def convert_status_to_description(x):\n",
    "    if x['Index'] == 1 :\n",
    "        return 'Weak, 아침을 꼭 챙겨먹고, 고기류와 단백질을 섭취해주세요'\n",
    "    elif x['Index'] == 2 :\n",
    "        return 'Normal, 현미밥, 고구마와 같은 건강식 섭취와 운동을 함께 해주세요'\n",
    "    elif x['Index'] == 3 :\n",
    "        return 'Overweight, 적은 양의 식사, 단백질 쉐이크 섭취를 함께 해주세요'\n",
    "    elif x['Index'] == 4 :\n",
    "        return 'Obesity, 녹차, 견과류 등을 섭취하여 콜레스트롤 양을 조절하세요'\n",
    "    elif x['Index'] == 5 :\n",
    "        return 'Extreme Obesity, 밀가루 음식을 자제하고 채소를 섭취해주세요'\n",
    "    "
   ]
  },
  {
   "cell_type": "code",
   "execution_count": 66,
   "id": "9bda1126-7016-470e-8b34-9733f8383fce",
   "metadata": {},
   "outputs": [
    {
     "data": {
      "text/html": [
       "<div>\n",
       "<style scoped>\n",
       "    .dataframe tbody tr th:only-of-type {\n",
       "        vertical-align: middle;\n",
       "    }\n",
       "\n",
       "    .dataframe tbody tr th {\n",
       "        vertical-align: top;\n",
       "    }\n",
       "\n",
       "    .dataframe thead th {\n",
       "        text-align: right;\n",
       "    }\n",
       "</style>\n",
       "<table border=\"1\" class=\"dataframe\">\n",
       "  <thead>\n",
       "    <tr style=\"text-align: right;\">\n",
       "      <th></th>\n",
       "      <th>Gender</th>\n",
       "      <th>Height</th>\n",
       "      <th>Weight</th>\n",
       "      <th>Index</th>\n",
       "      <th>Status</th>\n",
       "    </tr>\n",
       "  </thead>\n",
       "  <tbody>\n",
       "    <tr>\n",
       "      <th>0</th>\n",
       "      <td>여자</td>\n",
       "      <td>141</td>\n",
       "      <td>146</td>\n",
       "      <td>5</td>\n",
       "      <td>Extreme Obesity, 가공 식품, 설탕, 간식, 라면과 같은 음식을 자제하...</td>\n",
       "    </tr>\n",
       "    <tr>\n",
       "      <th>1</th>\n",
       "      <td>여자</td>\n",
       "      <td>141</td>\n",
       "      <td>76</td>\n",
       "      <td>4</td>\n",
       "      <td>Obesity, 고추, 녹차, 달걀, 커피, 견과류 등을 같이 섭취하여 콜레스트롤 ...</td>\n",
       "    </tr>\n",
       "    <tr>\n",
       "      <th>2</th>\n",
       "      <td>남자</td>\n",
       "      <td>141</td>\n",
       "      <td>129</td>\n",
       "      <td>5</td>\n",
       "      <td>Extreme Obesity, 가공 식품, 설탕, 간식, 라면과 같은 음식을 자제하...</td>\n",
       "    </tr>\n",
       "    <tr>\n",
       "      <th>3</th>\n",
       "      <td>남자</td>\n",
       "      <td>141</td>\n",
       "      <td>152</td>\n",
       "      <td>5</td>\n",
       "      <td>Extreme Obesity, 가공 식품, 설탕, 간식, 라면과 같은 음식을 자제하...</td>\n",
       "    </tr>\n",
       "    <tr>\n",
       "      <th>4</th>\n",
       "      <td>남자</td>\n",
       "      <td>141</td>\n",
       "      <td>79</td>\n",
       "      <td>3</td>\n",
       "      <td>Overweight, 우리 몸이 꼭 필요한 단백질, 비타민, 무기질 등등 균형 잡히...</td>\n",
       "    </tr>\n",
       "  </tbody>\n",
       "</table>\n",
       "</div>"
      ],
      "text/plain": [
       "  Gender  Height  Weight  Index  \\\n",
       "0     여자     141     146      5   \n",
       "1     여자     141      76      4   \n",
       "2     남자     141     129      5   \n",
       "3     남자     141     152      5   \n",
       "4     남자     141      79      3   \n",
       "\n",
       "                                              Status  \n",
       "0  Extreme Obesity, 가공 식품, 설탕, 간식, 라면과 같은 음식을 자제하...  \n",
       "1  Obesity, 고추, 녹차, 달걀, 커피, 견과류 등을 같이 섭취하여 콜레스트롤 ...  \n",
       "2  Extreme Obesity, 가공 식품, 설탕, 간식, 라면과 같은 음식을 자제하...  \n",
       "3  Extreme Obesity, 가공 식품, 설탕, 간식, 라면과 같은 음식을 자제하...  \n",
       "4  Overweight, 우리 몸이 꼭 필요한 단백질, 비타민, 무기질 등등 균형 잡히...  "
      ]
     },
     "execution_count": 66,
     "metadata": {},
     "output_type": "execute_result"
    }
   ],
   "source": [
    "data['Status'] = data.apply(convert_status_to_description,axis=1)\n",
    "data.head()"
   ]
  },
  {
   "cell_type": "code",
   "execution_count": 67,
   "id": "a428bc5c-d462-4d9f-995f-1c658d442b24",
   "metadata": {},
   "outputs": [
    {
     "name": "stdout",
     "output_type": "stream",
     "text": [
      "<class 'pandas.core.series.Series'>\n"
     ]
    },
    {
     "data": {
      "text/plain": [
       "5    247\n",
       "4    174\n",
       "3    127\n",
       "2    119\n",
       "1    110\n",
       "Name: Index, dtype: int64"
      ]
     },
     "execution_count": 67,
     "metadata": {},
     "output_type": "execute_result"
    }
   ],
   "source": [
    "people = data['Index'].value_counts() \n",
    "\n",
    "print(type(people))\n",
    "people.head()"
   ]
  },
  {
   "cell_type": "code",
   "execution_count": 68,
   "id": "fca4f3f1-cd08-48b9-8bd3-d3529b293cbb",
   "metadata": {},
   "outputs": [
    {
     "data": {
      "text/html": [
       "<div>\n",
       "<style scoped>\n",
       "    .dataframe tbody tr th:only-of-type {\n",
       "        vertical-align: middle;\n",
       "    }\n",
       "\n",
       "    .dataframe tbody tr th {\n",
       "        vertical-align: top;\n",
       "    }\n",
       "\n",
       "    .dataframe thead th {\n",
       "        text-align: right;\n",
       "    }\n",
       "</style>\n",
       "<table border=\"1\" class=\"dataframe\">\n",
       "  <thead>\n",
       "    <tr style=\"text-align: right;\">\n",
       "      <th></th>\n",
       "      <th>Gender</th>\n",
       "      <th>Height</th>\n",
       "      <th>Weight</th>\n",
       "    </tr>\n",
       "  </thead>\n",
       "  <tbody>\n",
       "    <tr>\n",
       "      <th>5</th>\n",
       "      <td>남자</td>\n",
       "      <td>141</td>\n",
       "      <td>52</td>\n",
       "    </tr>\n",
       "    <tr>\n",
       "      <th>60</th>\n",
       "      <td>여자</td>\n",
       "      <td>148</td>\n",
       "      <td>35</td>\n",
       "    </tr>\n",
       "    <tr>\n",
       "      <th>61</th>\n",
       "      <td>여자</td>\n",
       "      <td>148</td>\n",
       "      <td>41</td>\n",
       "    </tr>\n",
       "    <tr>\n",
       "      <th>62</th>\n",
       "      <td>여자</td>\n",
       "      <td>148</td>\n",
       "      <td>45</td>\n",
       "    </tr>\n",
       "    <tr>\n",
       "      <th>78</th>\n",
       "      <td>여자</td>\n",
       "      <td>151</td>\n",
       "      <td>51</td>\n",
       "    </tr>\n",
       "    <tr>\n",
       "      <th>...</th>\n",
       "      <td>...</td>\n",
       "      <td>...</td>\n",
       "      <td>...</td>\n",
       "    </tr>\n",
       "    <tr>\n",
       "      <th>759</th>\n",
       "      <td>여자</td>\n",
       "      <td>198</td>\n",
       "      <td>51</td>\n",
       "    </tr>\n",
       "    <tr>\n",
       "      <th>769</th>\n",
       "      <td>남자</td>\n",
       "      <td>211</td>\n",
       "      <td>75</td>\n",
       "    </tr>\n",
       "    <tr>\n",
       "      <th>770</th>\n",
       "      <td>남자</td>\n",
       "      <td>211</td>\n",
       "      <td>65</td>\n",
       "    </tr>\n",
       "    <tr>\n",
       "      <th>772</th>\n",
       "      <td>남자</td>\n",
       "      <td>212</td>\n",
       "      <td>58</td>\n",
       "    </tr>\n",
       "    <tr>\n",
       "      <th>776</th>\n",
       "      <td>남자</td>\n",
       "      <td>212</td>\n",
       "      <td>51</td>\n",
       "    </tr>\n",
       "  </tbody>\n",
       "</table>\n",
       "<p>110 rows × 3 columns</p>\n",
       "</div>"
      ],
      "text/plain": [
       "    Gender  Height  Weight\n",
       "5       남자     141      52\n",
       "60      여자     148      35\n",
       "61      여자     148      41\n",
       "62      여자     148      45\n",
       "78      여자     151      51\n",
       "..     ...     ...     ...\n",
       "759     여자     198      51\n",
       "769     남자     211      75\n",
       "770     남자     211      65\n",
       "772     남자     212      58\n",
       "776     남자     212      51\n",
       "\n",
       "[110 rows x 3 columns]"
      ]
     },
     "execution_count": 68,
     "metadata": {},
     "output_type": "execute_result"
    }
   ],
   "source": [
    "Extreme_Obesity = data[data['Index']==5]\n",
    "Extreme_Obesity = pd.DataFrame(Extreme_Obesity)\n",
    "\n",
    "Extreme_Obesity = Extreme_Obesity[['Gender','Height','Weight']]\n",
    "Extreme_Obesity\n",
    "\n",
    "Obesity = data[data['Index']==4]\n",
    "Obesity = pd.DataFrame(Obesity)\n",
    "\n",
    "Obesity = Obesity[['Gender','Height','Weight']]\n",
    "Obesity\n",
    "\n",
    "Normal =  data[data['Index']==3]\n",
    "Normal = pd.DataFrame(Normal)\n",
    "\n",
    "Normal = Normal[['Gender','Height','Weight']]\n",
    "Normal\n",
    "\n",
    "Overweight =  data[data['Index']==2]\n",
    "Overweight = pd.DataFrame(Overweight)\n",
    "\n",
    "Overweight = Overweight[['Gender','Height','Weight']]\n",
    "Overweight\n",
    "\n",
    "weak =  data[data['Index']==1]\n",
    "weak = pd.DataFrame(weak)\n",
    "\n",
    "weak = weak[['Gender','Height','Weight']]\n",
    "weak"
   ]
  },
  {
   "cell_type": "code",
   "execution_count": 69,
   "id": "0679e3d2-5f60-4575-89b3-9b6084835a25",
   "metadata": {},
   "outputs": [],
   "source": [
    " ## 데이터프래임 생성\n",
    "Extreme_Obesity.to_csv('Extreme_Obesity.txt',index=False,sep='\\t')\n",
    "Obesity.to_csv('Obesity.txt',index=False,sep='\\t')\n",
    "Normal.to_csv('Normal .txt',index=False,sep='\\t')\n",
    "Overweight.to_csv('Overweight.txt',index=False,sep='\\t')\n",
    "weak.to_csv('weak.txt',index=False,sep='\\t')\n",
    "\n",
    "list = ['Extreme_Obesity.txt','Obesity.txt','Normal .txt','Overweight.txt','weak.txt']"
   ]
  },
  {
   "cell_type": "code",
   "execution_count": 70,
   "id": "80738adc-25b8-49f2-a908-a0b1f18d71ec",
   "metadata": {},
   "outputs": [],
   "source": [
    "for file in list:\n",
    "    with open(file, 'r') as txt:\n",
    "        a = txt.readlines()\n",
    "    for i in range(len(a)):\n",
    "        b = i + 1\n",
    "        with open(f'{file}-{b}.text', 'w+') as txt:\n",
    "            txt.write(a[i])"
   ]
  },
  {
   "cell_type": "code",
   "execution_count": null,
   "id": "6c8f0982-426b-4351-8b6b-978fe1af9f94",
   "metadata": {},
   "outputs": [],
   "source": []
  },
  {
   "cell_type": "code",
   "execution_count": null,
   "id": "9f1b5a84-ce04-4dea-a58f-36f2b8f3ed39",
   "metadata": {},
   "outputs": [],
   "source": []
  },
  {
   "cell_type": "code",
   "execution_count": null,
   "id": "fdfc7327-823b-4bcb-a45b-aed571d3bed2",
   "metadata": {},
   "outputs": [],
   "source": []
  },
  {
   "cell_type": "code",
   "execution_count": null,
   "id": "02fb12c6-8736-4566-a269-8411bc9e0abd",
   "metadata": {},
   "outputs": [],
   "source": []
  },
  {
   "cell_type": "code",
   "execution_count": null,
   "id": "f39cb387-3198-4f49-8d5c-fcdc9eeb9c67",
   "metadata": {},
   "outputs": [],
   "source": []
  }
 ],
 "metadata": {
  "kernelspec": {
   "display_name": "Python 3",
   "language": "python",
   "name": "python3"
  },
  "language_info": {
   "codemirror_mode": {
    "name": "ipython",
    "version": 3
   },
   "file_extension": ".py",
   "mimetype": "text/x-python",
   "name": "python",
   "nbconvert_exporter": "python",
   "pygments_lexer": "ipython3",
   "version": "3.8.8"
  }
 },
 "nbformat": 4,
 "nbformat_minor": 5
}
