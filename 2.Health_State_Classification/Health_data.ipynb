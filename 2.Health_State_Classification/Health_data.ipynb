{
 "cells": [
  {
   "cell_type": "markdown",
   "id": "e8cd0b47-6710-4cd9-8fb1-9bc5f5b4063c",
   "metadata": {},
   "source": [
    "## Analysing data\n",
    "\n",
    "출처는 kaggle 사이트를 참고하여 직접 실습을 따라해보았습니다.\n",
    "(https://www.kaggle.com/devprabal/bmi-prediction-of-health-status)"
   ]
  },
  {
   "cell_type": "markdown",
   "id": "5996fbe6-6f2b-4438-938d-0d8e88c52642",
   "metadata": {},
   "source": [
    "(1) 데이터 불러오기 및 결측치 확인"
   ]
  },
  {
   "cell_type": "code",
   "execution_count": 1,
   "id": "b50a7159-5ebf-4bb6-b42b-2b1a42356929",
   "metadata": {},
   "outputs": [],
   "source": [
    "import numpy as np\n",
    "import pandas as pd\n",
    "\n",
    "import os"
   ]
  },
  {
   "cell_type": "code",
   "execution_count": 2,
   "id": "5c32b9d9-720e-45a7-a69a-10fcc2d48bbb",
   "metadata": {},
   "outputs": [],
   "source": [
    "data = pd.read_csv('./500_Person_Gender_Height_Weight_Index.csv')\n",
    "data_visual = pd.read_csv('./500_Person_Gender_Height_Weight_Index.csv')"
   ]
  },
  {
   "cell_type": "code",
   "execution_count": 6,
   "id": "526af628-15ab-437e-834d-a807325be1f5",
   "metadata": {},
   "outputs": [
    {
     "data": {
      "text/html": [
       "<div>\n",
       "<style scoped>\n",
       "    .dataframe tbody tr th:only-of-type {\n",
       "        vertical-align: middle;\n",
       "    }\n",
       "\n",
       "    .dataframe tbody tr th {\n",
       "        vertical-align: top;\n",
       "    }\n",
       "\n",
       "    .dataframe thead th {\n",
       "        text-align: right;\n",
       "    }\n",
       "</style>\n",
       "<table border=\"1\" class=\"dataframe\">\n",
       "  <thead>\n",
       "    <tr style=\"text-align: right;\">\n",
       "      <th></th>\n",
       "      <th>Gender</th>\n",
       "      <th>Height</th>\n",
       "      <th>Weight</th>\n",
       "      <th>Index</th>\n",
       "    </tr>\n",
       "  </thead>\n",
       "  <tbody>\n",
       "    <tr>\n",
       "      <th>0</th>\n",
       "      <td>Male</td>\n",
       "      <td>174</td>\n",
       "      <td>96</td>\n",
       "      <td>4</td>\n",
       "    </tr>\n",
       "    <tr>\n",
       "      <th>1</th>\n",
       "      <td>Male</td>\n",
       "      <td>189</td>\n",
       "      <td>87</td>\n",
       "      <td>2</td>\n",
       "    </tr>\n",
       "    <tr>\n",
       "      <th>2</th>\n",
       "      <td>Female</td>\n",
       "      <td>185</td>\n",
       "      <td>110</td>\n",
       "      <td>4</td>\n",
       "    </tr>\n",
       "    <tr>\n",
       "      <th>3</th>\n",
       "      <td>Female</td>\n",
       "      <td>195</td>\n",
       "      <td>104</td>\n",
       "      <td>3</td>\n",
       "    </tr>\n",
       "    <tr>\n",
       "      <th>4</th>\n",
       "      <td>Male</td>\n",
       "      <td>149</td>\n",
       "      <td>61</td>\n",
       "      <td>3</td>\n",
       "    </tr>\n",
       "  </tbody>\n",
       "</table>\n",
       "</div>"
      ],
      "text/plain": [
       "   Gender  Height  Weight  Index\n",
       "0    Male     174      96      4\n",
       "1    Male     189      87      2\n",
       "2  Female     185     110      4\n",
       "3  Female     195     104      3\n",
       "4    Male     149      61      3"
      ]
     },
     "execution_count": 6,
     "metadata": {},
     "output_type": "execute_result"
    }
   ],
   "source": [
    "data.head()\n"
   ]
  },
  {
   "cell_type": "code",
   "execution_count": 7,
   "id": "211091b4-a918-4fd0-b057-59f339d904a3",
   "metadata": {},
   "outputs": [
    {
     "data": {
      "text/plain": [
       "(500, 4)"
      ]
     },
     "execution_count": 7,
     "metadata": {},
     "output_type": "execute_result"
    }
   ],
   "source": [
    "data.shape"
   ]
  },
  {
   "cell_type": "code",
   "execution_count": 8,
   "id": "8fb5d5c8-6042-4e2a-898a-19e286dc1c7e",
   "metadata": {},
   "outputs": [
    {
     "data": {
      "text/plain": [
       "Gender    False\n",
       "Height    False\n",
       "Weight    False\n",
       "Index     False\n",
       "dtype: bool"
      ]
     },
     "execution_count": 8,
     "metadata": {},
     "output_type": "execute_result"
    }
   ],
   "source": [
    "# 결측치 확인\n",
    "\n",
    "data.isnull().any()"
   ]
  },
  {
   "cell_type": "code",
   "execution_count": 13,
   "id": "c5ba325a-b588-4cdd-ac77-916f3a9a3f92",
   "metadata": {},
   "outputs": [],
   "source": [
    "def convert_status_to_description(x):\n",
    "    if x['Index'] == 0 :\n",
    "        return 'Extremely Weak'\n",
    "    elif x['Index'] == 1 :\n",
    "        return 'Weak'\n",
    "    elif x['Index'] == 2 :\n",
    "        return 'Normal'\n",
    "    elif x['Index'] == 3 :\n",
    "        return 'Overweight'\n",
    "    elif x['Index'] == 4 :\n",
    "        return 'Obesity'\n",
    "    elif x['Index'] == 5 :\n",
    "        return 'Extreme Obesity'\n",
    "    "
   ]
  },
  {
   "cell_type": "code",
   "execution_count": 14,
   "id": "9bda1126-7016-470e-8b34-9733f8383fce",
   "metadata": {},
   "outputs": [
    {
     "data": {
      "text/html": [
       "<div>\n",
       "<style scoped>\n",
       "    .dataframe tbody tr th:only-of-type {\n",
       "        vertical-align: middle;\n",
       "    }\n",
       "\n",
       "    .dataframe tbody tr th {\n",
       "        vertical-align: top;\n",
       "    }\n",
       "\n",
       "    .dataframe thead th {\n",
       "        text-align: right;\n",
       "    }\n",
       "</style>\n",
       "<table border=\"1\" class=\"dataframe\">\n",
       "  <thead>\n",
       "    <tr style=\"text-align: right;\">\n",
       "      <th></th>\n",
       "      <th>Gender</th>\n",
       "      <th>Height</th>\n",
       "      <th>Weight</th>\n",
       "      <th>Index</th>\n",
       "      <th>Status</th>\n",
       "      <th>gender_lbl</th>\n",
       "    </tr>\n",
       "  </thead>\n",
       "  <tbody>\n",
       "    <tr>\n",
       "      <th>0</th>\n",
       "      <td>Male</td>\n",
       "      <td>174</td>\n",
       "      <td>96</td>\n",
       "      <td>4</td>\n",
       "      <td>Obesity</td>\n",
       "      <td>1</td>\n",
       "    </tr>\n",
       "    <tr>\n",
       "      <th>1</th>\n",
       "      <td>Male</td>\n",
       "      <td>189</td>\n",
       "      <td>87</td>\n",
       "      <td>2</td>\n",
       "      <td>Normal</td>\n",
       "      <td>1</td>\n",
       "    </tr>\n",
       "    <tr>\n",
       "      <th>2</th>\n",
       "      <td>Female</td>\n",
       "      <td>185</td>\n",
       "      <td>110</td>\n",
       "      <td>4</td>\n",
       "      <td>Obesity</td>\n",
       "      <td>0</td>\n",
       "    </tr>\n",
       "    <tr>\n",
       "      <th>3</th>\n",
       "      <td>Female</td>\n",
       "      <td>195</td>\n",
       "      <td>104</td>\n",
       "      <td>3</td>\n",
       "      <td>Overweight</td>\n",
       "      <td>0</td>\n",
       "    </tr>\n",
       "    <tr>\n",
       "      <th>4</th>\n",
       "      <td>Male</td>\n",
       "      <td>149</td>\n",
       "      <td>61</td>\n",
       "      <td>3</td>\n",
       "      <td>Overweight</td>\n",
       "      <td>1</td>\n",
       "    </tr>\n",
       "  </tbody>\n",
       "</table>\n",
       "</div>"
      ],
      "text/plain": [
       "   Gender  Height  Weight  Index      Status  gender_lbl\n",
       "0    Male     174      96      4     Obesity           1\n",
       "1    Male     189      87      2      Normal           1\n",
       "2  Female     185     110      4     Obesity           0\n",
       "3  Female     195     104      3  Overweight           0\n",
       "4    Male     149      61      3  Overweight           1"
      ]
     },
     "execution_count": 14,
     "metadata": {},
     "output_type": "execute_result"
    }
   ],
   "source": [
    "data_visual['Status'] = data_visual.apply(convert_status_to_description,axis=1)\n",
    "data_visual.head()"
   ]
  },
  {
   "cell_type": "code",
   "execution_count": 15,
   "id": "e0ce19b4-06d4-431b-bc8d-deb9abc19a62",
   "metadata": {},
   "outputs": [
    {
     "data": {
      "text/html": [
       "<div>\n",
       "<style scoped>\n",
       "    .dataframe tbody tr th:only-of-type {\n",
       "        vertical-align: middle;\n",
       "    }\n",
       "\n",
       "    .dataframe tbody tr th {\n",
       "        vertical-align: top;\n",
       "    }\n",
       "\n",
       "    .dataframe thead th {\n",
       "        text-align: right;\n",
       "    }\n",
       "</style>\n",
       "<table border=\"1\" class=\"dataframe\">\n",
       "  <thead>\n",
       "    <tr style=\"text-align: right;\">\n",
       "      <th></th>\n",
       "      <th>Gender</th>\n",
       "      <th>Height</th>\n",
       "      <th>Weight</th>\n",
       "      <th>Index</th>\n",
       "      <th>Status</th>\n",
       "      <th>gender_lbl</th>\n",
       "    </tr>\n",
       "  </thead>\n",
       "  <tbody>\n",
       "    <tr>\n",
       "      <th>0</th>\n",
       "      <td>Male</td>\n",
       "      <td>174</td>\n",
       "      <td>96</td>\n",
       "      <td>4</td>\n",
       "      <td>Obesity</td>\n",
       "      <td>1</td>\n",
       "    </tr>\n",
       "    <tr>\n",
       "      <th>1</th>\n",
       "      <td>Male</td>\n",
       "      <td>189</td>\n",
       "      <td>87</td>\n",
       "      <td>2</td>\n",
       "      <td>Normal</td>\n",
       "      <td>1</td>\n",
       "    </tr>\n",
       "    <tr>\n",
       "      <th>2</th>\n",
       "      <td>Female</td>\n",
       "      <td>185</td>\n",
       "      <td>110</td>\n",
       "      <td>4</td>\n",
       "      <td>Obesity</td>\n",
       "      <td>0</td>\n",
       "    </tr>\n",
       "    <tr>\n",
       "      <th>3</th>\n",
       "      <td>Female</td>\n",
       "      <td>195</td>\n",
       "      <td>104</td>\n",
       "      <td>3</td>\n",
       "      <td>Overweight</td>\n",
       "      <td>0</td>\n",
       "    </tr>\n",
       "    <tr>\n",
       "      <th>4</th>\n",
       "      <td>Male</td>\n",
       "      <td>149</td>\n",
       "      <td>61</td>\n",
       "      <td>3</td>\n",
       "      <td>Overweight</td>\n",
       "      <td>1</td>\n",
       "    </tr>\n",
       "  </tbody>\n",
       "</table>\n",
       "</div>"
      ],
      "text/plain": [
       "   Gender  Height  Weight  Index      Status  gender_lbl\n",
       "0    Male     174      96      4     Obesity           1\n",
       "1    Male     189      87      2      Normal           1\n",
       "2  Female     185     110      4     Obesity           0\n",
       "3  Female     195     104      3  Overweight           0\n",
       "4    Male     149      61      3  Overweight           1"
      ]
     },
     "execution_count": 15,
     "metadata": {},
     "output_type": "execute_result"
    }
   ],
   "source": [
    "\"\"\"def convert_gender_to_label(x):\n",
    "    if x['Gender'] == 'Male' :\n",
    "        return 1\n",
    "    elif x['Gender'] == 'Female' :\n",
    "        return 0\n",
    "    \"\"\"\n",
    "data_visual['gender_lbl'] = data_visual.apply(convert_gender_to_label, axis=1)\n",
    "data_visual.head()"
   ]
  },
  {
   "cell_type": "code",
   "execution_count": 16,
   "id": "a428bc5c-d462-4d9f-995f-1c658d442b24",
   "metadata": {},
   "outputs": [
    {
     "name": "stdout",
     "output_type": "stream",
     "text": [
      "<class 'pandas.core.series.Series'>\n"
     ]
    },
    {
     "data": {
      "text/plain": [
       "Extreme Obesity    198\n",
       "Obesity            130\n",
       "Normal              69\n",
       "Overweight          68\n",
       "Weak                22\n",
       "Name: Status, dtype: int64"
      ]
     },
     "execution_count": 16,
     "metadata": {},
     "output_type": "execute_result"
    }
   ],
   "source": [
    "people = data_visual['Status'].value_counts() \n",
    "\n",
    "print(type(people))\n",
    "people.head()"
   ]
  },
  {
   "cell_type": "code",
   "execution_count": 17,
   "id": "eae4a696-01c0-4404-8147-423b1852c3f9",
   "metadata": {},
   "outputs": [],
   "source": [
    "Extreme_Obesity = data_visual[data_visual['Status']=='Extreme Obesity']\n",
    "Extreme_Obesity = pd.DataFrame(Extreme_Obesity)\n",
    "\n",
    "Obesity = data_visual[data_visual['Status']=='Obesity']\n",
    "Obesity = pd.DataFrame(Obesity)\n",
    "\n",
    "Normal = data_visual[data_visual['Status']=='Normal']\n",
    "Normal = pd.DataFrame(Normal)\n",
    "\n",
    "Overweight = data_visual[data_visual['Status']=='Overweight']\n",
    "Overweight = pd.DataFrame(Overweight)\n",
    "\n",
    "# 데이터가 많이 부족함\n",
    "weak = data_visual[data_visual['Status']=='Weak']\n",
    "weak = pd.DataFrame(weak)"
   ]
  },
  {
   "cell_type": "code",
   "execution_count": 19,
   "id": "0679e3d2-5f60-4575-89b3-9b6084835a25",
   "metadata": {},
   "outputs": [],
   "source": [
    " ## 데이터프래임 생성\n",
    "Extreme_Obesity.to_csv('Extreme_Obesity.txt',index=False,sep='\\t')\n",
    "Obesity.to_csv('Obesity.txt',index=False,sep='\\t')\n",
    "Normal.to_csv('Normal .txt',index=False,sep='\\t')\n",
    "Overweight.to_csv('Overweight.txt',index=False,sep='\\t')\n",
    "weak.to_csv('weak.txt',index=False,sep='\\t')\n",
    "\n",
    "list = ['Extreme_Obesity.txt','Obesity.txt','Normal .txt','Overweight.txt','weak.txt']"
   ]
  },
  {
   "cell_type": "code",
   "execution_count": 21,
   "id": "80738adc-25b8-49f2-a908-a0b1f18d71ec",
   "metadata": {},
   "outputs": [],
   "source": [
    "for file in list:\n",
    "    with open(file, 'r') as txt:\n",
    "        a = txt.readlines()\n",
    "    for i in range(len(a)):\n",
    "        b = i + 1\n",
    "        with open(f'{file}-{b}.text', 'w+') as txt:\n",
    "            txt.write(a[i])"
   ]
  },
  {
   "cell_type": "code",
   "execution_count": null,
   "id": "6c8f0982-426b-4351-8b6b-978fe1af9f94",
   "metadata": {},
   "outputs": [],
   "source": []
  },
  {
   "cell_type": "code",
   "execution_count": null,
   "id": "9f1b5a84-ce04-4dea-a58f-36f2b8f3ed39",
   "metadata": {},
   "outputs": [],
   "source": []
  },
  {
   "cell_type": "code",
   "execution_count": null,
   "id": "fdfc7327-823b-4bcb-a45b-aed571d3bed2",
   "metadata": {},
   "outputs": [],
   "source": []
  }
 ],
 "metadata": {
  "kernelspec": {
   "display_name": "Python 3",
   "language": "python",
   "name": "python3"
  },
  "language_info": {
   "codemirror_mode": {
    "name": "ipython",
    "version": 3
   },
   "file_extension": ".py",
   "mimetype": "text/x-python",
   "name": "python",
   "nbconvert_exporter": "python",
   "pygments_lexer": "ipython3",
   "version": "3.8.8"
  }
 },
 "nbformat": 4,
 "nbformat_minor": 5
}
