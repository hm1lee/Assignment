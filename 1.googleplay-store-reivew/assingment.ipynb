{
  "nbformat": 4,
  "nbformat_minor": 0,
  "metadata": {
    "kernelspec": {
      "display_name": "Python 3",
      "language": "python",
      "name": "python3"
    },
    "language_info": {
      "codemirror_mode": {
        "name": "ipython",
        "version": 3
      },
      "file_extension": ".py",
      "mimetype": "text/x-python",
      "name": "python",
      "nbconvert_exporter": "python",
      "pygments_lexer": "ipython3",
      "version": "3.8.8"
    },
    "colab": {
      "name": "ddive_assingment.ipynb",
      "provenance": [],
      "collapsed_sections": []
    }
  },
  "cells": [
    {
      "cell_type": "markdown",
      "metadata": {
        "id": "ZDpvCoX6fxLE"
      },
      "source": [
        "## 디다이브 Assingment - hyemin Lee"
      ]
    },
    {
      "cell_type": "markdown",
      "metadata": {
        "id": "QY9z0ZisYZ7E"
      },
      "source": [
        "### 0. 모듈 설치"
      ]
    },
    {
      "cell_type": "code",
      "metadata": {
        "colab": {
          "base_uri": "https://localhost:8080/"
        },
        "id": "CheEPDxkf6ih",
        "outputId": "fce27be9-78fd-490a-f340-e84ec778a70c"
      },
      "source": [
        "from google.colab import drive\n",
        "drive.mount('/content/drive')"
      ],
      "execution_count": 1,
      "outputs": [
        {
          "output_type": "stream",
          "text": [
            "Drive already mounted at /content/drive; to attempt to forcibly remount, call drive.mount(\"/content/drive\", force_remount=True).\n"
          ],
          "name": "stdout"
        }
      ]
    },
    {
      "cell_type": "code",
      "metadata": {
        "colab": {
          "base_uri": "https://localhost:8080/"
        },
        "id": "5xXIYk9-poQi",
        "outputId": "c79cef55-e535-47d9-9583-4ea62e707961"
      },
      "source": [
        "# 한글 깨짐 설치 \n",
        "!sudo apt-get install -y fonts-nanum\n",
        "!sudo fc-cache -fv\n",
        "!rm ~/.cache/matplotlib -rf"
      ],
      "execution_count": 2,
      "outputs": [
        {
          "output_type": "stream",
          "text": [
            "Reading package lists... Done\n",
            "Building dependency tree       \n",
            "Reading state information... Done\n",
            "fonts-nanum is already the newest version (20170925-1).\n",
            "0 upgraded, 0 newly installed, 0 to remove and 58 not upgraded.\n",
            "/usr/share/fonts: caching, new cache contents: 0 fonts, 1 dirs\n",
            "/usr/share/fonts/truetype: caching, new cache contents: 0 fonts, 4 dirs\n",
            "/usr/share/fonts/truetype/dejavu: caching, new cache contents: 22 fonts, 0 dirs\n",
            "/usr/share/fonts/truetype/humor-sans: caching, new cache contents: 1 fonts, 0 dirs\n",
            "/usr/share/fonts/truetype/liberation: caching, new cache contents: 16 fonts, 0 dirs\n",
            "/usr/share/fonts/truetype/nanum: caching, new cache contents: 10 fonts, 0 dirs\n",
            "/usr/local/share/fonts: caching, new cache contents: 0 fonts, 0 dirs\n",
            "/root/.local/share/fonts: skipping, no such directory\n",
            "/root/.fonts: skipping, no such directory\n",
            "/var/cache/fontconfig: cleaning cache directory\n",
            "/root/.cache/fontconfig: not cleaning non-existent cache directory\n",
            "/root/.fontconfig: not cleaning non-existent cache directory\n",
            "fc-cache: succeeded\n"
          ],
          "name": "stdout"
        }
      ]
    },
    {
      "cell_type": "code",
      "metadata": {
        "colab": {
          "base_uri": "https://localhost:8080/"
        },
        "id": "FHbc3MIbiQuH",
        "outputId": "4c2af636-266f-4fef-87e0-399ef7cd8d3f"
      },
      "source": [
        "#konlpy 라이브러리 설치 \n",
        "\n",
        "%%bash\n",
        "apt-get update\n",
        "apt-get install g++ openjdk-8-jdk python-dev python3-dev\n",
        "pip3 install JPype1\n",
        "pip3 install konlpy\n",
        "\n",
        "%env JAVA_HOME \"/usr/lib/jvm/java-8-openjdk-amd64\"\n",
        "\n",
        "%%bash\n",
        "bash <(curl -s https://raw.githubusercontent.com/konlpy/konlpy/master/scripts/mecab.sh)\n",
        "pip3 install /tmp/mecab-python-0.996"
      ],
      "execution_count": 3,
      "outputs": [
        {
          "output_type": "stream",
          "text": [
            "Hit:1 http://ppa.launchpad.net/c2d4u.team/c2d4u4.0+/ubuntu bionic InRelease\n",
            "Hit:2 http://archive.ubuntu.com/ubuntu bionic InRelease\n",
            "Hit:3 http://ppa.launchpad.net/cran/libgit2/ubuntu bionic InRelease\n",
            "Hit:4 https://cloud.r-project.org/bin/linux/ubuntu bionic-cran40/ InRelease\n",
            "Hit:5 http://archive.ubuntu.com/ubuntu bionic-updates InRelease\n",
            "Hit:6 http://archive.ubuntu.com/ubuntu bionic-backports InRelease\n",
            "Hit:7 http://ppa.launchpad.net/deadsnakes/ppa/ubuntu bionic InRelease\n",
            "Hit:8 http://ppa.launchpad.net/graphics-drivers/ppa/ubuntu bionic InRelease\n",
            "Hit:9 http://security.ubuntu.com/ubuntu bionic-security InRelease\n",
            "Ign:10 https://developer.download.nvidia.com/compute/cuda/repos/ubuntu1804/x86_64  InRelease\n",
            "Ign:11 https://developer.download.nvidia.com/compute/machine-learning/repos/ubuntu1804/x86_64  InRelease\n",
            "Hit:12 https://developer.download.nvidia.com/compute/cuda/repos/ubuntu1804/x86_64  Release\n",
            "Hit:13 https://developer.download.nvidia.com/compute/machine-learning/repos/ubuntu1804/x86_64  Release\n",
            "Reading package lists...\n",
            "Reading package lists...\n",
            "Building dependency tree...\n",
            "Reading state information...\n",
            "python-dev is already the newest version (2.7.15~rc1-1).\n",
            "g++ is already the newest version (4:7.4.0-1ubuntu2.3).\n",
            "python3-dev is already the newest version (3.6.7-1~18.04).\n",
            "openjdk-8-jdk is already the newest version (8u292-b10-0ubuntu1~18.04).\n",
            "0 upgraded, 0 newly installed, 0 to remove and 58 not upgraded.\n",
            "Requirement already satisfied: JPype1 in /usr/local/lib/python3.7/dist-packages (1.3.0)\n",
            "Requirement already satisfied: typing-extensions; python_version < \"3.8\" in /usr/local/lib/python3.7/dist-packages (from JPype1) (3.7.4.3)\n",
            "Requirement already satisfied: konlpy in /usr/local/lib/python3.7/dist-packages (0.5.2)\n",
            "Requirement already satisfied: JPype1>=0.7.0 in /usr/local/lib/python3.7/dist-packages (from konlpy) (1.3.0)\n",
            "Requirement already satisfied: colorama in /usr/local/lib/python3.7/dist-packages (from konlpy) (0.4.4)\n",
            "Requirement already satisfied: tweepy>=3.7.0 in /usr/local/lib/python3.7/dist-packages (from konlpy) (3.10.0)\n",
            "Requirement already satisfied: beautifulsoup4==4.6.0 in /usr/local/lib/python3.7/dist-packages (from konlpy) (4.6.0)\n",
            "Requirement already satisfied: numpy>=1.6 in /usr/local/lib/python3.7/dist-packages (from konlpy) (1.21.0)\n",
            "Requirement already satisfied: lxml>=4.1.0 in /usr/local/lib/python3.7/dist-packages (from konlpy) (4.2.6)\n",
            "Requirement already satisfied: typing-extensions; python_version < \"3.8\" in /usr/local/lib/python3.7/dist-packages (from JPype1>=0.7.0->konlpy) (3.7.4.3)\n",
            "Requirement already satisfied: requests[socks]>=2.11.1 in /usr/local/lib/python3.7/dist-packages (from tweepy>=3.7.0->konlpy) (2.23.0)\n",
            "Requirement already satisfied: requests-oauthlib>=0.7.0 in /usr/local/lib/python3.7/dist-packages (from tweepy>=3.7.0->konlpy) (1.3.0)\n",
            "Requirement already satisfied: six>=1.10.0 in /usr/local/lib/python3.7/dist-packages (from tweepy>=3.7.0->konlpy) (1.15.0)\n",
            "Requirement already satisfied: urllib3!=1.25.0,!=1.25.1,<1.26,>=1.21.1 in /usr/local/lib/python3.7/dist-packages (from requests[socks]>=2.11.1->tweepy>=3.7.0->konlpy) (1.24.3)\n",
            "Requirement already satisfied: idna<3,>=2.5 in /usr/local/lib/python3.7/dist-packages (from requests[socks]>=2.11.1->tweepy>=3.7.0->konlpy) (2.10)\n",
            "Requirement already satisfied: certifi>=2017.4.17 in /usr/local/lib/python3.7/dist-packages (from requests[socks]>=2.11.1->tweepy>=3.7.0->konlpy) (2021.5.30)\n",
            "Requirement already satisfied: chardet<4,>=3.0.2 in /usr/local/lib/python3.7/dist-packages (from requests[socks]>=2.11.1->tweepy>=3.7.0->konlpy) (3.0.4)\n",
            "Requirement already satisfied: PySocks!=1.5.7,>=1.5.6; extra == \"socks\" in /usr/local/lib/python3.7/dist-packages (from requests[socks]>=2.11.1->tweepy>=3.7.0->konlpy) (1.7.1)\n",
            "Requirement already satisfied: oauthlib>=3.0.0 in /usr/local/lib/python3.7/dist-packages (from requests-oauthlib>=0.7.0->tweepy>=3.7.0->konlpy) (3.1.1)\n",
            "mecab-ko is already installed\n",
            "mecab-ko-dic is already installed\n",
            "mecab-python is already installed\n",
            "Done.\n",
            "Processing /tmp/mecab-python-0.996\n",
            "Building wheels for collected packages: mecab-python\n",
            "  Building wheel for mecab-python (setup.py): started\n",
            "  Building wheel for mecab-python (setup.py): finished with status 'done'\n",
            "  Created wheel for mecab-python: filename=mecab_python-0.996_ko_0.9.2-cp37-cp37m-linux_x86_64.whl size=141815 sha256=4148767b64db91470cac0852d770e8274dcc2b663979c50376c4e0dea50ac7be\n",
            "  Stored in directory: /root/.cache/pip/wheels/99/75/a6/e9e73a1dbd73579383644942ef18a6d17ad728a3052a1147fb\n",
            "Successfully built mecab-python\n",
            "Installing collected packages: mecab-python\n",
            "  Found existing installation: mecab-python 0.996-ko-0.9.2\n",
            "    Uninstalling mecab-python-0.996-ko-0.9.2:\n",
            "      Successfully uninstalled mecab-python-0.996-ko-0.9.2\n",
            "Successfully installed mecab-python-0.996-ko-0.9.2\n"
          ],
          "name": "stdout"
        },
        {
          "output_type": "stream",
          "text": [
            "bash: line 6: fg: no job control\n",
            "bash: line 8: fg: no job control\n"
          ],
          "name": "stderr"
        }
      ]
    },
    {
      "cell_type": "markdown",
      "metadata": {
        "id": "xKrgoEOXfxLG"
      },
      "source": [
        "### 1.    Pick an application from Google Play store with at least 1,000 reviews.\n",
        "\n",
        "- '에이블리' : https://play.google.com/store/apps/details?id=com.banhala.android&hl=ko&gl=US&showAllReviews=true\n",
        "\n",
        "\n"
      ]
    },
    {
      "cell_type": "markdown",
      "metadata": {
        "id": "KEJrzrbufxLG"
      },
      "source": [
        "### 2.    Crawl review data including USER, DATE, RATING, and TEXT.\n"
      ]
    },
    {
      "cell_type": "markdown",
      "metadata": {
        "id": "gF9Q1ntmfxLG"
      },
      "source": [
        "\n",
        "- crawling file : crwaling.py\n",
        "\n",
        "\n",
        "- data : name(유저네임), ratings(평점), date(날짜), comment(리뷰)\n"
      ]
    },
    {
      "cell_type": "code",
      "metadata": {
        "scrolled": true,
        "id": "2YfaHr_ofxLH"
      },
      "source": [
        "import pandas as pd\n",
        "import numpy as np\n",
        "import matplotlib.pyplot as plt\n",
        "\n",
        "\n",
        "#크롤링한 데이터 불러오기\n",
        "\n",
        "file_path = '/content/drive/MyDrive/ddive/result/1star.csv'\n",
        "file_path2 = '/content/drive/MyDrive/ddive/result/2star.csv'\n",
        "file_path3 = '/content/drive/MyDrive/ddive/result/3star.csv'\n",
        "file_path4 = '/content/drive/MyDrive/ddive/result/4star.csv'\n",
        "file_path5 = '/content/drive/MyDrive/ddive/result/5star.csv'\n",
        "\n"
      ],
      "execution_count": 4,
      "outputs": []
    },
    {
      "cell_type": "code",
      "metadata": {
        "id": "64gadRpEfxLH"
      },
      "source": [
        "# 데이터 프레임을 생성하여, 데이터를 하나로 concat해줍니다.\n",
        "\n",
        "reveiw = pd.DataFrame()\n",
        "\n",
        "star_1 = pd.read_csv(file_path)\n",
        "star_2 = pd.read_csv(file_path2)\n",
        "star_3 = pd.read_csv(file_path3)\n",
        "star_4 = pd.read_csv(file_path4)\n",
        "star_5 = pd.read_csv(file_path5)\n",
        "\n",
        "review = pd.concat([star_1,star_2,star_3,star_4,star_5])\n"
      ],
      "execution_count": 5,
      "outputs": []
    },
    {
      "cell_type": "code",
      "metadata": {
        "scrolled": true,
        "id": "-VOrUXzrfxLI"
      },
      "source": [
        "# 데이터 인덱싱을 재정렬해줍니다.\n",
        "\n",
        "review = review.reset_index(drop=True)\n",
        "\n",
        "# 크롤링에서 필요없는 데이터 삭제 \n",
        "\n",
        "review = review.drop(columns=['helpful','developer_comment'], axis=1)"
      ],
      "execution_count": 6,
      "outputs": []
    },
    {
      "cell_type": "code",
      "metadata": {
        "colab": {
          "base_uri": "https://localhost:8080/",
          "height": 419
        },
        "id": "cVyB663EfxLI",
        "outputId": "1ca2c197-94de-4537-ced3-28649a93f400"
      },
      "source": [
        "review"
      ],
      "execution_count": 7,
      "outputs": [
        {
          "output_type": "execute_result",
          "data": {
            "text/html": [
              "<div>\n",
              "<style scoped>\n",
              "    .dataframe tbody tr th:only-of-type {\n",
              "        vertical-align: middle;\n",
              "    }\n",
              "\n",
              "    .dataframe tbody tr th {\n",
              "        vertical-align: top;\n",
              "    }\n",
              "\n",
              "    .dataframe thead th {\n",
              "        text-align: right;\n",
              "    }\n",
              "</style>\n",
              "<table border=\"1\" class=\"dataframe\">\n",
              "  <thead>\n",
              "    <tr style=\"text-align: right;\">\n",
              "      <th></th>\n",
              "      <th>name</th>\n",
              "      <th>ratings</th>\n",
              "      <th>date</th>\n",
              "      <th>comment</th>\n",
              "    </tr>\n",
              "  </thead>\n",
              "  <tbody>\n",
              "    <tr>\n",
              "      <th>0</th>\n",
              "      <td>jep Bak</td>\n",
              "      <td>1</td>\n",
              "      <td>2021-06-30</td>\n",
              "      <td>여러지인들과 머리핀몇개4만원상당 주문했는데..3주나걸립니다..상품준비기간이1일이라는...</td>\n",
              "    </tr>\n",
              "    <tr>\n",
              "      <th>1</th>\n",
              "      <td>쑈니</td>\n",
              "      <td>1</td>\n",
              "      <td>2021-07-03</td>\n",
              "      <td>이번 업데이트 진짜 별로다;; 왜 한지 모르겠음 어느 쇼핑몰에 들어가서 카테코리 선...</td>\n",
              "    </tr>\n",
              "    <tr>\n",
              "      <th>2</th>\n",
              "      <td>신봉근</td>\n",
              "      <td>1</td>\n",
              "      <td>2021-07-04</td>\n",
              "      <td>ㅇㄴ제가 다른 계정으로 고데기를 주문을 했는데 하루뒤에 도착이라고 떠서 일이 있어서...</td>\n",
              "    </tr>\n",
              "    <tr>\n",
              "      <th>3</th>\n",
              "      <td>멈멈</td>\n",
              "      <td>1</td>\n",
              "      <td>2021-06-10</td>\n",
              "      <td>내 변심으로 환불한것도 아니고 쇼핑몰측에서 품절되서 환불해주겠다고했음. 근데 환불계...</td>\n",
              "    </tr>\n",
              "    <tr>\n",
              "      <th>4</th>\n",
              "      <td>JI _</td>\n",
              "      <td>1</td>\n",
              "      <td>2021-06-16</td>\n",
              "      <td>여기는 품절 확인 제대로 안하시나요? 매번 품절이라고 구매하고 취소되고 한번정도는 ...</td>\n",
              "    </tr>\n",
              "    <tr>\n",
              "      <th>...</th>\n",
              "      <td>...</td>\n",
              "      <td>...</td>\n",
              "      <td>...</td>\n",
              "      <td>...</td>\n",
              "    </tr>\n",
              "    <tr>\n",
              "      <th>1915</th>\n",
              "      <td>닭칼국수</td>\n",
              "      <td>5</td>\n",
              "      <td>2021-03-14</td>\n",
              "      <td>미쳣다 와 진짜 여러분 이거 대박이에요 진짜ㅠㅠ가격도 싼편 많고 무엇보다 09년생인...</td>\n",
              "    </tr>\n",
              "    <tr>\n",
              "      <th>1916</th>\n",
              "      <td>예서</td>\n",
              "      <td>5</td>\n",
              "      <td>2021-02-25</td>\n",
              "      <td>저는 아주 만족스러운 앱이였어요 특히나 편의점 결제가 완전 좋더라구요 엄마 몰래 살...</td>\n",
              "    </tr>\n",
              "    <tr>\n",
              "      <th>1917</th>\n",
              "      <td>윤지민</td>\n",
              "      <td>5</td>\n",
              "      <td>2021-01-25</td>\n",
              "      <td>일단 무엇보다 모든 옷이 무료배송인것, 그리고 리뷰작성시 적립금이 큰게 최대 장점인...</td>\n",
              "    </tr>\n",
              "    <tr>\n",
              "      <th>1918</th>\n",
              "      <td>-선바와 잘생긴 아이돌에 진심인 편</td>\n",
              "      <td>5</td>\n",
              "      <td>2021-04-01</td>\n",
              "      <td>안녕하세요~!!! 옷에 관심이 많은데 에이블리 덕분에 쇼핑욕구 가득 채우고 있습니다...</td>\n",
              "    </tr>\n",
              "    <tr>\n",
              "      <th>1919</th>\n",
              "      <td>Clean asmr</td>\n",
              "      <td>5</td>\n",
              "      <td>2021-06-06</td>\n",
              "      <td>옷들이 넘호 예뻐용&gt;&lt;</td>\n",
              "    </tr>\n",
              "  </tbody>\n",
              "</table>\n",
              "<p>1920 rows × 4 columns</p>\n",
              "</div>"
            ],
            "text/plain": [
              "                     name  ...                                            comment\n",
              "0                 jep Bak  ...  여러지인들과 머리핀몇개4만원상당 주문했는데..3주나걸립니다..상품준비기간이1일이라는...\n",
              "1                      쑈니  ...  이번 업데이트 진짜 별로다;; 왜 한지 모르겠음 어느 쇼핑몰에 들어가서 카테코리 선...\n",
              "2                     신봉근  ...  ㅇㄴ제가 다른 계정으로 고데기를 주문을 했는데 하루뒤에 도착이라고 떠서 일이 있어서...\n",
              "3                      멈멈  ...  내 변심으로 환불한것도 아니고 쇼핑몰측에서 품절되서 환불해주겠다고했음. 근데 환불계...\n",
              "4                    JI _  ...  여기는 품절 확인 제대로 안하시나요? 매번 품절이라고 구매하고 취소되고 한번정도는 ...\n",
              "...                   ...  ...                                                ...\n",
              "1915                 닭칼국수  ...  미쳣다 와 진짜 여러분 이거 대박이에요 진짜ㅠㅠ가격도 싼편 많고 무엇보다 09년생인...\n",
              "1916                   예서  ...  저는 아주 만족스러운 앱이였어요 특히나 편의점 결제가 완전 좋더라구요 엄마 몰래 살...\n",
              "1917                  윤지민  ...  일단 무엇보다 모든 옷이 무료배송인것, 그리고 리뷰작성시 적립금이 큰게 최대 장점인...\n",
              "1918  -선바와 잘생긴 아이돌에 진심인 편  ...  안녕하세요~!!! 옷에 관심이 많은데 에이블리 덕분에 쇼핑욕구 가득 채우고 있습니다...\n",
              "1919           Clean asmr  ...                                       옷들이 넘호 예뻐용><\n",
              "\n",
              "[1920 rows x 4 columns]"
            ]
          },
          "metadata": {
            "tags": []
          },
          "execution_count": 7
        }
      ]
    },
    {
      "cell_type": "code",
      "metadata": {
        "colab": {
          "base_uri": "https://localhost:8080/"
        },
        "id": "vBjsWzz3fxLJ",
        "outputId": "8ff1edcb-dfed-4ed8-ed87-8333c70d16c3"
      },
      "source": [
        "#데이터 구조 확인\n",
        "review.info()"
      ],
      "execution_count": 8,
      "outputs": [
        {
          "output_type": "stream",
          "text": [
            "<class 'pandas.core.frame.DataFrame'>\n",
            "RangeIndex: 1920 entries, 0 to 1919\n",
            "Data columns (total 4 columns):\n",
            " #   Column   Non-Null Count  Dtype \n",
            "---  ------   --------------  ----- \n",
            " 0   name     1920 non-null   object\n",
            " 1   ratings  1920 non-null   int64 \n",
            " 2   date     1920 non-null   object\n",
            " 3   comment  1920 non-null   object\n",
            "dtypes: int64(1), object(3)\n",
            "memory usage: 60.1+ KB\n"
          ],
          "name": "stdout"
        }
      ]
    },
    {
      "cell_type": "code",
      "metadata": {
        "colab": {
          "base_uri": "https://localhost:8080/",
          "height": 297
        },
        "id": "vwuYhdwTfxLJ",
        "outputId": "ebdfc3e4-8e01-4759-a346-6fc772a18c48"
      },
      "source": [
        "#데이터의 요약 통계 확인\n",
        "review.describe()"
      ],
      "execution_count": 9,
      "outputs": [
        {
          "output_type": "execute_result",
          "data": {
            "text/html": [
              "<div>\n",
              "<style scoped>\n",
              "    .dataframe tbody tr th:only-of-type {\n",
              "        vertical-align: middle;\n",
              "    }\n",
              "\n",
              "    .dataframe tbody tr th {\n",
              "        vertical-align: top;\n",
              "    }\n",
              "\n",
              "    .dataframe thead th {\n",
              "        text-align: right;\n",
              "    }\n",
              "</style>\n",
              "<table border=\"1\" class=\"dataframe\">\n",
              "  <thead>\n",
              "    <tr style=\"text-align: right;\">\n",
              "      <th></th>\n",
              "      <th>ratings</th>\n",
              "    </tr>\n",
              "  </thead>\n",
              "  <tbody>\n",
              "    <tr>\n",
              "      <th>count</th>\n",
              "      <td>1920.000000</td>\n",
              "    </tr>\n",
              "    <tr>\n",
              "      <th>mean</th>\n",
              "      <td>2.958333</td>\n",
              "    </tr>\n",
              "    <tr>\n",
              "      <th>std</th>\n",
              "      <td>1.428633</td>\n",
              "    </tr>\n",
              "    <tr>\n",
              "      <th>min</th>\n",
              "      <td>1.000000</td>\n",
              "    </tr>\n",
              "    <tr>\n",
              "      <th>25%</th>\n",
              "      <td>2.000000</td>\n",
              "    </tr>\n",
              "    <tr>\n",
              "      <th>50%</th>\n",
              "      <td>3.000000</td>\n",
              "    </tr>\n",
              "    <tr>\n",
              "      <th>75%</th>\n",
              "      <td>4.000000</td>\n",
              "    </tr>\n",
              "    <tr>\n",
              "      <th>max</th>\n",
              "      <td>5.000000</td>\n",
              "    </tr>\n",
              "  </tbody>\n",
              "</table>\n",
              "</div>"
            ],
            "text/plain": [
              "           ratings\n",
              "count  1920.000000\n",
              "mean      2.958333\n",
              "std       1.428633\n",
              "min       1.000000\n",
              "25%       2.000000\n",
              "50%       3.000000\n",
              "75%       4.000000\n",
              "max       5.000000"
            ]
          },
          "metadata": {
            "tags": []
          },
          "execution_count": 9
        }
      ]
    },
    {
      "cell_type": "code",
      "metadata": {
        "scrolled": true,
        "colab": {
          "base_uri": "https://localhost:8080/",
          "height": 204
        },
        "id": "rcojPKnufxLK",
        "outputId": "4fdcef6f-549f-4a68-fa05-e87f8d7d7cde"
      },
      "source": [
        "#데이터의 첫 5개의 값 확인\n",
        "review.head() "
      ],
      "execution_count": 10,
      "outputs": [
        {
          "output_type": "execute_result",
          "data": {
            "text/html": [
              "<div>\n",
              "<style scoped>\n",
              "    .dataframe tbody tr th:only-of-type {\n",
              "        vertical-align: middle;\n",
              "    }\n",
              "\n",
              "    .dataframe tbody tr th {\n",
              "        vertical-align: top;\n",
              "    }\n",
              "\n",
              "    .dataframe thead th {\n",
              "        text-align: right;\n",
              "    }\n",
              "</style>\n",
              "<table border=\"1\" class=\"dataframe\">\n",
              "  <thead>\n",
              "    <tr style=\"text-align: right;\">\n",
              "      <th></th>\n",
              "      <th>name</th>\n",
              "      <th>ratings</th>\n",
              "      <th>date</th>\n",
              "      <th>comment</th>\n",
              "    </tr>\n",
              "  </thead>\n",
              "  <tbody>\n",
              "    <tr>\n",
              "      <th>0</th>\n",
              "      <td>jep Bak</td>\n",
              "      <td>1</td>\n",
              "      <td>2021-06-30</td>\n",
              "      <td>여러지인들과 머리핀몇개4만원상당 주문했는데..3주나걸립니다..상품준비기간이1일이라는...</td>\n",
              "    </tr>\n",
              "    <tr>\n",
              "      <th>1</th>\n",
              "      <td>쑈니</td>\n",
              "      <td>1</td>\n",
              "      <td>2021-07-03</td>\n",
              "      <td>이번 업데이트 진짜 별로다;; 왜 한지 모르겠음 어느 쇼핑몰에 들어가서 카테코리 선...</td>\n",
              "    </tr>\n",
              "    <tr>\n",
              "      <th>2</th>\n",
              "      <td>신봉근</td>\n",
              "      <td>1</td>\n",
              "      <td>2021-07-04</td>\n",
              "      <td>ㅇㄴ제가 다른 계정으로 고데기를 주문을 했는데 하루뒤에 도착이라고 떠서 일이 있어서...</td>\n",
              "    </tr>\n",
              "    <tr>\n",
              "      <th>3</th>\n",
              "      <td>멈멈</td>\n",
              "      <td>1</td>\n",
              "      <td>2021-06-10</td>\n",
              "      <td>내 변심으로 환불한것도 아니고 쇼핑몰측에서 품절되서 환불해주겠다고했음. 근데 환불계...</td>\n",
              "    </tr>\n",
              "    <tr>\n",
              "      <th>4</th>\n",
              "      <td>JI _</td>\n",
              "      <td>1</td>\n",
              "      <td>2021-06-16</td>\n",
              "      <td>여기는 품절 확인 제대로 안하시나요? 매번 품절이라고 구매하고 취소되고 한번정도는 ...</td>\n",
              "    </tr>\n",
              "  </tbody>\n",
              "</table>\n",
              "</div>"
            ],
            "text/plain": [
              "      name  ...                                            comment\n",
              "0  jep Bak  ...  여러지인들과 머리핀몇개4만원상당 주문했는데..3주나걸립니다..상품준비기간이1일이라는...\n",
              "1       쑈니  ...  이번 업데이트 진짜 별로다;; 왜 한지 모르겠음 어느 쇼핑몰에 들어가서 카테코리 선...\n",
              "2      신봉근  ...  ㅇㄴ제가 다른 계정으로 고데기를 주문을 했는데 하루뒤에 도착이라고 떠서 일이 있어서...\n",
              "3       멈멈  ...  내 변심으로 환불한것도 아니고 쇼핑몰측에서 품절되서 환불해주겠다고했음. 근데 환불계...\n",
              "4     JI _  ...  여기는 품절 확인 제대로 안하시나요? 매번 품절이라고 구매하고 취소되고 한번정도는 ...\n",
              "\n",
              "[5 rows x 4 columns]"
            ]
          },
          "metadata": {
            "tags": []
          },
          "execution_count": 10
        }
      ]
    },
    {
      "cell_type": "markdown",
      "metadata": {
        "id": "zGjJJ56ifxLK"
      },
      "source": [
        "### 3.   Tell us about pros and cons about the application based on users’ reviews."
      ]
    },
    {
      "cell_type": "markdown",
      "metadata": {
        "id": "CKIpfuilfxLK"
      },
      "source": [
        "#### 결측치 제거하기"
      ]
    },
    {
      "cell_type": "code",
      "metadata": {
        "colab": {
          "base_uri": "https://localhost:8080/"
        },
        "id": "0MAy1O5JfxLL",
        "outputId": "795eba51-d3fd-493d-92cb-b25659e06ec6"
      },
      "source": [
        " #결측값이 있는 모든 열 없애기\n",
        "    \n",
        "review.isnull().sum(axis=1)\n",
        "print(review.dropna(axis=1).shape)"
      ],
      "execution_count": 11,
      "outputs": [
        {
          "output_type": "stream",
          "text": [
            "(1920, 4)\n"
          ],
          "name": "stdout"
        }
      ]
    },
    {
      "cell_type": "markdown",
      "metadata": {
        "id": "frYXry7vfxLL"
      },
      "source": [
        "#### EDA 및 시각화"
      ]
    },
    {
      "cell_type": "code",
      "metadata": {
        "id": "DAmDIRsxfxLL"
      },
      "source": [
        "import matplotlib.pyplot as plt\n",
        "import matplotlib as mpl\n",
        "import seaborn as sns\n",
        "from matplotlib import font_manager, rc\n",
        "import matplotlib.pyplot as plt   #파이썬 시각화 - visualization \n",
        "import seaborn as sns\n",
        "\n",
        "%matplotlib inline\n",
        "\n",
        "plt.style.use('seaborn') # seaborn 스타일로 변화\n",
        "plt.rc('font' , family = 'Malgun Gothic') #맑은 고딕 사용\n",
        "plt.rc('axes' , unicode_minus = False)\n",
        "\n",
        "font_name = font_manager.FontProperties(fname=\"/content/drive/MyDrive/ddive/applemyungjo-regular.ttf\").get_name()\n",
        "rc('font', family=font_name)\n"
      ],
      "execution_count": 12,
      "outputs": []
    },
    {
      "cell_type": "markdown",
      "metadata": {
        "id": "CXZ89R76fxLM"
      },
      "source": [
        "### 모든 연속형 변수의 분포를 Histogram 으로 확인하기"
      ]
    },
    {
      "cell_type": "code",
      "metadata": {
        "colab": {
          "base_uri": "https://localhost:8080/",
          "height": 809
        },
        "id": "lKA9FNM-fxLN",
        "outputId": "00514ef6-ff71-410e-896b-cf386bbf02c7"
      },
      "source": [
        "review.hist(bins=30,figsize=(20,15)) #figsize를 통해 plot 크기 조절\n",
        "plt.show()"
      ],
      "execution_count": 13,
      "outputs": [
        {
          "output_type": "stream",
          "text": [
            "findfont: Font family ['AppleMyungjo'] not found. Falling back to DejaVu Sans.\n",
            "findfont: Font family ['AppleMyungjo'] not found. Falling back to DejaVu Sans.\n"
          ],
          "name": "stderr"
        },
        {
          "output_type": "display_data",
          "data": {
            "image/png": "[encoded data removed]",
            "text/plain": [
              "<Figure size 1440x1080 with 1 Axes>"
            ]
          },
          "metadata": {
            "tags": []
          }
        }
      ]
    },
    {
      "cell_type": "markdown",
      "metadata": {
        "id": "F4b5efeJDxvL"
      },
      "source": [
        "### 날짜별로 리뷰의 변화를 파악해보기"
      ]
    },
    {
      "cell_type": "code",
      "metadata": {
        "colab": {
          "base_uri": "https://localhost:8080/",
          "height": 589
        },
        "id": "lYDHLeiafxLM",
        "outputId": "1eb217ba-182e-48b5-eee6-de7e0c098b5b"
      },
      "source": [
        "# Date 파생 변수로 부터 연/월/일 추출\n",
        "\n",
        "review['date'] = pd.to_datetime(review['date'])\n",
        "review['yyyy'] = review['date'].dt.strftime('%Y')\n",
        "review['mm'] = review['date'].dt.strftime('%m')\n",
        "review['dd'] = review['date'].dt.strftime('%d')\n",
        "\n",
        "review"
      ],
      "execution_count": 14,
      "outputs": [
        {
          "output_type": "execute_result",
          "data": {
            "text/html": [
              "<div>\n",
              "<style scoped>\n",
              "    .dataframe tbody tr th:only-of-type {\n",
              "        vertical-align: middle;\n",
              "    }\n",
              "\n",
              "    .dataframe tbody tr th {\n",
              "        vertical-align: top;\n",
              "    }\n",
              "\n",
              "    .dataframe thead th {\n",
              "        text-align: right;\n",
              "    }\n",
              "</style>\n",
              "<table border=\"1\" class=\"dataframe\">\n",
              "  <thead>\n",
              "    <tr style=\"text-align: right;\">\n",
              "      <th></th>\n",
              "      <th>name</th>\n",
              "      <th>ratings</th>\n",
              "      <th>date</th>\n",
              "      <th>comment</th>\n",
              "      <th>yyyy</th>\n",
              "      <th>mm</th>\n",
              "      <th>dd</th>\n",
              "    </tr>\n",
              "  </thead>\n",
              "  <tbody>\n",
              "    <tr>\n",
              "      <th>0</th>\n",
              "      <td>jep Bak</td>\n",
              "      <td>1</td>\n",
              "      <td>2021-06-30</td>\n",
              "      <td>여러지인들과 머리핀몇개4만원상당 주문했는데..3주나걸립니다..상품준비기간이1일이라는...</td>\n",
              "      <td>2021</td>\n",
              "      <td>06</td>\n",
              "      <td>30</td>\n",
              "    </tr>\n",
              "    <tr>\n",
              "      <th>1</th>\n",
              "      <td>쑈니</td>\n",
              "      <td>1</td>\n",
              "      <td>2021-07-03</td>\n",
              "      <td>이번 업데이트 진짜 별로다;; 왜 한지 모르겠음 어느 쇼핑몰에 들어가서 카테코리 선...</td>\n",
              "      <td>2021</td>\n",
              "      <td>07</td>\n",
              "      <td>03</td>\n",
              "    </tr>\n",
              "    <tr>\n",
              "      <th>2</th>\n",
              "      <td>신봉근</td>\n",
              "      <td>1</td>\n",
              "      <td>2021-07-04</td>\n",
              "      <td>ㅇㄴ제가 다른 계정으로 고데기를 주문을 했는데 하루뒤에 도착이라고 떠서 일이 있어서...</td>\n",
              "      <td>2021</td>\n",
              "      <td>07</td>\n",
              "      <td>04</td>\n",
              "    </tr>\n",
              "    <tr>\n",
              "      <th>3</th>\n",
              "      <td>멈멈</td>\n",
              "      <td>1</td>\n",
              "      <td>2021-06-10</td>\n",
              "      <td>내 변심으로 환불한것도 아니고 쇼핑몰측에서 품절되서 환불해주겠다고했음. 근데 환불계...</td>\n",
              "      <td>2021</td>\n",
              "      <td>06</td>\n",
              "      <td>10</td>\n",
              "    </tr>\n",
              "    <tr>\n",
              "      <th>4</th>\n",
              "      <td>JI _</td>\n",
              "      <td>1</td>\n",
              "      <td>2021-06-16</td>\n",
              "      <td>여기는 품절 확인 제대로 안하시나요? 매번 품절이라고 구매하고 취소되고 한번정도는 ...</td>\n",
              "      <td>2021</td>\n",
              "      <td>06</td>\n",
              "      <td>16</td>\n",
              "    </tr>\n",
              "    <tr>\n",
              "      <th>...</th>\n",
              "      <td>...</td>\n",
              "      <td>...</td>\n",
              "      <td>...</td>\n",
              "      <td>...</td>\n",
              "      <td>...</td>\n",
              "      <td>...</td>\n",
              "      <td>...</td>\n",
              "    </tr>\n",
              "    <tr>\n",
              "      <th>1915</th>\n",
              "      <td>닭칼국수</td>\n",
              "      <td>5</td>\n",
              "      <td>2021-03-14</td>\n",
              "      <td>미쳣다 와 진짜 여러분 이거 대박이에요 진짜ㅠㅠ가격도 싼편 많고 무엇보다 09년생인...</td>\n",
              "      <td>2021</td>\n",
              "      <td>03</td>\n",
              "      <td>14</td>\n",
              "    </tr>\n",
              "    <tr>\n",
              "      <th>1916</th>\n",
              "      <td>예서</td>\n",
              "      <td>5</td>\n",
              "      <td>2021-02-25</td>\n",
              "      <td>저는 아주 만족스러운 앱이였어요 특히나 편의점 결제가 완전 좋더라구요 엄마 몰래 살...</td>\n",
              "      <td>2021</td>\n",
              "      <td>02</td>\n",
              "      <td>25</td>\n",
              "    </tr>\n",
              "    <tr>\n",
              "      <th>1917</th>\n",
              "      <td>윤지민</td>\n",
              "      <td>5</td>\n",
              "      <td>2021-01-25</td>\n",
              "      <td>일단 무엇보다 모든 옷이 무료배송인것, 그리고 리뷰작성시 적립금이 큰게 최대 장점인...</td>\n",
              "      <td>2021</td>\n",
              "      <td>01</td>\n",
              "      <td>25</td>\n",
              "    </tr>\n",
              "    <tr>\n",
              "      <th>1918</th>\n",
              "      <td>-선바와 잘생긴 아이돌에 진심인 편</td>\n",
              "      <td>5</td>\n",
              "      <td>2021-04-01</td>\n",
              "      <td>안녕하세요~!!! 옷에 관심이 많은데 에이블리 덕분에 쇼핑욕구 가득 채우고 있습니다...</td>\n",
              "      <td>2021</td>\n",
              "      <td>04</td>\n",
              "      <td>01</td>\n",
              "    </tr>\n",
              "    <tr>\n",
              "      <th>1919</th>\n",
              "      <td>Clean asmr</td>\n",
              "      <td>5</td>\n",
              "      <td>2021-06-06</td>\n",
              "      <td>옷들이 넘호 예뻐용&gt;&lt;</td>\n",
              "      <td>2021</td>\n",
              "      <td>06</td>\n",
              "      <td>06</td>\n",
              "    </tr>\n",
              "  </tbody>\n",
              "</table>\n",
              "<p>1920 rows × 7 columns</p>\n",
              "</div>"
            ],
            "text/plain": [
              "                     name  ratings       date  ...  yyyy  mm  dd\n",
              "0                 jep Bak        1 2021-06-30  ...  2021  06  30\n",
              "1                      쑈니        1 2021-07-03  ...  2021  07  03\n",
              "2                     신봉근        1 2021-07-04  ...  2021  07  04\n",
              "3                      멈멈        1 2021-06-10  ...  2021  06  10\n",
              "4                    JI _        1 2021-06-16  ...  2021  06  16\n",
              "...                   ...      ...        ...  ...   ...  ..  ..\n",
              "1915                 닭칼국수        5 2021-03-14  ...  2021  03  14\n",
              "1916                   예서        5 2021-02-25  ...  2021  02  25\n",
              "1917                  윤지민        5 2021-01-25  ...  2021  01  25\n",
              "1918  -선바와 잘생긴 아이돌에 진심인 편        5 2021-04-01  ...  2021  04  01\n",
              "1919           Clean asmr        5 2021-06-06  ...  2021  06  06\n",
              "\n",
              "[1920 rows x 7 columns]"
            ]
          },
          "metadata": {
            "tags": []
          },
          "execution_count": 14
        }
      ]
    },
    {
      "cell_type": "markdown",
      "metadata": {
        "id": "LZsaLGDrfxLN"
      },
      "source": [
        "### 리뷰 연도별 분포\n",
        "연도별 분포를 통해서 에이블리는 7월을 기준으로 크롤링 하였음에도 리뷰의 건수가 2021년이 제일 많음을 보아, 앱의 사용자가 많아졌음을 파악할 수 있다."
      ]
    },
    {
      "cell_type": "code",
      "metadata": {
        "colab": {
          "base_uri": "https://localhost:8080/",
          "height": 432
        },
        "id": "DJoiBXj1fxLN",
        "outputId": "3cef9562-fea6-4ac3-a145-71082710aff0"
      },
      "source": [
        "#Auciton_class의 범주 값들을 count하여 변수 Bid에 넣기\n",
        "rate = review['yyyy'].value_counts() \n",
        "\n",
        "#bar로 시각화\n",
        "plt.bar(rate.index,rate)  \n",
        "plt.show()\n",
        "\n",
        "rate"
      ],
      "execution_count": 15,
      "outputs": [
        {
          "output_type": "display_data",
          "data": {
            "image/png": "[encoded data removed]",
            "text/plain": [
              "<Figure size 576x396 with 1 Axes>"
            ]
          },
          "metadata": {
            "tags": []
          }
        },
        {
          "output_type": "execute_result",
          "data": {
            "text/plain": [
              "2021    1239\n",
              "2020     425\n",
              "2019     236\n",
              "2018      20\n",
              "Name: yyyy, dtype: int64"
            ]
          },
          "metadata": {
            "tags": []
          },
          "execution_count": 15
        }
      ]
    },
    {
      "cell_type": "markdown",
      "metadata": {
        "id": "-fP_BhX2Emdw"
      },
      "source": [
        "#### 연도/월로 시각화 해본 결과, 2021년 4월부터 에이블리 어플의 사용자가 확연하게 늘어난 것을 구체적으로 확인할 수 있었다."
      ]
    },
    {
      "cell_type": "code",
      "metadata": {
        "scrolled": true,
        "colab": {
          "base_uri": "https://localhost:8080/",
          "height": 434
        },
        "id": "Lo-yisesfxLN",
        "outputId": "9a4fb744-b8b7-4248-98d9-7d6395efba16"
      },
      "source": [
        "# 리뷰 연도별 분포\n",
        "# 2021년도의 리뷰 건수에 대해서 구체적으로 파악하기 위해서 연도/월을 다시 시각화 해보았다.\n",
        "\n",
        "review['yyyymm'] = review['date'].dt.strftime('%Y%m')\n",
        "\n",
        "f, ax = plt.subplots(1, 1, figsize=(30, 10))\n",
        "sns.countplot('yyyymm', data=review)\n",
        "\n",
        "plt.show()\n"
      ],
      "execution_count": 16,
      "outputs": [
        {
          "output_type": "stream",
          "text": [
            "/usr/local/lib/python3.7/dist-packages/seaborn/_decorators.py:43: FutureWarning: Pass the following variable as a keyword arg: x. From version 0.12, the only valid positional argument will be `data`, and passing other arguments without an explicit keyword will result in an error or misinterpretation.\n",
            "  FutureWarning\n",
            "findfont: Font family ['AppleMyungjo'] not found. Falling back to DejaVu Sans.\n"
          ],
          "name": "stderr"
        },
        {
          "output_type": "display_data",
          "data": {
            "image/png": "[encoded data removed]",
            "text/plain": [
              "<Figure size 2160x720 with 1 Axes>"
            ]
          },
          "metadata": {
            "tags": []
          }
        }
      ]
    },
    {
      "cell_type": "markdown",
      "metadata": {
        "id": "_cbt2W1LfxLO"
      },
      "source": [
        "### 평점 시각화\n",
        "\n",
        "평점은 크롤링에서 수집한대로 분포가 골고루 되어있는 데이터를 사용하여 분석하였다."
      ]
    },
    {
      "cell_type": "code",
      "metadata": {
        "colab": {
          "base_uri": "https://localhost:8080/",
          "height": 347
        },
        "id": "Y9cbK_vSfxLO",
        "outputId": "dba53176-a300-4e97-fdf9-8bb1d2c6ab74"
      },
      "source": [
        "#Auciton_class의 범주 값들을 count하여 변수 Bid에 넣기\n",
        "rate = review['ratings'].value_counts() \n",
        "\n",
        "#bar로 시각화\n",
        "plt.bar(rate.index,rate)  \n",
        "plt.show()"
      ],
      "execution_count": 17,
      "outputs": [
        {
          "output_type": "display_data",
          "data": {
            "image/png": "[encoded data removed]",
            "text/plain": [
              "<Figure size 576x396 with 1 Axes>"
            ]
          },
          "metadata": {
            "tags": []
          }
        }
      ]
    },
    {
      "cell_type": "code",
      "metadata": {
        "colab": {
          "base_uri": "https://localhost:8080/"
        },
        "id": "ywvl5PTmfxLO",
        "outputId": "0cb8f6cd-30d9-4ff0-f103-5aaa834c77f3"
      },
      "source": [
        "#평점 별 데이터 개수 확인\n",
        "rate"
      ],
      "execution_count": 18,
      "outputs": [
        {
          "output_type": "execute_result",
          "data": {
            "text/plain": [
              "1    440\n",
              "3    400\n",
              "4    400\n",
              "5    360\n",
              "2    320\n",
              "Name: ratings, dtype: int64"
            ]
          },
          "metadata": {
            "tags": []
          },
          "execution_count": 18
        }
      ]
    },
    {
      "cell_type": "code",
      "metadata": {
        "colab": {
          "base_uri": "https://localhost:8080/"
        },
        "id": "i-mVDx9PfxLO",
        "outputId": "9ed4fb18-dc68-43c2-ad18-09fd368bf521"
      },
      "source": [
        "len(review['comment'])"
      ],
      "execution_count": 19,
      "outputs": [
        {
          "output_type": "execute_result",
          "data": {
            "text/plain": [
              "1920"
            ]
          },
          "metadata": {
            "tags": []
          },
          "execution_count": 19
        }
      ]
    },
    {
      "cell_type": "markdown",
      "metadata": {
        "id": "SCtQnCjxi7yF"
      },
      "source": [
        "#### 형태소 분석"
      ]
    },
    {
      "cell_type": "code",
      "metadata": {
        "id": "cuxPIAiihB3I"
      },
      "source": [
        "import konlpy\n",
        "import nltk\n",
        "from konlpy.tag import Kkma, Komoran, Hannanum\n",
        "from konlpy.utils import pprint\n",
        "from konlpy.tag import Mecab\n",
        "\n",
        "from konlpy.tag import Okt; t = Okt()"
      ],
      "execution_count": 20,
      "outputs": []
    },
    {
      "cell_type": "code",
      "metadata": {
        "colab": {
          "base_uri": "https://localhost:8080/",
          "height": 225
        },
        "id": "YM_WXDSch0Ty",
        "outputId": "08a869c5-0fab-4702-88a1-56f725db7790"
      },
      "source": [
        "content_text = ''\n",
        "for each_line in review['comment'][:2000]:\n",
        "  content_text = content_text + each_line + '\\n'\n",
        "\n",
        "content_text"
      ],
      "execution_count": 21,
      "outputs": [
        {
          "output_type": "execute_result",
          "data": {
            "application/vnd.google.colaboratory.intrinsic+json": {
              "type": "string"
            },
            "text/plain": [
              "'여러지인들과 머리핀몇개4만원상당 주문했는데..3주나걸립니다..상품준비기간이1일이라는데..상품재고도 없이 판매하는 마켓...배송지연이라 메세지도 없어. 구매자가 먼저 말해야 답변이랍시고 주고..역시중국산..가격에비해 퀄리티 많이떨어져요..그마켓을 믿은것보다.\"에이블리\"믿고 주문했는데.완전실망스럽네요..이번거래 끝나면 탈퇴각이요.마켓대변인만 하는 대한민국1등쇼핑몰\\n이번 업데이트 진짜 별로다;; 왜 한지 모르겠음 어느 쇼핑몰에 들어가서 카테코리 선택한 후에 옛날처럼 정렬,키,색상,가격 이런거 선택할수 있었으면 좋겠음\\nㅇㄴ제가 다른 계정으로 고데기를 주문을 했는데 하루뒤에 도착이라고 떠서 일이 있어서 몇시간 뒤에 찾으러 갔는데 없어요 제돈만 날린건지 아님 다른데로 잘못 배송이 됬는지 몰 라도 어떻게든 배상 받고싶습니다!!!😡😡\\n내 변심으로 환불한것도 아니고 쇼핑몰측에서 품절되서 환불해주겠다고했음. 근데 환불계좌를 옛날에 등록해놔서 환불안내받자 환불계좌 바꾸고싶다고 연락함. 쇼핑몰측이 답장하길 자기네는 이미 환불완료해서 에이블리측에 문의하라함. 에이블리측에 바로 문의함. 안봄. 결국 변경안한채로 당일 환불됌. 환불되자마자 이미 환불완료되서 안된다고 문의답장 옴. 이게뭐예영ㅋㅋㅋㅋㅋ진짜개별로.ㅎ연예인 모델 섭외할 시간에 더 빠른 컨슈머대응이 훨씬 필요할듯\\n여기는 품절 확인 제대로 안하시나요? 매번 품절이라고 구매하고 취소되고 한번정도는 이해하겠는데 산거 3번은 그러네요ㅎ 진짜 소비자 두고 장난질하는 것도 아니고 중간에서 중개하는 거면 제대로 해야지 가게랑 품절 확인도 안하고 판매만 하면 끝이다~ 이런 건가요? 마인드 개별로네요\\n배송은 느리고 판매자는 문의글에 답도 없고 한참 만에 온 물건은 구매한거랑 전혀 다른 옷 이고 반품신청했는데 역시 답은없고 전화를 해야 해결이 되려나;;\\n회원가입을 하려고하니깐 회원가입이 되있다고해서 아이디 찾기해서 아이디 치고 로그인하려고하면 없는 아이디라고 하고 그래서 회원가입 하려고하니깐 있는 아이디라고 되있고 문의하려고하니깐 로그인하라고하면 어떻게 이용하죠??..... 쓰고 싶어도 못쓰도록 만들어져있으니 할말이 없네요\\n에이블리 일을 잘 안하는것 같에요. 상품을 일주일 전에 주문했는데 갑자기 일주일뒤에 연락와서 상품 품절이라고 하니 황당했네요. 품절 확인좀 제대로 하면 좋겠습니다. 그냥 브렌*을 사용하는게 더 좋겠어요.\\n배송 너무 느리네요. 질문했더니 답변도 불쾌하구요 관리가 잘 안되는듯..? 어플 삭제합니다 수고요.\\n요즘 에이블리에 실망이 커지네요.. 배송도 점점 느려지고 쿠폰수도 줄어들고 있어요. 고급(?)회원일수록 더 다양한 쿠폰을 지급해야하는게 당연한거 아닌기요..? 등급이 올라갈수록 낮은 가격에 사용 가능한 쿠폰이 없어요. 확대 축소도 안돼서 불편한 점이 꽤 있어요. 그리고 배송비가 없어서 좋아했는데 다른 곳에 같은 상품을 찾아보니 배송비가 빠진 가격으로 팔고 있더라구요. 배송비 없는 척하고 상품 가격에 배송비를 포함해 놓는건가요..? 정말 많은 생각이 드네요...\\n별주기도 아깝네 니들이 택배사를 잘했어야지 어 지연되가지고 3주나 밀렸는데 그게 말이냐 방구 어떻겠든 이번주내로 오게 해라 니들 안그러면 신고한다.\\n디자인만 보고 예쁘다고 덥석 구매하지 마세요.. 품질보증기간이나 반품 및 교환이 어떤지도 꼼꼼히 따져보세요! 손목시계 구매했는데 2주지나서 멈춰서 시계방 갔더니 고장나서 멈춘거라고 해서 교환요청 했더니 일주일 교환기간 지난거라 교환이 어렵다고 어이없는 답변듣고 시계 버렸네요.. TV 광고만 해서 물건 팔줄만 알지 소비자의 서비스 정책은 완전 꽝이네요! 저 같은 피해자가 더 안나오면 좋겠네요. 앱 삭제합니다\\n다 좋은데 14세 미만은 스스로 못시키나요? 왜 결제가 안돼죠 팔면 안 될거라도 판 것도 아닌데 왜 못 시키나용ㅎ\\n인터넷에서 똑같은 거 찾아보세요 에이블리 가격 장난아니게 부풀릴때가 많아요\\n제발 배송 좀 빨리 왔으면 좋겠어요. 저번엔 3주정도 후에 오고 배송이 느려서 이젠 이 앱을 통해 옷을 사는게 줄거같네요.\\n이 어플을 깔기전에 옷보다는 악세사리를 위해 구매하는 용도가 좋을것 같네요. 기본적으로 옷들을 구매하면 배송이 너무 늦어요 주문하면 계속 상품준비중이라고만 떠있고 상품준비기간? 며칠지나서 보냈나하고 확인하면 여전히 준비중ㅋㅋㅋ악세사리는 금방 오던데 옷은 음.. 할많하않이예요.\\n판매처측도 에이블리측도 대응방식이 넘 늦어요 심지어 뜯지도 않았는데 반품안된다고 하더라구요... 반품안되면 온라인쇼핑을어떻게합니까! 배송비 제가 물고서라도 반품한다는데 왜안된다고하는지...참고로 판매처측주장입니다..에이블리에서는 기다리란말만 4~5일째하고있네요 이러면서 7일 채우려나 봅니다\\n총 3가지 상품을 주문했던 사람입니다. 다 다른 마켓이라는 것을 인지하고 시켰음에도 4일이나 아무런 문자없이 상품준비중만 뜨더라구요? 그런데 이상한 건 제 아는 지인이 제가 상품을 구매한 다음날 저와 똑같은 제품을 구매했는데 지인은 하루만에 왔습니다. 각기 다른 매장에서 배송을 한다고도 했고 배송지연이 되면 문자가 온다는 것도 알겠는데, 지인은 하루만에 배송되고 지연알림문자는 오지도 않고, 결국 환불했는데 환불은 또 며칠씩이나 걸리지 알 수가 없네요...부디 처음 이 앱을 까시는 분이 계신다면 아는 지인이랑 같이 구매해서 서로 며칠씩 걸리는지 확인해보세요... 아는 지인은 옷받고 좋아하는데 저는 옷 구경이라도 한번 해보고 싶네요...\\n저렴한 가격에 무료배송이라해서 얼른 어플 깔았는데 추가요금이있어 금액이 늘어나네요?ㅋㅋㅋㅋㅋㅋ 뭡니까이게 소비자 기만도아니고... 최종금액을 써놔야지 왕창 할인하는듯이 해놓고 최종결제가면 금액이 다 달라져요ㅡㅡ 쿠폰도 금액이 크니까 사용도못하고 .....참 거지같네요 개선좀하세요\\n에이블리에서 한달에 몇십만원씩 꾸준히 사는 사람입니다 에이블리 배송상품은 정말 거르고싶어요 색도 다르고 불량건에 대한 교환도 한번하려면 문의하는데만 며칠걸려, 불량건임에도 온갖말 덧붙히며 쉽게 바꿔주지도 않네요^^ 교환해준 제품이 또 불량이면 그땐 교환안된다는둥 고지하시면서 소비자책임으로 돌리시는데, 교환해준 제품이 불량인걸 왜 소비자가 책임집니까? 이상한 서비스 개선 필요해보입니다 이런일 있음에도 글 안남기고있다가 이번에 색상으로 문의드리니 화면과 다를수 있다며 디테일컷 확인하라하시는데 상품컷, 디테일컷 하나없이 착용컷만 있습니다~ 어딘가 했더니 에이블리 배송상품 이였네요 제발 기만하지말고 똑바로 해주세요 소비자가 한두번 사는줄 아시나요?\\n5만원을 날렸어요.. 결제를 했는데 취소라고 뜨네요.. 돈만 날렸네요.. 다들 피해보지 마세요..\\n솔직히 배송이 너무 느려요. 악세사리나 백같은건 1~2일 안에는 오고 엄청 빠른데 의류 상품들은 너무 늦네요. 보니까 에이블리는 재고를 보유하고 판매하지 않고 주문을 받으면 거래처에 입고요청 후 진행된다는데 너무 늦어요.\\n아니 재고관리도 안한 상품을 도대체 왜 올리나요? 배송을 2주넘게 기다리는게 말이됩니까? 그이유가 재고확인이라고? 어이가없네 판매자들 관리좀하세요!!!!엉망진창이네요..배송 빠른상품도있지만 몇몇 쓰레기같은 판매자들때문에 이용하고싶지않네요ㅡㅡ 에이블리 고객센터는 전화연결 진짜 힘들 뭐하는건지 참\\n지속적으로 쓰다보면 단점만 보이는 어플 1. 마켓들 대응 - 상세페이지랑 실물이랑 다른 제품 천지 문의하면 지들이 맞다고 박박우김&문의 진짜 늦게보던가 아예 안보던가 2.에이블리 대응 - 하는게 없음 뭐만하면 해당 마켓에 문의하라면서 미룸 3.내맘대로 사용 못하는 포인트 4. 할인쿠폰의 금액대가 너무 차이남 십오만원 이상 구매시 만원밖에 할인 안돼는 쿠폰 5.상세페이지랑 너무 다른 제품들때문에 더 상세히 보려고 리뷰보면 제품이랑 상관없는 사진들&상세페이지 그대로캡쳐&상품과 관련없는 리뷰들뿐 포인트거지새끼들이 넘쳐남 6.말도 안돼는 가격들이 많음 누가봐도&다른 쇼핑어플 조금만 찾아보면 똑같은거 또는 비슷한게 예를들어 이삼만원하는게 에이블리는 오육만원 가격깡패들 모임 쓰면 쓸수록 드럽고 치사한 마켓 / 무능한 에이블리 특히 리뷰거지새끼들 & 사기치는 마켓들 관리 안하는게 제일 문제\\n없는 쇼핑몰도 많고 같은 쇼핑몰이어도 안 올라온 상품들도 많음. 디데일 볼려고 해도 확대가 안됨. 시력 나쁜 사람들은 앱 사용 못할듯. 쇼핑몰로 바로 가는 기능이 없음 . 쿠폰 많이 줘서 그건 좋음.\\n배송 진짜 느려요.. 6벌 중 4벌이 배송지연이라뇨. 2벌이 배송지연 문자가 오고, 다른 2벌은 배송지연 문자는 없지만 배송 지연입니다... 각각 다른 곳에서 시켰는데 원래 이런건가 싶네요.. 구매하려고 따져보고 고른 시간들도 있는데 그 시간들이 아깝네요. 이제 막 이용할라 했는데 신뢰도가 넘 떨어져서 이용할지 모르겠어요.\\n주문취소가 되어서 4177원을 환불받아야하는데 돈은 들어오지도 않았었는데 완료되었다는 푸시알림이 떠서 당황스럽네요. 결제수단으로 돈 넣어주는걸러 아는데 카뱅 카드라 입금이 되어야 정상인데 돈도 안들어오고...돈 뜯어가시는건지...? 물품은 이쁘고 사장님도 디게 친절하시고 좋아요. 환불만 해주셨으면....ㅠㅠ\\n에이블리.. 좋게 생각했었습니다. 나쁜 점만 있는 앱은 아니라고 생각합니다만 일단 옷 보다는 차라리 악세사리를 사는게 나은것 같아요. 그리고 반품시키는데 무슨 6~7천원 정도를.. 날려 먹었습니다. 이건 진짜 아닌것 같네요 다른 브랜드는 반품 주문취소 다 무료로 해주거든요. 무료배송이라 그런가 이런부분은 화가 많이 나네요.\\n꼭 필요한거라 시켰는데 환불하지도 않았는데 갑자기 단순변심이라고 하면서 자기들 맘대로 환불하고선 3시 부터 6시까지 계속 전화하고 카톡하고 앱문의했는데 상담시간이 지날때까지 미안하단 말한마디없이 어쩔수없다는 말만하고 진짜 고객센터도 별로고 상품도 별로네요 돈은 들어오지도 않는데 물건은 못받고 다시시켜도 날짜안에 못받고 쿠폰쓰고 할인받은건데 다시시키면 더비싼돈주고 사야하고 품절인것도 아니고 어쩌라는건지 진짜 시킬때마다 맨날 문제 생겨서 짜증납니다\\n리뷰신고에 관해서 문의드립니다 옷이랑 전혀 상관없는 사진, 짤들이 너무 난무해서요... 피팅 사진 보려고 리뷰 보는 거 아닌데 피팅 그대로 캡처해서 올리는 것도 어이가 없습니다... 신고 기능이 있으면 좋을 것 같습니다 ㅜ\\n아니 대체 환불처리가 왜이렇게 느리냐고요..벌써 3일째거든요? 아니 반품도 아니고 그냥 결제하고 취소진행인데 그게 이렇게 느릴 일인가요?\\n상품 불량이라 바꾸려고 해서 쇼핑문의를 하면 답장을 안줌... 아니 물건이 불량이라 반품한다는데 안읽고 답을 안하면 어쩌라는거지? 이런것에 대한 방법은 어디에도 안나와 있네요. ,ㅠ\\n다 좋은데 주문 취소 할때 선택 취소 가능했으면 좋겠어요.. 취소 했는데 그 사이에 제품 가격이 오르면 상당이 당황스러워요\\n비슷한상품들볼수있는건좋은데 시키면 품절됐다고 취소되고 배송도 오래걸리는것도많고 리뷰없는것들도많고 지금 몇번째 취소 반품 여기서시키기가무섭네요\\n너무 좋아요 그런데 품절된건 품절로 표시좀 되어있으면 좋겠네요 입급 다했는데 품절이라고 연락오면 어쩌자는거고 돈도 안돌려줌 ㅋㅋㅋㅋ\\n5천원 쿠폰이 당첨되서 주문시켰고 주문폭주라 기다려야한다는 말에 까짓거 기다리지뭐 하고 기다렸는데 며칠되도록 연락이 없어 홈페이지를 들어가보니 아무말 없이 환불처리. 개 열받음 일을 뭐 이따위로 하는건지.. 기다리는동안 5천원쿠폰도 기간이 다되어 쓰지도 못하게 됌 쇼핑몰과 에이블리측 어쩔수 없다만 반복함 결론은 진짜 쓰레기 어플.. 1점도 아까움\\n자꾸 폰인증 실패하는데 가입하라는건지 말라는건지 모르겠어요 계속그러는데 고치실생각도 없어보이시구....^^ 앱 써보지도 못했지만 앞으로도 안쓸거같아요^^ 수고하세요\\n배송이 엄청늦고요 문의하기도 복잡하고 전화도 안받고요 엄청 불친절하고요 14일째 물건이 상품중비중이네요;; 시간이랑 돈만 아깝네요\\n상품클릭해서 상세설명 보다가 맨 아래로 내렸다가 다시 스크롤 올리면 아무것도 안떠요 ㅠㅠㅠ진짜 답답해미치겠어요 조심조심 내려서 봐야돼여 제발 고쳐주세요\\n티셔츠각각다른곳에서 세벌샀는데재고없다고 전부다지들이취소시킴ㅡㅡ이중에한곳은한참지나도재고없다고말도안해줌 겨우내가물어보고나서 한참뒤에재고없다고취소시켜줌 여기는왜재고확인도안하고왜판매하시나모르겠네\\n아니...배송 취소를 했는데 환불이 된다면서 안되었어요....\\n최악의 어플...다른 쇼핑앱으로 갈아타세요ㅡㅡ 갑자기 말없이 환불통보 근데 금액은 산금액보다 덜들어오고 사기치는건지... 갑자기 다음날저녁시간되서 통보당해서 상담도 못하게하고... 와 눈뜨고코베이고 사기당하네요 그동안 쓴돈들이 있는데ㅡㅡ 다신 이거안쓰고 경쟁사어플로 갈아타야겠어요!\\n배송 자체가 시킬 때 마다 며칠째 배송준비중이라 뜨고 옷은 이쁜데 옷이 너무 오버핏을 넘어요..모델보다 키고 크고 그런 편이여도 막상 사이즈를 보면 원피스 수준으로 깁니다...\\n에이블리가 지그재그에 안되는 이유는 들어가보면 한눈에 알수있다. 옷을 살때 딱 정해서 사는것이 아니라 모아놓고 이거보고 저거보며 비교해가며 사는건데...\\n환불도 일주일째 안되고 옷 품질은 별로고 환불 문의도 답변 안하시네요 언제쯤 답변해주실지 모르겠어요 이번이 마지막일 것 같네요\\n회원가입 하려고 하는데 인증번호만 입력하면 로딩 하다가 인증번호 발송에 실패했다고 뜨네요. 가입 안하고말죠;\\n개썩음 앱이썩은게아니고 무배면 머하노 환불은 전부 돈내야됨 같은돈이연 쿠@이 낫겠다 옷도 맘에안듬! 환불료때문에 안하는사람있음 . 난 오늘 탈퇴한다 잘생각하고 까삼\\n어플이 왜이렇게 불편하죠? 뭐 사려고 회원가입할려니깐 이미 가입되어있다고 해서 로그인시도하니깐 비밀번호 등록 안되어있다고 비밀번호 찾기 들어가라고 해서 비밀번호 찾기 들어갔는데 방금 전에 회원가입 시도할때는 잘만 휴대폰 인증되더니 비번찾기할때는 왜 유효하지않은 휴대폰 번호라고 하는거죠? 가입도 안시켜주고 로그인도 안되게 하고 비밀번호 변경도 안되게 하면 어떻게 이용하라는거죠? 비번 변경하려니깐 방금전에 회원가입 시도하고 로그인 시도할때는 잘만 되던 휴대폰 인증도 유효하지 않은 휴대폰 유효하지 않은 이메일이라고 하고 ㅋㅋㅋ 뭐하자는거죠?\\n좋게 쓰고 있는데 갑자기 인터넷이 불안정하다니 뭐라니 근데 전 와이파이 잘되는데 계속이러네요;; 버그인지 모르겠지만 빨리고쳐주세요\\n핸드폰을 바꾸고 계정이 사라져 로그인을 하려고 카카오톡 로그인을 시도해보고 전화번호를 입력했는데 인증번호 전송에 실패했다며 로그인이 안되네요.\\n제가 썼던 후기가 사라져서 다시써요 배송 전에 환불을 했는데 4일이 지났는데도 돈이 안 들어왔습니다 2~3일이면 들어온다고 들었는데.. 빨리 환불 부탁드려요\\n바이너** 여기서 시켰는데 상품이 배송 됬다고 해서 계속 기다렸는데 안와서 택배사에 연락했더니 자기들 잘못인줄 알고 택배사에서 환불을 받았는데 알고보니 쇼핑몰에서 상품이 누락됬더라구요 근데 왜 배송완료라고 해놓는지요? 그래서 환불 받은 금액으로 다시 샀는데 같은옷이 2개와서 택배사에서 받은 금액 다시 물어주고 쇼핑몰에 니들 잘못이니 배송비 무료로 환불하겠다 했는데 안됀다대요? 참나 어이가 없어서\\n쿠폰을 사용하려고 가격 맞춰 사도 나중에 품절이라며 일부상품만 보내서 쿠폰을 사용하는 의미가 없음 무책임해요 여러분 브랜디 사용하세요\\n1점도 아깝네요....하...인증은 안돼고 오류은 엄청나고 인증번호도 안옵니다 쇼핑얍을 들러보는데 이 앱이 나와서 깔엄ㅅ는데 오류 엄청나요 완전 노추\\n업데이트 된 뒤로는 처음 들어가봤는데 무슨 이벤트나 상세페이지 터치만 하면 화면 하얗게 되냐.. 뭘 쇼핑을 못하겠네...\\n결재를 할려하는데 계속 결채가 취소 된다고하네요.. 몇번이나 계속 시도했는데 계속 결재가 취소된다는개 짜증나네요\\n왜 리뷰를 못쓰게 해요...구매하고 나서 리부 쓰려고 하면 사진 첨부가 안됨... 진짜 너무 짜증나고 왜자꾸 렉이 걸리는지;\\n내 스타일대로 나오지도 않고.. 그냥 아무사이트 들어가면 흔히 살수있는 뻔하고 흔한 옷들뿐이네.. 이럴꺼면 굳이..\\n참 쿠폰을 걍 주지 마세요 뭐 사면 몇프로 이딴건 거의 최소 200000만원은 구매해야하고 지금까지 에이블리에서 십만원정도 구매한거 같은데 너무 질 떨어지는게 많음\\n가입자체가 안돼요. 인증번호발송실패가 계속 뜨네요. 여러방법으로 가입시도해도\\n정말 여기서는 구매하지 마세요 불량인 옷을 무조건세탁하면 아무것도안된다고... 같은옷 두번구매해서 업체에서 말한데로 세탁망에서 세탁했는데 불량이 생겼는데 결론은 세탁하면 안된다는..\\n진짜 별 1개도 아깝네요 무료배송은 무슨 ㅋㅋㅋ 배송비 다 나와요 이정도면 광고가 ㅋㅋㅋ\\n앱애서 매물 뜨는 거 빼고는 제대로 되는 것도 없고 인터넷에서 하면 될 걸 굳이 앱을 깔 수밖에 없게 만들고 등등 이유로 삭제했던건데 페북에서 봤던 필요했던 옷 하나만 보고 재삭하려구요~ 대단해요!!에이블리 파이팅\\n다양한 제품을 한곳에서 구매할수있어서 좋은데 한번도 일주일안에 배송온적이 없음...배송개느림\\n발송 갱ㅇㅇㅇㅇㅇ느려 두번다시 안씀 거기 입점한 가게들 다 각자쇼핑몰 있어서 거기서 주문하는게 훨 나음\\n제발 업체관리좀하세요. 문의남기면 답장이 하루걸러오고, 1일만에 배송된다해놓고 5일걸리고, 싼게비지떡 제품질이야 말할것도없음 업체락 커넥트가 너무 안좋음 배송 1주 생각하시고 사용하세요... 급하신분들은 다른거쓰시는게좋을듯함\\n옷 사면 어디 띃겨오거나 ㅋㅋ 찢여져 오늘 경우가 너무 많은데 그리고 배송도 너무 느린게 아쉽구요 옷 뒷처리안해서 돈만 아까워요 ㅋㅋ\\n엄.. 잘 사용하고 있었는데 갑자기 웹페이지가 안뜬다네여... 오류좀 고쳐주세요 앱은 들어가지는데 주문 내역보기 이런거 누르면 웹페이지가 안떠요\\n하루배송이라 광고하면서 단한번도 그런적없음 최소3일이상갔음!\\n카트결제를 하려고 해는데 페이북에서 결지를 하라는거에요 그래서 할려고해문데 무슨 인증서를 받아오라고 하는데 귀찮나서 안 했어요. 그리고 pc로 하라는데 pc없는사람은 결제도 못하는건가요? 그리고 결제하는데 굳이 어려게 해야되는건가요?\\n이건 무슨 회원가입하는데 인증번호발생 실패했다 뜨고 몇번 지웠다 깔고해도 안되는데 어쩌라는거지\\n알림 설정 꺼놨는데도 팝업 알림이 계속 뜸.\\n회원가입이 안 돼서 고객센터에 문의하려고 했는데 고객센터는 로그인한 사람들만 가능하다네요? 회원가입 좀 할 수 있게 해주세요\\n배송취소를 했는데 3일이 지나도 안들어와요 취소완료만뜨네요\\n배송느리고 싼게 비지떡이라고 옷상태도 안좋음요 디자인은 좋은데...\\n아오 진짜 난 구매확정 안눌렀다고 근데 자기혼자 눌러져놓고 반품 안된다는건 뭐야 진짜 1개도 아깝네\\n왜 회원 정보수정, 쿠폰 페이지 다 웹사이트 연결이 끊겼다고 뜹니까?\\n전제품 무배라 핀하나시켜봤는데 강제 취소당했음ㅜ 일반우편이라도 보내는줄..\\n로그인이 안돼요 페이스북으로 로그인하는데 계속 오류나요\\n너무너무 싼티나는 쇼핑몰만 모아논 앱이에요. 한번 주문하고 전부 환불했어요. 다시는 이 앱 안쓰려구요.\\n지금 검색이 안됩니다 뭐죠 옷구매하려고 찾아보려는데;;\\n어제 제품을 주문했는데 갑자기 단순변심으로 취소가 됐어요. 어떻게 된건가요?\\n옷 살때 추가 금액이 늘어나네요 배송이 늦었네요\\n어플이가정상작동안된다고앱닫기나옴\\n아니 ㅋㅋㅋㅋㅋㅋ 전체 아이디 찾으려고 ㅌ카톡문의 넣었는데 씹 물어볼건 다 물어봐놓고 안알려주는거 뭐임 개빡침 ㅋㅋㅋㅋㅌㅌㅌㅌ\\n배송비 안드는대신 다른 사이트보다 비싼 제품이 몇개 있고 반품접수 샵마다 달라서 너무 까다로움.... 배송 늦어지면 늦어진다고 공지를 제대로 해주면 좋겠는데 말없이 늦어지는 샵도 많고... 개인적으로 비슷한 어플들 중 1위를 못하는 이유가.... 있다고 생각\\n여름인데 봄옷이 마니 보이네요.. 설치 하자마자 삭제함 ㅡㅡ\\n회원가입을 하고싶은데 인증번호발송에 실패햇다 계속 떠요. 어떻게 하나요?\\n배달 쪽에서 신발 사이즈가 한사이즈 작게 와서 빠른 대체가 없을까요?\\n진짜 좋밥입니다 배송도 5주동안 기다렸는데 갑자기 판매 종료라네요. 황당하고 어이가 없어요 가격만 엄청 비싸고 사면 쓰레기 입니다. 배송이 너무 느리네요 . 물건도 다 화질빨 입니다 절때 비추천 1점줘도 모자랄 쥐똥만큼 주고 싶네요\\n이메일을 모르겠어서 이메일 찾기를 했는데 3자리를 모르겠음 그래서 이제 에이블리 못 씀\\n배송이너무느림 개느림 한달걸링!!!\\n** 저평가 글 삭제하면 매일 올리겠습니다 (2) 온라인에 글 올리니 동일한 옷의 동일한 불량 문제가 있어서 무상 교환 받은 고객이 나타났습니다. 품질 문제로 입증 가능하니 고객에게 떠넘기지 말고 제대로 된 상품으로 무상교환 혹은 반품 바랍니다 옷이 불량인 것을 [나는] 이라는 업체가 소비자 변심으로 고집해서 결국 제 돈만 날리고 앱 삭제했어요ㅠㅠ 에이블리 진심 비추합니다. 입점 업체의 갑질과 품질. 서비스에 대한 평가 기준도 없다니 한심할 뿐입니다\\n갑자기 화면이 않나와요 어떡해 된거죠?\\n으으어어ㅡ어어으엉우으 갤럭시 A9pro 좀 넣어줘어ㅓㅓㅓㅓㅓㅓㅓㅓㅓㅓ 왜 다 맘에 드는건 아이폰밖에 없써ㅓㅓㅓ\\n뽑기 좀 바꿔주세요 솔직히 말해서 안돼는사람기분은 뭐가 됩니까? 아니면 꽝없는뽑기을 하든가요 안돼는사람은 얼마나 빡치는데요\\n진짜 별 한개도 아까워요.. 첫 주문은 너무 만족스러워서 에이블리 꾸준히 이용하려 했는데... 품절로 구매취소가 되서 구매 취소는 완료가 됐는데 돈이 안들어오네요.. 적은 돈도 아니고 괜히 걱정되서 문의는 해봤지만 답도 없고... 고객센터에 전화를 해봐도 2일 연속으로 상담사가 전부 상담중이라네요? 그것도 오전 오후 전부?? 그냥 일도 아니고 돈이 걸려있는 일인데 좀 기다리고 있고 걱정만 되는 소비자 마음을 생각해서라도 빠르게 처리하려는 마음은 없나요? 아직도 돈도 못받고 문의 답도 못받았습니다. 첫 주문은 너무 만족스러웠는데 갈수록 실망만 하네요.\\n완구/팬시 쪽에 건의 드리고 싶은 내용이 있어 이렇게 리뷰 남겨봅니다. 몇몇 상품들이 저작권 문제가 없는 상품인지 아닌지 정보가 나와있지를 않는데 (ex.각종 애니메이션 캐릭터 인쇄소스티커들) 혹시나 정품이 아닌 개인이 임의로 제작한 상품들을 판매하는거 아닌가 의심이 되어서요.. 평소 스티커, 문구류 쪽에 관심이 많고, 아트 상품을 내는 모든 브랜드 및, 캐릭터/일러스트 작가님들의 작품들을 좋아하는 소비자로서.. 혹시나 저작권 의식이 없는 분들의 상품이 팔리고 있는건 아닐까 걱정이 됩니다. 판매하시는 분들이 제대로 된 상품들을 팔고 있는건지 투명하게 공개하고 그렇지 않은 상품들은 제재를 해야하지 않나 생각합니다 솔직히 이런 부분들을 관리 못할 거였으면 완구/팬시쪽 서비스는 애초에 운영을 하지 말았어야죠. 소규모로 자기 굿즈들 제작해서 판매하는 사람들 중에도 좀만 인기 많아졌다하면 중국에서 카피 제품 나오면서 피해보는 분들도 많은데 에이블리처럼 국내에서 영향력있는 브랜드에서 이런 것도 신경 안쓰고 무분별하게 불법 굿즈들 판매하고 있는 모양새가 매우 불쾌합니다\\n절차에 따라 반품신청란 다 기록하고 반품신청완료했습니다. 상세내용에 상세사항중 반품회수라는 단어가 안들어갓다고 수거 안왔다는데 이해가 안갑니다 . 받자마자 싸이즈오류로 반품접수했는데 수거 안오기에, 고객쎈터 문의했더니 일주일 지나서 반품안된다고합니다. 이게 맞는 말인가요?반품상세설명에 싸이즈작아서 반품후 재주문할거라고 썻지만 회수신청이란 단어는 안썼습니다. 그 단어 안썼다고 회수를 안했다???? 상세작성칸에 기록위해 클릭하면 에이블리측에서 사라지게 만든 문구중 설명되어있다합니다 . 요즘시대 바쁜사람들 상세설명쓰려고 클릭하면 회색글 사라집니다. 이걸 상세안내라고 해야 할까요. 보지못한 고객 잘못일까요.. 굳이 회수신청이란 단어가 안들어가더라도 반품후 다시 주문한다든지의 문장으로도 반품이고,반품예약접수되었단 확인까지 했는데 반품이 안된다고하니 맞는 것인지요! 수거 기다리다 일주일이 넘었습니다 일주일 넘어서 환불 안된답니다. 피해보상은 소보자보호원에 구제신청해야하는 건가요\\n무료배송이라는건 진심 사기라고 생각합니다, 어떤 상품은 진심으로 무료배송일지라도 일부 상품만 그런건지는 정확치는 않은데 어떤 상품을 에이블리로 보다가 이 가게에 비슷한 다른 상품도 있을까 싶어서 네이버에 검색해서 상품을 찾는데 에이블리랑 완전 동일한 가게의 상품을 보는데 어이가없더라구요, 상품에 배송비도 붙혀서 판매하는거마냥 가격이 다르더라구요, 예를 들면 2500원 상품인데 에이블리에는 5000원되있더라구요?ㅋ 이게 무료배송인가요? 배보다 배꼽이라는 말은 여기써야겠네요, 상품을 1개만 사면 모르겠는데 2개정도하면 상품한개마다 배송비를 주는 셈 아닙니까?ㅋㅋ 어이가 없어서ㅋㅋ\\n지금 배송준비중인 상품들 다발송하고 도착하면 어플지울생각임 ㅋㅋㅋㅋ 관리도안되는 쓰러ㅣ기같은어플을다봤나;; 에이블리반성해야됨진짜; 있는회원들 다떨어져나갈판 일단 배송이 쓰레기.. 평균배송 절대믿으면안됨 그 평균배송기준은 누가만들었는지 참..ㅋㅋㅋㅋ 기본적으로 보통상품배송도 일주일은 잡아야되고 배송지연 상품은 열흘이상 대기(최대20일까지도 기다렸다가 빡쳐서 취소한적도) &판매자 연락불가(왜연락안해?) 한두번이아니고요? 문의남기면 하루종일답도없고 답답하기만 관리안될거면 이 어플운영을 왜하는건지 노이해 ; (하도답답해서 참나 살다살다 어플에 불만남기긴처음)\\n최근 문구/팬시류 할인 기간에 쿠폰을 사용해 구매했어요. 그런데 계속 택배발송도 되지 않아 문의했더니 물량폭주로 배송이 늦어진다고 해 계속 기다렸어요. 그리고 우체국택배로 배송이 시작되었다는 알림이 뜨는데 송장번호는 아예 조회도 되지 않았습니다. 그리고 오늘 물건파손이되어 주문취소가 되었다는 연락이 왔어요 왜 환불처리가 된건지 문의하니 단종확률이 높아 그렇다고 하네요ㅋㅋ.. 너무 일방적인 취소라 뭐 어떻게 대응해야 하는지 모르겠네요.\\n안녕하세요. 이틀 전에 핸드폰케이스를 시켰는데 저희 집앞에 편의점에 맡겨달라고 그렇게 설정을 했었어요. 2일 후에 배송완료라고 떠서 편의점을 가보니 제 택배가 없더라구요 그래서 편의점 알바생님께 제 택배가 어디있냐고 했어요.CJ대한통운에서 어디에 둔지는 모르겠다고.. 그러더라구요. 핸드폰케이스 바꿀라고 샀는데 정말 실망이네요. 다음부터는 더 조심해주세요\\n결제를한적이 없는날에 통장내역을보니 돈이 빠져나갔길래 확인해봤더니 에이블리코퍼레이션에서 빼갔더라구요 저는 그날 에이블리에서 산게 없고 그정도 금액을 산적이 없는데 갑자기 돈이 빠져나갔어요 돈이 일이천원도 아니고 좀 큰금액이 빠져나갔는데 고객센터는 응답도 없고 어떡하란말이죠 고객센터문의를실시간상담형식으로하면 좋을것같아요\\n진짜 ㅋ 다신 에이블리에서 옷 못사겠네요. 아니 하얀색 바지를 시켰는데 파란색 바지로 오질않나 검은색을 시켰는데 하얀색으로 오질않나..하.. 돈만 낭비한거 같아요. 제 돈이 너무 아깝네요 이러려고 이 앱 깐것도 시킨것도 아닌데\\n케이스를 분명 기종에 맞게 시켰는데 배송이 잘못왔습니다. 잘못왔음에도 불구하고 상담원 전화연결도 힘들고 겨우겨우 연결이 됐는데 일반전화번호를 주더니 폰도 꺼놓더라구요. 7일 안에 교환을 마무리 해야하는데 대체 어떡하죠?\\n진짜 별하나도 아까움...아니 일을 제대로 하는건지도 모르겠음 옷 샀더니 연속 3번이나 품절이라면서 취소시키고 이게 뭔짓임;; 사람 희망고문 하는것도 아니고 품절이면 바로바로 띄워놓아야지.그리고 맘대로 주문취소랍시고 쿠폰 썼다면서 환불금액에서 1000원씩 빼가고 이게 뭐임.아니 하나씩 결제했다면 그럴만 한데 묶음으로 결제했는데 쿠폰 썼다면서 이렇게 빼가서 3000원 손해봄... 진짜 진짜 비추천 깔지마세요\\n이쁜 옷도 많고 구경할것도 많긴한데 평균 배달이 1일 걸린다 적혀있는곳은 3~4일 뒤에 오고 그렇게 늦게왔는데도 잘못 온 경우가 대다수 있습니다.. 사이즈가 잘못오거나 세트로 시켰는데 하나밖에 안오거나 이러면 다시 갔다줬다가 또 받는 시간이 너무 오래걸려 맘에 안드네요..\\n반품도 안되고 배송도 너무 그리고 잘못선택해서 교환할려 했는데도 안돼고.. 진짜... 너무 하시네요.. 그리고 배송이 뜻겨서 오는게 말이되요?? 돈만 버렸네요..그리고 갤럭시 케이스가 많이 없어요..\\n최근 일주일?보다 더 계속 접속장애로 인터넷 연결이 불안정하다는 팝업이 뜨고 어플이 꺼지는 현상이 나타나는데, 에이블리 어플 제외하고 모든 앱이 정상작동입니다. 어플로만 접속하는데 어플 접속이 안되고 광고알림만 뜨니 매번 어플을 들어가도 접속을 못 합니다. 삭제 후 재설치해도 마찬가지구요. 어플 문제인지 한 번 알아봐주세요.\\n인증번호 발송에 실패해서 가입 자체가 안되는데요?\\n검색 기능을 왜 해놓은건지 모르겠네요. 파랑 자켓을 찾으려고 아우터-자켓-파랑 을 설정해놓아도 ㅋㅋ 화면에 뜨는건 온통 그냥 자켓들... 일일이 들어가서 각 상품의 옵션을 봐도 파랑색은 있지도 않은데요... 에휴\\n예쁘고 좋은 옷이나 뭐 많은데... 무료배송 이라는게 정말 사기같고 제주도같은 경우에는 무료 배송이라고 해도3천원 더 내야 돼서 조금 그렇고 돈을 다 냈는데 갑자기 문자로 자동 구매 취소 돼서 짜증이 많이나요. 이럴거면 그냥 다른데에서 사는게 좋은거 같아요. 전 진심으로 1점도 못준다고 생각해요.\\n그냥 하나만 사도 무료배송이라는 말을 빼는게 어떨까요? 작은것들은 늘 3~4개 이상 구매해야 배송이 된다하고 심지어는 옷까지도 설명란에 50000원 이상 사야 무료배송이라는 문구를 적더라고요. 말이 안맞는데 그런 상점들을 제제할 수 없다면 하나만 사도 무료배송이라는 문구를 지워주세요. 볼때마다 거짓말같아서 좀..\\n아니 평소에 잘오던 배송이 갑자기 엄청 느려졌네요 그 마켓에 천원 이하 상품이 있어서 이벤트 때문에 늦어진거면 모르겠는데 이번에 제가 주문한 비러브,드엘린 이 두곳은 배송이 왜 다 느려진거죠?26일날 출고 예정이라는데 누가 해외 배송도 아니고 일반배송을 2주나 기다리면서 상품을 주문하겠어요 ㅋㅋ 제발 배송 좀 신경써주세요\\n한 쇼핑몰에서 2월 2일에 주문을 했는데 갑자기 이게 명절에 주문을 한걸로 분류가 된건지 2월 3일에 집하됐다는건만 알려주더니 그 이후론 소식도 없네요? 오륜가 생각해봤는데 화요일에 그 팔찌를 착용하고 나가야하는지라 마음만 더 급해지네요. 같은 쇼핑몰에선 저보다 더 늦게 주문한 친구도 배송이 왔고, 심지어 그 친구는 더 싸게 샀습니다. 분명히 한개도 배송이라고 하셨는데 갑자기 제 택배가 아무 소식없이 사라지니 어이가 없네요.\\n검색시 관련없는 정보들이 너무 많이 나옴. 완전히 관련없는 정보들만 나와서 찾고자하는걸 찾을 수 없는 경우도 많았다. 타어플에 비해 상품도 적고 내가 본것들만 추천해줘서 다양하게 구경하고 구매하기가 좋지 않음. 타 어플들에 비해 더 맘에 드는 부분이 많아 에이블리만 보는편이었는데 이젠 모르겠다 이상해졌다\\n진심 별 한개도 너무 아까워요 환불취소를 잘못해서 취소철회요청 해도 만족스러운 답변줘서 죄송하다고만 함.실질적인 제도 개선이 시급함. 가격뻥튀기도 너무 많음. . . . . ㅇ ㅇ ㅂ ㄹ망해라 구매자들이 구매만 하면 지들은 할일 끝이라는 자세 좀 고쳤으면 좋겠음.\\n이거 저만 그런게 아닌거 같은데 서버 언제 고쳐주시나요? 이틀 째 서버가 이상한데 아직도 안고쳐져요. 에이블리 잘 이용하고 있는데 이게 뭔가요;; 급하게 사야할 것 들이 많은데 빨리 고쳐주세요\\n에이블리에서 주문 한 게 오류가 나가지고 다 주문 취소가 되었는데요 환불 처리 되있다고만 뜨고 입금하나 안되있네요 전화로 문의 해보니 통화량이 많다고 하고 앱에서 문의 했는데도 애이블리애소 문의 하라고 하고 진짜 어떡하라는 거죠\\n립합.이라는 마켓에서 2월 13일에 옷 구매 함. 한 달 째 안 보내줌. 3월 9일까지는 입고되어 발송해준다고 했는데 연락도 없고 발송도 안 해줌. 배송 못 받은 사람은 후기도 못 남김. 취소하고 입 닥치고 기다리는 방법밖에 없음. 마켓들도 어차피 물건 안 보내면 후기 못 남긴다는 사실을 알기 때문에 배송 자기 맘대로임. 미치고 환장할 노릇임. 에이블리 다시는 안 씀.\\n진짜 환불도 안되고 전화연결도 안되고 계속 상담사가 다 통화중이라하고 하루종일 통화중이나요?배송도 일주일이나 넘게 상품준비중이라 뜨고 있고 진짜 스트레스 받네요 ㅠㅠ상담을 안해주는게 너무 답답하고 미치겠네요 다른분들 다른앱 이용하길바랍니다\\n에이블리 처음 깔아서 옷 사봤는데 하나는 주문한지 좀 됬는데도 계속 상품 준비중이고.. 다른 하나는 입금을 했는데 주문취소되서 고객센터에 문의 드렸더니 그 옷산 싸이트 고객센터로 가져서는 그 분들도 에이블리 고객센터 가서 하라 하는데 1도 모르겠어요.. ; 저는 아마 다시는 안쓰지 않을까 싶습니당..\\n검색창이 있는 이유를 모르겠어요; 후드티를 검색하면 원피스나 후드집업만 나오고 후드티는 겨우 4~5개 보이고 모자없는 맨투맨을 사려면 후드티만 검색해주네요 원피스를 사려해도 바지가 검색되는 마법의 검색창 인가요?\\n1점주기도 아깝네요. 케이스는 자고로 폰에 낄 수 있는게 케이스인데 케이스를 못끼게 하는게 케이스가 케이스라고 말할 수 있습니까? 예? 생각해보세요. 예? 예? 케이스 파는 분들 다 내리세요.\\n별한개도 아까워요.... 정말 어이가없네요 첫배송 6만원이상 구매시 1만원 할인이라해서 주문하고 결재까지 다 했는데 갑자기 제일 비싼상품이 품절이라고 연락와서 환불해준다함 그리고 약6천원정도 빠지고 입금되었음 그러니까 약 4천원정도 할인이 된거임 고객센터에 문의해봄 나머지 환불금액 만큼 더 살테니 만원할인 해달라 요청하니 이미 결재가 다 되어서 불가능하고 쿠폰고지사항에도 적혀있다고 안내받음 그리고 이런 문의사항이 너무 많다고함 이런 문의사항이 많으면 개선을 하던지 해야하는거 아님???? 재구매 절대 안하고싶음 마음이 듦 어플도 지울거임\\n옷 종류가 다 거기서 거기같음 그냥 재질이나 그런 것만 다른 거 같고 디자인이 걍 거의 다 비슷한 거 밖에 없는 것 같네여 그리고 배송 진짜 너무 느려요 제 친구들중에 몇명은 한달이나 늦게 받았다고 하고 일주일 후에 받은 사람도 있고 거의 기본으론 전 3~4일 걸리는 듯 길면 1주일 정도\\n잘 사용 하고 있었는데 엊그제 부터 자꾸 앱이 안 들어가지고 튕기네요 서버가 불안정 하다고 뜨고 안 들어가져요 한 10번 정도 들어가면 한참 기다려야 켜지고 배송 조회 하려해도 들어가지질 않으니 너무 답답하네요 z플립 5g 쓰고있습니다 답변 부탁드려요\\n카테고리 분류도 잘 안되어있고 가격도 표시가 잘 안되어있어 불편합니다,,, 그리고 몇개이상 사야 배송가능~ 이런 것도 참^^; 광고를 하나만 사도 무배라면서 몇개 사야 판다는게 어이가 없네요\\n물건주문했는데 어제부터 앱이 열리지가않아요 메세지는 오는데 접속을 할수가없어요 인터넷연결이 불안정하다는 문자뜨기도하고 그러네요 다른거는 잘돼는데 ᆢ 왜그럴까요? ㅜㅜ\\n저만 그런게 아니네요. 앱을 들어가려고 하면 인터넷 연결이 불안정 하다고 뜨는데 와이파이도 아니고 LTE로 연결 했는데도 알람이 떠서 앱 들어가지도 못하겟네요 . 오ㅑ그럽니까?\\n솔직히 예쁜옷들은 많습니다. 하지만 사고보면 제질이 구리고,니트 가디건같은경우엔 하루만에 고풀이 피고,셔츠(목폴라세트)같은것도 한번입으면 옷 색깔이 바뀝니다. 그래서 아 감당 가능 하시는분만 앱 추천드리고 안그러심 비추..\\n무슨 해외직구도 아니고 한달뒤에 배송되는게 말이되나요 그것도 한개가 아니라 여러개가 각 다른 쇼핑몰꺼가 ㅋㅋ 이렇게 다 느리게 올 줄 알았으면 여기서 안샀지 생일선물 주려고 생일 2주전에 주문했는데 한달뒤에 주겠네요 이럴거면 판다고 말을 하지마세요 차라리 해외직구 시킬테니까 ㅋㅋㅋ\\n와 진짜 에이블리 일 안해요? 갑자기 결제 다한거 왜 취소하는데요 ㅋㅋㅋㅋㅋㅋㅋㅋㅋㅋㅋㅋㅋㅋㅋㅋㅋ 문의도 안받구~~ 1점 주기도 아까워용 여러분 에이블리 거르세여\\n별한개도 아깝네요 자주 구매했지만 이렇게 빡치기도 처음이에요 원인도 모르고 계속 서버 상태가 안좋으니 다시시도 해달라하고 장바구니 다 담아놓으면 비어있다하고 맘대로 로그아웃되고 당장 급하게 오늘 시켜야되서 빡치는거 줠라 인내해서 주문하는데만 30분 걸리네요 로딩이 개 길어서 비교도 후기도 못보고 걍 되는데로 샀어요;;;\\n3일전부터 제품을 누르면 오류가 뜨네요 그래서 삭제하고 다시깔고 업데이트까지했는데 이번엔 ... 어플 자체가 안들어가지네요.. 얼른 수정해주세요\\n서버가 너무 약해서 접속도 안돼요. 계속 튕기고 21/03/16 이걸 작년 20.03.16에 적었는데 같은 날인 21.03.16에 또 튕기네요.. 무슨 일이죠..?ㅜ\\n이곳은리뷰검수를따로안하나요? 실제사진을보고싶어서포토리뷰에서사진을보면 상세페이지에나오는사진을캡쳐해서올린사진이굉장히많아서보기불편합니다 상품리뷰부탁드립니다\\n포인트 10퍼만 쓸수있으면 왜있는거에요;;;; 걍 한번에 쓰려고 모아뒀는데 개쓸모없어졌네.. 걍 포인트 다 쓰게해줘요;;;;\\n그 보관함 몇개 만들었다고 렉 걸려요ㅠㅠㅠㅠ 그리고 네트워크 아주 잘 잡혀있는ㄷ데 뭐가 문제에요? 이건 좀 고쳐야할 것 같아요..\\n와 미치겠어요;;; 백업도 하고 업데이트도 하고 혹시나 폰이 이상한건가 싶어서 A/S 센터도 갔는데 왜 자꾸 강종되는거죠...?ㅠㅠㅠㅠ 뭘 사고 싶어도 봐야하는데 볼 수가 없는건 당연하구요... 전체앱을 다 업데이트 해봐도 나오는건 에이블리가 충돌이 많이 된다는 창밖에 안떠요ㅠㅠㅠㅠ\\n진짜 짜증나네요 제 폰 기종이 A32인데 고른 케이스 마다 족족 A31까지 밖에 없어요\\n지금에이블리 앱 이상한거같은데 저뿐인가요\\n에이블리 앱 안열려요 ㅜㅜ 페리페라 쿠션사려고 하트 눌러놓고 쿠폰 받은거쓰려했는데 오늘 중에 사라진다는데 못사네요.. 아니 어제부터 계속 접속이 안돼요 와이파이 만땅 데이터 전부 안돼요 빠른 시일 내에 고쳐주세요\\n가격 표시가 거짓말임 무료배송이면 뭐해~ 싼 거 들어가면 다 3개 이상 주문 안 하면 배송 안 한다고 적혀있고 심지어 앞에 적혀있던 가격은 아예 그냥 공지 옵션... 대체 뭔지... ㅋㅋㅋㅋ 낚인 거 같아서 기분만 나빠지고 나옴\\n문의 좀 빨리 봐주세요 ㅠㅠㅠ 무통장 입금했는데 확인 안됐다고 주문 취소 되고 문의를 계속 안보시네요... (4일째) 다음부터 에이블리에서 못사겠네요.....\\n주문을 잘못해서 취소했는데 주문할때 사용한 쿠폰과 포인트가 다시 들어온다는 말이 없네요\\n아무리 적립금 열심히 모아도 구매액의 10프로 밖에 못씀. 고객센터는 문제 상황을 이해하려고 조차 하지 않으며 검색도 부실함\\nㅋㅋㅋㅌㅋㅌ다좋은데요 제가 힘들게모은 포인트를 다쓰는것도못하나요?아니 10프로밖에쓰질못하다뇨 제가 저거모을려고 다사서했는데;;예전에는 다쓸수있었는대 오ㅑ 지금은안되나요 진짜 실망이네요..\\n에러가너무나요 개선부탁드려요!! 앱 깔고지우고 몇번을했는지....다른곳보다 더 싼게많아서좋은데 멈추고 에러심해요 갑자기ㅜㅜ확인해주세요\\n쿠폰 써서 상품 구매했는데 기다려도 안와서 며칠뒤에 확인해보니 구매 취소로 되어있고 쿠폰은 증발했네요;;;\\n문의하기가 왜있는지 모르겠음 전체적으로 답변도 느리고 답장도 없슴\\n취소처리하면 왜 바로 승인이 안나는거죠?마켓은 취소처리 했다는데 왜 구매내역은 취소처리 진행중 으로만 뜨고 왜바로취소가완료가 안되죠?\\n업체 관리 좀 하셔야죠!!! 퍽하면 입고 지연에, 퍽하면 품절에... ㅡㅡ 장난하나 ㅡㅡ\\n이벤트 응모권 뽑는 인원 좀 늘려주세요\\n진짜 오래사용했는데 에이블리다신안써 무슨 고객센터를 이따위로 운영해 답변하나받으려면 반나절기다려야되고 뭐하나 재대로 답변해주는것도없고 ㅎ ㅏ진짜개화나는 어플이네노답 다신안씀\\n1년 지난 리뷰 삭제했는데 바로 차감되더라고요 브랜디는 안 그러는데 쿠폰도 요즘 들어 많이 주는데 전에는 쿠폰도 되게 적게 주셔서 포인트로만 했는데 이걸 다 차감되버렸네요 3,000 포인트에서 140 포인트 ㅎㅎ 브랜디만 이용합니다\\n아니 업뎃하고 서버 왜이래요 ㅡㅡ 오늘 옷 시켰는데 망하게생겼네;; 인터넷 잘연결됐는데 왜자꾸이러는거에요 빨리 좀 고쳐주세요...이건아니죠\\n서버가 터진건지 모르겠는데 계속 로딩만 뜨고 와이파이 상태는 좋은데 자꾸 로딩뜨네요;; 최적화 해주세요\\n절대쓰지마세요 배송 개느립니다 2월6일날 주문해놓은거 3월4일이되도 배송중인데 송장번호조회하면 아무상태도안뜸 장난하나 전화도안받고 ㅋㅋㅋ\\n미치겠습니다 진짜 문의 넣을 때가 제일 답답해요 전화 문자 메일 다 소용없습니다 다 안 받고요 진짜 너무 짜증 나서 리뷰 씁니다 ㅠㅠㅠ 지금 너무 어이없어서 말이 안 나와요 ㅠㅠ\\n가잊할라는데 인증번호가 안옴 개구데기앱 그리고 고객센터 맨날 상담사 연결안됨ㅋㅋ 그리고 대기도 아니고 통화종료 지들이 시키는데 걍 전화받는 상담사없는데 유령전화 돌리는거같음ㅇㅇ 구라만치는 개구데기 회사\\n구매할때 포인트 썼다가 구매 취소 했는데 알림에는 포인트가 반환 됐다고 뜨는데 포인트 보면 봔환된 포인트가 없네요\\n자꾸 결제가 됬다면서 안되서 할인쿠폰도 그냥 날라가 버리고 사지도 못하고 이게 뭔가요....;\\n주문했는데 며칠이 지나도 판매자도 전화안받고 질문글 몇번을 올려고 답없고.. 답답해서 에이블리에 문의했는데도 답없고 전화번호는 찾을수없고..\\n아 제발 제 반품금좀 주세요 제발..이때까지 반품한 옷들 반품금 받은적 한번도 없습니다.. 고객센터 문의했더니 에이블리에 전화 해보랍니다..제가 이렇게 힘들게 반품금을 받아야하나요?\\n고객센터 연락 상담원이 다 통화중이라면서 며칠째안돼고 카톡문의 하라고 하면서 마켓이랑 에이블리 고객센터 둘다 문의하면 대답도 없고 상품은 5일째 발송조차 안하고 있고 뭐하는건지 모르겠네요 그냥 결제시켰으면 알바아니고 그만인가요?\\n배송도 이상하고 천원 쿠폰은 왜주시는건지 천원으로 살수있는거 없고 모아서 사는것도 안돼고 그냥 할인해서 물건 사라 이말인듯하고 요즘 에이블리 이상해요 ㅠ\\n이번 빅페스타 진짜 너무 실망이네요....12만원 구매시 만 이천원 할인쿠폰...혹시 마지막 날에 뭔가 달라질까 오매불망 기다리다 달라지는거 없어서 큰맘먹고 질렀습니다...근데 이벤트도 끝났는데 갑자기 앵콜이랍시고 10만원 구매시 2만원 할인...ㅋㅋ...이건 뭐 가지고 노는것도 아니고 진짜 어이가 없어서ㅋㅋㅋ사람 기분을 이렇게 더럽게 만들 수 있구나 싶네요ㅋㅋㅋㅋㅋ에이블리에서 이벤트 참여 하실거면 꼬옥 이벤트 다 끝날때까지 기다리다 지르세요^^안그럼 제꼴 납니다!절친한테 배신 당했을 때도 기분이 이르케 드럽진 않았는데 하하!전 그냥 앞으로 이벤트 참여 안하려구요^^\\n일단 대체적으로 너무 비싸야요 그리고 무엇보다 안좋은 점은 폰케를 살려하면 예쁜건 아이폰 밖에 없네요. 별1개도 솔직히 아까워요\\n입력창을 아무리 클릭해도 가상키보드가 뜨질 않습니다... 그래서 구매를 할수가 없어요\\n어플쓴지 오래됬지만 뜬금없이 갑자기 품절이라고 재고없다고 취소시키는게 여러번되네요ㅡㅡ\\n주문취소가 자꾸 되네요 그리고 1000원 쿠폰으로 살수 있는게 잘 없어요 14개를 주문했는데 그중에 3개만 올까말까 해요 비추입니다\\n렉이 진짜 요즘 매일 걸려요 ㅡㅡ\\n아니 뭐죠; 머리삔 하나 시켰는데 왜 안오는지? 지금 일주일 넘게 기다리고 있어요;; 그것도 상품 준비중이라 뜨는건 커녕 결제완료라고만 뜨구요 카톡 채팅도 불가능해서 답답하네요 채팅도 못하고 상품도 소식없고 뭐 어쩌라는건데요 소식은 좀 해줬으면 하네요 머리삔 오면 이앱 바로 지우고 다시는 안쓸거 같아요. 제발 답장좀 해주세요. 계속 안오면 리뷰 다시 달거에요\\n별하나도 아까워요 유멜*아에서 실밥이 여기저기 뭉텅이러 발견되었는데 절대 환불안되고 단순변심으로 제가 택배비까지 물어내래여 사진못올리는게 너무 아쉬워요 진짜 개심하거든여 여러분 에이블리에서 절대 사지마세여 문제있어도 어떡해든 자기들 손해안볼려고 발악함 냄새나고 물빠지고 시장에서 사는게 더 환불잘해줄듯;;\\n아무래도 이건 너무 차별입니다 삼성유저들 절대 깔지마세요 폰케 중복제외하고 20개정도밖에없음 근데 ⅓은 버즈케이스라고\\n편의점 결제할때 편의점 목록에 이마트24도 넣어주세요 ㅠㅠ 집앞에 있는데도 사용을 못하는결과....\\n등급 오ㅑ 안올라가나요 구매를 계속해도 제일 나래 등급.. 15만원은 훌쩍끔 ;;\\n인증번호 발송 계속 실패할거면 왜 가입하라는거냐 그지같은\\n서버상태 좋지않다고 뜨면서 물건이 하나도 안뜸... 물건 팔 생각이 없는 앱.\\n도대체 가입하기에서 추천번호를 적어야되는데 추천번호가없는사람은 어떻게적냐구요\\n무슨 시키는옷마다 품절이고 열개를 주문하면 받을수 있는건 세네개 밖에 안돼요 아무리 일대일 오더라지만 너무한 쇼핑몰들이 많네요\\n구매하고 배송지연 일주일 기다렸더니 품절이라고 맘대로 취소^^^쿠폰 썻는데 자기들이 재고 처리 똑바로 못해놔서 주문 들어간건데 쿠폰은 돌려줄수없다함 그럼 품절 됫으면 제대로 관리좀요 어휴\\n어쩜이리 접속이 느릴까요 욕적을뻔한거 간신히 참아냈습니다\\n별 1개도 아깝네요 하... 입금 잘못해서 다시 해달라고 문의 해도 안보고요 전화도 안받고 카톡도 다 안보네요 그러다 입금 안됐다고 주문취소나 돼고.....\\n태백을 기다리는대 너무 힘드려요 기다리면 3일이나걸려서요 1일이네 온다고해서 2일까지는 버티만해는대 내일은 언니생일이라서 내일도 물건이 안오면 화가나게죠 내일 부디 물건이 와이길를\\n배송이 너무 느리고 주문취소하면 쿠폰 안돌려줌 ;;\\n아니ㅋㅋ 주문실수를해서 주문취소를했는데 입금을 안해주시네요 1~3일 걸린다 했는데 4일쯤? 지났네요 문제있네요\\n좋은 리뷰 다는 사람이 잘 이해가 가지않음\\n전화번호를 7번이나 다시 적었는데 인증번호가 안와서 지금 계속 가입도 못하고 구매도 못하고 있습니다.. 어떻해 해주세요..예쁜옷은 많은데 찜에도 5개밖에 못담아서 이름을 외워서검색하는게 유일하게 찾는거라..좀 처리 해주세요..\\n츄리닝사려고 순위젤높은쇼핑어플 다운받았는데 번호 인증 계속 실패해서 다른어플로 삼\\n며칠 전부터 인터넷 환경이 불안정하다면서 켜지질 않네요... 봄옷 살 시즌인데 어플이 안 되니 뭐.....ㅋㅋㅋㅋ\\n지금 며칠째 오류 땜에 앱을 사용 못하고 있어요ㅠㅠ 사고싶었던 것들도 계속 못사는 중\\n주문취소 됐는데 포인트를 환급안해주네요..ㅋㅋ\\n50만원 넘게 썼는데 계속 family 라네요 빨리 vip plus 로 바뀔 수 있게 해주세요\\n오는거 진짜 늦게온다 예정일이 화요일이었는데 금요일에도 올까말까래 좀 빨리 보내주면 안돼는건가 ;;\\n입점 사용자한테는 개 똥같은 시스템ㅋㅋ개발관리도 개똥같이 되어있고 사진조절 개똥임 그냥 관리자들 개발자들 머리에 똥만 가득해보임ㅎㅎ\\n제발 제발 제발 폰 차별 하지 말라고;; 아이폰만 예쁜거 잔득 갤럭시랑 엘지는 어떡하라고,,, 갤럭시는 많다고 처도 엘지 제발 제발 제발... 엘지 좀 많이 넣어 달라구요,,, 1개도 아까워요..\\n틱톡이랑 콜라보한거 무제한 룰렛이라며 근데 다른 코드 입력해도 이미 한거라 뜨냐\\n갑자기 10만원 구매한게 2틀뒤에 취소됬어요. 그리고선 카톡도않보네요. 에이블리 카톡 일하는사람들 왜이렇게 말하는게 불편하죠? 짜증내잖아요 계속 첨에 물어본거가지고 진짜 ㅋㅋㅋ 웃기네 그냥. 돈도 않돌려주시면어떻해요.? 단순변심? 갑자기? 돈이나 빨리 돌려주세요 빡도니까\\n제가 폰 LGx4+ 쓰는데 이 폰케이스가 없어요.. 왜 다 아이폰케이스 밖에 없죠...;;\\n이거 가입 할려고 하는데 휴대폰인증번호가 안와요 ㅠㅠ\\n서비스 구리고 이상한 판매자들 있음. 에이블리측에서 문제있는 판매자들 제대로 관리 안함\\n오류나요 계속\\n옷 카테고리 구분과 필토가 넘 불편\\n분명 등급이 VIP였는데 갑자기 10만원 휙 날라가고 등급이 내려갔네요..\\n있자나여... 부산은행쓰는데 부산은행만 없어서 못사고있어여..!! 추가해주면 좋겠는데 안돼면말구.. 추가못해줘도 답은 꼭해주세요 의견듣고싶어여!!!\\n포인크주기싫은가 사진넣으면 오류떠서 리뷰를 못쓰고 글만써짐.\\n헠ㅋㅋ 진짜 쿠폰으로 고문하능것도ㅜ아니궄ㅋㅋ 아니 네스티팬시클럽 쿠폰와서 사용하려고 열심히 골라는데 안돼욬ㅌㅌㅋㅋ 그리고 마켓 등 다 검색 해도 안나옴 보다가 기분 개잡침 ㅋㅋ 난 별로 별1가 제일 맞음\\n갑자기 연결할수없다고 어플이안들어가져요\\n에이블리 갑자기 오류 뜨고 난린데 왜 그런거죠 ?\\n왜 가입이 안되나요?제품 구매 하고싶은데 못사고 있어요\\n핸드폰번호 인증이 안되요 가입이 안되네요 ㅠ\\n10대만을 위한 쇼핑 어플, 판매자와 구매자 모두가 동등해야 되는데 여긴 구매자 위주인 어플, 구매자후기에 판매자가 답변을 달 수 있게 되어 있으면 좋을 것 같음, 구매자가 반품을 했는데 상품후기를 적을 수 있는 시스템을 적용 시킨 건 누가 만든거고 누구의 아이디어인지 정말 궁금함, 구매자가 반품했는데 후기를 적을 수 있게 해놓은 이유가 뭐죠?ㅋㅋ어떤 상품을 판매하는 건 판매자가 결정하는 일이라 그것에 따른 책임도 판매자한테 있지만 어떤 상품을 구매할 때 구매자가 결제 전에 어떤 재질인지 꼼꼼히 확인하고 구매해야 한다고 생각함, 옷 퀄리티 따질거면 브랜드 옷 사입어야함, 가격이 저렴하여 구매해놓고 상품재질을 따지는 건 아니라고 봄, 이걸 누가 읽고 어떻게 생각할 진 모르겠지만 따질 거 다 따져대면서 저렴한 상품을 찾는다는 것부터가 앞뒤 맞지 않아서 적습니다. 옷 퀼리티가 좋길 바란다면 그 퀄리티에 맞는 옷을 찾아서 구매해야되는 게 맞지 않나요?\\n평균 배송 시간 하루 이런거 쌉구라임 거의 최소 2주는 잡고 기다려야함\\n너무 안옴 기본 일주일 넘어서 오고 레알로 급해서 월욜에 주문했는데 다음주 화욜에 왔음\\n삼성폰케이스를 치면 거이다 아이폰만 나오네요\\n사이즈가 작은게 없어서 좀 실망이네요...\\nㅋㅋㅋ여기서 사기당했나 3주째 배송은 안오고 문의 넣어도 안 보고\\n창을닫으면 모든게 새로고침이 되네요 뭐죠\\n환불 진짜..개빡치네요\\n폰바꾸고서 앱이 안깔려요.\\n갑자기 서버터지고 왜이래요?\\n아니.. 이게 뭔가요..? 친구생일선물을 에이블리에서 곱창머리끈을 시켰어요. 근데 선물을 시키고 2주일 동안 안와서 에이블리 배송시킨곳에 문자를 했어요. 근데 답장도 안해주시더리구요.. 그리고 1달이 지났는데도 안오고 계속 배송중이라고 뜨는거에요. 문자도 안읽고 짜증나서 배송취소시키려고 했는데 배송중이라서 취소할수도 없대요.. 어쩔수 없이 좀 더 기다려보기로했어요. 한달하고 일주일 지났을때 너무 짜증나서 문자를 다시 했어요. 그때는 문자를 보고 답장을 해줬어요. 근데 더 짜증나고 화가나는건 한참동안 연락을 안주다가 갑자기 배송시킨게 분실됬다고 하더라고요...;; 진짜 어이가없었어요. 환불해준다고는 했는데 친구생일이 한침지나서.. ㅎ,.....,,,,,,,, 이 리뷰가 도움되셨음 해요.. 제가 시킨대만 불친절 한건가 ㅋㅋ.. 별 한개도 진짜 아까워요;;\\n주문취소했는데 몇달채 돈이 안들어옴\\n제가 입금자명을 실수로 엄마껄로 해서 31만원 질렀는데 주문취소 되서요..제..돈 어떻게해요???? 돌려주세요!!!! 거래명세표도 있어요!!!\\n리뷰 사진 쇼핑몰 사진으로 올리는 리뷰거지들 잡지도 않고 문의 해보니까 잡고 있다는데 옛날에 산 옷들 리뷰 봐도 전혀 안 잡는듯.. 인력 들어가니까 그런거겠죠? 아님 신고 기능이라도 두던가.. 무신사 좀 본받으세요. 옷 산 거 바로 취소도 안되고 다음 날에 취소할 수 있어서 그 사이에 발송되면 취소도 안됨. 일부러 취소 과정 번거롭게 해서 못 취소하게 만드려고 하는 거 뻔히 보임.. 쇼핑몰들 배송 엄청 느리고.. 평균 3일 이상 이렇게 써있으면 그냥 무조건 2~3주는 걸린다고 봐야함. 배송 지연만 몇 번인지.. 그리고 별점식이 아니라 만족 아님 불만족이라 리뷰 확인 하는 것도 불편함.\\n고객센터 그지같네 3시쯤에 문의했는데 5시 넘어서도 답을 안해주네요. 하\\n이벤트 할거면 조건을 제대로 명시하던가ㅋㅋ 이게 뭐임 무책임하네ㅉ 응 다시는 에이블리 안써\\n애초에 가입해본적도 없는 에이블리.신규가입인데 핸드폰인증번호가 안온다. 가입되어잇다고 아이디 찾기해보니 이메일주소가 내께 아니다 이전 사용자의 영문이름메일.무튼 가입되어있는?번호라고 가입이 안된다는 거지같은 경우는 지금 처음겪었다 이런 어설픈걸 2천만이쓴다고?어떻게? 별점아깝다\\n옷 주문하고 확인해보니까 갑자기 주문취소 됬다고 뜨길래 잔액 확인해보니까 잔액복구도 안 되어있고 ;;; 배송은 또 왜 이래 느린건지 알 수가 없네요 ㅎ ^^ 이럴거면 앱을 왜 만들었냐 도대체 뭐하는 짓인지 고객 돈이나 뜯어먹는 하이에나 아닌가 싶다 ㄹㅇㅋㅋ\\n좋은것도 있으나 리뷰 안 보시면 망합니다. 진짜로 무등 하나 샀는데 며칠만에 고장나고요. 고객센터도 몇날 며칠 오래 걸리고요. 택배도 금방 오지도 않아요 오래 걸려서 기다려야 함. 진짜 별 하나도 아깝네요\\n데이터켜도 와이파이켜도 앱이안들어가져요\\n주소입력이 안돼요ㅠㅠ\\n상품도 하루만에 온다면서 3일뒤에 배송됬고,상품 이미지랑 너무 달라서 다시 반품할 예정이예요 다른 상품들은 어떨지 모르겠지만 대부분 이미지와는 많이 다른것으로 알고 있습니다;\\n자꾸 추천에 바퀴벌레 인형뜨는거 그거 진짜 개싫은데 일부로 그렇게 하신거예요...? 옷 고르다가 가위걸릴일 있나요.... 앱에서 논란이 될 만한 상품들 미리 검열 좀 해주세요 저런 걸 누가 산다고....\\n짜증나는앱. 무조건회원가입????\\n길지만 읽어주세요. 이 앱 구려요. 에이블리 떨샵에서 복슬 털 극세사 똑딱이 어께 무릎 담요 샀음. 주문완료 하고 2~3일 정도 기다렸는데 갑자기 그 샵에서 문자가 오더니 품절 됐다고 환불처리 한댔음. 그리고 앱 들어가 보니까 취소 진행중 이였음. 제고가 들어올 때까지 기다렸다가 주는게 아니라 그냥 맘대로 환불처리 한다고 했음. 뭔가 기분 나빴음. 이미 다 주문을 한 상태에서 이런 문자를 받은것이 황당하고 어이없었음. 아니, 품절로 해 두던가; 쿠폰 사용해서 할인 받아, 싸게 구매해서 기분 좋았는데 이게 뭐야;; 할인 받은 만큼은 빼고 환불해 주던데 그거엔 불만이 없음. 근데 그 할인 받으려고 산 거라고;;;; 이럴거면 그 담요 살 바에 다른거 샀지;; 그냥 그러려니 하고 있긴 하지만 손해본거 짜증나네.첫 주문부터 이래서야;; 다시 이용하기 꺼려짐. 지금 그 담요 보니까 판매가 종료 됐다고 나오는데 제대로 확인하고 파세요. 그리고 품절 관리도 제대로 하시고요.\\n앱이 갑자기 아침부터 안켜지는데요\\n남자들만에젠틀블리만들어주세요\\n앱 실행 안되는데 빨리 해결좀\\n수량을 잘못선택해서 주문했는데 확인즉시 판매자에게 연락했더니 반품처리가 된다해놓고는 뒤늦게 에이블리 정책상 하나만 반품처리는 불가하다하고 고객센터에 연락했더니 똑같은 말만 되풀이하고 판매자에게 연락하라고 책임을 돌려버리시네요. 지금까지 모바일로 옷구매하며 안내내역을 못받아본게 없는데 환불,교환처리에 관한 설명내역도 동봉하지 않고 옷상세내역에 적혀있다하더니 담겨온 비닐이 없으면 반품되지 않는다는 설명도 없네요. 분명 상세설명에는 cj택배를 이용한다더니 배송은 롯데로 왔죠?뭐하나 제대로된 설명도 없는데 뭘 팔겠다는건가요.쓰레기통 뒤져가며 비닐찾아 구매했던 제품싹 반품하고 탈퇴합니다.에이블리 다신 안써요.고객을 호구로 아는건지 참\\n진짜 별로입니다.지×그x그 ,브x디 ,등 많은 쇼핑몰이 있는데 최악입니다. 직원이갑이고 소비자는 을임.\\n어플실행안되어서 삭제했다가 재설치중\\n정말 별 한 개도 아까워요; 진짜 개같아요 마켓에서는 잘못 확인한건지 맘대로 취소처리해버리고; 환불 처리 제대로 해주지도 않을 망정 입금이 확인되지도 않았다고 하고 마켓에 문의하니 에이블리에 문의하라 하고 에이블리에 문의하니 마켓에 문의하라 하고; 물건 가격도 다른데서 사는 게 훨씬 싸구요 그리고 결제 확인 여부를 회사 측에서 직접 확인해야지 구매자한테 확인하라하고 만약에 어리신 카드나 계좌 없으신 분들, 편의점 결제로 하시려고 하시는거면 센드라는 어플 다운하셔서 CU에서 충전하시고 다른 곳에 무통장입금하세요 ;; 서비스는 진짜 엉망이구요 서로 미룰려고만 하고; 품질도 구려요\\n가입을 하려고 하는데 전화번호를 임력하고 인증번호 버튼을 누르면 인증번호 발송에 실패하셨습니다 이렇게 뜨죠;;;\\n배송이 너무 느려요\\n기본적으로 2주정도 예상해야될듯 ㅎ 주문하면 다 품절이다~ 담주입고된다~ 10개시키면 10개 다 품절지연~~ 품절이면 적어놔주면 좋겠네요 안적힌것만 구매했는데 다음날 오는톡은 품절지연~~ 7일 여유잡고 시켰는데.. 제가운이 없는 걸수도 있어요\\n주변에 에이블리 추천하고 싶지 않아요!! 고객센터는 무늬만 고객센터입니다. 업체측 잘못으로 인한 반품 및 환불은 고객의 실수로 돌리고 에이블리는 절대 고객편이 되어 주지 않습니다. 아이러니하게도 마켓 우선이더군요. 현대사회는 소비자 중심경영인데...역행을 하고 있으니 앞으로 에이블리가 어찌 될지 안타까울 뿐입니다. 고객의 입장에서 생각하는 회사가 되기를 바랍니다.\\n에이블리에서 구매하실분들은 봐주세요 일단 단점부터 말씀해드리자면, 첫번째는 배송이 느리다는 건데 평균적으로는 2일 3일정도 걸리지만 요즘들어 배송이 4일이상 내로 오는곳도 있고 특히 배송지연이 많이 되더라고요;; 많이 기다렸는데 이럴꺼면 미리 말해주시던가 2주나 지나서 배송지연... 그번째는 마감처리가 너무 엉망이라는 건데 실밥처리 등등이 덜 되어있구 또 가성비도 가격에 비해 떨어지는 것같아요 양말이나 소품같은건 나름 괜찮은데 에이블리에서 사는 옷들은 전부다 실패하는것 같아요 ㅠ 저 같으면 조금 더 큰돈 들이고 다른대에서 살것 같네요...\\n제발 없는옷은 판매못하게 해주세요 구입하고 몇일후에나 못구한다고 강제취소해버리네요\\n저랑 친한언니가 물건을 보내준다고 했어요 주소를 지도로 봤고 있는곳 까지 다 일치했어요 근데 그물건이 도착했데서 나가보니깐 택배는 없고 1층에 내려가도 아무데도 없었어요 이게 뭐죠? 저는 편지사물함도 봤지만 아무것도 없었습니다...배송하는데 오차가 생긴거 같아서 물건을 살려고할때마다 또 잘못올까봐 무섭네요 ㅎㄷㄷ...\\n무료배송이라고 광고하면서 제주도는 각각 3000원씩 붙는 이경우는 대체 뭐일까요........\\n에이블리 서버가 안좋네요 왜 안 좋은거죠? 빠른 답변 기다리겠습니다\\n문의했는데 답변이 24시간 이상 걸리고 배송도 3일 넘게 소식이 없어서 취소 해버렸더니 그제서야 답변 옴 근데 답변도 불친절해서 탈퇴해버림 쇼핑몰 어플 많이 써봤는데 여기가 제일 최악\\n무슨 가입을 하지 말라는건가요? 아니 인증을 해야하는데 인증실패라고 뜨고 지웠다 깔아서 해도 인증실패라고 뜨고 이건 이앱을 쓰지말라는건가요..?\\n고객센터 정말 불친절 같은 얘기 반복해서 말함 전화번호는 다른 계정이 있다고 하는데 비번을 치려고하면 없는 아이디란다.완전별로임\\n품절 된 거 품절됐다 안 올려서 주문하고 입금까지 완료했는데 주문 취소 됐으면 환불처리리도 제대로 해주셔야 하는데 매번 환불처리가 안 돼서 전화해서 환불 받아야하고 통화는 또 상담원 맨날 다 통화중이라 열 통 넘게 해야 받고 환불 처리 좀 제대로 해주세요\\n좋긴한데 최근들어 무통장입금으로 입금을 하는데 계속 입금확인이 안되서 오늘입금하면 내일 받을수 있는걸 5일정도 기달려야하네요,, 그리고 문의를 넣어도 답변이 없네요ㅠ\\n아니 로그인하려고 이메일 입력하면 없는 이메일이라하고 그 이메일로 가입하려고 하면 가입된 이메일이라하고ㅡㅡ 도대체 어쩌라는건가요? 간만에 들어가보려 들아왔는데 짜증나네요ㅡㅡ\\n다른 리뷰에도 나왔는데 피스마이너스원 짭이 왜 있는지 그것도 상위권에; (아예 없어야 되지만) 지디팬으로서 정말 화나더라고요 데이지에 8시방향으로 꽃잎 하나 떨어져 있는 것. 그냥 로고가 똑같아요. 이런거 막아야 하는거 아녜요? +폰케이스 같은거 보면 아예 똑같은데요? 피스마이너스원이라고 글자 적혀 있는거에 줄 그어져 있는데 플라워마이너스원인가 하고 줄 그어져 있고 참. 짭은 막아야 되잖아요\\n별 하나 주기도 아깝습니다. 저도 처음 들어가 봤는데 가격은 비싼 후진것들만 있고 야한사진들이 너무 많습니다. 이앱 빨리 제거해 주세요\\n첫가입혜택 좋은거 같아서 둘러보고 회원가입 했더니 갑자기 혜택 당장 빨리 안쓰면 사라진다함... 재가입 했더니 재가입자라고 안줌.. 쿠폰이 사라지듯 물건 살 마음도 사라짐.. 어플도 내 폰에서 지움.. bye..☆\\n잘 쓰다가 갑자기 작동이 안되고 삭제했다 깔아도 똑같네요\\n금요일에 입금했는데 입금 확인문자가 안떠서 계속 기다리다가 결국 문의를 함 근데 주말에는 쉰데 그래서 월요일 지금까지 (결국 주문 취소됨)기다렸다가 문의를 했지 22일부터24일까지 쉰데 카톡으로 문의 하려니까 체팅이불가능해 게다가 에이블리 자체제공 문의하기는 에이블리에 문의할수있는게 아니라 내가 산 쇼핑몰에만 문의 할수있데 내가산 쇼핑몰에 오늘 전화해보니까 자기 소견이 아니래 에이블리 소견이래! 근데 에이블리에서는 전화도 안돼 카톡도안돼 결국 에이블리한테 메일로보냈지 난 곧 그제품이 필요한데 ! 에이블리 고객센터 내꺼만 처리해주고 쉬러가ㅠㅠ 필요한거라고 그그 뭐냐 미입금 확인 게시판 그거 확인좀해서 다시 주문좀해서그돈그데로 먹고 빨리 배송좀하게 해줘 메일보다 이거에 답장빨리 오는거 아니지?\\n배송도 넘 늦게오고 포장상태도 비닐 찢어지고 실제사이즈랑 다르게 굉장히 큰거 오고 재질도 난리도 아니네요 여러 쇼핑몰을 거쳐봤지만 에이블리는 좋은 쇼핑몰은 아닌듯해요\\n무료배송이라는 점은 참 좋아요. 다른 쇼핑앱에 비해 보기도편하구요. 그런데 배송이 어마어마하게 오래걸려요. 상품준비중만 12일째ㅋㅋㄱㄱ근데 일주일 더 지연된다네요. 10일후에 재고없는걸 아신건가요? 살면서 배송이 4일이 최대 오래걸린거였는데 12일넘게 기다려보네요. 일주일추가되서 걍 옷을 한달후에 받게생겼어요. 이제와서 주문취소하는것도 아깝고......웃음만 나오네요~^ 에이블리 일 제대로 안하시나봐요?ㅎ 에이블리담당자님은 쇼핑했더니 옷이 한달후에 오면 기분이 어떠실것같아요? 봄옷 주문했는데 내년 봄에 입게생겼어용!^^ 배송오래걸린다길래 일주일이면 충분하겠지 생각했는데 우왕 상품배송준비중만 2주면 택배오는거 포함해서 거의 3주후에 옷을 받는거잖아요? 진짜 역대급이네요!! 살면서 이런경험을 에이블리에서 다해보네용! 해외배송이 이보단 빠르겠어요~! 3곳 다 다른마켓인데 3곳다 10일넘게 안오네요.. 어떻게 이럴수가있죠? 이정도면 실을 뽑고 옷만들기 시작하는수준 아닌가요?ㅋㅋㅋ\\n인증번호가 안오네요.\\n사이즈를 맞아준다고 하는데 키를 많이 줄이니 이상한건만 나오고 검색한옷은 안나오네요\\n옷도 나름 나쁘지않고, 기능들이나 무료배송 다 좋은데...걍 배송비 주고, 빨리 받는게 좋은거같아요... 성격이 급하다고 하기엔 배송기간도 거의 4-5일, 늦으면 1주일정도고, 반품처리하는데도 1주일걸리고, 반품처리완료가 되고, 환불금액 들어오는데 1주일... 물건 하나가지고 거의 3주가까이 속터지고 혈압올라서; 기다리다못해 택배사까지 찾아갔습니다;; 휴...\\n검색하면 좀 관련 상품만 나왔으면 좋겟음 광고 뜨는것도 그 가격대 하나도 없어 졸라 과대광고의 표본 가끔보면 신고하고 싶어짐,,\\n앱이 열리지가 않아요\\n에이블리 앱 자체는 정말 좋지만 체크카드 결제 기능이 추가됐으면 좋겠어요.. 🥺🥺\\n에이블리를 사용하지 말아야하는 이유 1. 적립금 10%사용하도록 바꿈( 원래는 전액사용가능이었음) 2. 품절된 상품이 품절되었다는 표시없이 에이블리에 올라와있음(난 모르고 품절상품을구매했다가 12일동안 환불도 못받고 있음) 3. 입금여부도 확인하지 않고 주문을 취소함.(이건 진짜 어이없는 일. 일을 아예 안하나봄) 4. 구매자에게 상품에 대한 연락이 전혀 오지 않음. (내가 품절상품을 샀는데 10일째 되는날 내 구매내역에 들어가서 취소가 되었다는것을 알음. 정말 언급이 아무것도 없었음)\\n배송 진짜 너무 느려요.. 주문한지 일주일도 넘었는데 아직도 상품준비중이라 뜨고 전화해봤더니 주문이 밀려서 화요일에 배송한다고 했는데 그걸 문자나 토긍로 공지해줘야되는거 아닌가요? 공지 1도 없고 전화를 해야 알려주는 당황스런 경우,, 그리고 같은 상품을 배송지가 달라서 따로따로 주문했는데 1개는 배송준비중이고 1개는 상품준비중이면 어쩌자는거죠..? 화요일에 일괄 배송한다고 했으면 둘다 배송이돼야되는게 정상 아닌가요? 왜 하나는 되고 하나는 안되는데요,, 전상품 무료배송이라 좋은데 다양한 상품있어서 좋은데 심지어 이번에 주문을 좀 많이 해서 vip까지 됐는데 배송이 진짜 최대의 흠,, 아무리 안좋아도 한국에서는 배송이 빨라야 되는데 이건 뭐,,이번꺼 배송 끝나면 지울 생각인데 많은 사람들이 배송 느린걸 알았으면 좋겠다는 생각에 글 쓰네요.\\n최악입니다.무료배송에 혹해서 설치했는데 옷품질이 너무떨어집니다. 반품했더니 반품거절하고 이런경우첨이라 황당하네요. 에이블리는 직접판매자가 아니라 뒤로쏙빠지고. 무료배송이라도 반품하려면 옷하나당 5천원씩이고. (판매자가 다 달라서) 어쩌다 이런데 낚여가지고 신경쓸일만 생기고 후회막심입니다..\\n카드결제하려는데 페이북때문에 개고생하다가 결제안합니다\\n신규회원 쿠폰이 기간제인것부터 별로였는데 배송비 합산한 가격이면서 무료배송인척 하는게 어이없어 남깁니다 ㅋㅋㅋㅋㅋㅋ 분명 상품 설명에는 17000원에 득템하세요! 인데 앱 내 가격은 20,900원? ㅋㅋㅋ 이건 배송비보다 더 받는데요? 이거 보시는 분은 앱 이용하지 않으시길 바랄게요 이게 왜 더 문제냐 하면 만약 이 앱으로 같은 마켓에서 2개상품을 주문한다면 배송비를 2번 지불하는 꼴이고 뜨는 배송비는 당연히 여기서 꿀꺽하겠죠? 말도안되게 할인해서 파는 물품에도 다 이유가 있습니다 ㅋㅋ 온라인 쇼핑에서 자주보는 전형적인 수법이 다 보이네요 사기앱임\\n옷 예쁘긴 함. 진짜 관상용. 재질 최악. 차라리 무신사에서 돈 더 주고 옷 사셈. ㄴㄷ\\n옷은 다 이쁘고 무료배송이라 좋은데 배송이 진짜 느려요;;; 느려도 너무 느려요 제가 옷 주문한지 3일이 지나가는데 아직도 상품 준비중이라 뜨고 심지어 티셔츠가 배송지연된다네요... 진짜 다 좋은데 배송이 느려서 앞으로 이앱 못쓰겠어요 배송을 좀더 빨리해주고 입금확인것도 빨리해주면 좋을텐데 진짜 그게 안되나보네요... 이젠 기다리다 지치네요.. 하루에 몇번씩 배송조회해도 상품준비중....하 제가 10벌 넘게 산것도 아니고 딱 2개샀는데 상품은 언제까지 준비하고 배송은 언제하실건지.... 5시이후로는 카톡 보내도 답도 안해주시고... 퇴근하시는건 알겠는데 주말까지 답을 못받으면 사람 미쳐요.... 제발 배송 빨리되게 해주세요\\n•출고(주말 및 공휴일 뺀)기본3일~7일 걸리고 인기상품은 더걸림. 보통 메인에 뜨는 상품들은 거의 주문폭주라 기본적으로 오래걸림.(대부분 메인상품을 사지 않나?) •결제하고 목빠지게 기다려봤자 배송지연 된다는 알림 옴(이때부터 화가나는 고객들) •어떤 사진은 수선하고 모델이 입은착용샷이라 모델한테는 착붙이지만(free size) 막상 받아보면 66한테도 큰 오버핏(거의77사이즈)-사진과 실제상품의 차이가 커서 이래도되나싶음\\n이벤트에 대해서 잘 설명해주세요 50만원 이벤트 할 때 장바구니에 이미 담아둔 상품이 세일해서 50만원 이하로 내려가 응모가 안됐네요 속상합니다\\n반품 교환 전부 하기 복잡하게 되어있음. 에이블리 측에서 쇼핑몰 다 모아서 게시&판매 하는거면 에이블리 자체에서 반품 교환도 가능하게 해야하는거 아님? 판매자들은 질문을 하면 답변도 성의없이 주고 반품 진행해서 물건은 가져갔는데 일주일동안 그냥 계속 반품진행중임ㅋㅋㅋㅋ 알아보니 반품진행이랑 택배회수 신청을 따로 하라네? 이런 경우 어디서도 못봤는데?? 내 택배는 이미 가져간거 같은데 나는 어떡하라는거??\\n마켓에 대한 기본적인 정보가 없는 곳이 있네요. 배송관련해서 에이블리앱 문의하기를 해도 답변이 없어 마켓에 개별적으로 문의하려 했으나 그 어디에도 연락처가 없네요. 검색을 해봤더니 같은 이름의 마켓 사이트가 나오긴 하지만 구매했던 동일상품은 있지도 않고. 존재하는 마켓이긴 합니까?? 간절기 상품이라 빨리 받고싶은데 배송이 늦으면 늦다 답변이라도 주던지 묵묵부답에 속터지네요. 첫구매 였고 4군데 구매했는데 1곳에서만 배송받앗고 나머지 받고나면 삭제 할래요. 어우 스트레스.\\n할인도 많이하고 광고도 많이 보여서 믿고 구입했는데 자체배송이 열흘이 넘어도 안오길래 언제 오는지 늦는다고 했는데 내가 알림을 못받은건지 문의 했더니 \"0~3일 더 걸릴수 있고 검수중에 문제생기면 또 늦을수있고 배송문제때문에 또 더 늦을수있고 아무튼 붙이면 확인가능하니까 그거 봐달라\"고 답변이 30시간만에 옴. 택배 언제붙이냐니까 이따구로 흐지부지한 답변오고 ㅋㅋㅋㅋㅋ 그리고 하루가 더 지났는데도 여전히 상품준비중임 ^^ 배송 도착만 하면 탈퇴하고 어플도 삭제할 예정 ^^\\n배송기간이 정말 별로입니다ㅡㅡ 셀럽별로 문의하는것도 개 짜증나고 옥션도 제공만하고 문의응대 다 빠른데 여긴 왜그래요? 이전부터 배송 느리다고 말 더럽게 많다고는 하는데? 고객이 주문을하고 문의를하면 상담원 측에서 원래 알아보고 다시 유선전화 해줘야하는게 아니에요? 고객응대부터 개선하세요 무배면뭐해요 고객응대부터 해서 다 짜증나는데 내 돈주고 산 물건인데 이렇게 불편할수가 있어요? 물건 받는데로 앱 바로 지워버릴겁니다. 개선좀하세요 다른사람들도 불편하다고 아우성인데\\n에이블리에서 상품을 많이 시켰었는데, 9월12일에 시킨게 갑자기 추석연휴라고 10월5일부터 보낸다는게 정말 짜증나네요. 고객센터에 몇번을 의뢰해도 똑같은 답만 나오고 정말 짜증납니다. 어쩔땐 봉지가 더럽혀져서 올때도있는데 평점 4개에서 1개로 깎겠습니다. 고쳐주시길바랍니다.\\n쇼핑몰의 가장 기본적인 재고확보도 안하고 광고하는데만 돈 쏟아 붓는듯.. 옷이쁜거랑 무배에 현혹되어 주문했으나 배송 오지게 느림. 고객센터 전화했더니 주문한 모든건 기본 일주일 생각하란다.. 아래 리뷰 안보고 주문한거 후회중.. 내가 주문한곳도 3곳인데 아직 모두 상품준비중.. 근데 저만 이런것도 아닌거같네요. 모든 마켓이 다 주문 폭주인건가요? 이번건 배송받고 앱 삭제 갑니다..\\n앱광고하실시간에 앱실행여부좀 똑바로 확인하셨으면좋겠어요;;ㅎㅎ 앱설치하면 혜택도많다길래 설치했더니 별로 혜택많은것도아니네요ㅋㅋㅋㅋ 앱으로 결제하려고 결제수단으로 신용카드를 분명히 체크했는데 결제하려하니 막상뜨는건 결제수단을 확인하라는 문구뿐;;;; 정말 10번도 넘게시도했는데도 안되길래 웹페이지로 들어가서 결제했더니 그제서야 되네요^^ 앱바로 삭제할거구요, 이쇼핑몰에서 다시는 옷살일도 없을것같습니다~\\n일반 보세보다 비싸고 질은 떨어져요.. 맨날 할인한다고 되어있는데 할인해도 다른 곳보다 비쌈ㅜ;; 사진도 포샵 심한 곳 더러 있고... 에이블리에서 옷 정말 많이 한꺼번에 사봤는데 첨에 너무 좋아서 색깔별로 재구매해보면 품질이 떨어져있음ㅋㅋㅋ 사양 낮춘다는 공지도 없는데..ㅋㅋ 리뷰도 믿을게 못됨\\n물건을 시키면 자꾸 다른게 와요 실수인건 알지만 너무 잦아서 이제 에이블리 자체를 못믿겠어요\\n아주 쓰레기 같은 앱. 5월 초에 주문해서 아직도 소식이 없어 환불문의 넣으니 \\'6월 4일에 발송했습니다^^\\' 이러고 있네요 내 돈 주고 산 옷인데 사과는 커녕 설명도 없고 ^^웃고 있네요 정말 불쾌합니다 여기서 옷 사실 분들은 한달 전에 사세요 봄옷 사면 여름에 주니까여^^쓰레기 같은 앱 번창하시길^^!!우웩\\n너무 보정빨 쇼핑몰이 많아요.... 돈주고 사보면 실제로는 전혀 다른 옷이고, 환불 절차는 엄청 까다롭게 해놓아서 사고나면 사기당한 느낌이 강하네요. 실물이랑 대조했을 때 너무 과도한 보정을 하는 쇼핑몰은 제재를 해주셨으면 좋겠습니다. 당장 유튜브나 sns에 마켓 이름만 쳐도 사기판매라는 영상이 넘처납니다....\\n배송이 일주일 지연 되서 배송취소를 눌렀는데도 환불이 안되요 문자를 보냈는데도 환불이 안되는데 해결해주세요\\n두번 구매하고 삭제해 버렸습니다. 첫번째는 한달이 다 되어 배송이 왔고 중간에 취소도 어려웠고요. 두번째는 배송은 4일 정도 걸려 왔는데 넥라운드 마감처리가 엉망이라 사진으로 보여주고 교환을 요청했더니 2일만에 정상으로 보인다며 교환 불가능하다는 답변이 다였습니다. 가디건 목부분에 빨간 테두리에 검정 봉재선이 보이는데 검정색 가디건이기 때문에 정상이랍니다. 어이가 없어서 그냥 어플 삭제했습니다.\\n진짜 화나네요 결제 하려고 봤더니 번호 인증이 안된답니다ㅋㅋ\\n제가 요번에 슬로우베리라는 가게에서옷을샀는데요... 옷이너무커서 반품할려고 꼼꼼하게살피고 포장을햇거든요? 그쪽 사장님이 비닐에 검정게 묻어있다고 하더라구요 저는 뭐묻어있는지 확인하고보내거든요 왜 검정게 묻어있는지모르겟어요.....\\n자주 쇼핑하는 어플이지만 참다참다 리뷰 남겨요 에이블리 배송이 늦는거야 뭐 모아서 오느라 늦는가보다하고 배송이 \\'2주이상\\' 안걸린 적이 없는데도 그러려니했어요^^ 근데 \\'마켓자체배송\\'인데도 별다른 공지도 통보도 안해주고, 연휴 직전에 시키고 연휴 끝나고 일주일이 지났는데도 출발도 안하네요 ㅎㅎ 천부터 짜서 만들어서 배송해서 파시나봐요 ㅎㅎ\\n배송 엄청 느려요 진짜 심각함. 고객센터에 재촉안하면 천하태평이고 주문하고 아무런연락없이 한달째 물품못받아서 결국 주문취소했네요 재촉안하면 부분배송도 안해주는곳입니다. 겨울옷을 봄에 받아도 상관없다 생각하시는분만 주문하세요. 너무 화가나서 태어나서 처음으로 리뷰써보네요.\\n화면 확대 보기도 안되고 상품 품절시에만 사용했던 쿠폰을 돌려 준대요. 물건 주문했다가 단순 변심으로 주문취소 할수도 있는데 쿠폰은 왜 안돌려주시는지? 다른 앱들과 비교가 많이 되서 사용 못하겠네요. 이번 주문한 제품 환불처리 되면 회원탈퇴후 앱 삭제 할꺼임\\n배송이 복불복으로 너무 느리고 품절되면 아무런 통지없이 환불처리되어서 고르고골라 주문한 의미도 없고 대처도 넘 구리고 앱제거할려구요. ♡이버쇼핑이 훨배나은듯 사용이나 업체별 바로 문의가능하고. 위탁시스템이라그런지 모든더 더딤.....그럼 수고하세요\\n진짜 쓰레기임 배송 전 취소했는데 5일동안 돈이 안들어온다ㅋㅋㅋㅋㅋㅋㅋ 취소완료라고 떴지만 돈이 하도 안들어오길래 문의로 닥달, 결국 전화해서 상담원 연결하니까 어제 취소신청 완료됐단다ㅋㅋㅋㅋㅋㅋ 일처리 그지같이 하고 이 간단한 배송 전 취소부터 돈 받는거까지 에이블리에서는 조오올라 어렵게 한다. 돈 돌려받으면 어플 지우고 다시는 안 깔 생각. 친구들한테도 다 비추천하고 다닐거다.(+답변 믿지마세요 취소완료라고 답변줘놓구서는 4일동안 취소안했단 뜻이에요 에이블리 믿고 걸러~~\\n파자마 주문했는데 엄청 핫한 파자마인지 주문한 지 1주일도 넘게 걸려서 옴. 주문변경 반영 안된 채 배송옴. 파자마는 중국말로 쓰여 있는 택이 달린 채 완전 싸구려 재질의 최악의 제품이었음. 이런 제품 검증도 안한 채 판매하고 있는 에이블리의 잘못도 있다고 봄. 하나 보면 열을 안다고 반품받고 어플 바로 삭제함~~~. 반품배송비는 고지도 없이 잘 챙겨 가셨네요~.\\n비추각... 직접배송상품은 주문후 며칠지나도 배송안돼서 문의하니 그때서야 배송하고 정작 답변은 며칠 있다가 달림..거기다 개별배송 반품 택배는 가져가는데 일주일 넘게 걸림.. 반품 택배 가져갔는데 구매확정되버렸음.. 심지어 문의내역 언제썼는지 날짜도 안보임 y.y 이벤트 상품땜시 깔게 됐는데 한번 주문해보고 다신 이용 못하겠음..;;;;;;;;;\\n두번 다시는 안쓸겁니다. 특히 가온해 거르세요 ㅋㅋㅋㅋㅋ 주문한거 일괄취소 안되고 하나하나 취소해야되는것도 귀찮고 가온해라는 사이트한테 환불받으려고 두달 씨름했습니다 ㅋㅋㅋㅋㅋㅋ 담당자한테 전화받아서 죄송하다 한마디 들으려고 기다렸는데 끝끝내 ARS전화는 안오네요 ㅋㅋㅋㅋㅋ 옷장사하면서 소비자 호구로 보는것도 아니고 뭐하는 짓인지... 일단 믿고 거르는 에이블리...^^\\n여기서 스미싱으로 인한 결재 금액 환불해 주세요 왜 환불이 안된다 하는거죠?\\n저기요 개발자님 저 분명 오늘 낮까지 로그인되어있었고 빵원이벤트로 참여했고 장바구니에 옷도 담았는데 지금 쇼핑하려고 들어와보니 로그아웃되어있고 로그인하려니 가입되어 있지 않은 이메일이라고 나오네요 ㅋㅋㅋ 제가 어제 탈퇴버튼 여쭤보려고 문의를 드리고 잤긴했는데 무통보 탈퇴시키신 건가요? 빵원이벤트로 3000원 할인쿠폰 받아서 그냥 이거 쓰고 탈퇴 안해야겠다 생각하고 있었는데 이게 뭐죠 ㅋㅋㅋㅋㅋㅋ 제가 이메일 잘못입력한 걸수도 있어서 계속 시도는 해볼게요. 고객센터도 왠지몰라도 안들어가져서 여기 남깁니다. 제 쿠폰 없어지기 전에 답변 부탁드립니다^^;;; 별점1점 리뷰보니까 제가 이메일 잘못입력한게 절대 아닌것같네요 ㅋㅋㅋ 아니 모든리뷰보기에서 최신순으로 맞춰도 1점리뷰는 안나오는거 설정해두신건가요 ㅋㅋㅋ 1점리뷰 다 보니까 답변중에 V회원탈퇴기능에 오류가 있어 잠시 꺼둔 상태입니다V 라는 말이 8월 6일에 있던데 한달동안 오류 안고치고 뭐하세요?ㅋㅋㅋㅋㅋ 개웃기네 정직하게좀 사세요\\n어디에 리뷰 쓰는건지 못 찾아서 저번에 썼던 리뷰를 수정합니다. 인터넷으로 옷 쇼핑은 여기서만 하는데, 등급이 누적이 아니고, 6개월마다 사용한 것으로 등급을 정하나요? 여기서 옷을 샀는데 갑자기 품절이라면서 주문취소됐는데 돈은 환불 받는거죠...? 답변 해주세요.\\n굳이 에이블리에서 사지 마세요... 가끔 좋은 구매할 때도 있지만 대부분 구매하고 실망합니다. 그냥 돈 좀 보태서 백화점에 질 좋은 옷 사입던지 아니면 에이블리말고 인터넷쇼핑몰 옷 잘 찾아봐서 좋은 옷 구매해 입으세요. 전문적이지 않은 판매자들이 그냥 질 안 좋은 중국산 옷 갖고와서 예쁘게 사진 찍어서 비싸게 파는 느낌이 강해요. 에이블리에서 아예 셀럽마켓이라고 하는 것처럼. 인스타 셀럽같은 사람이 옷장사하는 것 같음. 유일한 장점이라고는 무료배송인데. 잘 보면 똑같은 옷을 마켓마다 부르는 게 가격이고 제각각이에요. 질 자체도 안 좋은데 마감처리도 별로고 제대로 검수 안해서 보내주는지.. 모든 마켓이 그런건 아닌데 대부분 그래요. 결국 에이블리에서 호갱같이 10만원 넘게 질렀는데 그 돈 지른만큼 경험했습니다. 잘 환불같은 거 안 하는데 아까 온 옷도 실밥마감처리가 너무 별로여서 환불처리했습니다. 불량아니라고해서 제가 배송비부담해서요ㅋㅋㅋㅋ5천원 그냥 버리고 말지 옷 못 입겠어요.\\n상품을 10일동안 기다렸는데 상품 준비중이라 배송 지연이라 뜨던게 품절이라고 떴습니다 근데 해당 쇼핑몰에 들어가보니 아직도 판매중이더라고요 이건 뭔 경우죠? 배송 지연 상품이라고 안적어둔것도 이상하고 돈이 오고가는 장사인데 앱 관리가 이리 허술해도 되는건가요?\\n에이블리 좋긴한데 단점이 구매할때 돈 내야하는게 좀 아쉽네요.\\n멋쟁이들은 절대 여기서 옷 안살겁니다. 속된말로 뭣도 모르고 유행 따라가는데 급해서 대충 사고 빨리 입으려는 사람들을 호구로 만들어서 팔아버리려는 느낌의 옷들입니다. 패션디자인과라 그런지 눈이 그냥 높아서 그런지는 모르겠는데 그냥 싸구려 티가 탁 납니다. 신규회원 쿠폰 준다길래 가입하고 들어가서 옷 구경했는데 쿠폰8장 다 버리고 5분만에 탈퇴했습니다. 허접 원단으로 대충 만들어서 구경하는데 눈 엄청 버리고 기분까지 나쁠 정도였네요. 게다가 가격을 솜사탕마냥 불려놓고 팝니다. 양심도 없구요.\\n여러분 회원정보에 사이즈 절대 적어두지마세요 리뷰쓸때 사이즈 선택안해도 죄다 제공되고있어요 심지어 리뷰에서 선택할수있는건 키, 신체사이즈가 끝인데 작성완료하면 키, 몸무게, 신체사이즈, 하의사이즈 등등 전부 제공됩니다 조심하세요 저도 깜짝놀라서 리뷰 다지웠네요;; 고객센터는 담당부서에 전달하겟다고한지 일주일이 넘도록 고치질않고;; 암튼 다들 꼭 알아두세요. ++ 답변달린게 어이없어서 수정합니다. 본인들은 리뷰에서 선택안함으로 수정 안되고있는 상황을 인지못하고계신가봐요? 선택안함으로 바꾸면 된다니 어이가없네요ㅋㅋㅋㅋㅋㅋㅋ 아무리바꿔도 선택안함으로 안되고있구요, 애초에 리뷰쓸때 그항목 선택하지도않았는데 개인정보에 저장해둔 사이즈 자동으로 공개됩니다. 다들주의하세요\\n별점 0개는 못주나요 ? 한개도 아까운데 ? 택배가 분실돼도 고객이 연락 안하면 나몰라라 상담원은 무슨 말끝마다 상담을 종료한다 하질않나 내가 지 애인도 아닌데 칼답 해줘야 하나요? 고객만족부가 고객 화 돋구는 부서 인가요? 저는 진짜 해외직구인줄 알았어요!!! 10월1일에 결제 한 가디건을 10월23일이 되도록 못받는데 혹시 여기 알리인가요~~~~!!??\\n원래 귀찮아서 리뷰 잘 안쓰는데 너무 열받아서 씁니다. 몇몇 쇼핑몰들은 주문이 들어왔는데 확인도 안하는지 몇일째 배송준비중이고 결국 취소 했는데 그거마저도 바로 취소가 안되고 진행중이라 뜨네요. 진짜 답답합니다. 다른 곳은 안그러는데 유독 여기서 주문하면 좀 심해요. 현재 주문한 것만 받고 삭제하렵니다.\\n걍 옷 너무 다른 옷 오고 퀄리티 너무너무 저렴. 친규들도 여기 퀄리티 안좋은거 많다고 지우랬는데 내가 당함. 퀄리티 천원 이천원 주고도 안살것들 너무 많음. 그럼 그 퀄리티대로 사진을 올려야지 왜 보정 빡시게 퀄다르게 심지어 색상도 상상이상 다르게 사진찍어서 올리심? 하 열받아 진짜 아예 다른옷 와서 항의하면 배송비내고 환불하라 사진과 다른건 쇼핑몰책임이니 나몰라라다 해서 너무 열받음 사진과 제품이 심하게 다른 쇼핑몰들 제제를 하던지 없애던지 해야하는거 아닌가요? 소비자한테 그 책임을 돌리네 그런거 좀 개선 되면 좋겠음. 앱 믿고 사는건데 쇼핑몰에 대한 경고나 확인조치 없고 소비자기만 하는 태도 너무 화나요 그런거나 개선하고 광고하세요 유튜브나 이런데서 광고 엄청 하는데 꼴도 보기싫음\\n신규가입자에게 일정금액이상 주문시 할인되는 쿠폰을 제공하여 금액을 맞추게 하기위해서 이벤트 상품외에 다른 물품도 같이 주문하게 해놓고 배송은 정작 이벤트상품은 안오고 같이 주문한 다른것만 먼저오고 이벤트상품은 재고부족으로 지연된다고 4일이나 지난 지금에서야 연락이오고 주문을 취소하려면 금액을 맞추기위해 주문한 다른 상품도 고객이 직접 반품처리해야된다는 말같지도 않은 소리를 하네요. 첫 가입 쿠폰은 항상 고객몰이용으로 사용하는게 맞다고는 하지만 좀 너무하다 싶네요. 재고가 부족하면 이벤트로 제공을 하지를 말던지 이벤트 상품으로 사용할거면 미리 수요조사해서 재고를 구해놓던지 이런거 잘 안쓰는데 별로네요. 여튼 배송된 제품이 아까워서라도 기다렸다가 전부 배송되면 탈퇴하렵니다\\n주문을 하고 바로 사정이 생겨 주문취소가 되어 다행이라고 생각했습니다 오후 6시에 갑자기 배송되기 전까지는요.. 오후6시라 문의도 안되서 글이라도 남겼는데 답은 오지 않고 상품만 왔네요.. 전화해보니 상품출고가 된 후 주문취소를 했기 때문에 문제라는 말이였는데 분명 주문취소할 수 있어서 했는데 제 불찰이라고 합니다.. 그럼 주문취소란은 도대체 왜 있고 애초에 상품출고 후 주문취소는 당연히 어려운데 시스템상 원활하게 돌아가지 않은 점들 때문에 이렇게 됬네요 다른 분들은 부디 이런일 당하지 않으셨음 합니다 싼값이라 환불이나 반품은 더이상 번거로워 하지 않을테니 답변 달지 않으셔도 됩니다 이미 회원탈퇴했고 더는 에이블리를 믿고 구매하고 싶지는 않습니다\\n상품 주문했는데 4일 넘게 상품 준비중이길래 고객센터에 연락하여 상품 취소했고 초록창에 검색해봤더니 같은 상품을 카드 청구할인, 이벤트 할인있어서 더 저렴하게 구매했음(배송도 훨~씬 빠름). 요즘 소셜커머스나 유통사 쇼핑어플 전부 배송 전쟁이라던데 여긴 대체 뭐하는지 모르겠음. 배송 한달 걸린 분들 리뷰도 있던데 시스템 개선해서 배송이 좀 빨라졌으면 좋겠네요\\n웹에 못 들어가고 앱에서만 쇼핑이 가능하게 만들었으면 앱이라도 잘 돌아가야죠. ㅋㅋ 쇼핑하다가 갑자기 이상하게 먹통이길래 껐다 켰더니 첫 화면에서 넘어가질 않고 인터넷 문제라고 하네용. ㅎ 와이파이 잘 되고 데이터도 켜 봤는데용. 앱도 삭제했다 설치했는데. ㅎㅎ ㅋㅋ\\n배송 개느림. 완전 느림. 광고는 쿠폰 상세표기 안한 허위광고에 주문후에 하도 안와서 배송일 문의 했더니 재고를 두고 하는게 아니라 1일부터 11일까지 휴가라고 12일 지나서 가능하다함. 애초에 휴가면 이런 광고같은거 안하지 않아요? 주말 이틀간 쉬는것도 아니고 열흘이나 쉬면서? 뭐하는 어플이에요? 주문받고 직접 누에잡고 일일이 옷감짜서 염색하고 말리고 해서 2주 걸리는거세요? 이러고나서 12일 지나고 14일쯤 연락와서 재고 소진이라 취소할게요. 이럴거잖아요?\\n허위광고 ㅡㅡ 앱 받아놓고 구매하려고 보니 7만원이상 구매해야 쿠폰 적용이라고 뜨네요 광고에는 분명 잘 보이지도 않는 작은 글씨로 \\'3~5만원이상 구매 시\\' 라고 써있는데요?(이것도 웃김) 탈퇴도 직접 할 수 없고 고객센터에 글을 남겨야 탈퇴를 시켜준다니 탈퇴가 언제 될지 모르니 당장 앱을 지울 수도 없고 상당한 시간낭비에 귀찮은 앱이네요.\\n주문하고 나서 이틀째인데도 상품준비중이길래 뭔가 이상해서 배송 문의를 남겼는데 그제서야 주문한 상품 품절되었다고 다른상품으로 교환하거나 취소해주시겠다고 하시네요. 상품이 품절되었으면 구매자가 주문하지못하도록 막아두시거나 먼저 연락주시는게 맞는거아닌가요,. +배송 진짜 느립니다. 8월 13일날 시킨거 일주일째 기다리고 있고요. 이정도 늦으면 다른쇼핑몰에서는 입고가 지연되어서 그렇다 뭐때문에 그렇다 얘기라도 해주는데 여기는 그런말 하나 없습니다. 주문하자 마자 언제출고되냐고 문의남겨놓았었는데 그때는 1-2일 내로 출고된다고 답변이 왔는데 출고는 무슨 일주일째 기다리고있습니다. 1-2일이 지나도 여전히 상품준비중이길래 언제 출고되는거냐고 다시한번 문의를 넣어보니 이젠 이틀이 지나도 답변도 안옵니다.^^\\n처음으로 리뷰 답니다. 주문한 제품이 있어 아직 어플 안 지우고 있는데 상품 받으면 바로 지울겁니다. 다시는 여기서 주문 안 시킬 것 같네요. 주문 넣은지 10일이 지났는데 아직도 상품 준비중이고 도착하려면 또 얼마를 기다려야 하는건지...;; 또 기다리는 동안 몇몇 상품들은 품절이던데 재입고까지 기다리라는건지 모르겠네요... 미리 재고 파악해서 주문을 란 받던지 해야하는 게 맞는게 아닐까요?? 차라리 다른 어플 이용하고 말지 이렇게 오래 걸리면서 이 어플을 사용할 메리트를 모르겠네요.\\n앱자체는 마음에 듭니다 가격도 좋고 구성도 좋고 배송료도 없고 다 좋지만 정말 이거 하나 때문에 너무 실망스럽습니다 그건 바로 배송오는것 입니다. 제가 신발2켤레와 옷2개를 구매 했습니다 근데 신발 두켤레 배송지연 문자받고 1주뒤 신발하나 도착하고 1주뒤 또 신발하나 도착했습니다. 그런데 이번엔 옷도 배송이 지연문자가 오더니 1주일이 지나도 안오덥니다 신발은 어찌어찌 받았지만 너무 화나 옷은 환불처리했습니다. 배송에 관한것은 무언가 대처가 필요하다 생각 합니다. 몇개월뒤에 또다시 이용했지만 10월12일날 주문한 옷2벌이 3일이 지나도록 안와 문의를 넣자 그제서야 주문폭주로 조금더 오래 걸린다 라고만 하고 상품은 순차적 배송한다 했습니다 그리고 이틀뒤 카톡으로 주문폭주로 10월30일날 순차배송이 된다는군요 이럴거면 해외에서 진즉에 옷을 사고도 이렇게 오래 안걸립니다 시간이 지나고 많이 나아질거라고 생각하지만 더 심하네요 이젠 화를 넘어 질렸습니다 여긴 별하나도 아깝네요\\n별한개도아까워 . 내 돈이 내가 주문한상품이 공중분해되고, 결제는됬고 상품은없는상품이라고그러고 금일이라고 전화도안쳐받고 어쩌라는거지 12일기다려도 문의도제대로안받아주는데가 대다수고 빨리환불이나해줬으면좋겠다 제발 이렇게리뷰남겨봤자 돌아오는답은 안뉑하쉐여 고갱뉨 뭐대다뉘 줴쉥합뉘뒈~\\n전체적인 옷들이 다 싸구려 같아요... 지난번에 몇번 구매한적이 있었는데 재질도 안좋고 싼티나서 탈퇴했어요\\n교환,반품건에 대해서 에이블리 전화하면 여러업체를 수용하고 있다보니 에이블리에서는 어떻게할수가없다. 담당 판매자에게 전달,안내 해주는게다다. 가 끝! 처음부터 택배비 내가 부담해서 교환,반품 한다고 반품신청을 해놨음에도 판매자는 구매자가 반품요청을 했음에도 직접 택배회사불러서 반품하셔야함 근데 그것도 택배도착일 9일지나서 법적반품일이 지나서 불가능하겠다는 답은 새벽1시 52분에 답장해놓고 그뒤로 무대응ㅡㅡ 개갑질함... 진짜 짜증남 교환,반품 요청 누르고 몇일이 지나도 연락이 없길래 연락했는데 새벽에 답온거임ㅡㅡ 진짜.. 어이없음 그걸 다시 에이블리 전화해서 말하니, 그래도 저희는 어떻게 해드릴수가 없어요~~~ 전달사항만 판매자께 다시 전해놓겠습니다~~ 같은말만 반복.. 앵무새인가 ㅡㅡ 에이블리 완전 비추\\n이용한지 오래 됐는데 여러 마켓들이 모여있어서 예쁜옷도 많고 전체 무료배송이라서 좋아요 근데 배송 늦는거는 상관없는데 결제하고 2~3일 있다가 갑자기 품절이라고 하는건 좀 그래요... +추가+ 답변달렸는데 추가로 더써요 방금 또 품절이래요 진짜 화가날 지경이에요 이번에 주문한 옷들중에 3개가 품절이라니 공급처 주문 후 입고불가로 확인되는 경우 있다고 써놓기만 하면 다인가요? 이런 경우가 없도록 노력해야하는거 아니에요? 가끔 그러는것도 아니고 일상다반사네요? 환불받는게 간단하면 몰라요 주문한지 3~4일 있다가 갑자기 품절이라고 달랑 문자한번 보내놓고 그럼 전 주문페이지 들어가서 문의글 써야하고 환불금은 왜이리 늦게 들어오는지 전에 환불한게 일주일이 지났는데 안들어왔어요 시간을 얼마나 버리는건지 아시냐구요 개선할 생각을 하셔야지요\\n그저께 상품주문하고 결제하고 배송어디까지 진행되었나 확인하려고 마이페이지들어가서 배송조회하려고하는데 자꾸 주소가삭제되었거나 오류라고하면서 주문창이 안뜨네요 이거 어플로확인하는사람들이 많은만큼 빨리고쳐야하는거아닌가요? 저만이런건지.. 매번 결제할때마다 배송조회전화할수도없는거고 참\\n기존 마켓에서 따로 판매할 때 원가 보다 높은 액수 적고 찍찍 그어서 할인율 적어놓은거 보고 기가 막혀서 문의 공개 된 상태로 넣었더니 지네가 마음대로 문의 비공개로 돌려버리고 후기에다 적어놨더니 마켓 운영하는 분 불러오는 클라쓰.. 소름돋아서 어플 삭제하고 그 이후로는 절대 안씀ㅋㅋ\\n배송비가 안들어가는것은 좋으나 배송이 3일에서 7일까지인 것도 좋은데.. 거기에 플러스 1일에서 2일 늦어진다는거는.... 그럼 총 7일+2일 이면 9일 인데.. 행사가 있어서 옷을 주문했더니 당일에 못 입을것 같아서 취소했습니다... 배송처리가 변해야될것같아요\\n와.. 해외배송을 시켜도 이보다는 빨리올듯 싶네요 20일이 지났는데도 아직 상품 준비중이랍니다 뭐 문자한통 없이요 말이되나요? 문의를 남겨도 복붙한내용만 답으로 오고..진짜 화가나서 참을수가없어요.. 차라리 배송비 쓰고 빨리 받는게 낫겠네요 여기서 시키지마세요\\n990원 행사때문에 깔아봤는데 뭔가 되게 어설프네요..개인정보 입력시에 환불계좌를 넣게 되어있는데 주로 카드결제하는 사람으로선 카드결제 취소처리하면 그만인데 궂이 쓸데없는 개인정보를 반드시 입력해야 가입하게 만들었는지 이해불가! 회원 가입은 본인이 가능하나 탈퇴는 고객센터를 통해야만 하는것도 불편... (게시판에도 요청했지만 탈퇴처리후 회원정보 삭제 바람!!) 타쇼핑몰에 비해 뭔가 상당히 보편적이지 않음...\\n배송전취소건에대해서 환불처리가 제대로 이루어지지않고 또 이 어플의 단점은 해당 상품에대한 q&a 자체가 1대1 문의밖에 할수없어 해당 마켓에대한 전체적인 평을 알수가없어 매우 불편 불량 마켓을 걸러서 쇼핑을 할수없음 저는 17일에 구매하여 19일 배송전 취소를 했는데 취소처리해준다는 답변만 받고 전화도 되지 않고 취소처리도 되지않았음 이 어플 거르세요\\n배송개느리고 왜케 다들 가격이 수시로 왔다갔다함? 이월상품도아니고 불과 며칠 전에 신상 주문했는데 기다려도 하도 배송을 안해줘서 들어가보면 그새 가격내렸음ㅋㅋㅋㅋㅋㅋ 이거 단속해야되는거아니에요? 배송이나 하고 내리던가 기다리는 사람 호구만들기나하고ㅋㅋㅋ에효\\n할인전 보다 할인후 가격이 더 비싼 양아치 앱! 에이블리 너무 웃김ㅋㅋㅋㅋㅋ옷가격이 만원인 옷이있는데 전상품80프러 할인 이벤트 한다길래 대박 이러면서 들어갔는데 원래가격4만원으로 올려놓고 할인80프로해서 8천원에 판다 이러고 있음 심지어 어떤거는 5퍼할인 전 가격보다 80퍼 가격할인한게 더 비싼것도 있었습니닼ㅋㅋㅋㅋ아니...소비자를 호구로 아는것도 아니고 그렇게 눈속임하면 모를꺼같나요?ㅋㅋㅋㅋㅋ진짜 너무 재밌어요😆😆😆큰웃음 주셔서 감사하구요 농락당한거같애서 이제부터 여기서 안살려구요ㅠ\\n배송도 늦고 삼성 제품은 거의 없고 답변도 늦어요. 검색 기능도 떨어지고요. 상품 질도 전체적으로 별로에요. 그리고 포인트를 구매금액의 10%까지 밖에 적용 못한다는 점이 아주 별로에요. 삭제합니다.\\n인증하라더니 문자가 왜 안날라오나요? 30분째 계속 인증버튼만 누르고..시간 아깝네요. 페이스북 가입하려니까 이메일로 인증하라고 뜨고 ㅋㅋㅋ 이메일 인증하면 문자가 안날라오고..총체적 난국이네요;;\\n설치후 구매하실분들 결제 여러번 생각하시고 신중히 하세요 할인쿠폰사용 결제후 재결제하려고 취소했더니 할인쿠폰 날라감. 결제취소 바로 이루어지지도 않음. 언제취소되냐물었더니 각 셀러들이 순차적으로 처리해준다는 원보이스.. 상담원들 그닥 친절하지도 않은것같고.. 할인쿠폰은 왜 복구가 안되냐했더니 일회성쿠폰이라 함.. 그래서 결제취소는 언제되냐 그랬더니 오늘안으로 (오늘언제될지도모르고) 처리될거라 하고 카드취소 3~5일 소요된다고 함..\\n와 아니 원래 리뷰 안쓰는데 이건 말해야겠다 환불정책이 굉장히 마음에 안들어요. 신규회원 990원 쿠폰 써서 산 상품이 7일을 기다리게 하다가 품절됐다고 부분취소가 되었는데, 이렇게 되면 상식적으로 다른 상품으로 바꿔서 배송해주던가 아님 쿠폰이라도 복원해줘야 하는 게 아닌가요? 아무것도 없고 통장에 990원만 딸랑 들어왔네요. 품절된 상품을 판매중이라고 표기를 잘못해놓은 것은 판매자 잘못인데 왜 애먼 소비자 쿠폰을 뺏어가냐고요; 쿠폰사용조건 맞추려고 필요없는 슬리퍼도 샀는데 상품은 안오고 쿠폰도 날아가고 진짜 사기당한 기분. 비추. 여러분도 저같이 당하고 기분 더러워지기 전에 지그재그로 뜨세요 삭제 ㄱ\\n광고ㅋㅋ네이버에그렇게싸다고올려놓고 막상주문하니 3-7일걸린다고 반품이나환불조취해준다고ㅋㅋ무슨호구임? 이벤트랍시고 사람끌어모으고 주문수만올려놓고ㅋ다취소나환불하라고? 백원이라고해놓고ㅋ얼마이상할인쿠폰쓰게되잇고 극혐 ~ 늦는다고죄송하다곤안오고 취소환불절차앉내되니깐 어이없.기다렷다가 옷기다려봐야겟네요 얼마나걸리련지\\n배송 전 취소로 환불신청했는데 환불완료 됐다고 뜨고 2주넘게 돈 안 오네요 그냥 먹어버린건지.. 옷 판매는 입점한 곳에서 하고 환불은 에이블리가 담당해서 고객센터로 이리저리 물어보느라 짜증납니다 에이블리측에서는 환불 이미 처리됐다고 또 카드사에 가서 문의하라는데 그냥 9900원 가지고 더이상 신경쓰기 싫어서 안 물어보려고요 다신 이용안합니다\\n에이블리앱이 원하는 옷을 가격 스타일 등 비교해서 구매할 수있는건 좋은데 요즘따라 너무 렉이 심하네요.. 에이블리 앱 들어가는 것부터 엄청 오래걸리고 옷들 사진이나 리뷰가 안떠서 볼 수가 없어요. 인터넷 연결도 제일 잘되고 따른앱들은 끊김없이 잘되는데 에이블리만 안되네요..또 지금 진행하고 있는 장바구니에 담아서 추첨으로 진행하고 계시는 이벤트에 참여하고 싶은데 장바구니 담는것조차 안더ㅣ네요..\\n잘쓰고 있었는데 고객 문의 처리하는 방식이 너무 느리네요. 분명 무통장 입금으로 입금한게 이틀 전 일인데 입금 확인은 커녕 주문 취소가 됐다고 뜨고... 입금 확인 부탁드린다고 게시판에 글을 몇번이나 올려도 돌아오는 답변은 없고 ㅋㅋ 일처리 방식이 너무 답답하네요 전화걸어도 받지도 않으시고. 입금한 걸 환불이라도 해주시던지 다시 입금 확인 조취를 빨리 취해주시던지 해주시길 바랍니다. 개인적으로 잘쓰고 있었는데 굉장히 실망했어요.\\n안녕하세요 전에 에이블리 했던 유저인데요. 에이블리는 이쁜 케이스스들이 많다고 해서 깔았습니다. 그런데 이쁜 케이스도 많더군요 하지만 저의 핸드폰 기종 케이스를 검색해 봤더니 아무것도 나오지 않더군요. 이게 어떻게 된 일이죠?? 아무리 제가 폰이 좀 됐다고 해도 아무것도 없는 건 아니지 않나요??? 그리고 폰 케이스는 거의 아이폰 케이스 밖에 없더군요...\\n유튜버 홍세림님 영상보고 좋아보여서 한번 구매해봤는데.. 아무리 주문이 밀리고 어쩐다지만 4개시켰는데 10일째 다들 배송지연된다고 연락만 계속오고 한개도 배송안옴 너무 심하다고 생각함. 무료배송이라도 이런식이면 앞으로 절대 안쓸듯.\\n행사 자주하는건 좋습니다. 근데 사람 많아서 버퍼링 걸리는것도 이해하겠는데 선착순 안에 들어 장바구니에 담고 계산하려니 갑자기 품절된 상품이라고ㅋㅋㅋㅋㅋ솔직히 기분 상하네요. 차라리 장바구니에 못담게 하시지ㅋㅋㅋㅋ\\n싸구려. 물건 가격에 배송비 포함 해 놓음\\n로그인이 안되네요 페이스북으로 로구인하니깐 로그인 계속 실패해서 이메일로 거입하려니 핸드폰 번호는 또 인증되어있고 로그인은 이메일로 밖에 안되고 페이스북 로그인이 가늘하게 하든 제 번호를 삭제하고 다시 이메일 가입을 하든 조치를 취해줬으면 좋겠네요\\n아니 광고로 가격을 속이시면 어떡하나요 ;; 신규회원 990원으로 해놓고 나서 쿠폰은 다운로드 되지도 않고 다른 옷들도 이뻐서 살려고 하는데 아주 사기 쳐놓으셔서 그럴 마음이 뚝~ 떨어지네요 아주 사기 치는데 선수시네요 ^^ 덕분에 제 아까운 시간을 낭비했네요 ㅜㅜ 회원 탈퇴하려는데 탈퇴도 찾을 수도 없게 해놯네요 짜증나네요 ㅎㅎ;\\n이거 앱이 쓰레기네요. 결제 했는데 안됐길래 다시했는데 갑자기 주문내역 2개로되있어서 들어가보니까 주문내역이 없다그러고 쿠폰썼는데 그와중에 쿠폰은 차감이 안됐고, 돈만 나갔나 싶어서 앱카드 다뒤져보고 결제 다시해보고 또안돼서 앱지우고 사이트에서 하니까 잘돼네요ㅋㅋ 장난하는것도 아니고 옷주문시키는데 한참이 걸렸어요 이 어플 다시는 쓰고싶지않네요 화납니다.정말.\\n이런 쓰레기같은 쇼핑어플은 처음이에요. 주문한 이후부터 반품과정까지 전화를 안한적이 없어요. 상품준비가 3일이나 걸리면서 물건을 꼼꼼히 체크하고 보내지도 않고요 어떤 상품은 자기들도 언제 상품준비 되는지 모른다며 차라리 다른 쇼핑몰 찾으라하구요. 배송지키미 어플에는 상품 배송중이라 뜨는데 정작 에이블리에서는 자기들이 상품 보낸줄도 몰라요. 그렇게 나름 일찍(일주일) 받은 상품이 잘못와서 교환하고 싶지도 않으니 반품으로 환불처리 해달라고 했고 택배사에서 수거할 수 있도록 접수하겠다 했는데 주말제외하고 4일동안 수거를 안하시길래 전화했더니 자기들은 한것 같은데 다시 접수 해드리겠다고 하고 바로 다음날 수거해갔네요. 그렇게 상품이 도착했고 잘 도착하였는지 카톡 보냈더니 교환상품 출고에 대해 써놨더군요. 어이없어서 전화했더니 제가 반품하는지도 몰랐답니다. 시스템이 왜 이러냐 했더니 담당자가 많다는 대답밖에 할 줄 모르네요. 입점해있는 마켓들만 불쌍할정도에요. 카드취소 되는대로 삭제합니다.\\n완전비추요 앱을 깔았지만 정말 구매할게 없었어요 자주들어갔지만 맘에드는옷도 없고 배송비무료라고하지만 옷에 배송비가붙어있는거같아요 게다가 거의신생?쇼핑몰위주라 옷도별로없고 진짜 ㅋㅋㅋ 건질게없어요 다시는 이용안하려구요 시간만 괜히 허비한듯\\n옷을 5벌을 주문해서 결제까지 하고나면 그 중 최소 2벌은 재고없음으로 문자오고 환불이 뜸. 아니, 재고가 없으면 미리 품절 표시를 해서 시간 안쓰고 고민이라도 안하게하던지. 한 세번 그러고나니까 성질나서 못쓰겠음.\\n니트조끼를 시켰는데 그냥 상품명도 없는 니트가 왔네요. 맞교환도 안되고 소비자가 피해는 입을 대로 다 입었는데 아무런 보상도 없네요 ㅋ. 왜 이상하게 왔는지도 안 알려주고 저는 반품 하고 그 옷 못 입게 생겼네요. 에이블리 자체는 좋은데 이런 상황이 발생 했을때 소비자에게 피해만 입히는 것이 아닌 어떠한 보상을 줘야한다고 생각합니다.\\n열흘 째 되어가는데 아직도 상품준비.... 이 정도면 아예 어플을 운영하는 방법을 바꿔야하는 거 아닌가요? 환불하려니 환불절차도 오래걸린단 후기가 있고 제 시간에 하는 게 대체 뭔가요? 진짜 욕 나오고 화나네요. 거의 사기로 신고해도 될 수준인 것 같네요. 진짜 뭐하자는 건지 이번 배송만 받고 절대 이용 안 하렵니다. 주변에도 사용하지 말라고 입소문 낼 거에요.\\n3만원 쿠폰팩은 무슨ㅋㅋㅋㅋ 제한있고요. 포인트가 아무리 많아도 결제금액 10%만 쓸 수 있고 배송비 없는대신 좀 비싸고 네이버 포스트 팔로우하면 제한없는 쿠폰 준다고 해놓고 쿠폰 코드도 안알려주고요 ㅋㅋㅋㅋ 어의없네 옷과 별개로 앱은 최악인 것 같습니다. 일 제대로 하세요.\\n솔직히 물건들 다 좋아요 다 좋은데 문의문자 넣어도 몇시간째 반응없으시고 고객센터는 평일부터열어서 주말에는 소용없고 이미 돈까지 넣었고, 오늘이나 내일까지 맞춰서 사려던 상품인데 시간은 흐르고 이미 꼬일때로 꼬여버린 일정이고 문의같은거 좀더 신경써주셨음 해요;; 이게뭡니까 하 메일 넣었는데 이것까지 안돼면 진짜 속상할것 같구요 적어도 2시간정도 지나면 된다던데 저 밤 샜어요..^^ 하.. 너무 속상합니다 계속 이런 상황이시면 다음에 물건을 살때도 이럴까봐 아예 이앱을 안쓸 것 같네요.. 뭐..메일은 오늘안에 읽을 수 있을지부터가 궁금하네요 제 상품은 어디로..💦\\n인증번호 발송에 실패했다고 뜨네요 오류 고쳐주세요\\n최악의 쇼핑앱. 하자상품보내와서 교환신청했더니 물품수거후 , 지금 15일째 판매자 연락 두절. 에이블리에서 폐점했는지 판매상품도 모두 없앴네? 에이블리 중개업자면 관리 좀 잘하시죠? 최악의 쇼핑몰.\\n여기정말 이상합니다 결재한지 며칠지나도록 상품준비중이라뜨길래봤더니 재입고요청어쩌고뜨길래 옷도없이 광고했구나싶어 취소하려고 글남겼더니 그거마저 답변준비중.... 어이가없어서 취소전화했더니 자체적으로안되는취소들은일일이 다른곳 세군데에 전화해서 취소하래요 그런후 에이블리승인후에 취소가능 그중한곳은전화안받겠다 당당히 적어놓은곳도 있더라구요 게시판에 글남겼더니 역시나 답변준비중 뭐이런... 해외구매보다 느릴뿐더러 취소마저 불편하니 참고하세요 너무 어이가없어서 이런것도 남겨보네요 참내\\n전에 쓰던 이메일과 비번이 생각이 안나서 다른 이메일로 로그인 하려고 전번 입력하고 인증 했는데 전에 쓰던 아이디 있다고 해서 찾았는데 전체아이디를 보려면 전화 나 카톡 이라고 나오길래 카톡을 눌렀더니 전체 아이디는 보이지 않고 에이블리 채널? 이 나오던군요😠 어떻게 전체아이디를 보라는건지..;; 다른 이메일이나 카톡 네이버로 로그인을 할 수 가 없네요 실망이네요 깔았지만 지웁니다\\n일부 판매자들이 재고관리도 안되어있음 주문하고 기다렸는데.. 재고없다고 3일뒤에 취소당해서 다른곳에서 주문했는데 또 4일 뒤에 취소당함 시간, 쿠폰까지 날렸음 에이블리 고객센터에 문의하니 그냥 기계처럼 죄송하다고 답변함 판매자마다 케바케지만 작은곳은 배송빨리온다는생각, 재고가있을거란생각은 접는게좋음\\n무료배송이다 뭐다 당일발송 세일 페북에 광고 엄청뜨길래 한번 다운받고 주문해봤는데 배송 겁~~~~~~~~~~~~~~~~나 느립니다 무슨 해외 유럽에 시킨줄^^; 자기들은 자체배송이니 뭐니 시스템이 어쩌니 저쩌니 하면서 늦는걸 당연시 하던데ㅋㅋㅋ같잖아요 진짜ㅠ 아니 당일발송이래서 산건데 재고가 없어서 지연됐다면서 빨라도 9일날 공장이랑 얘기될거같담섴ㅋㅋㅋㅋ추석껴서 아마 느릴거라곸ㅋㅋㅋ장난하나 여기 진짜 제대로 된 마켓 1도 없구요 이런걸 왜 다운받았을까 후회중임ㅠ 검색해보니 아주 유명하더라구요 여름에 입으려고 나시쪼가리 시킨거 한달째 안온다 기본 이주이상이다 이러던데 다들ㅋㅋㅋㅋ진짜 말만 어쩌고하지말고 개선좀하세요; 전 이번에 옷 오면 바로 삭제할거에요 이거ㅋ..\\n좋긴 좋아요 다른 곳보다 싼옷도 많고 근데 옷 하나는 한 달을 기다렸어요 근데 오늘 하 거래처에 사정이 있다고 그냥 취소되었네요ㅎ 환불계좌를 잘못 입력해서 이건 제 잘못이 맞지만 환불도 못 받는건지...,하나는 10월 18일에 시켰는데 아직도 상품준비중이네요 저는 진짜 그 상품이 너무 기대되어서 한 달동안 기다렸는데 그냥 취소라뇨 ㅋㅋㅋ 이런점은 고쳐주셨으면 좋겠어요 배송도요!\\n주문하고 주문내역보려구 눌렀더니 계속 인증오류?가 나서 주문이잘되었는지 확인을못해요. 로그아웃했다가 다시 로그인해도 다른기능은 다되는데 주문내역확인하기는 계속 오류가나요.\\n아니 갑자기 핸드폰 번호를 수정하라더니 수정했는데 안된다고 하는데 뭐 저는 사용하지 말라는건가요?\\n배송비 무료고 이런건 좋은데 무슨 990원행사할때마다 서버터지고 시간맞게 들어가도 백날 로딩만 걸리다 실패하네요 이것때문에 기다리다 시간만 버리고 주소만 입력하려고하면 렉먹고 그러는사이 품절되고 이렇게 스트레스받으며 구매할바엔 그냥 안사고 이용안하는게 낫겠어요\\n허위광고 대박. 허위광고겠지 하면서 혹시나 하고 다운받았어요. 5만원 . 7만원 이상....이네요. 그런말은 결제할때 쿠폰에 써있네요~ 앞으론 이런 광고의 모든앱은 절대 다운받을일 없습니다. 곧바로 삭제 고고. 옷이 이뿌거나 저렴한것두 아닌게 이런옷 다른곳에서 다 팔고 가격도 매력없어요.\\n첨엔 모아보기 좋아서 썼고 에이블리에서 한번에 배송에 무배라서 첫주문했는데 그냥 배송비 내고 따로 하는게 나을듯하네요 배송이느린게아니라 몇일째 상품만 준비중임 그래서 문의넣었더니 기본적으로 상품준비하는데 3~7일 걸린다고 하네요 무슨 인터넷쇼핑이 2주를 기다려야 받을수있나요 그냥 지그** 다시 돌아가서 배송따로 각 쇼핑몰이 하는게 나을듯 ㅡㅡ 보통 인터넷주문해도 늦어도 일주일인데 그래서 약속 일주일전에 주문한건데 그냥 취소 다신 안써요 이어플\\n물건이 품절되면 기본적으로 제가이용했던 모든쇼핑몰에서 유선으로 고객에게 전화연결을 시도합니다 고객에게 상품이 없다고 말을 전달하고 죄송하다고 하죠 여기는 품절된상품도 고객센터전화도 불가한 밤8시이후에 톡으로달랑 연락옵니다 처음엔그냥넘어갔습니다 다음날물건 다른상품으로 바꿔서보내달라고했습니다 며칠뒤 다시 6시가넘은시간에 품절이라고 톡만덜렁오네요 적어도 물건이 한번 품절되면 다음에제가원하는 물건에 대한 재고는 확인하구 교환신청받지않나요? 아예다른제품도아니고 색상만 바꾼건데? 그정도도 확인안하고교환하시겠냐고물어보셔서 교환하니 3일만에 품절이라고 또 고객센터 전화 연결도안되는시간에 톡보내시는건 기본적인 운영방식이 매우잘못된거같아요^^\\n문의게시판이 공개적으로 되어있지않고, 그래서인지 판매자들이 주문취소 문의를 한다거나해도 무시하고 늦게 보낼때도있음. 가입해도 주는혜택이 거의 없음( 무쓸모) 처음쓰는앱 5만원이상 구매시 쿠폰할인. 누가 첨부터 그렇게 사나요? 몇번 사다가 자기한테 맞으면 그렇게 사는거지. 모 앱처럼 액수상관없이 쓰는 포인트를 주던지... 첨엔 애용 많이 했고 20정도 쓴거같은데 단점이 보이고 혜택도 거의없으니 갈아타려구요. 아주가끔 서치용도로만 쓸예정\\n답변 좀 느린거 같네요.. 계속 결제 안되다가 안될 줄 알고 다른거 결제 눌렀더니 바로 결제완료 ... 지금 돈은 급급한데..ㅠㅠㅠ 얼른 환불받고 삭제하고 싶네요. 이번이 두번째로 다시 까는건데 둘다 실망만 큽니다. 다시는 다운로드 안합니다;\\n진짜 별하나도 아깝다 사고 일주일 넘도록 기다렸는데 상품준비중이더니 갑자기 품절이라고 재입고 될때까지 기다리라고 하면다에요? 주문하기전에 품절이라고 말하는게 기본아닌가요;; 진짜 기분나쁘네요 진짜 여기이용거 비추천이에요\\n환불도 정말 늦고 사진이랑 달라요ㅋㅋㅋㅋ 이번에 큰맘먹고 좀 싼곳에서 구매한건데 배송비만 날렸네요. 무신사가 더 대응이 빠르고 좋은거 같네요ㅋㅋㅋㅋ 괜히 5천원 날리고 이게 뭡니까 이게 질도 안좋은 옷을 저 가격에 팔다니.. 그런 옷들은 단가 몇천원 밖에 안하게 생겼는데 아주 사기네요\\n상세설명이랑 더보기? 가 안보입니다 그냥흰화면이에요 업데이트가안됬나해서 다시 깔았는데도 똑같구 로그아웃을해봐도똑같이 흰화면입니다 상품을 재대로보지못해서 아쉽네요 빨리 제발 빨리 고쳐주세요 읽지도않고 무시하지말고 읽었으면 빠른시일내에 고쳐주시길바래요\\n고객대응이 최악이네요~ 신규가입이벤트로 구매한 제품이 한달넘게 지연되다가 결국 취소처리됐네요.. 그러고나서 이벤트 쿠폰은 재적용 안된다고하고 그냥 끝이네요.. 이벤트로 낚아서 신규고객 유치만 하면된다는 식인가요???\\n아니 에이블리 일처리 왜이렇게 늦어요? 문의해도 하루안에 답장 온다고 되어있는데 안오면 어쩌라는 거죠? 무통장입금으로 했는데 주문취소 됬길래 고객센터 들어가보니까 고객이 원하는대로 처리해준다고는 되어 있는데 빨리빨리 처리해줘야지 다시 취소된 상품을 구매를하든 뭐를 하죠..;;\\n별하나주기도 아깝네요 8시부터 9시 50분까지 무슨 장난치는것도아니고 서버상태 왜이런가요? 거의 2시간가량동안 제품들 보고 고르고 구매하는 것은 커녕 사이트조차도 안들어가지는데? 제발 술집이나 노래방에서 술드시고 클럽가실시간에 제발 사이트관리나 인원수나 서버를 감당할수있게 고쳐주시든지요 만원 이만원도아니고 이게뭐죠 그냥 화만나네요\\n계산에 너무 불편해요. 쿠폰 사용하기 전에는 계산 잘만되다가 쿠폰누르니까 계산할때 난잡해지네요. 참다참다가 너무 화나서 리뷰남겨요. 진짜 이렇게 불편한 앱은 처음이네요.\\n업체관리가 안되는게 아쉽네요 뭐하나시키면 배송지연을 기본을깔고들어가야되고 품절된건 일주일을 기다렸건 3일을기다렸건 연락도없이 취소처리되는데 에이블리 문의하니 에이블리에하는게아니라 마켓에서 처리하는거라는 말뿐이라 재이용하고싶은 마음이 없음ㅎㅎ\\n브랜디보다 쿠폰도 별로고 무엇보다 상품문의할때마다 너무 불편하네요 문의가 카톡식으로만 되다보니 문의하기도 힘들고 답변이 너무너무너무 느려요 세월아네월아... 브랜디보다 이용은 잘 안하게되네요 .. 문의하는거는 개선 좀 해야할듯요\\n판매자 배송 너무느리고 문의해야 배송지연이라고 답글달고 발송예정일 써놓고 그 마저도 약속안지킴. 어제도 문자 달랑 와서 배송이 더 지연됐다고..ㅎ 물건이 없으면 팔지를 말던가 배송지연이라고 공지를 띄우던가ㅡㅡ 다른곳에서 더저렴히 파는거 보고도 어짜피 여기서 먼저 시킨거 배송 더빨리오는걸로 만족하고 환불안하고 기다리고 있었는데 계속 배송지연ㅎㅎㅎㅎㅎ 오늘도 발송안하면 환불할거고 다른쇼핑몰 더 저렴한곳에서 재구매 할 것임. 그리고 두 번 다시는 이 어플 이용 안할것같음\\n앱이그냥 쓰레기같아요 무슨 방금1초전에 주문한걸 수정이나 취소하려면 글을써야되고 고객센터에 전화를 해야됨 ㅋㅋ90년대 앱인가요?ㅋㅋ글을썼다쳐도 바로 답변이 있는것도아니고 내가쓴 글 삭제 수정도 못함.오늘 한개 주문한거 옵션 변경하려고 했더니 과정이 너무 귀찮아서 그냥 받고 앱 삭제할거임\\n옷치수 보고 꼼꼼히 다체크해서 주문했는데 뭐죠ㅋㅋ다 크거나 더럽게작네ㅋㅋ\\n제가 글리터지갑을 샀는데요 입금 후 결제를 했습니다 거의 동시에 했다한거 처럼 입금 후 결제를 눌렀는데요 주문취소가 되었고 환불도 온게 없도 미환불이 뜹니다 고객센터에 전화를 해보아도 사람이 많아서 통화가 불가하다고 뜨네요 그 외에 뭐 입금자명 등 다 틀린거 없이 했습니다 사전에 뭐 따로 입금이나 결제방법이 있었던 것도 아닌데 이러니까 당황스럽네요 아니면 항목을 누르고 결제를 들어갈 때 방법이라도 알려주시면 더 나을거 같아요 최대한 빠른 조치 부탁드려요\\n옷 살때마다 한두군데도 아니고 옷이 있지도 않으면서 상품 올려놓고 주문하고 3 4일 지나서 문의넣어야지만 지연됐다고 답해주고 옷 살때마다 일주일은 무슨 이주정도 걸려야된다고 두리뭉실하게 대답.. 이젠 에이블리에이용은 걸러야겠단 생각밖에 안들거같아요 어떤 마켓에서 사든 다 일주일정도 걸려야 입고되고 순차적으로 배달된다고그러고 옷사고 이주걸려서 오는데 뭐하러 이용해요? 배송잘해주는 마켓찾아서 택배비내고 빨리 받거나 집접사러가지..\\n역시 페이스북 광고 많이 뜨는건 믿으면 안된다는 이유를 알 것 같기도. 옷 사는 어플중에 제일 짜증났던 어플이다. 처리해주는 속도 너무 느리고 돈도 없고 상황도 급한데 품절 안띄워놓고선 기껏 비싼 돈 내가며 주문 했더니 갑자기 품절이라며 죄송하단 말도 하는 사람없이 주문취소 처리되고 환불처리 됐다면서 환불 바로 안해주고 최소 3일?? 진짜 어이가 없어서..다른데서 주문하고 싶어도 돈을 이렇게 늦게주다니~다시는 에이블리 안쓰겠습니다! 실수로 주문취소 한 것도 바로 처리 안되고 어렵다고만 하는 곳도 여기서 처음봤고 문의를 해도 왜인지 모를 동문서답에 띠꺼운 대답이라..하도 페북광고 떠서 에이블리 깔고 주문한건데 그냥 원래 쓰던 브랜디나 써야지 어휴\\n어플이 들어가지지않아요. 인터넷연결이 안좋다고 다시시도하라해서 데이터로도 와이파이로도 안돼요. 재설치만 5번째인데 왜이런거에요? 다른 어플은, 게임도 유툽도 버퍼링없이 너무 잘돌아가느데 이 어플은 왜 안되는거죠?\\n앱 사용하려고 깔았는데 왜 자꾸 네트워크 연결이 안돼있다고 하면서 들어가지지질 않나요;; 깔았다 지웠다 하는것도 수도 없이 해봤는데 안되네요 분명 와이파이도 잘 터지는데 혹시나 해서 데이터 사용해서 들어가 봤는데도 안되고 네트워크 연결이 안돼있다고 하네요 빨리 오류 수정 부탁드립니다.\\n진짜 배송 겁나느려요 광고바꿔요 뭔1~2일이에요 4일넘도록안오는데\\n분명 상품준비중에 주문취소를 눌렀는데 왜 멋대로 갑자기 발송시키시는지 모르겠네요ㅋㅋㅋ분명 취소를 했는데도 택배 보내고.. 이래놓고 반품하려고 하면 택배비는 제 돈으로 빠져나가겠죠? 제발.. 진짜 일처리 좀 똑바로 해줘요 제발요\\n버튼을 누르면 로딩이 돼서 10초정도 기다려야돼요 빨리빨리 눌러지면 좋겠습니다;\\n배송이 심하게 느림ᆢ에이블리의 문제인지 쇼핑몰쪽의 문제인지는 모르겠으나 똑같은 무배로 광고하는 브랜디는 배송 굉장히 빠르고 에이블리에서는 주문할때마다 세월아 네월아 하고있음ᆢ걍 같은상품 브랜ㄷ에서 사겠음 별 1개도 아깝다 이거에요\\n별 한개도 아까움 상품도 다 그저그렇고 무엇보다 배송이 너무 느림 입금확인이 일주일 이상지낫는데도 상품준비중이라그러고 진짜 좋은 점은 배송비 안드는게 그것만 좋음 주문한 것만 오면 당장 탈퇴하고 다신 이 어플 안쓸듯 진심 최악이네요\\n제가 처음 사볼려고 이앱을 깔고 주문을했어요.그리고 은행에 가서 입금을 했는데 입금자명이 아니라고 메세지로 오네요.입금자명을 제대로 했는데 입금자명이 다르다고 하니 너무 빡쳐요.하루가 지나니까 주문이 취소되버렸구요 주문이 취소됐으면 다시 입금을 해줘야하는거 아닌가요?지금 그냥 옥상에서 10만원 팍!뿌린느낌이 나네요.지금 별 1개 주는것도 아깝네요.에이블리에서 일하시는분들 좀 제대로 일하세요.이게 무슨경우입니까\\n캬~ 별 한개도 아깝네요. 가입하려니까 이미 가입된 번호라고 하고, 이름과 전화번호만 넣는 아이디찾기에서는 회원 정보가 없다고 하고, 문의 넣으려니까 로그인해야 한다고 하고. 뭐 쓰라고 만든 앱은 맞습니까 ㅋㅋㅋ\\n어떤 제품 내구성때문에 피해를봐서 판매자에게 연락했는데 어쩌라고식으로 대응하고 에이블리에도 이런이런피해를봤다고 문의했는데 판매자측이랑 연락하라고 나몰라라하는모습이 참..보기안좋았다. 바쁜건알겠지만 서비스, cs부분좀 신경써야할듯\\n별점 한개주기도 아깝네요 ㅋ 배송기간도 개오래걸리고 하루안에 안오더라도 2일3일이면 와야되는거 아니에요 ?? ㅋㅋㄹㅋㄹㅋ 아니 4일이 지난 오늘 아직도 상품준비중이라는게 말이되요 ?? 그리고 5월15일날 입고 된다는게 뭔소리야 3일이나 더 기달리라고 ?? 미쳤어요 ?? 그때동안 뭔짓거리하는데 싱품을 계속 준비중이에요 웃음밖에 안나오네 ㅋㅋㅋㅋㅋㅋㅋ 이번주 토요일날 당장 입어야하니깐 토요일 아침 1시까지 보내줬으면 좋겠네요 ^^^^^^^\\n아니 전국 무료배송인데 제주만 빼고는 또 뭐야;; 실재론 제주까지 배송하는데 500원밖에 안든다는데 기존 배송비3000 내고 다시 나중에 와서 또3000원 입금하라는...;; 아니 무료배송이라며;; 그리고 실재로 500원만 하는 배송비 그냥 그렇게만 받죠? 배송비 무서워 옷 못 사겠어요. 다른건 다 좋습니다.\\n사고싶은 옷 있어서 포인트 열심히 모았더니 10%만 사용 가능이네.. 고쳐주세요...\\n반품처리 제대로 안해주네요 반품보낸지 열흘이 지났는데도 업체는 연락두절이고 에이블리에서 조취도 없고 뭐하는건지요? 먹튀당한건가요? 수많은 쇼핑몰 이용해봤는데 이렇게 무책임한곳은 처음보네요\\n요즘같은 총알배송 시대에 배송은 겁나게×2 느리지, 일주일넘게 기다리는데 발송날짜 약속하고도 배송지연으로 또 미루지, 문의같은건 다 프라이빗하고 후기도 없지~ㅋ 물건받고 바로 탈퇴하고 삭제할 앱.\\n하도 페북에 광고 뜨길래 예쁜옷이 많나 싶어서 깔았는데 개인적으로 계속 봤지만 정말 맘에드는 옷이고 없고 정말미안한말이지만 옷이다촌스럽고 지금까지 이런어플중에서 제일 괜찮은 찜할만한옷도 없음 아무리찾아봐도 살만한게 없어서 걍 삭제\\n이거 설치하지 마세요😡 제가 옷을 무통장입금으로 결제를 해서 은행 가서 입금했더니 입금확인 문자가 안 오는 거예요 그래서 에이블리 고객센터에다가 문의를 했는데 에이블리고객센터에다가 문의하래요 뭔 말인지..:; 그래서 보내신 번호로 전화를 해야 되나요?라고 여쭤봤더니 답장도 안 오네요ㅋ\\n아니 옷을 3개 샀는데 1개만왔어요 카톡보니까 지연됐데요 그 다음 바로 배송됐다고 떴는데 4일동안 안왔어요 그래서 배송추적을 했는데 3개다 보냈다고 떳드라구요 저는 1개만 받았는데 7만원넘개썼는데 옷도 안보내주고 문의했는데 연락준다면서 3일지나도록 연락도없고 아오!! 화나네;; 난 옷 1개밖에 안받았는데 3개다 배송완료되서 추적도 안돼고고 옷을 주든지 돈을주든지 문의도 안보고 아휴....;;;;\\n배송지 입력좀;; 배송지를 입력해야 옷을 사든말든 하지않나요? 우편번호 검색도 안돼는데 앱 점검 하셔야하지않을까요;; 우편번호 검색창조차 안뜨는데 어떻게 옷을 사라는건가요\\n지금까지 에이블리 옷 70만원 넘게 구입한 후 쓰는 후기임 일단 배송 개인마켓에서 에이블리로 옷을 보내면 다시 고객에게 오는 방식임 그래서 더럽게 오래걸리고 오래걸리는것때문에 고객센터 전화하면 고객응대 개판임 입고지연이라고 몇날 몇일 기다리게해놓고 일주일뒤에 품절이라고 카톡으로 환불 통보함 ㅋㅋ70만원치 사는동안 제대로 받은 옷이 없음..앱 삭제 하러갑니다~👋\\n상품 결제 완료하고 나서 배송시작 전엔 취소할 수 있어야 하는데 그것도 꼭 고객센터 통해서 해야 하거나 내가 직접 판매자한테 연락해야 됨; 개불편;; 그리고 상품살 때 쿠폰쓰면 그 상품 취소해도 쿠폰은 다시 안 돌려줌 ㅋㅋ 개쪼잔 한번 사기로 결정하면 무조건 사야되나봄 ㅋㅋ\\n하도 택배가 안오길래 사이트에 들어가봤더니 취소예정이라고 써있더군요...취소예정이라는 걸 문자로 알려주고 취소완료로 가야지 취소완료가 뜨고 나서 알려주면 어떻합니까? 문자하나없이 취소예정이란걸보고 당황했습니다. 일 처리 제대로 해주세요.\\n페이스북으로 로그인하려는게 안되요. 아이디 비번 찾기 다 안되고 다시 가입하려해도 이미 등록된 번호라며 가입이 안되네요. 로그인이 안되니 진짜 불편해요.\\n별1개도아까움.. 상품도 없으면서 올려놓는 판매자가 왜그리 많은건지... 구매하고 취소되고가 무한반복... 진짜, 지그재그보다 더함. 정말 잘 생각해보세요...\\n친구들이 에이블리 추천해서 주문도해보고 배송도 받아봤는데요. 업체선별이 참 별로네요ㅡㅡ 전화도 안받고 문의 넣어준다고 해놓고 기달리라는 말만 일주일째 결국 환불처리하고 회원탈퇴하고 지워버렸어요. 상담도 별로고요. 비비비비추천입니다!!!\\n무료배송인척하더니 반품하려니까 반품비 5000원을 달라고하네 이걸 알았으면 처음부터 안샀지... 그리고 배송 너무 느림 @월 @일 순차배송이라고 써있어서 구매했더니 예정일이 지나도 안와서 언제오냐고 문의했더니 쌓아두고 판매하는게 아니라~~이러면서 언제 보내줄지 지들도 모르겠다고하니 아주 답답...\\n한달 가까이 배달이 안되도 에이블리측에서는 한마디 말도없습니다. 너무나 황당한 앱이라 생각이들고 한마디만 남기고 갑니다. 별 하나도 많이 남기네요 고객들이 있기에 에이블리 마켓이 존재합니다.\\n환불계좌번호를 왜해야되는지 몰르겠네요 계좌번호가 노출될수도 있는데 그걸 어떻게 믿고 옷을 사야할지 참..ㅠㅠ이쁜옷은 많은데 계좌번호 때문에 걱정되서 옷을 못사겠네요 환불계좌를 바꿔주든지 없애주든지 어케라도 좀해주시길 봐래요..ㅠ\\n상품준비중만 3일 계속 떠있고 택배사에 보내는 기미가 보이지 않아 문의도 했지만 어느정도 걸릴지 답자체 이전에 그냥 문의에 답장이 없네요 그냥 빨리 처리못하겠다면 차라리 미리 오래걸리고 얼마나 오래걸리는지 확실히 표시하고 지키셨음 하는 바램이 있습니다 그런쪽이 확실하지 않은게 답답합니다 옷이 너무 늦게와서 다음부터는 아에 2주전부터 알아봐야지 안되겠네요 지금 주문해놓은 옷들도 취소시키로 다른곳에서 사야하나 고민 중입니다....\\n일주일이 지났는데 업체핑계대면서 배송안한다,, 심지어 아직 상품준비중^^ 이건 좀 아니라고 생각하는데 주문할때마다 전화하게 만들고 전화안하면 그냥 배송아예 안해주는줄알았네 써본사람들은 알걸요 결국 기다리다지쳐서 주문취소.. 도대체 몇년후에 배송해주려고 아님 아예 그냥 먹튀? ㅋ 진짜 배송지연도 적당히 그만좀하세요 앱평가에 0.1점은 없는게 아쉽네요 1점이 최하라니 1점도 아까워요\\n벌써주문을하고 결재를 했는데도 이제와서 품절되었다고합니다 물론 회사에서 전국의 사람들을상대로한디는건 힘던것도있다는건잘알지만 그만큼 여유로워질수있는 여건과 부라는것도축척이되었다고봅니다 그러시면 충분히빠른시일내에 조치를해주시던지 일주일안에다시배송된다고해놓고선또며칠이지난지금은품절되었다고하니 고객의 입장으로선난감할뿐이네요\\n아니 무슨 터치가 이렇게 안먹어... 아이디 찾는데 터치 안먹어서 한두시간 걸리고 주문하려고 해도 우편찾기 눌러도 암것도 안나오고ㅋㅋㅋ 어제 주문하려고 하루종일 쌩쑈 하다 걍 네이버페이로 주문함 주문을 하라는건지 말라는건지\\n아니 무슨ㅋㅋ쿠폰 금일 12시까지 쓰래서 쇼핑하려니까 어플연결이 불안정하다면서 사진도 안뜨고 엉망이네요 옷하나도 보기힘듬. 인터넷문제인가 싶어서 다른 어플쓰는데는 문제없고 심지어 삭제후 재설치 했는데도 그렇더라구요 브랜디같은 경우는 이런적 한번도 없는데 에이블리는 왜 가끔씩 이런거에요? 분통터짐\\n하..배송 진짜 드릅게 느리네요;;^^무슨 상품 폭주때매 배송이 지연 되서 한 일주일 늦는다고 하네요..이 앱 처음 사용하는데 정말 어의가 없네요 이젠 두개 밀렸네요..\\n이거 뭐죠? 제가 정확한 금액을 입금하지 않아서 지금 결제확인 문자가 않오는것 같은데 그럼 50000원 날린건가요? 환불을 해주시던가 아니면 그 금액으로 그냥 결제해주세요. 대체 문자는 왜 안보시는거죠ㅋㅋ 문의 처리도 너무 느리고 ATM 결제방식도 좀 추가해주세요\\n어플이면 기능부터 우선적으로 하고 편리성에 사용을 맞춰야죠. 어플 광고알림 끄기 설정은 왜없는것이며 그 흔한 환경설정조차도 없는 어플. 오로지 광고와 판매수익만을 위한 어플.\\n진짜 별 하나 주기도 아깝네요ㅡㅡ 제가 지금까지 이 에이블리 앱을 쓰면서 케이스도 시키고 모자도 시켰는데 케이스는 제 폰 기종이 만들어지지 않았데요 차라리 그 기종을 쓰지 말아야죠..ㅡㅡ 그리고 또 모자를 친구랑 같이 살라고 편의점 결제까지 다하고 기다려도 12월 1일에 와야 하거든요. 근데 제 친구 딱 한명은 그냥 같이 계산 안했는데 그 친구 까지 오고 저랑 같이 시킨 친구랑은 딱 그때 안돼서 12월 27일에 온데요;; 차라리 저희까지 주시고 그러시지 너무 해요. 그리고 에이블리에서 구매를 해도 재대로 받은적 한번도 없구요ㅡㅡ 차라리 지금 여러분들도 제 리뷰룰 보셨다면 더른 업체에서 사는게 낮겠어요😑\\n\"옷 모아보기\"만 좋은 앱. 배송시키면 괜히 에이블리에서 배달해준답시고 엄청 느리게 옴. 주문날짜로부터 2주를 기다리는 기적을 맛볼 수 있음. 그냥 사이트 하나하나 들어가서 배송비내고 시키는게 나을듯\\n가입해서 다섯번정도 구매 시도 햇지만 물건은오지않고 매번 배송지연이라는말만 돌아오는곳 한번도 제대로구매못해봄 지연연락도 일체않주고 내가물어야 대답해주고 진짜 무슨이런싸이트가잇나싶네요 왠만하면 이런거 후기안쓰는데 오죽하면 여기다쓰겠나싶지않으세요? 회원탈퇴하고 앱도 없애버렸습니다\\n아니 뭔.. 로그인이 안돼요;;;; 뭔 페이스북 로그인도 안되지 번호 땜에 새로 계정 만들지도 못하지.. 뭔... 어쩌라는 거죠... 비밀 번호 찾기나 아이디 찾기 들어가도 불가능이네요.. 없는 아이디라고 뜨고... 에이블리 자주 이용 했는데 어이가 없어서 너무 하다는 생각도 드네요.. 아무것도 못하게 해놨으니 참.. 쓰지를 말라는건지....\\n뭔가 좀 많이, 굉장히 문디 같네요... 회원탈퇴 하자니까 항목을 아무리 찾아도 없음. 알림 끄기 설정하자니까 \"설정\" 자체가 안보임 .... 이렇게 회원들을 알림으로 괴롭혀서도 장사가 되시나 보죠? 그 회원들은 앉아서 ably 만 만날 뚫어지라 보시나? 문제가 심각하네요!\\n여기서 처음 물건을 시켜보는데요 ㅎㅎ 물건을 2개 시켯어요 기본 4일에 하나는 배송이 오지도 않아요 1일째 멈춰잇고요 하나는 세종시(?)에서 배송이 완료가 되엇대요 전 거기에 안 살아요;; 고객센터에 문의해봐도 답변도 주지 않아요 뭐하자는 앱이예요? 제 돈 아까워서라도 후기 악평으로 남기고 싶은데 리뷰 조작하실껏 같아서 여기에 남겨요 ㅎㅎ\\n별한개도 아깝네요. 품절처리도 제대로안해서 일주일넘게 상품은 받지도 못하고 환불처리만 몇번을 했는지. 그거에 대한보상따윈. 역시 소비자 몫이네요.\\n폰케이스 기종이 너무 아이폰 위주로만 있어요....제 폰이 LG X4 2019인데 폰케이스가 예뻐서 사려고 하면 다 아이폰만 있고....전기종이라고 해서 들어갔는데 X4 2019는 없던데요? 적어도 전기종이면 모든 폰기종은 추가시켜야 되는거 아닌가요.? 폰케이스에 LG X4 2019좀 추가시켜주세요.....추가시켜주시면 자주 이용할께요\\n^^첫구매했다가 정말 화가납니다 어깨선이랑 단추문제있어서 반품처리했엇는데요 상담원님께선 제품엔 문제없다구 그러면서 저랑 20분정도 통화하고 직원착용샷 보내주신다했었는데 근데 갑자기 검수 담당자님께서는 확인잘못해서 죄송하다하구 그제서야 반품처리해준다구하고 증말 처음부터 잘확인좀해주세요\\n전상품 \"무조건\" 무료배송이라면서 도서산간지역에서 주문하면 각 쇼핑몰별로 3,000원씩 배송비가 붙네요... 이럴거면 수도권 전상품 무료배송이라구 하세요.\\n아이디 찾기 하는데 가입이 안된번호 라고 하고 가입하려니까 가입이 된 번호라고하네요;; 어찌해야 할지.. 배송도 품절이여서 재입고 까지 기다렸는데 재입고가 3번에 걸쳐서 1달 넘게까지 미뤄졌어요.\\n택배가 단 한번도 제대로 온 적이 없습니다 기분좋게 받아본적이 없어요 기본 배송이 1일 걸리던 것이 제가 주문하니 7일 넘게 걸렸네요 이거 지워버리고 ㅈ*ㅈ*깔라구요 판매자님... 택배사 문제도 있습니다 택배가 다 찌그러져서 와요 게다가 판매자님이 말씀하신거 그거보고 주문했는데 평균배송이 1일이라고 되어있었습니다 그래서 주문했구요 안적혀있었음 다른데서 주문했겠지요 여튼 제가 주문하니 7일이 걸리더라구요 그래서 에이블리 지웠습니다 저는 이앱별롭니다\\n재고도없으면서 주문만받음ㅡㅡ 진심 쇼핑몰 관리안함 월요일에 시켯는데 목요일됫는데..아직도 준비중 재고가없음 상품내리던지 안내를 미리하던지 물어보기 전까지 절대로 안내 안해줌ㅡㅡ 하...개빡 주문취소만 몇번째인지..ㅡㅡ\\n옷 이뻐서 샀는데 위xx,티x에 더 싸게 올라와있어요 . 그리고 여기에서 주문했는데 언제오는지 문의글 남겨도 연락조차 안왔습니다.. 옷 이뻐서 구매할 수는 있겠지만 사후 처리가 별로임... 이럴거면 티x같은데에서 구매하고 빠르고 더 저렴하게 구매하는게 더 이득인 부분 같아요 .. 개발자님 돈은 넣었고 문의글도 남겼는데 왜 연락이 안오는 걸까요? 업체 선정하실때 최선을 다해서 업체 선정하신거 맞나요?\\n전 진짜 배송비 무료가 가장 좋은 혜택이었다고 생각하는데 다른 곳에서 파는 물건을 배송비까지 추가시켜서 무배예요~ 이러는 거더라구요? 그럼 다른곳에서 사든 에이블리에서 사든 똑같은 거예요 에이블리를 쓸 이유를 못느끼겠습니다\\n업데이트 되고나서 왜 포인트 구매금액의 10퍼센트만 쓸 수 있게 만들어 놨는지 의문..그동안 내 돈주고 내가 산건데 포인트도 마음대로 못 쓰나요?; 에이블리 배송 느려도 그나마 잘 쓰고 있었는데\\n일단 오늘 가입해서 오늘 탈퇴하려함.. 이유는 디자인 복사가 너무 심함 한 쇼핑몰에서 조금 특이한 디자인에 상품을 내고 인기가 있으면 여기저기에서 똑같이 옷을 만들어팜 (만드는지 수입해오는지는 모름) 디자인만 똑같고 가격은 다르며 제질도 다다르고 핏도 조금 다름.. (개인적으로 안좋은쪽으로 핏이 다름) 앱 문제냐 하겠지만 앱 문제 맞음.. 그런거 또한 잘 심사해야하는것이 앱 관리자의 책임임... 이게 잘지켜지지 않는 앱은 상품에 문제가 있어서 문의하면 나몰라라 함 ..이 앱 평가에 그런사람 꾀 있음. 사업자는 앱 관리자에게 문의하라하고 앱관리자는 나는모르오..하는 갑갑한 상황이 벌어짐.. .\\n아니..로레알 파리 1만 원 쿠폰을 받아서 사려고 보니까 다 품절됐길래 며칠 지나고 3시간 뒤 소멸이라길래 다시 들어가 보니 계속 품절이네요? 이럴 거면 뭐 하러 쿠폰을 주신 건지..리뷰 이벤트로 쿠폰 준 걸로 아는데 소비자 대상으로 장난하시는 건가요? 배송이나 제품에 하자가 있어도 소비자가 다 배송비 결제하고..왜 이런 식으로 처리하는지 모르겠네요 제품에 하자가 있으면 당연히 상대방이 사과하고 배송 다시 시켜야 하는 거 아닌가요? 이걸 왜 제가 해야 하는지..\\n처음 에이블리를 이용하여 총 6벌의 옷을 구매하면서 느낀점. G00이나 쿠0 등을 이용하다가 에이블리를 써보니 원래 이렇게 느린건가 싶다. 그 중 1벌은 공장에서 제고가 없다하여 다른 색으로 변경하고 다음날 다시 전화와서 그 상품도 없다해서 취소시킴. 또 다른하나는 1주일이 지나도 싱품준비중이어서 그냥 취소시킴. 늦으면 늦는다고 얘기라도 해주던가-- 암튼 결과적으로 보면 다시 이용할지는 잘 모르겠다.\\n옷 살 때 에이블리만 사용하는 사람인데 예전엔 옷이랑 액세서리 등 만 나와서 참 좋았는데 요즘엔 인테리어 가구라든지 뭔 패치라든지 옷과 관련이 없는 것들이 나오더라고요 그래도 처음엔 몇 개 안 뜨고 해서 그냥 지나갔지만 요즘엔 홈에서 추천상품들 보면 넘길 때마다 1~2씩 계속 나오네요. 관심이 없는데 계속 나와서 그만큼 옷을 보려면 더 내려야 해서 약간 짜증이 나요. 원하지 않는 것들은 빼고 뜰 수 있게 해주셨으면 좋겠어요\\n회원가입 하려고하니 인증실패만 계속뜨고 스크롤 내려서 의상 보고 다시 올리니까 이미지가 안나오네요. 하필 제가 할때만 오류가 자꾸 나는 걸까요 ㅠㅠ 사고싶었는데.. 저에게는 인연이 없나봐요 아쉽네요.\\n교환/반품이 어렵구요.교환반품 배송비 등등이 더 많이 드네요 교환반품 하기도 어렵구요. 그리고 배송이 진짜 너무 늦어요 ; 이 점들만 바꿔주시면 감사하겠습니다.\\n에이블리에 핸드폰케이스가 예뻐서 사려고 했는데 lg Q 6,7,8,9는 있는데 lg Q51이 없어서 다 찾아봤는데 없어서 많이 아쉽네요\\n쿠폰 사용 가격대를 낮추고 더 많이, 자주 뿌려주셨으면 좋겠습니다.(ex.3만원 이상 구매시 3000원 할인쿠폰->1만원이상 구매시 1000원 할인쿠폰) 이벤트는 좋지만 렌덤 당첨 이벤트는 안했으면 좋겠습니다. 렌덤뽑기를 한다면 꽝은 없었으면 좋겠습니다. 뽑기를 하면 당첨자는 극 소수이기 때문이죠.. 항상 꽝 걸리는데 솔직히 꽝 걸릴때마다 속상해서 에이블리 싫어져요. 리뷰에 쓸대없이 자기 본진 사진이나 짤 사진 올리시는 분들 많으신데 이거 좀 걸러주셨으면 합니다. 리뷰 보는데 너무 방해됩니다.\\n광고보니 폰케이스 싸고 이쁜 케이스 많길래 깔아보았더니 예쁜 케이스는 많은데 가격이 3690원 이라고 써있길래 얼씨구나하고 사려고 보니 세상에나 12600원 이네요ㅠㅠ너무속상합니다 거기에63퍼센트 할인 이라고 써있어서 좋아했는데 아이가 속상해 합니다.....\\n싸고 예뻐보이는 옷들이 많긴 한데 솔직히 말해서 한 계절?도 못 입는 옷들이에요 오래 입을 옷들 살거면 다른데서 좀 더 돈 주고 좋은 옷 사는걸 추천해요ㅠㅠㅠ\\n다 조은데,,, 카드 등록으로 체크카드 구매도 가능하게 해주심 안될까요ㅠ 학생이라 맨날 부모님께 부탁하기 눈치보이기도 하고..\\n뭐임;; 에이블리 등급 브알피플ㄹ러슨데 뭐?ㅋㅋㅋㅋ 6만원 결제해야 한다고여..? 저번에는 51만원이라메요. 버그인가 싶어 지우고 다시 로그인하고 업뎃도 했는데 안돼요 좀 고쳐주세요 ㅈㅂ\\n배송이 너무 느리네요 2주일 만에 오고, 먼지도 묻어나오네요. 비추합니다. 역대 최상 별로인 앱 앱도 정말 안 들어가지고 진심,화났습니다. 개발 좀 하세요.\\n지금까지 23건구매중에 배송이 조금느린정도가아닌 잊어먹고 있어야되는게 몇건되고 배송오류로 안오는거도있었는데 문의넣으니 늦게라도 해결은되었습니다.애들이 주문해달래서 사용은하는데 배송지연이 너무많은거 같아 아쉽네요\\n어제부터 계속 인터넷 접속이 불안정하다고 뜨고 들어가지지 않네요..주문한 제품도 있는데.. 어서 조치를 취해주세요ㅠㅠ\\n상세치수를 기재안해놓는 쇼핑몰이 있어 불편해요! 그리고 찜할때 카테고리 설정여부는 선택할 수 있으면 좋겠어요. 마지막으로 장바구니 품절상품 삭제기능이 있으면 좋겠습니다\\n두번 주문 후 다 반품하고 앱삭제합니다. 단독 온라인샵들보다 너무 질낮고 디자인별로인 옷들이 섞여있다는 느낌이 강하네요.\\n너무 예쁘고 좋은제품들이 많은데 제가 몇일전에 취소를했는데 완료라면서 몇일이 지나도 돈이 안들어오네요 얼른 다시 돈 돌려주세요\\n전 상품 무료 배송이라길래 구매하려 보니 제주여서 그런지 물건 하나하나 마다 3천원씩 붙어서 배송비만 만 5천원이네요.ㅋㅋ이정도면 제주도 사는게 잘못인건가..ㅋㅋ\\n잘쓰고있는데 몇일전부터 인터넷이 불안정하다고뜨고 작동이안됩니다 ㅠ 업데이트도햇는데 이거와이러나요 딴건 다 잘됩니다 ㅠ\\n옷이랑 다 이쁘고 좋은데 거의 2달정도까지 취소진행이어서 문의를 했더니 매장에는 취소를 했는데 에이블리 쪽에서는 아직도 취소 진행이고 제 돈을 꿀꺽한것 같아서 기분이 별로내요\\n배송이 너무 느려요.... 산지 일주일이 넘었는데 배송중도 아니고 졸사 찍을때 입으려고 한건데 졸사 찍기 하루 전까지도 안 와서 결국 환불하고 딴데가서 옷 샀습니다 아무리그래도 배송중인데 일주일 넘은거면 참을 수 있어도 배송중도 아닌데 일주일동안 소식이 없는건 너무라다고 생각하네요\\n지그재그에 비해서 사용이 불편함. New메뉴는 신상만 따로볼수있게 만들어놓은게아닌가 근데 다뜸. 업뎃왜했는지 모르겠음\\n리뷰포인트를 너무 늦게 지급해줘요... 24시간 이내라고 써놓아놓고선 5월 3일에 리뷰 여러개 다 썼는데 5월 5일에 포인트 지급한다고...; 24시간 이내라고 써놓질 말던가\\n스토어 차단이나 안보이게 설정하는 기눙 추가해주세요 너무너무 필요합니다ㅠㅠㅜ또 스토어 별점줄 수 있도록 평가방식도 도입해주세요\\n상점이 이렇게나 많은데 도시적이고 멋있는 스타일은 하나도 없다. 다 비슷비슷한 파스텔톤 여리 헐렁 스타일..\\n문의 했는데 답장도 안 오고 몇칠이 지났는데 계속 상품 준비라고 계속 떠요. 그리고 배송지 잘못 입력 해서 문의 했는데 답장이 안오네요.\\n배송이 너무 늦게 옵니다. 2주 전에 시켰는데 아직도 상품 준비중이라 하고 상품이 오지 않았어요.\\n아니 우편번호 누르면 초기화돼서 사지도 못하고 있는데 뭐하시는거죠? 뭐10년에 한번 점검하시나요?\\n쿠폰 사용이 30분 남아서 사용하려는데 왜 하필 이때 결제가 안되는거죠?\\n모델핏이랑 실제옷이 너무 다른곳이 많아요.. 뽀샵떡칠 후줄근합니다\\n물건을 시켰는데 계속 며칠지연돼고 한참기다려야돼고 그리고 이상한게 떠요\\n번호인증 누르면 자꾸 실패했다고 떠서 가입을 할 수가 없어요 ㅠㅠ\\n티비랑 이곳저곳에서 광고는 엄청 나오는데 왜 사이트접속이 안되는건가요? 지금 거의 2주 다되어가는거같은데 개선을 해주셔야 구매를 하던가 하죠... 광고만때리면 어떡하나요..3월부터 지금까지 계속그래서 포인트가 얼마남아잇는지도 확인도 안되고 주문하고싶은것도 할인을 아직까지 하는지도 확인안되서 답답합니다\\n에이블리 특 : 불량품 문의에 답장 절대안함\\n검색어만 나올수있게 개선 좀 해주세요ㅠㅠ후드티를 검색하면 후드티만 나오는게아니고 니트며 속옷이며 별의별거 다나옵니다...자주 사용하고싶어도 찾기도 힘들어서 자주사용하지 못해요...그리고 어떤 마켓들은 10000원이라고 올려놓고 14000원 이런식으로 파는곳도 있더라구요...그래서 리뷰도 꼼꼼히 보게 되는 편입니다.\\n이벤트 한 번도 걸린적 없는 사람입니다 꽝 볼 때마다 속상하네요\\n많은 제품이 있고 필터도 있어서 원하는 물건을 찾기 쉬워요. 근데 섬유향수 반품하고 반지는 주문하고 입금도 했는데 반지는 주문확인도 안 돼고 섬유향수는 아직까지도 환불이 되질 않아서요. 에이블리 고객문의 번호에 전화를 했는데 상담원이 안 받는건 무슨 경우죠?\\n옷들은 배송 잘 받았는데 첫 포토리뷰쓰면 1000원의 적립금을 준다길래 정성들여 썼는데 몇시간이 지나도 적립이 안되네요;; 구매확정한건 포인트가 바로 들어오는데 지금 리뷰 2개 작성한건 둘 다 안들어와요....\\n3월 9일에 시켜서 기다렸는데 11일에 품절이 되었다고 문자가 왔어요 근데 지금까지 돈과 포인트가 들어오질 않네요 ㅠㅠ 원래 느린건가요 ? 빨리 사야하는데 돈과 포인트는 다시 들어오지도 않고 ;;\\n옷은 이쁜데요, 서비스나 주문 등 이런 면에선 너무 별로예요. 월요일에 입금했는데 주문 폭주로 지연되서 다음 주 화요일에 재고가 들어와서 또 몇일 뒤에 옷 받았어요. 제가 옷이 급해서 최대로 가능한 빠르게 당일 아니면 내일 입금을 한건데, 제가 급한 거에 비해서 옷이 너무 느려요. 물론 주문 폭주때문에 지연이 된건 어쩔 수 없지만 그래도 전 1주일 하고 하루 전에 급해서 입금을 했는데 주문 폭주라는 이유로 지연이라니..ㅋㅋ\\n리뷰올릴때 사진첨부도 잘 안되고 리뷰수정도안됨. 그리고 물건보려고 들어가면 그냥 흰화면만 뜨는 현상이 자꾸생김 그리고 알고리즘...진짜 뭐하나 봤다하면 그거만 주구장창 띄워주고. 개빡침 뭐 딴걸 볼려해도 자꾸 똑같은거만뜨고 그리고 리뷰사진 자꾸 잘림\\n솔직히 좋긴 좋아요...이쁜것도 많고 싸게 살 수 있어서 좋긴한데 제가 같은 곳에서 같은 지갑을 하나 사려고 하다가 환불사유를 단순변심으류 입금을 안하고 같은 지갑사려고 11000을 입금까지 했는데 갑자기 먹튀를 하네요; 사장분깨서 착각이 있으신거 같은데 좀 잘보고 해주세요....900원을 주시는게 어딨으세요 그리고 저기 900원은 심지어 포인트에요...;;^포인트 값만 받고 제 돈은 그대로 가져가시네요..너무 실망입니다\\n147이상인 사람은 쇼핑을 하라고 하는건지 모르겠음 147봐도봐도 1개밖에 안나오고 160정도 가야 100몇개 나오네요;\\n다른 건 다 좋은데 서비스같은 면에서는 별로 좋지 않은 것 같아요...\\n기본적인 색상들만 제대로 오고 아이보리를 시켰는데 포장을 뜯으니 반품관련 종이도 없고 택도 없고 노란색이와서 반품신청을 했더니 택이 없어서 환불이 안된다는데 어이가없습니다\\n에이블리만 썼는데 실망이네요.. 무통장입금했는데 입금확인은 뜨질 않고 고객센터는 토요일이라 전화안받고 문의도 보질않으시네요 결국 자동취소됐어요..☹\\n에이블리 앱만 접속이 안됩니다 ㅠ 꽤 문제가 오래가고 있는데 해결이 너무 늦네요\\n다른건 다 좋은데 문의를 해도 보지를 않으시고 카톡도 읽지를 않네요. 전화는 할 때마다 상담원이 다 전화 중이라 하고요. 어떻게 해야되는건지 모르겠네요.\\n오류가 너무 많아요 입금하고 1일 지났는데 결제 완료 처리가 안되고 취소됐다가 그제서야 결제됐다고 뜨네요 덕분에 배송도 늦어졌어요\\n에이블리 가격 규제좀 해주시면 안되나요... 분명히 7000원이라고 나와있었던게 막상 결제창 가니까 만원 훌쩍 넘고 이게뭐하는건지 싶어요. 가격으로 사기치면 가격필터 쓰는이유가 없잖아요ㅠㅠㅜ\\n글씨가 자꾸 겹쳐서 보이는데 어떻게 빨리 해결좀 해주세요. 쇼핑몰이라 글을 읽는것도 중요한데 글씨가 겹쳐보이면 어쩌자는거죠. 문의를 넣으면 하루는 그냥 건너뛰어버리고요. 기다리는 사람들은 생각을 안하시나 보죠? 빠른시일내 처리부탁드립니다.\\n옷을 사도 등급 점수가 그대로인데 왜 이런거죠?..\\n옷은 이쁘고 무료배송도 좋은데 포인트 있는 거 조금씩 말고 다 쓸 수 있게 해주세요,,그것만 바뀌면 별5점입니당..\\n검색에서 반팔티셔트라고 검색했는데 겨울옷이 나오네요.다 긴팔이고요.검색해도 검색한게 아닌 다른게 나오니까 좀 짜증이 나요.\\n내가 사고 싶은 상품들만 바로바로 찾아보기 위해서 이 앱을 설치한건데 검색결과에는 내가 검색한 것과 전혀 상관없는 상품들이 나오는 바람에 찾는 시간이 더 걸리네요;;\\n상품목록 중에 품절된 상품은 빼주세요 번잡하고 리뷰도 본인의 신체사이즈와 같은 분의 리뷰 골라볼 수 있게 해주세요\\n분명 케이스를 샀는데 거기서 하루가 91%, 이틀이 9%였는데 아직도 집하도 안됐는데 배송중이라고 뜨네요 이거 다거짓이네요\\n다좋은디 왜 에이블리만 켜면 네트워크가 불안정하다는지....와이파이 잘돼는데 에이블리 혼자만 연결안된다고 말썽이네요..\\n좋은데 사진리뷰 관리 좀 해주세요.. 제품 보러들어가면 제품사진은없고 제품이랑 관련없는 사진들만 있네요\\n다 좋긴 한데 폰케이스에서 삼성이 별로 없어서 아이폰만 너무 많아서 좀 그러네요 ;;\\n1 아이폰만 밀어줌 2저작권문제가 있는지 3몇개이상 구매 4에이블리와 맞지않는 물품 5완구의 터무니 없는 가격\\n지난번에 소프라이즈 기대해 라는 깜짝쿠폰을 2월 9일에 일괄 지급한다 했는데, 하루가 넘은 지금까지도 왜 안들어 오는거죠? 빨리 지급해주시면 좋겠네요.\\n다 좋은데 제 폰이 많이 없는 기종이거든요? 근데 에이블리에는 제 폰기종인 케이스가 아예 없네요;;\\n앱이좋긴하지만 제 폰 폰케이스는없어요ㅜㅠ 항상 다른어플도 해보는데 진짜삼성J4+핸드폰케이스 좀 부탁드려요요ㅠㅠ제발요ㅜㅠ\\n서버 불안정하다고 무한로딩만 뜰때가 너무 많아요. 제발.....\\n제품을 보려고 해도 앱이 계속 꺼져서 볼수가없음.. 필통 하나 사려고 했는댕..\\n샤샷ㅇ양ㄹ샤령ㅇ 왜 리뷰쓰면 포인트 준다면서 안줘요 그리고 구매확정해도 준다며요 ㅠㅠㅠ ㅠ 안!!!! 줌!!!!!!!\\n음...쿠폰도 한번에 1개밖에 못쓰고 포인트도 상품가격에 10%밖에 못씀...\\n키르시 5000원 쿠폰을 쓰려고 했는데 쿠폰을 사용할수 없데요 이럴꺼면 쿠폰을 왜준거죠??좀 어이없네요\\n몇몇 업체 빼고는 배송이 너무 느려요...\\n아니!이거 야골리는건가여? 제가 투표할때마다 왜 아쉽게 안됀다구 하나여?\\n주문내역이 영 먹통이네요\\n첫할인좋긴한데 할인해주는척낚시하지않기바람\\n좋지만 배송 기간이 길어요ㅠㅠㅠㅠ\\n아니 무슨 이벤트를 하려면 제대로 하세요 제발 이벤트 하려고 했는데 안되잖아요 사람 짜증나 이벤트 날짜좀 제대로 알려주세요.!!\\n배송이 느려요 그레서 짜증나요\\n모래사장에서 잃어버린 반지 찾는 것 같은 앱. 분명 키워드가 포함됐는데도 검색하연 안 나오는 경우 많음. 그리고 이 앱만큼 사람 짜증나게 쿠폰 주는 앱 없음ㅋㅋ 맨날 쿠폰을 2만원 이상부터 쓸 수 있게 지급함. 진짜 가끔 가다가 쓸만한 거 하나 줌. 한 번에 그런 금액 결제하기 부담되는 사람들은 그냥 이 앱 쓰지말라는 거 같음. 5만원인가 그 정도이상 썼다고 등급 올려줬던데 등급 올라왔다고 주는 것조차 3만원 이상부터 사용가능한 1000원 쿠폰ㅋㅋㅋ 내가 고작 1000원 할인 받으려고 3만원을 써야합니까? 경제적 부담이 있는 사람들은 정말 고령안한 앱. 그리고 가격 뻥튀기 너무 심함. 요즘 유행한다는 만두 말랑이도 문구점에서 2~3000원에 팔던데 여긴 최소 5500원 무료배송으로 광고 엄청 하던데 무료배송인만큼 가격뻥튀기 겁나 심함. 그리고 옷 여기서 사지마셈. 랜덤 오짐. 그래도 가끔 살만한 거 있긴 하니까 별 하나 추가함.\\n음..좋아요 옷도 이쁘고 무료배송이고..근데 검색창에 찾고싶은 단어를 검색하면 검색한것 외에도 떠서 찾기가 힘들어요.. 찾으려하는것보다 그 외에 것이 더 많이떠서..이럴거면 검색창을 왜 만들었나..하네요.(ex.\"버즈케이스\"라고 검색-에어팟 케이스나 에어팟 철가루 방지 스티커가 더 많이 뜸..)꼭 개선해주세요..\\n주문취소 과정이 매우 불편. 문의를 통해서만 가능.. 포인트도 늦게 들어옴..\\n태극기를 좋아하는데 태극기 옷이 없다는거에 실망을 좀 했네요.. 키링 말고 티셔츠 점퍼 등 많이 있으면 좋겠네요\\n에이블이 잘 쓰고 있는데 개선 해야할 점이 한두개가 아니네요 제가 정리해드릴테니 읽어보시고 개선하셔야지 앱사용자가 더 늘어날겁니다 제발 좀 개선해주세요 1. 택배비 무료는 무슨 무료입니까 모든 곳이 그런것은 아니지만 택배비가 무료라 하면서 실제로 비교 해보면 (원래가격+배송비) 합쳐 놓은 것이면거 배송비 무료라는 것은 너무 소비자를 기만한 행위 아닙니까? 2. 에이블리 제품 가격 명시 몇몇 다수의 마켓에서 제품 가격을 명시 할때 예를 들자면 10000원짜리를 95%할인! 을 적용해 500원에 판매하는 것 처럼 명시해둡니다 들어가서 확인해보면 막상 제품을 고르고 주문했을 때 13000원이라는 가격을 제시합니다 이건 너무 한 것 아닙니까? 시간이 너무 아깝습니다 신고를 할 수 있게 만들어주시던지 에이블리 관계자가 쇼핑몰이 이런 행위를 하지 않도록 단속해 주세요\\n정말 에이블리 전부 다 좋은데 딱 하나 아쉬운 점이 있어요. 상품을 받았고 네이버 배송조회에서도 배송완료라고 처리가 되었는데 에이블리에서는 아직 배송중이라고 떠서 바로바로 리뷰를 남기지 못한다는것이 아쉬워요 ㅠㅠ 배송이 완료되면 바로 배송완료라고 업데이트가 되게 수정해 주시면 정말 좋겠습니다 ㅠ(+only 신규 회원 적용이 15000원 이상 사야 쿠폰을 쓸 수 있더라고요? 그래서 열심히 15000원 채워서 담았는데 적용 상품 밑에 있는 것들 중에서 골라야 하더라고요 ㅋㅋㅋ 그래서 다시 잘 골라서 담고 결제를 하려는데 와 14800 상품 담았다고 적용이 안되더군요^^ 뭐 이런 그지같은게 다있는지 ㅋㅋㅋㅋㅋㅋㅋㅋ 이럴거면 거기에다가 15000원 이상 상품만 놓으시지 9천원 13000,14800 상품들 왜있는건데요? 진짜 이해 안되네요 ㅋㅋㅋㅋㅋ 수정좀 빠른 시일내에 부탁드립니다. 리뷰를 읽긴 하시는건지 참;;)\\n진짜 여기 상점들은 무슨 고객을 호구로 보나요? 상품준비중만 일주일 넘게 걸리는 데가 엄청많네요 그래놓고 2일뒤에 오는게 정상이라고 써져있는게 젤 웃깁니다. 그러고 상품이 입고가 되지않았다면서 지맘대로 환불처리하고 진짜 어이가 없네요 이런 상점들을 평가할수 있는, 사진이나 증거를 올리고 그 상점에 대해 평가할수 있는 커뮤니케이션 공간을 만들어주셨으면 합니다. 그래야 상점들이 더 책임감을 가지고 일하지 않겠나요? 이런상태로는 어떠한 방법으로도 그 상점에 대해 다른 고객들에게 말해줄수 없으니 너무나 답답합니다.\\n에이블리 예전엔 만원 구매시 10%쿠폰도 많이 뿌려주고 좋았는데 이제 쿠폰 찾기 어렵게 바뀌었네요 광고도 많아지고ㅜ 원래 에이블리는 쿠폰 많이주는 맛으로 썼었는데 지금은 쿠폰도 딱히 쓸데가 없어서 잘 사용안하게 되네요.. 예전처럼 쿠폰 많이 뿌려주세오..\\n쿠폰을 여러개를 사용 할 수 있었으면 좋겠어요.\\n쿠폰가지고 장난질 좀 치지마세요\\n이쁜것도 많고 이번에 케이스부분에 갤럭시 추가해쥬신것두 너무 감사한데요ㅜ, 저는 갤럭시 A 인데, 갤노트랑 S 만 있더라구요ㅠㅠ 제 기종만 포함되면 맨날 케이스만 살텐데 아쉬워서요ㅠㅠ 이것 좀 제발..............\\n에이블리 무료배송 이라길래..타 사이트나 앱과 동일 가격 측면으로 배송비 무료 제공 인줄 알았는데 그건 아니네요..ㅠ.ㅜ 가격이 더 붙네요...\\n에이블리에서 요즘 말랑이나 팝잇이 유행한다해서 팝잇이랑 만두 말랑이를 샀는데 팝잇은 괜찮은데 만두말랑이가 터져서 왔더라고요 그래서 제가 에이블리에서 안사고 직구를 하는데 진짜 이런거 없게해주세요 제발\\n개념없는 판매자 있음 주문 18일 일방적취소\\n무료배송이라는 점에 끌려서 사용해보앗습니다. 그런데 보니까 다른어플에서 판매하는것보다 비싸길래 비교해봣더니 결국 상품에 배송비를 붙여서 판매하더라구요 결국엔 무료배송이 아닌거 아닙니까...? 그리고 제가 잘 못찾는건지 하나의 매장에서 원하는 옷 찾기가 너무 어렵네요ㅠ 구분도 잘안되어잇고.. 첫구매 할인만 받고 안쓸생각입니다.\\n옷이 진짜 예쁘고 무료배송이라는 메리트가 커서 이용중이었는데 최근 꽤나 실망스러워 이제 다른 앱으로 갈아타려고 합니다. 개강기념으로 옷을 50만원어치 샀는데 vip로 승급만 시켜주고 다른 혜택은 없네요. 이건 아무렇지도 않지만 매번 기본 일주일은 넘는 배송기간, 배송출발 전 주문취소를 하려면 문의를 통해 허가를 받아야 할 수 있다는 점이 사용하면서 꽤 크게 불편함이 느껴졌습니다. 문의에 대한 답변 또한 매우 늦게 오고요. 기본적으로 하루 넘게 걸러 오는 것 같습니다. 정말정말 옷 예쁜거 하나 보고 버텨왔는데 이제는 참지 못하겠습니다..\\n아직 구매한적은 없지만 꼭 구매를 해볼껍니다\\n인스타마켓, 블로그마켓들이 많아서 그런지 다 똑같음 스타일이. 색감이나 디테일한 부분은 안 보여줌 마켓순위 1위에서 16위까지는 그냥 다 같은 사람이 찍은건가 싶을정도임 검은머리 약간 웨이브져서 상의 앞을 다가림 그리고 엉덩이는 뒤로뺌 1~3위는 그냥 세쌍둥이 목걸이마저 비슷함 이렇게 마켓들이 다양성이 없음\\n평소 지그재그 어플 애용했는데 배송비가 좀 부담스러워서 친구 추천으로 깔았었어요. 옷보니까 다들 비슷비슷하던데 무료배송이니까 한계가 있겠다 싶었어요. 근데 배송이 느리단 얘긴 들었지만 이렇게 느릴줄은 몰랐네요. 주말 제외해서 적어도 5일 안에는 택배회사라도 가야하는거 아닌가요...? 택배 조회도 힘들고...; 배송이 좀더 빨랐으면 좋겠어요.\\n현재 배송주문을 하려고 2 이틀 헤메고 있지만 안되네요..? 우편번호 검색에 왜 검색창도 안뜨고 아무것도 클릭이 안되는지요...? 혹시나 오류인건가해서 삭제했다 깔아도 안되고 새벽에해서 린되나해서 아침에 다시해도 안되네요 이 문제를 어떻게 해야하나요?\\n상품을 모아서 파는걸 금지해주세요 전 상품 3000원~ 이라고 적어놓고 18000원 상품이 나와버리네요 기분 개더러움 10만원 쿠폰 당첨되고 1000원쿠폰도 쓸곳찾아서 1점 올려줌\\n별 3개를 뺀 이유는..다 무료배송이라 좋고..키 조절기능과 색상과 가격까지 있어서 좋은데..배송이..주말에 않하다보니..너무 늦어요..!제 부모님이 롱치마를 시켜주셨는데 거의 1주일 정도 됬는데도 않오네요..배송이 너무 늦어서 아쉽네요..브랜디 앱처럼 하루배송이면 괜찮겠네요..\\n상품상세보기 칸이 안떠요ㅠㅠ! 몇번이나 지우고 깔고를 했는데도 그냥 흰색 화면이네요.. 저만 그런줄알았는데 다른분들도 그런걸 보니 앱오류인것같아요.. 옷 사고싶은데 지금 옷이 어떤건지도 잘 안보여서 살수가없네요..ㅎ 앱 오류 확인부탁드려요\\n상품 가격 표기 좀 제대로 해주셨으면 좋겠어요. 1+1에 8500원이라길래 들어가서 옵션 선택 했더니 두개 합쳐서 3만원 넘게 나오네요. 무슨 경우죠 대체? 일부 상품만 8500원인거면 이해가 가는데, 1+1 표기 해놓고 두개 가격 따로 받는건 뭐하자는건지 모르겠네요... 한 두 상품만 이러는것도 아니고 싸다싶어서 들어가면 그 가격에 배가 되는 가격이라던가, 행사 상품도 아니고.. 가격 표시 기준이 뭔지 참 궁금하네요.\\n환불 처리 부분에서 다소 미흡한점이 많네요. 마켓쪽에서는 에이블리 고객센터로 연락하라 그러고... 에이블리 고객센터에서는 마켓쪽으로 연락하라하고... 마켓에서는 해당 사이즈 재고 소진으로 물건 못보내드리게 됬으니 환불 하겠냐고 물어봐서 환불한다 했더니 갑자기 배송중으로 바뀌고 배송 완료로 막 바꾸시고.. 그것때문에 지금 에이블리쪽에서는 다시 마켓으로 연락하라고만 하고 정말 재밌게 돌아가네요. 환불 처리 부분 다시 검토해주시고, 마켓에 평점을 매길 수 있는 제도를 마련해주셨으면 합니다. 그리고 카카오톡 고객센터는 읽는 시간좀 단축해주셨으면 해요. 제가 칼답해도 그쪽에서 3-4시간에 한번씩 확인하니 오늘 하루종일 카톡을 해도 진전이 전혀 없네요. 그래도 추천상품이나 베스트 상품같은건 보기 편하고 좋아요.\\n옷 사이즈가 대부분 너무 큰 거 같아요ㅜㅜ 적어도 160은 넘어야 맞을듯한 사이즈에요. 검색어에 키작녀 라구 쳐도 다 품절이거나 한 6개 정도 밖에 안 나와요ㅠㅠㅠ 이 앱 사용하실분은 좀 평균이신분만 깔으세요.. 저는 깔았는데 사이즈가 너무 커서 주문도 못해보고 삭제하네용..\\n무료배송이라고 해도 무조건 더싸다고 믿지마세요.같은 마켓 같은 옷 인데 다른 앱에서 훨씬 더싸게한후 배달비가 더 들어가는데 배달비 더 내는게 훨씬 더 쌌어요.저는 그걸 보고 꿰 배신감이 들더라고요.할인쿠폰 많고 할인도 많아 보기에는 더 가성비가 좋아보이는데 사보면 천재질 엄청 싸구려재질인것이 많았어요.꽤 비싼 옷을 쿠폰할인해서 샀는데 재질이 세탁한후 옷걸이에 한번 걸어 늘었다고 그대로 늘어나기도 했어요. 앱에 이벤트나 디자인 홈페이지 다 좋았는데 옷의 질은 제가 만족해본적이 없네요.\\n일단 전 이앱 비추에요. 왜냐면 옷도 이쁘고 다 좋은데 배송이 너무 느려요..무슨 배송이 2주나 걸려요..? 그리고 사이즈 측정할 수 있는거랑 댓글(?)달아서 작성자와 이야기헐 수 있는 기능이 없어요. 그래서 전 비추에요.\\n제가 에이블리 옷은 진짜진짜 다른곳보다 많이 이쁘다고 생각하거든요..근데 배송한지 2주가 지났는데도 안오네요ㅋㅋ 슬슬 지쳐갑니다 리뷰보니까 저처럼 느리다고 하시는분들 좀 있으신거 같은데 이시국에 힘드신거 알지만 사서 받는 사람 입장도 생각해주세요ㅠ 복잡한 지금 열심히 해주셔서 감사해요ㅠ 다른건 다 괜찮아요 배송만..좀\\n언제 출고되나요 셀러자체배송은 다 옷이왓는데 에이블리바체배송은 아직 안왓네요... 품절되기전에샀는데 미리 수량을 확보해야되는거아닌가요 가을에입을려고 산옷 겨울되서 입을꺼같은데요 ... 옷이 예뻐서 믿고 샀는데 언제 제 옷들을 받을수있는지모르겟네요 입금확인도 제대로안되있고 저번주 추석 쉬고 시켯는데 아직도 출고도 안된상태.... 밀린거는 이해하는데 너무하네요 ㅠㅠㅠ\\n카테고리 분류 진짜 개판. 반팔 카테고리데 맨투맨부터 자켓까지 다 들어있는 정도 검색을 롱스커트라고 쳐도 미니스커트, 바지까지 다 나오고 검색에 관한 배려나 깔끔함이 전혀 없음. 색상 선택도 마찬가지. 흰색을 설정하면 배경이 흰색이라 흰색카테고리로 나옴. 판매자가 색상분류를 선택하게 만들면 되는거 아닌가? 그리고 마이페이지 들어가면 바로 안떠서 재시작을 4번정도 해야함~~\\n불안해서 못쓰겠어요. 돈 입금해놓고 주문 똑바로 했는지 확인하려고 재접속 하는데 잘 열리다가 입금후 재접속하니 앱이 열리지도 않고 와이파이 인터넷 데이터 전부 문제없는데 인터넷연결이 불안하다면서 앱 접속도 안되고 참.. 그리고 주문내역에서 세부내역을 보려면 주문번호를 누르라는데 아예 눌러지지도않음. 불안해서 물건 사겠나요\\n에이블리에서 쿠폰을 써서 결제했는데 판매자가 판매가어려워 반품을 했어요. 근데 환불금액이 좀 이해가 가지않아서 에이블리측에 물어보고싶은데 방법이없네요. 판매자분께 여쭤보니 환불처리 하셨을 뿐이구요. 쿠폰쓰인걸 제외하고 환불된거같다 하는데 제 선택도 아닌상황에서 반품처리됏는데. 기준이궁금한데 어디로 물어봐야하죠??\\n옷은 너무 예쁜데 배송기간이 너무 느립니다 수요일에 문의도 넣었는데 목요일인 지금까지 답장도 없고 준비기간이 평균 2일이었던 옷을 구매하고 다시 보니 4일로 바뀌어 있네요 이번주 안으로 옷을 받아야되는데 이미 망할대로 망했고 문의도 안보시고 뭐 어떻게 해결할 방법이 없네요\\n이쁜 용품들이 정말 많은데, 폰케이스 맘에 드는건 다 아이폰 꺼 밖에 없더라구요 갤럭시 케이스도 이쁜걸로 많이 내주셨으면 해요.. 도끼나 식칼 케이스 같은 경우는 카메라 위치만 바꿔서 구멍을 뚫으면 될텐데 아이폰꺼밖에 없네요.. 너무 아쉬워요. 아이폰 아래로는 핸드폰으로도 안 보시는 건가요?.. 케이스 사기 참 어렵네요..\\n나애게 딱 맞는 제품은 무슨.. 케이스란 케이스 다 둘러봐도 맞는 케이스 하나도 없고요. 예전 폰이라 출시될수 있는 기종이 아니라 불가한거면 충분히 알고 이해하겠는데 2020년에 출시된 폰이고,나오는것도 여러가지가 아니고 일종 제품만 나와있어서 제작자분께 문의를 해보니 입고 하겠다 하셨는에 시간 지나니 또 보이지도 않고요. 대부분 다 아이폰으로 구성된 탓인지 갤럭시 케이스나 삼성 케이스도 별로 없더군요. 찾아보기 어려울 정도로 갤럭시 신제품들은 제데러 보이지도 않더군요. 그 기종 유저들은 어떻게 하라는건지 별로입니다. 입고 될 예정이면 확실히 해주셨음 좋겠습다.\\n앱에있는 마켓 관리 별로인거같아여^^ 앱과 마켓이 따로노는듯 한 느낌이네요^^ 목도리 세일해서 시켰는데 저번주 금요일날 배송출고 알림떳고 심지어 앱에도 그럽니다. 근데 우체국택배라는데 조회가 안되는거에요. 문의남겼는데 택배조회해보라고나 하고. 전화해보니까 재고없었는데 출고알림 잘못갔다고 정정했다고 하시는데 앱이 아무정보도 안뜨네요^^ 아니 재고없으면 주문을받지말고. 주문받았으면 안내라도 재대로 주셨어야죠. 앱도 따로놀고 마켓도 따로노네요\\n아니 전부 무료배송이라 해서 기분 좋게 옷 한 일주일 동안 신중히 고르고 시키려고 하는데 배송지에 제주도를 치니까 상품 마다 3천원씩 내야 되는 걸로 바뀌는데 내가 어이없어서 돈 좀 줄여보려고 상품도 바꿔보려했는데 아니 아무리 생각해도 마켓 상품 1개에 3천원이라뇨 우체국 배송만 해도 그정도 돈은 안나오는데 누굴 호구로 보시나요? 전상품 다 합쳐서 배송비만 2만 천원 나왔습니다 이부분만 좀 바꿔주시면 안될까요 예를 들자면 전상품 합쳐서 배송비 반으로 라도 줄여주세요 제발요 지금 멘붕되서 에이블리 삭제할 위기에 처했어요\\n주문취소 해도 환불처리 안 되네요. 시킨 당일에 바로 주문취소했는데 지금도 환불처리 안 됐어요 ㅋㅋㅋ 12시간 넘게 취소진행인데 마켓에 직접 두 번이나 문의해 봤지만 그쪽에선 이미 취소 승인을 했고, 에이블리 측에서 취소 승인을 해야한다고 하더라고요. 좀 빠릿빠릿하게 처리해 주시면 안 될까요? 주문 취소하고 다른 거랑 같이 시킬려고 했는데 처리가 안 되니까 아직도 못 시키고 있습니다;;\\n에이블리에서 성공한 옷들은 기본티 밖에 없는듯.. 상품준비중이 뭐이렇게 오래 걸리는지 배송도 너무 느리고 이제것 산것들중에 빨리온것은 다섯손가락안에 꼽힌다 성공한것보단 실패한 옷들이 더 많아 사기 꺼져지는 앱인듯 그래도 카테고리 나눠져 있는건 편하다\\n큰 문젠 없는데 로딩이 너무 오래 걸려요. 검색어 입력하면 관련된 상품 1~2페이지 나오다가 로딩표시로 뜨네요 다른 앱 잘되고 집이라 당연히 와이파이도 연결되어 있는데 서버연결이 안된다나 뭐라나.. 그리고 상점마다 옷가지수가 너무 적어서 그런걸 기대하고 쓰시긴 별롤것 같아요\\n에이블리 배송이 안온거 확인하려고 주문내역 갔더니 네트워크 상태를 확인 하라그러고 계속 새로고침해도 안되네요..네트워크는 문제 없어서 폰도 껐다키고 와이파이도 다시 연결하고해도 안돼요ㅜㅜ.배송도 일주일 지나서 택배 발송했다고 했었는데 이틀이 지나도 안오고 확인도 안되니 답답해서 리뷰 남깁니다.\\n괜찮은 옷이 많긴하지만 배송이 너무 오래 걸리다보니 이걸 사야하나 말아야 하나 싶었어요. 3~7일정도 걸린다지만 일주일 다 되서 보내니.. 이건 좀... 구매 취소하는 것도 은근 번거로운면이 없지 않아있어서 좀 불편했네요. 정말 급한거 아니면 구매 추천X\\n키 평균이거나 작은 분들은 좋을 것 같아요. 키를 설정해서 찾아보는 기능도 있어서 좋긴한데 키작은 사람들에 비해 키큰 사람들에게 맞는 옷은 상대적으로 엄!청! 엄청 적어요. 제 키가 170에 몸무게 70정도 되는데 예쁘다 싶으면 프리사이즈 제공하는게 대부분이더라구요. 키큰 분들은 마켓 모음앱보다는 그냥 키큰 분들 겨냥해서 만든 쇼핑몰 이용하시는 게 좋을 것 같네요ㅜㅜ 그 점을 제외하고는 좋은 편인 것 같네요. 할인쿠폰 덕분에 원가보다 10000원이나 싸게 신발 구매해서 좋았어요.\\n에이블리에서 옷들을 시켰는데 옷이 다 따로올지는 정말 몰랐어요, 배송지연되는게 대부분이고 봉지에 들어서 왔는데 봉지가 정말 너무 더러웠어요 흙에서 마른 진흙같은것도 있고요. 에이블리앱자체는 좋은데 배달이 왜 저런식으로 되는지모르겠어요. 고쳐주시기바랍니다\\n정말 옷 퀄리티랑은 너무 좋은데 환불이랑 돈 들어오는 거,리뷰 작성하면 포인트 주는 게 너무느리네요,그리고 공지도 없이 옷이 없어서 배송이 느리다는 말도 없네요..올려주셨음 좋겠네요\\n리뷰에 그냥 판매자분 피팅 사진을 캡쳐해올리시는데^.^ 관리가 필요할것같아요. 그리고 판매자분들 피팅하신 사진 올리실 때 핸드폰을 든 자세 요즘 다들 이렇게 찍으시던데 팔로 목부분이나 허리부분을 가려 핏을 파악하기 매우 어려워요.한두장만 그런것도 아니고 모든사진이 그러니까 정말..살 마음이 없어집니다. 또 제품 상세사진을 볼때 확대가 안돼서 불편합니다. 그리고 찜 기능에 카테고리를 넣을 수 있으면 더 좋겠어요.\\n요즘 쇼핑몰들 대부분 주문하면 늦어도 다음날엔 배송이 되는데 에이블리에서 시키는건 일주일은 기본으로 넘기더라구요.. 다 좋은데 느려도 도가 지나치게 느린 배송때문에 어플 지웁니니다 그 부분이 개선된다면 다시 또 써보고 싶은 어플이긴 해요\\n카테고리 선택해서 보고 싶은데 카테고리 메뉴창도 안 보이고, 카테고리 들어가려면 검색창에 카테고리 이름 맞게 써야 뜨는데 뭔 복불복도 아니고 감으로 카테고리 이름 찍어다가 해야하는 거임???? 어플 왤케 불친절함.. 세부적인 설정도 더 가능하면 좋겠고, 단어를 검색하면 꼭 제목에 그 단어가 있어야만 하는게 아니라 자동으로 관련된 상품이 나오면 좋겠어요.\\n에이블리 라는 앱을 처음 깔아봐서 예쁜 옷이 있길래 무통장 입금으로 샀는데 ㅋㅌ으로 상품배송이 지연된다고 하고 2020년으로 되있길래 어떻게 기다리나 해서 문의에 환불로 남겼는데, ㅋㅌ기준이 2019년이라고 나오네요. 환불을 할려고 문의를 남겼는데 ㅋㅌ기준이 뭔지도 몰랐는데 왠지 허무하고요. 환불하기로했는데 24시간이내에 에이블리에서 자동으로 환불이 된다는게 결제했던 통장으로 다시 돈이 들어온다는 건가요?\\n제품 리뷰에서 보면 상품명이 너무 길어서 뒤에는 좀 짤리거든요?그거 보려고 한번더 클릭하면 옵션 사라져있고...그거때문에 너무 불편해요..저랑 스펙 비슷하신분은 무슨 사이즈 입었나 궁금한데..\\n옷은 이쁜거 많은데 제일 중요한 배송이 잘 안돼서 짜증.... 에이블리는 항상 배송이 제 날짜에 온 적도 없고 가끔 상품 준비중인데 주문시키고 나서야 상품 준비중이라 뜨고 너무 늦게옴 ㅋㅋ 그래서 항상 넉넉하게 일주일은 잡고 시켜야함..^^\\n예전 핸드폰에서 잘 쓰다가 핸드폰 화면이 나가서 폰 바꾸고 다시 깔았는데 아이디찾기로 이메일 찾아서 비밀번호 찾기하면 존재하지 않는 전화번호나 이메일이라고 뜨네요 다른 아이디로 가입하려고해도 이미 사용 중인 전화번호라고 다른 아이디로 가입도 안되구요... 몇번이나 해봤는데도 안됩니다 어떻게 해야하나요?\\n옷들은 정말예뻐요! 아쉬운점은 제가 키가150쯤? 되는데 에이블리는 160이여야지 핏이 다 예쁘게 나오는거있져ㅠㅠ 오버핏 맨투맨을 사고싶은데 키가 작아서 살수없네요ㅠㅠ 키가 작은 분들이 입을수 있는 옷제품이 많이 나왔으면 좋겠어요! 그래도 옷은 에이블리가 짱이네요 부탁드려요!ㅠㅠ\\n아니 앱은 진짜 조은데 로그아웃하거나 삭제했다가 다시 깔면 가입안된 이메일이라고 만날그래만날..그래서 새로 가입하려보면 이미 가입되어있다해서 비번 잘 못 된줄 알고 비번찾으러 갔더니 또 가입되어있지 않는 이메일이래;; ㄹㅇ 황당 이거 계석 무한루트임 지금도 쓰면서 내가 기억을 못하는건가 수십번을 했는데..이거 빼면 엄청조음\\n항상 옷 시킬때마다 짜증나는일이 있음 배송지연이라고 써놓지도 않았으면서 주문한지 3일 지나서야 2주뒤에 발송된다고 카톡보내질않나, 남의 운송장을 입력해놓을때도있고, 발송 전 취소했는데 그냥 발송;; 관리 좀 잘 해주세요\\n모든상품이 품절로 뜨네요 오류인가요? 방금전까지만해도 구매하려 장바구니에 넣고 결제하려고하니 품절이떠서 앱종료하고 다시들어가보니 에이블린에 올라와있는 모든상품이 품절로 뜹니다 확인좀해주세요 저만그런건지 다른사람도 그런건지 모르겠네요\\n배송 늦는 상품이 거의다임 다 인기상품이라 배송이 늦는다고함 요즘 시기에 배송이 늦는건 알지만 해당 쇼핑몰에 물량도 확보가 안되있는듯.. 급하게 사실려면 이어플로 구매하면 속터짐 취소도 늦고 그냥 다 늦음..\\n무료배송 기분만 좋짘ㅋ 쿠*같은데 보면 배송비 3,000원 있고 가격 10,000원인게 에이블리에서는 가격이 14,000원이고 무료배송임;; 심지어 1000원정도 더 나감....내가 지금 에이블리에서는 산게 30개 이하인데 최소 2일은 걸림(전 거의 3~13일정도 기다림요)\\n옷들은 이쁜게 많은데 배송도 다른곳보다 늦고 주문한지 3일넘었는데 갑자기 품절됨.. 그거까진 이해하겠는데 품절됐다고 따로 연락도 오지않고 환불처리해준다는 연락도 없었음 배송비무료여서 늦어도 계속 쓰고있는데 이번일로 실망..;;\\n왜 이래요 이거 제가 실수로 로그아웃을 했는데요. 다시 로그인이 안돼요. 이건 무슨 오류죠? 아이디 찾기로 하면 제가 원래 썼던 아이디가 뜨느데요, 그 아이디로 비밀번호 찾기나 로그인을 하려고 하면 존재하지 않는 아이디래요. ㅋㅋㅋㅋㅋㅋ 어이가 없어서 ㅋ 계속 로그인이 안되는건 그냥 이 앱을 사용하지 마세요 뜻인건가 ㅋ 오류좀 고치시죠 ㅋ\\n에이블리 광고땜에 혹해가지고 다운받으면 항상 메인이 청순 여성 20대초 여자애들이 입을만한 스타일만 도배ㅠ 광고에선 다양한 스타일있어보였는데 다운받으면 메인도 차트도 다 그런스타일밖에없어요 ㅠ 그래서 항상 혹해서 다운 > 삭제 > 다운 늪에 반복ㅋㅋㅋ 이거 ui개선좀..\\n업데이트 후부터 이상해요. 찜에서 한번에 하트 눌러서 없앨수도 없어서 백개가 넘는 옷을 계속 중간중간 다른 탭 들어갔다가 나와야되고.. 그거는 참겠는데 찜에 지금 옷이 147개 잇다는데 30개밖에 안나오면서 상품 정보를 가져오는데 실패했다고 나오네요..진짜 너무 불편해요\\n앱자체가 마이페이지부분이 아예 안되고 자꾸 네트워크연결안된다고 튕기는데 뭐 어떻게해야하나요... 주문내역보기 고객센터,공지사항 그리고 구매하려고 하는데 카드결제이런거 누르면 다 네트워크 연결안되었다고 이틀동안 계속 튕겨서.. 앱지웠다가 다시깔아보고 또 와이파이끄고 데이터도 켜서 해봤는데도 안되는데 뭐죠..ㅡㅡ....\\n처음에는좋아는대잘쓰고있다가첫번째주문했던게입금하고다끝나는대갑자기주문취소됬다그말듣고일단은주문취소된거에해결하고나서끝나줄알아더니또다른게주문하고입금다했는대오늘톡으로취소가됬다는게또톡이와있더라고 요앱을쓸마음이떨어지려고합니다\\n이 앱 정말 깔고싶은데 플레이 스토어에 에이블리 라고 쳐도 안 나오고 네이버에 쳤더니 일부 기기와 호환되지 않는 앱이라고 뜨네요.. 이것때문에 구글 계정 복구하고 다 해봐도 안돼요ㅜ 4일째 시도 중입니다 도와주세요ㅜ\\n옷이나 이런건 괜찮은데 3만원 할인이라고 해서 이렇게 생각했는데 최대 만원이네요 ㅎㅎ 그리고 쿠폰도 1개밖에 못 사용하네용 원래 계획은 15만원치를 12만원에 10개를 사는거였는데 3개나 빼서 12만원에 샀네여 아 하하 그래도 무배인거랑 각자 시킬 수 있는건 좋네염\\n셀러 배송은 빨리 와서 좋지만 에이블린 자체 배송은 옷을 구매 했는데 8일째 상품준비중이라 당장 입어야하는데 너무 안와서 상품취소 했는데 취소 완료가 됬다면서 카드에 돈이 안들어오네요.\\n죄송한데,, 이 앱 지우고도 이 앱 광고가 계속 뜨네요. 폰 킬 때마다 뜨고, 잊을까 하면 수시로 뜨네요. 정말 거슬리는데 광고 좀 지워주세요;;\\n팝업 어떻게 지워요 진짜 짜증 광고 팝업 뜨니까 짜중나서 들어오기 더 싫어짐. 설정 어디에가서 어떻게 지우라는건지 \\'수신거부 설정 \\'이랗게만 적어놓고 아진짜 화딱지 ㅋㅋㅋㅋㅋㅋㅋㅋㅋㅋㅋㅋㅋㅋㅋㅋㅋㅋ 아휴\\n문의 답변보기 힘들어요ㅡㅡ 해당 쇼핑몰에 문의내용을 남기고 문의하기를 다시 누르면 전에 보냈던 내용이 없고 새로운 문의창이 떠요 당연히 답변받은것도 한번누르고 뒤로가기하면 없어져있고요 이게뭐에요ㅡㅡ\\n저번에 같은 쇼핑몰 같은 제품인데도 불구하고 에이블리에서와 쇼핑몰 자체 사이트에서의 가격차가 있다고(에이블리에서가 더 비싸다고) 리뷰 달았던 사람인데요. 가격이 쇼핑몰 사이트보다 비싼 쇼핑몰 이름을 제보해달라 하셨는데 다 그런데요..\\n옷들이 너무 예뻐서 자주 이용하고 있어요 사고자 하는 품목을 장바구니에 담을 수 있는 건 좋았지만 품절 이되면 선택도 안돼서 간편히 지우지 못하는 점이 불편하고 아쉬었어요\\n다 좋은데 하루아침에 찜상품이 다 증발했더라구요 그 후 데이터도 켜보고 껐다 다시 켜보기도 하고 앱 삭제하고 다시 깔고 별 난리를 쳐도 안 돌아오더라구요 어떻게 된 일인지 설명 좀 해주시죠\\n안녕하세요 에이블리 너무 잘 사용하고 있는 유저인데요 마음에 드는옷이 있음 찜을하게 되잖아요 찜하고 나중에 들어가보면 찜한적도 없는상품이 찜 되잇고 똑같은 상품 2번씩 찜 되잇고 정작 제가 짬햣던 상품들은 어디갓는지 가려지는 상품도 잇네요 얼른 고쳐주새뇨\\n아니 옷이 이상하게 와서 문의 넣고 환불하려하는데 환불비를 저보고 내라네요? 이게 뭔 이상한 시츄에이션인지 ㅋㅋㅋㅋ 결국 환불ㅇ못했습니다 ㅋㅋㅋ 내돈 날리고 이상하게 온 옷 입지도 못하네요 ㅋㅋㅋ 진짜 실망이요 ㅋㅋㅋㅋ\\nㅠㅠ에에블리 무료나눔,적립금이벤트 정말 좋아하구 인스타 유튜브 트위터 통해서 참여하고 잘 보고 있습니다!! 그런데 앱에서 상품정보가 아예 안뜨고 하얀색 페이지에요ㅠㅠ 지웠다가 다시 깔아도 똑같습니다 고쳐주세요!\\n에이블리 평소에 애용있었는데 지금 갑자기 색상 옵션들이 다 안뜨고 사려는 색상이 아닌 다른 색상만 떠서 옷을 못사고 있네요.. 빨리 고쳐주세요... 이런 문제 발견하기 전까진 마음에 쏙드는 앱이었어요\\n옷 보려고 들어가니까 죄다 품절.. 여기에 올라와있는 모든 옷들이 품절인거에요? 아니면 품절 제외하고 보기 버튼이라도 만들어 주시던지 하염없이 내려도 품절이니 손가락 운동만하다 말았네요 뭐이래요\\nㅇㄴ 배송시작하고 배송도착이 둘 다 늦게 확인되고 솔까 가격들은 그렇다 쳐도 배송이 겁내 느린게 많고 상품준비중이 넘 오래걸리는것도 대부분이고 상품준비중 사람마다 다 랜덤처럼 배송기간 차이도 넘 심하게 남\\n에이블리 눈팅만 하고 느낀건데 판매수 조작이 심한거 같음 1800개 넘게 팔린 제품에 리뷰가0.... 어떤건 1600개 넘게 팔렸는데 리뷰가 고작 16개 물건 보실 때 판매수는 보지 마세요~~\\n여러 쇼핑몰을 한곳에서 볼수있고 일일이 쇼핑몰 하나하나 접속해서 구매하지 않아도 되니 그런점은 편하지만 쇼핑몰측에서 에이블리로 재고를 보내면 구매자에게 배송해주는 시스템이 배송을 늦춰서 불편하네요.\\n아니 여기 요즘 배송이 왜이러케 느리죠 ㅠㅠ 머칠이 지났는데도 안와요 .. 그리고 주문 시켰던 폰케이스가 갑자기 품절이라며 주문이 취소되고 진짜 너무 속상합니다 .. 옷은 이쁜데 배송도 느리고 ... 실망이네요 ...,\\n옷이랑 다 이뻐서 주문 많이했었는데 1~2번이면 모르지만 10번은 넘게 계속 자동으로 주문 취소가되요 이거 떼문에 스트레스가 너무 많아요 주문 취소 문제 좀 어떻게해주세요 계속 누르지도 않은 주문최소가 되어있습니다\\n장바구니에서 상품 고르고 나서 잠깐 카톡 화면 봤을 뿐인데 사려고 체크 해둔거 리셋되고 폰화면 잠깐 꺼져서 켜면 또 리셋되고 저만 그런가요.... 진짜 불편해요...ㅠ 그리고 장바구니에 담긴 상품들 그냥 이미지로 보여줬으면 좋겠어요 움짤로 보여주니까 렉 엄청 걸려서 주문 한번 하려면 한참 걸려요\\n검색시스템이 별로에요. 분명 셔링원피스를 검색했는데 쫄쫄이 미니원피스나 뜬금없이 체크원피스가 나오기도하고 정확도가 너무 떨어지는것 같아 원하는 옷 스타일을 찾기가 힘드네요.\\n예쁜 옷 진짜 많거든요? 근데 사람들 옷 사고 나서 리뷰나 보면 거의 전부다 배송 상태가 엉망이더라구요 구멍이 나서 왔느니 처음 올때부터 뭐가 많이 묻어서 빨아도 지워지지가 않는다느니 옷은 이쁘지만 배송상태에 신경좀 많이 써줬음 싶네요..\\n여긴 다좋은데 너무 로딩도 길고 버퍼링...어쩔거.. 게다가 잠시 홈에 갔다오면 다시 처음화면으로 와있음;; 이용하기 진짜 불편해요\\n업데이트 이후 부터 하트 찜하기 해제도 안되고 별로 크게 달라지지도 않았는데 왜 업데이트 하라고 하는지 모르겠음 ㅋㅋ 그리고 업데이트 하러가기 팝업에서도 업데이트 하기 눌렀는데 아무 반응도 없었음... 그리고 지ㄱ재그가 훨~씬 UX도 편하고 좋음. 차라리 이거 쓸바에는 다른 앱 쓴다\\n배송이 너무 느립니다 2주 정도 여유를 주고 주문 했는데 체험학습 2박 3일로 가는데 그 때 까지 올런지나 모르겠네요 주문한지 5일이 됬는데 아직도 배송 준비중이네요 27일 안에 온다면 별점 더 드리겠지만 배송이 느린 것 같네요\\n여쭐게 있는데 주문시 계좌정보는 왜 요구하는 것인가요? 환불시 라고 하는데 환불할때는 입력한 카드정보나 그런것으로 환불할텐데 조금 불안해서요 ㅠㅜ 자세히 알려주시면 감사하겠습니다 !\\n뭔가 보기도 전에 자꾸 앱이 중지되고 멈춰서 아무것도 볼 수가 없네요. 다시 깔아도 계속 렉이 걸리고 화면이 다운되어서 쓸 수가 없어요.\\n이용자의 키에 맞춘 기준 설정할 수 있는 점은 마음에 들었는데 생각보다 옷이 다양하지 않은 것 같습니다. 앱 자체가 \"여성복\"만 판매하는 것인지 앱 사용자의 성별에 맞춰져 \"여성복\"이라 하는 옷들만 나오는 것인지 모르겠으나 남녀공용이나 \\'남성복\\'도 나오면 좋겠어요.. 유니섹스 스타일, 보이쉬한 스타일을 주로 입는 편이라 살 만한 옷이 거의 없는 것 같아 아쉽습니다.\\n제품상세설명칸이 보이지않아요ㅠㅠ 제품구매하고 싶어도 못하고 있습니다..빨리 고쳐주세요..저만그런게아니라 여러사람들이 그런거 같네요\\n배송이 엄청 느려요... 무료배송인점은 좋지만 사전에 배송 지연 고지도 전혀 해주지 않고 전화 통화나 문의 답변도 연결하기 힘듭니다.\\n옷 이쁜건 많은데..,아빠가 환불계좌는 안된다고 안 사주세요.. 제발 환불계좌는 안 써도 되는데 환불계과 안하는 방법 은 없다요..인터넷으로 사면 환불은 안 하는데..\\n오랜만에 옷좀사려고 들어가볼까했는데 페북연동안되고 이메일도 만드려고 인증번호 요청해도 실패했다고뜨는데 또 폰으로 인증번호는 오네.. 뭘 어떻게하라는건지\\n상세보기 안되는 것좀 해결부탁드려요. 모든 상품이 상세보기가 안되요 지우고 다시 깔아도 안되고 답답하네요 사고싶어도 살수가 없어요\\n지금 뭐 단체로 오류 떴나요..? 전품목이 다 품절로 뜨면서 못사게 됐는데 구매하려는 타이밍이 왜 이렇게 되는지...\\n후기에 그냥 모델 착용샷 넣는 분들 계신데 단속 좀 해주세요. 일부러 착용샷을 볼려고 포토후기 들어가면 심할 땐 후기의 반이 그냥 모델착용샷일 때가 있어요.\\n제가 시킨 옷 7벌중에 4벌이나 취소 됐네요 제가 취소한것도 아니고... 다 품절되서 그렇다네요 갑자기 아침에 시킨 옷이 주문폭주로 인해서 배송지연이라했는데 품절이라뇨....\\n잘 쓰다가 지금 계속 서버가 불안정하다고 안들어가지는데 저뿐만 아니라 다른분들도 그런것같네요. 빨리 고쳐주시면 좋겠습니다.\\n에이블리만 들어가면 어플이 느려지고 화면뜨는것도 한참 기다려야되서 옷하나 클릭 하면 몇분을 기다려야되요 제가 인터넷이 안터지나 햇는데 다른 앱들은 다잘되요 지금 지웠다 다시 깔았는데 계속 그러면 답답해서 못ㅆㄹ거같은데 왜그런거죠\\n포인트 상품 가격의 10%만 사용 가능하다는게 좀 그렇네요... 포인트를 그냥 뿌려주는것도 아니고... 그냥 얼마든지 사용 가능하게 해주셨으면 정말 좋겠네요.\\n페북 연동 로그인도 안되고... 이메일 회원가입 하려니까 인증번호가 반나절 지나서야 오고... 회원가입 어떻게 하라는건지 ㅋㅋ .. 심지어 인터넷에서도 안됨\\n모두 무료배송이라고 해서 속았네요... 제가 도서산간지역인데 결제할려고 하니 배송비가 15000원이상 붙더군요..너무 많이 받는거 같아 조금 그렇네요...\\n아니 도대체... 설정버튼이어딧냐 아무리찾아봐도 푸시알림끄고싶은데 앱설정하는게 1도없음...근데 푸시에 수신차단 설정에서 하라는데?..... 이쁜옷이나 악세사리많긴한데.. 음.. 눈호강용 어플?\\n셀럽 공구 어디 갔나요 업데이트 했더니 사라졌는데 다시 추가해 주시면 좋겠습니다. 그거 유용해서 깔아둔 건데 그게 사라지니까 깔 이유가 없네요.\\n일부는 무료배송맞는데 대부분 공식홈페이지보다 가격이 2500-3000원 더비싸요 즉 무료배송이라고는하지만 택배가격을 붙여서 팔기때문에...걍 똑같..\\n정말예쁜 폰 케이스는 많은데 폰케이스가 거의다 아이폰꺼라서 조금 그래요 갤럭시도 다양하게있으면좋겠어요 그리고제가 마음에드는 폰케이스에 갤럭시는있는데 갤럭시a30하고a50등등이있는데 a40이 없어서 아숴워요\\n바지 찜 해놓면 바지제품만 주구장창 뜨고 치마 찜 해놓면 치마 제품만 주구장창.. 이런식으로 뜨는거 별로예요 그리고 확대기능이 없는게 좀 아쉽네요\\n업데이트까지 했는데도 주문내역 보기 되게 힘드네요ㅠ 왜 버튼을 눌러도 안 나오나요 답답ㅠ 주문, 포인트, 쿠폰 버튼들 터치가 잘 안 먹히는 거 같아요 특히 주문!\\n이전버젼에는 모든상품에 구매중 숫자가 표시되어 있어는데 지금은 표시안되어 있어 인기상품여부를 알수가 없습니다.\\n배송이 엄청느림. 에이블리 자체 배송 상품은 빠른편이긴 하지만, 한 두번이 아니라 여러 마켓이 배송이 느려서 너어무 짜증남.\\n제가 주문한지 2~ 3일정도 인거 같은데 아직도 배송이 안 왔네요 그리고 에이블리 기능에서 배송 위치정보를 업데이트를 하면 좋을거 같습니다.\\n찜한 목록이 180개정도되는데 내려가다가 막 끊겨서 내려가요 그래서 상품들이 제대로 안보여요ㅠㅜ 수정부탁드려요ㅜㅜ 그거빼곤 좋습니댜ㅜㅜ\\n아니 장난하나 50만원 이상 담으면 에이블리가 쏜다고 해서 정성것 다 담았는데 당첨이 안되서 좀 슬퍼서 쿠폰이라도 많이 줬겠지 하고 들어갔는데 오만원에 5프로가 뭡니까 너무 심하신거 아닌가요 아니 그리고 천명중에 안될수도 있는데 안되더라도 고객의 만족을 위해서 쿠폰을 많이 주시던지 맨날 쿠폰은 그지같이 오만원에 오프로 같은거만 주고 육만원 이상 사야지 20프로 할인 해주고, 정말 그지같네요 차라리 이벤트 같은걸 열지말고 쿠폰도 그지 같은거만 주지 말고 좀 적당하게 쓸 수 있는걸 주시라구요~! 고객이 왕이라고 생각하시면 제 글을 읽고 쿠폰부터 고치고, 오류도 싹다 갈아엎으세요 제가 에이블리 옷은 이뻐서 별점 2점 드리는 거에요!\\n옷 저렴하고 예쁜건 좋은데 배송 진짜..너무 느려요.... 주문한지 일주일이 넘었는데도 아직 상품 준비중...하\\n옷을 사고싶어도 상세페이지가 안떠서 살 수 없어요ㅠ 며칠째 이러니.. 언제 돌아오나요ㅠㅠ 저만 그런줄 알았는데 다들 똑같네요\\n배송은 진짜...느리네용 진짜 저번에못받아서 취소햇는데 이번에는 올꺼같더니 이제입고된다니요ㅠㅠ진짜암걸리겟어요 옷이이쁜거좋은데 배송좀한달채우겟어요\\n아니 문의를 했는데 문의에 대한 답을 볼 수 있어야죠 자꾸 뭔 오류가 뜬다면서 문의한 걸 못보는데 그럼 그 기능을 왜 넣어두신 건지...알수가 없네요\\n세상에 아니 배송이넘나느림. 개느림. 16일결제했는데 아직도안옴. 그리고 없는물건은 빼고팔아야되는거아니예여? 괜히기다렸다가 취소나당하고. 아놔.\\n아ㅜㅜ 재가 저장공간이 부족해서 지웠다가 다시 깔았어요. 근데 회원가입 하려고하는데 전화번호 쓰고 인증번호 받고 썼는데 존재하지않는 코드입니다. 뭔일이죠 ㅜㅜ 제발 좀 어떻게 좀 해주세욤 ㅜ\\n배송무료라 좋고 옷도 이쁜게 많아 주문 했는데 헐랭.... 3개중 1개는 4일만에 오시구 2개는 아직 상품 준비중 .. 휴 답답해여~~ 또 이용은 몰겠어여 ㅎㅎㅎ답답!ㅋㅋ\\n에이블리 정말 애용하고 있는 사람인데 어제부턴가 상품 상세정보가 흰색으로 되서 아예 안 뜨고 나갔다가 들어와도 똑같네요.. 너무 심해요ㅠ\\n문의하기 답변이 많이 느리네요... 다음날 품절 떠서 돈 받아야되는데 계좌 변경하려는데 답도 안주시고 이틀이 지난 지금도 아무 답변이 없네요.\\n옷하나에 배송비 3000원이면은 4벌에 12000원이에요 배송비가 너무 심하게 삐싸요 다른 분들은 무료배송이라고 하지만 저는 왤케 무료배송이 아닐까요\\n앱 오류가 너무 많음 같은 알람이 몇번씩이나 뜨는지 모르겠음 후기쓰면 적립금준대서 후기썼는데 인정도 안되고;;\\n가입을 하려는데 인증번호가 안오는데요..;; 번호 맞게쳤고 1분넘게 기다리는데 아무것도 안오네요\\n추석이라 입금이 안되는건 너무하다고 보네요 10월1일에 돈넣어서 4일에 입금확인을 해서 상품을 이제서야 준비하다니ㅎ;;\\n옷에 대한것의 불편함은 없으나 핸드폰 케이스의 기종이 대부분 아이폰이라는 것에 좀 충격입니다,, 기종좀 삼성거 많이 넣어주세요 ㅜㅜ\\n상품 사진이 안보여요 ㅠㅠ 갤럭시A8 사용자인데 이번에 상춤 사진 안보이는거 고치셨다길래 업데이트를 했는데도 상품 사진이 보이는 것만 보이고 안보이는 건 아예 안보이네요 ㅠㅠ\\n배송 느린 곳이 너무 많아요. 문의해도 답변이 이틀은 걸리는 곡도 많구요. 옷은 예쁘네용\\n네이버 광고 보고 제품 1개를 990원에 구매할 생각이라면 시간 낭비. 두번째 제품을 같이 사야 쿠폰 적용됨. 괜찮은 이벤트지만 상상과 다를 수 있으니 참고 하세요.\\n아니 가입하려는데 번호적고 인증번호받을때 번호 -없이 적으래서 잘적었는데 자꾸안되네요 제번호만요 다른번호는되고 제번호에서 010 빼고는되는데.. 왜안되죠?\\n검색은 잘 되는데 장바구니에92개 담았다고 너무 버벅거려서 장바구니 물품을 볼 수가 없네요,\\n제가 실수로 1999로 해서 나이를 바꾸었는데 10번 시도 하였지만 2008 (제 생년월일) 하였는데 계속 안되고 다시 1999년 1월일이 되더라구요. 제가 회원 탈퇴 해서 다시 하였는데 30일 후 에 하라네요 어떻게 해란 말인가요..\\n옷을 12월 중순에 시켰는데 1월 중순이 지나도 안오고 아무리 연말 연초라도 그렇지 너무 늦게오네요\\n옵션을 눌러도 옵션이 뜨지않는 기괴한 앱. 덕분에 맘에드는게 있어도 살 수바 없다. 무용지물\\n찜한 상품을 보려고 스크롤을 내리면 자꾸 이상한 버그가 발생합니다 빨리 해결 좀 해주세요\\n아니 서버가 너무...느려요.. 옷을 하나 보고 저장하려면 로딩창을 대체 몇번이나 봐야하죠ㅠㅠ?\\n아니 예쁜옷들이 많아서 이 마켓 좋다!라고 했는데 살라고 결제를 해서 주문을 할라고 했는데 계속 결제를 또 하라네요;; 회원가입했었는데도 오류떴다고하고;\\n무료배송이 아닌데요...? 지역마다 다른건가요? 상품 4개 골랐는데 배송비 12000원 나왔어요...\\n신규가입하면 예쁜 원피스를 990원에 살수있다길래 오늘 신규가입했는데.. 쿠폰은 받았는데 쓸수가 없네요... 참... 장사를 할려면 바로 하세요ㅜㅜ...\\n옷을사려고 에이블리를 깔았는데 어디서나 3분정도간격으로 광고가나와서 핸드폰을보는데 불편해요 그런광고좀없게해주세요\\n원래는 아무문제없이 잘 됐는데 며칠 전부터 제품을 보려고 누르면 몇번을 해봐도 다 튕겨서 제품을 보지를 못해요\\n한곳에 모아둬서 편하긴한데.. 이제까지 샀던 모든 제품이 하나도 빠지지않고 항상 늦게왔어요.. ㅋ\\n왜 임시 비밀번호 요청이 아예 클릭자체가 안되고 비번, 아이디찾기 창이 겁나 많이 기다려야함...\\n가입할려고 하니 이미 가입된 번호 번호로 찾은 이메일로 로그인 하려고 하니 가입되어있지 않은 이메일 앱을 사용할 수가 없어요...\\n앱에 들어갔는데 계속 에이블리 로고만 보이고 안들어 가지네요 네트워크가 불안정하다고 와이파이는 빵빵한데\\n회원가입하려고 전화번호를 입력하면 이미 가입된 번호라고 나오는데 아이디찾기에서 같은 번호를 입력하면 회원만 접근할 수 있다고 나와요..\\n회원가입하려는데 페이스북은 안된다고하고 이메일로 하려고하면 인증번호가안와요.. 몇번을 해봐도..\\n탈퇴하려고 하는데 마이페이지 최하단에 탈퇴하기가 없고 로그아웃만 있는데 탈퇴 어떻게 하나요.\\n다 좋은데 주문을 마치면 장바구니에 있는 상품이 그대로 남아 있어 일일히 다 지워야 해서 불편하네요... ㅠ\\n아 진짜 다른 곳 보다 가격도 비싸고 진짜 폰 케이스 삼성꺼도 만들어 달라고요!!ㅠㅠㅠㅠ진짜 이쁜 것들은 다 아이폰 꺼야ㅜㅜㅜㅜ\\n제가 이 어플을 회원가입하려고 시도를 했다가 이미 가입 되어있는 이메일이라고 해서 아이디 찾기를 전화번호를 입력해서 아이디를 찾고, 비번은 제 설정하고 싶어서 비번 찾기를 했었는데 거기에 이메일과 전화번호를 입력하면 가입되지 않거나 없는 번호라고 뜨네요... 이럴 땐 어떻게 해야 하죠...? 다시 로그인을 하고 싶어도 할 수가 없어요...\\n옷은 많이 이쁜데 배송이 너무 느려요 인내심없는 사람은 에이블리에서 못삼 에이블리에서 주문한거 너무 안와서 취소함\\n알람이 시도때도 없이와서 지웟어염 하루에 한개도 많아요 곧 옥션도 지울듯해염 가끔 올라오는건 너무좋고 도움되는데 정도가없어염 파이팅\\n푸쉬 알림 뜨는 거 못 끄나요? 알림 설정에서 SMS 밖에 설정 못 하는데 어디 있는지 찾기가 너무 어렵네요.\\n계속해서 서비스상태가 좋지않다고 뜨면서 접속이 안되고 있습니다 업데이트해도 똑같네요\\n무료배송은 정말 좋은데 배송이 너ㅡㅡㅡ무 오래걸려요 진짜 짜증날 정도로요\\n가입이 되어있어서 폰을 바꾸고 그 계정으로 가입하려하니 아이디가 없대서 다른 것들로도 가입하려하니 계정이 이미 있다고 전화번호로 가입하면 된대요.그래서 그렇게 하려 했더니 아이디 찾기를 해래서 했더니 아이디가 나와서 그걸로 하려했더니 또 없다는 겁니다.대체 이게 뭐죠 있다없다.\\n서버에 문제있는지 잘되다가 연결이안된다고하고 화면이 안나오고 안넘어가네요\\n회원가입이 안되요.. 인증번호 누르면 그상태에서 더 진행이 안되네요;;\\n9900원이라고 광고하더니 들어가보니 다른 상품을 5만원 이상 구매해야한다고 하네요 속는셈 치고 회원가입까지 했는데 진짜 이건 좀 심하네요\\n잉 배송비는 0원인데 옷 값이 늘어나있어서 한곳에서 두벌 시키면 오히려 손해네요 ^~^..\\n포인트 할인할때 구매금액 10%만 사용가능한건 아니라고 봅니다.. 바꿔주세요.\\n꼭 환불 계좌를 입력해야 하나요? 환불 안 할 건데도 입력을 해야 하나요? 그거 때문에 지금 주문을 못하고 있습니다.\\n아니 빅사이즈를 찾기가 너무 어려워요 빅사이즈는 별로 없는거 같고 사이즈를 선택도 어디서 하는지 모르겠고........\\n광고때문에깔았는데 작은사이즈들밖에없어요 입을수가없네..ㅎ..;;\\n홈버튼 눌럿다가 다시들어가면 화면이초기화 되네요 조금 불편해요\\n상품은 괜찮은데 교환이나 반품이 너무 느려서 별로네여\\n할인쿠폰이 많고 배송비가 무료여서 좋으나 검색시스템이 구림\\n느려서 못쓰겠어요 계속 서버상태가 안좋다고하고 검색이 한참 걸리네요.\\n하루배송 이래놓고 지금 대략2주일이 지났는데 왜 아직도 안왔죠? 장난하시는건가요?ㅋ 어이없네욬ㅋ\\n아니 결제했는데 자꾸 주문취소 되는거 왜그러는거에요 취소하지도 않았는데 계속그래요\\n배송이 엄청느리구 사이즈 선택시 두배의 가격을 내야되는 불편함이 있네요\\n다른거는 다 괜찮은데 제가 family 등급인데 쿠폰하고 포인트는 계속 friend로 들어와요...ㅜ 이 오류좀 수정해주세요ㅜ\\n어느날 갑자기 찜한상품 한 반정도가 사라졌네요...왜죠..?\\n회원가입이안되요. 빈칸눌러도 입력키보드가안뜹니다ㅜ\\n싸고좋은데 배송이매우느려요.. 한일주일걸리는거같아여...\\n옷 진짜 이쁘고 쿠폰도 많이 주는데 배송이 진짜 정말 느려요 기본 5일인듯\\n학생들이사용할만한 마켓들이 별로 없어서 아쉬워요 ㅠㅠ\\n배송비 무료인건 좋은데 배송 너무 느려요 걍 택배비 내는게 나을듯\\n갑자기 서버상태가 안좋다면서 안들어 가지는데 확인 부탁드려요.\\n에이블리 일 잘하는줄 알았는데 복사 붙여넣기나하고 개선은 안 하고 그래도 에이블리 괜찮으니깐 2점\\n네이버특가 니트 990원 행사한다길래 들어갔는데 다른거 5만원 이상인가? 구매해야 가능하던데;;.. 장사수완좋네\\n무료배송 하지만 배송, 환불 진짜×9999 느림.\\n우편번호 검색이 되지않아 주문을 할수가없습니다!!!\\n가입하려고하는데 문자가 계속 안오네요. 가입이 안되니 주문도 못하고 ...\\n이것저것 모아놔서 보긴 편하나, 배송이 넘나 느림,\\n편해요 자꾸 주문된 상품 취소 되는것만 빼면 말이죠=)\\n갤럭시 폰케이스가 별로 없네요... 제 폰은 갤럭시 s50인데 s50은 아예 없더라고요\\n무료배송 인점 너무 맘에드네요 자주이용할게요 ~\\n제가 마음에 드는 폰케이스는 다 아이폰이여서 화나요 제 폰이 V50 이거 든요\\n왤케 느리고.렉을먹어요\\n상품정보가 없어요 흰색페이지만 나오고 아무것도 안보이네요\\n앱에서 회원가입할려고하는데 가입된 번호라고해서 아이디찾기에서 가입된 정보가 없다고 나오네요 그래서 이용을 못하고있네요 어떻게해야하나요\\n렉이너무많이걸려요.. 그러고무료배송이라는대 왜저는 배송비가 붙은거죠\\n예쁜 옷은 많은데 배송이 너무 느리네요...\\n다 좋은데..서버불안정이라고 떠서 이용할수가없어요 시정해주세요ㅜ\\n찜 서랍 생긴거 불편함 그냥 전에 하트만 누르면 되는게 편했음 서랍 끄기 기능 만들어주세요\\n찜하기에 다른서랍생긴거 불편해요ㅠㅠㅠㅠ 찜할때도 귀찮고 뭔가 손이 안가네요\\n엄 유튭 광고로 봤는데 스마트톡도 있다고 해서 깔았어요 리뷰가 않좋다는데 그래도 깝니다\\n우편번호 검색 누르면 왜 아무것도 안뜨져? 못사고있어요\\n제폰이 갤럭시A51인데 A51폰케이스가 많이 없어서 아쉽네요;;\\n에이블리... 50만원 이벤트 당첨자른 본적이없네... 인기많은 사람한테만 주는건가? 난 8월 부터 시작해서 3개월 동안 55만원을 사용했는데..\\n제가 회원가입을 하려고 하는데 자꾸 있는 번호라고 뜨네요..;; 전 한번도 가입한적이 없는데 왜그럴까요..\\n스타일에 게시된 관련 영상 속 옷 정보가 오류가 납니다...\\n옷은 이쁘지만 가격이 너무비싸서 별로임\\n저만 그러는건지 모르겠는데 상품을 상세히 보려는데 정보가 안뜨네요ㅡㅡ\\n분명 리뷰를 썼는데 왜 포인트가 안 들어오는거죠? 빠른 답변 부탁드립니다.\\n앱이 너무 끊기고 로딩도 느려요\\n다 좋은데 무료배송이라면서 배송비가 3000원인 이유가 뭔지 궁금하네요\\n구매할라고 하니깐 갑자기 이유없이 안되는데 왜 그런건가요.?\\n원하는 가격대 설정할 수 있는 필터 좀 만들어 주세요\\n좋은점 저렴하다 아쉬운점 종류가 별루없다\\n포토리뷰 남기라고 해놓고 왜 자꾸 사진 업로드가 안되는지 모르겠음\\n로그인은 안돼고 아이디 비밀번호찾기도안돼요\\n전신샷으로안나오구 부분적으로잘려나온게넘많음\\n왜 갑자기 중단되나요?\\n배송이 느려도 지나치게 느려요\\n저기 LG G9 도쫌 넣어주세요 그거만 없고 진짜 쫌 짜증나네요 예쁜케이스가 있으면 뭐합니까 G9 케이스가 없는데\\n재 키에 맞는옷이 하나도 없어요..ㅜㅠ\\n상세정보에 하얗게 아무것도 안나오네요.. 고쳐주세요..\\n다 괜찮았는데 서버가 말을 안듣네요....\\n로딩속도가 유난히 길어요\\n와 입금완료 뜨는데만 3일이나 걸리네요\\n요즘 들어 배송이 너무 느리네요\\n상세화면에 물건들이 뜨지 않아요\\n휴대폰 케이스를 살려고 했는데 왜 아이폰 밖에 없는건가요...? 전 LG폰 이라서 살 수가 없네요.\\n예쁜옷은 많지만 여기서 주문한 옷은 전부 엄~~청늦게왔어요\\n하... 장바구니들어갈때 튕기는것좀 개선해주세요 제발.\\n엄.. 무료배송은 좋은뎁...배송이 좀 많이 늦어요...\\n뭔놈의 앱이 쿠폰적용해서 살때만 이리 느린지 저희 할머니가 윈드밀로 감자깍는게 더빠르실듯\\n입금햇는데 품절이라고해서 환불 받은적 개많음; 개짜증남\\nQnA 게시판을 만들어놓지 않고 1:1 문의로 해놓은 이유가 뭔가요. 양아치처럼 장사하는 쇼핑몰에 대해 또 피해볼 사람이 없게하기위해 공개적으로 글이라도 남기도 싶은데 꼭 상품을 받아서 리뷰를 남겨야지만 피해받은 걸 알릴 수 있네요.\\n쿠폰을 얻었는데 첫구매 입니다. 아직 사지는 않았지만... 10000원 쿠폰인데 정말 0원으로 결제가 되나요?\\n왜 인증번호 전송이 안오나요?? 10번 이상 했는데도 안 와서 회원가입 못하고 있습니다.\\n이쁜건 많네요 근데 이뻐서 들어가면 죄다 아이폰 케이스만 있네요\\n갤럭시 양털 폰케이스가 거의 없어여.. 이쁜건 맨낳 다 아이폰이고..\\n상품+가격들은 다 괜찮은데 결제 취소 하고 싶어한다면 환불 사유 써야 하고, 1+1은 좋은데 너무 복잡해서 쇼핑을 너무 어렵게 생각하고 쓰는 중입니다..1+1 제품을 산다고 하면 그것 중에서도 또 너무 복잡하게 골라야하고 10대 제품이 생각보다 많이 없네요ㅜㅜ\\n무료배송이나 쿠폰 많이 뿌리는거는 좋은데 불편한 점 딱 두가지만 적습니다 아래로 한번에 내려가는 아이콘 좀 만들어주세요 사이즈부터 보고 사는데 거의 제일 아래쪽에 설명이 있다보니 그 많은 사진들 일일이 다 내려야됨 그리고 쇼핑몰을 누르면 그 쇼핑몰 자체 홈페이지가 나와야되는데 카테고리별로 분류만 돼있는 화면이 나옴 나는 이 사이트에서 슬랙스가 보고싶은데 그냥 무조건 바지라는 카테고리안에 있는 제품을 다 봐야하고 쇼핑몰 내 게시판도 들어갈 수 없고 도대체 왜 이렇게 만들어놨는지 이해를 할 수가 없음\\n옷은 다 좋고 배송도 좋고 좋은데 왜 ㅇㄴ 3월달 원래 VIP인데 Family죠? 아니 등급이 계속 바껴요 + 6/18일인데 4월에 또 VIP였다가 5월달부터 또 다시 Family 등급이네요..등급이 왜 계속 바뀌나요\\n다 좋은데 주문내역에서 \\'\\'숨기기 기능\\'\\'이 생기면 좋겠습니다! 제가 주문취소한게 많은데 시킨제품이랑 같이 뒤섞여 있으니까 보기도 힘들고 지저분 하더라고요:( 거기다 배송이 다돼었는데 아직 배송중 이라고 뜨는경우도 있더라고요? 그것도 빨리 처리가 되었으면 좋겠습니다! 감사합니다🙇\\n1. 색깔에 민트 말고 연두색도 만들어주세요... 연두색 옷 찾기 너무 힘들어요 2. 파란색 옷을 찾으려고 하면 하늘색 옷만 잔뜩 떠요 스카이블루가 따로 있는데도 블루를 설정하든 코발트를 검색하든 다 그렇게 뜨네요... 검색 알고리즘 좀 수정해 주세요 3. 리뷰 사진에 쇼핑몰에서 올린 사진 캡처해서 그대로 쓰고 포인트 받아먹는 악질적인 사람들이 너무 많아요 그거 다 삭제하든 포인트 회수하든 해주세요 그런 사람들 때문에 정확한 사진 리뷰를 보기 어려워요\\n잘 사용하고 있는데요. 에이블리에서 배송하는 제품은 이상하게 하자가 많아서 에이블리 직접배송이라 돼 있는 상품은 사기가 좀 꺼려져요. 검수 좀 잘해주세요 최소한 교환처리라도 빨리 해주시던가요.. 안그럼 브ㄹㄷ로 갈아탑니다..\\n일단 포인트 진짜 늦게 들어옵니다,, 리뷰 검수라는 변수가 있다고 해도 일주일 넘어서들어오는 포인트들이 대다수 입니다,, 상품과 관련없는 사진 올린것도 아니고 상품사진 찍어올렸는데 포인트는 안들어오는지,, 이런점빼고는 쓸만합니다\\n포토리뷰 쓰려고 갤러리로 들어가면 사진이 안떠요. 어찌저찌 사진이 떠서 누르면 그냥 멈춰버리고 리뷰 작성도 안되고 앱 닫기/대기 이 창이 뜨네요.\\n진짜 다 좋은데 리뷰 쓰려고 사진 추가만 누르면 앱 일시정지되고 그 상태로 몇 초 있다가 앱이 중지돼요 처음엔 제 폰이 랙 걸린 줄 알고 별 상관 안 했지만 며칠이 지나도 계속 이 상태니까 짜증 나 죽겠어요 타앱은 사진 추가 멀쩡히 잘만 되는데 제 폰 문제면 어쩔수 없지만 앱 문제면 제발 좀 빨리 고쳐주세요 짜증 나 죽겠음\\n종류가 많고 가격이 저렴한건 좋은데 리뷰에 상품 정보 사진 캡처해서 올리는거나 상품 정보를 볼 때 스크롤을 빠르게 내리면 자꾸 화면이 흰색으로 바뀌어서 불편하네요 오류부터 고쳐주세요\\n리뷰검수좀 똑바로 하세요 제품이랑 관련없는사진 아무거나 올려놓고 제대로 된 사진 올린 리뷰랑 같은 적립금 받나요?ㅋㅋ 그리고 추천에 뜨는 제품들 관심없으면 안뜨게 할 수 있었으면 좋겠어요\\n예쁜 폰케이스도 있고 다양하게 있어서 너무너무 좋은데 기종이 거의다 아이폰이라서 너무 아쉬워요 .. 삼성도 살수있고 엘지도 살수있는건데 아이폰만 있어서 삼성입장으로 좀 섭섭해요 다른 기종 나와있는것도 있지만 삼성도 넣어주세요 ㅠㅠ\\n얼마전까지 잘 쓰고 있었습니다. 근데 어느날부터 상품정보 펼쳐보기 를 누르면 그냥 사진은 안 나오고 흰색만 나옵니다. 빨리 고쳐주세요ㅠ\\n에이블리에서 70만원정도 시킨사람임. 분명 배송비 포함해서 그 가격에 내놓는건데 한 마켓에서 2개 이상 시키면 1개배송비 빼곤 다 없애줘야 하는 거 아닌가. 따로 보내는 거 아니면 그리고 제발 주문취소된 거 기록 삭제 할수있게 해주세요\\n사용이 보편적으로 간단해서 만족함.\\n가입 시 마케팅 수신에 무조건 동의하도록 되어있는 건가요? 타 사이트들은 선택 사항이라고 구분시켜놨는데 에이블리는 동의해야만 가입할 수 있네요\\n회원가입 시 인증번호가 오지 않는 오류는 어떻게 해결해야 하나요? 거짓말 안하고 50번은 시도한듯... 진짜로... 회원가입 너무 하고 싶어요... 번호 제대로 입력한 거 확실한데... 왜 인증번호가 안 오는 것일까요...? 비회원은 4개밖에 위시리스트에 못 담고... 너무 억울해요 저도 회원가입 좀 시켜주십쇼...ㅜㅜ김태리 배우때매 여기서 꼭 이용하고 싶은데 회원가입을 못하니 이용에 제약이 너무 심하네요\\n아쉬운점은 마켓랭킹에서 브랜드 들어가면 뷰티브랜드가 너무 많아서 본질인 옷브랜드가 다 묻혀요. 다음 업뎃에선 뷰티 칸이 나눠지길..\\n좋은데 편의점 위치가 이상한곳으로 떠요 미용실을보여주지를 않나 횟집을 보여주질않나,영화관..등을 보여주더라고요 고쳐주세요\\n10대분들도 많이 이용하는지 후기에 관련 없는 사진이나 옷 상세컷 그대로 캡쳐해 놓은분들 너무 많아서 후기보다 짜증나요 상세컷 그대로 올릴거면 왜 올리는지 모르겠음\\n제주도는 무료배송이 아예 안된다는게 좀 아쉽네요ㅜ 전상품 무료라고 하지만 제주는 제외ㅜㅜㅜ 육지 부럽네요\\n도서문화나 문상사용도 생기면 좋겠어요. 그리고 포인트도 10%말고 다 쓸수있으면 좋겠네요\\n여긴 다 좋은데 상세설명 페이지가 확대가 안되는게 젤불편 눈안좋은 사람들 개짜증 유발!! 왜 그러케 만든거임!!???\\n제가 빵? 폰케이스를 샀는데..그 눈동자가 바로 떨어지더라구요..그리고 반품할려고 다시 포장하는데..반품이 안된다고 하더라고요..\\n색상, 스타일 등의 옵션과 실제 제품의 옵션이 일치하지 않아서 골라서 보기가 힘듭니다\\n다 좋은데 갑자기 렉 걸리는 것처럼 리뷰만 나오고 고객센터나 상품설명, 제가 주문한 상품등이 하얗게 보이면서 보이질 않네요\\n마켓 들어가면 상의 세부카테고리가 있어서 편했는데 없어져서 좀 불편해요 마켓들어가면 항상하는생각이 세부카테고리..ㅜㅜ\\n초6~중2가 입을만한 옷이 있었으면 좋겠습니다. 옷에 크기때문에 맘에 든 옷도 못살때가 많아요 ㅠㅠ. 크기가 맞는 옷이 있었으면 좋겠습니다. ㅠㅠ 그래도 디자인은 너무 예쁘네요. 가격대도 좋고요.👍\\n아이폰 쓸때 애플 아이디로 로그인해서 포인트 많이 쌓았는데 삼성으로 바꾸니까 애플아이디로 로그인을 할수가 없어요..\\n검색어 필터에 신발 사이즈도 있었으면 좋겠어요... 발이 작은 편이라 매번 허탕이에여ㅜㅠ\\n진짜 앱 너무 좋은데 몇몇 브랜드에서 반품을 너무 안해줘요 2주째 신청중인데 아직도 반품이 안되고있어요^^\\n다른 앱에 적어둔 사이즈를 확인하려고 다른 앱으로 전환 했다가 다시 볼 때 상세페이지 화면이 보이지 않아서 뒤로가기 했다가 다시 봐야만 보여요. 제 기기만 이런건가요\\n아이템 찾기가 어려워요ㅠㅠ 리뷰 남겼더니 안좋은 내용은 아예 보이지도 않게 해뒀네요ㅠㅠ\\n사정이 있어서 에이블리 계정을 못 만드는데 게스트는 구매가 안되고 찜이 5개만 되서 많이 아쉽네요 😶\\n배송이 1루마다 진행이되서 빨리와야 하는데 이정도로 배송진행이 안되서 계속이러면 3~4일은넘께 걸릴것 같네요\\n예쁜것들이 많아서 좋은데요.... 그 쿠폰 성년의 날 20%그거 쓸려고 하는데 안되요 왜 안되죠??\\n잘쓰고있었는데 요며칠 계속 인테넷오류 등등 지웠다 깔아도 마찬가지 입니다\\n결제 취소를 했을 때 바로 입금 받을 수 있는 게 있었으면 좋겠습니다\\n구매시무료배송이지만 편하게 무료로반품도 했으면합니다 개선건의드려요\\n구매내역 확인하려고 들어갔는데 웹페이지를 확인할 수 없다고 뜨네요.\\n에이블리가 계속 중단됨 이라고뜨고 어플자체가열리지않아요..ㅠ\\n리뷰 남길때 포토리뷰를 쓸수 없어서 지웠다 깔았는데 앱 실행이 안돼요 ㅋㅋ..\\n찜한 물건 서치기능이나 최신순 오름차순 내림차순도 추가해주세요 넘 불편함😵\\n저 이거 인증번호 발송에 실패했다고 뜨네요..\\n결제도 안되고 공지사항도 볼수가없어요.\\n장점 1. 전 제품 무료배송이라는게 메리트 큼. 아주 좋음. 2. 추천상품 목록이 괜찮음. 알고리즘 잘 짜신 듯. 3. 연령별,카테고리별 인기상품을 알 수 있음. 4. 리뷰에서 \\'내 체형 리뷰\\'를 사용가능. 이거 진짜 유용함. 나랑 비슷한 체형의 사용자들이 뭘 샀고, 핏은 어떤지 알 수 있음. 5. 광고에서 나오는 키 필터 별로 사용 안했음(주관적). 오히려 스타일 탭을 많이 쓴 듯. 단점 1. 마켓 볼 때 맨 아래로 내리는 버튼이 없음. 제품 상세설명이 보통 맨 아래에 있는데, 이거 없어서 상당히 불편. 추가해줬으면 함. 2. 리뷰 정렬 기준이 2개밖에 없음. 특히, 별점 낮은 순부터 보게 하는 거 추가바람.\\n다좋은데 배송이 왜이렇게 느린지모르겠어요 여태껏 온라인 쇼핑하면서 이렇게 느린적이없었는데 이상하게 에이블리에서 주문한 옷들은 전부 배송이 너무 느리네요 인터넷 쇼핑의 단점이 당일날 바로 상품을 받을수없는거긴한데 단점을 장점으로 바꾸지못하는건지~ 쿠팡 로켓배송같은걸 본받았으면좋겠네요 에이블리 직접배송 상품도 너무 느려요 추석이나 설도아닌데 왜이렇게 느린걸까요 지금이 2021년이 맞나 의심스러울정도로 배송이 느리네요ㅡㅡ\\n리뷰에 제품 옵션별로 선택해서 나눠볼수 있으면 좋겠네료\\n온라인쇼핑몰들어가보면 맨밑에 사업자등록번호랑 이것저것 영업시간.점심시간.유선전화번호 다 있는데 에이블리는없어서 고객센터에연락할일이생기면 한참찾아야해서 답답하고 불편해요\\n에이블리 이용하면서 예쁜 옷도 모아서 볼 수 있고 좋았는데 1. 배송이 느린 곳은 너무 느려요. 1달 이상 걸려서 받는 옷도 너무 많아요. 옷리뷰칸에 배송기간을 4일이상보다 더 늘려주시거나 상품마다 발송예정일을 미리 마켓이 그때그때 설정할 수 있게 해주세요. 2. 원하지 않는 마켓 차단 기능을 추가해주세요. 에이블리에서 구입하다보면 여긴 사진이랑 옷이 너무 다르다싶은 마켓이나 내 스타일이 아닌 마켓이 있는데 차단을 하고 보면 쇼핑을 좀 더 편하게 할 수 있을 것 같아요 3. 신고 기능을 추가해주세요. 인터넷쇼핑몰같은 경우 옷을 자세히 볼 수 있게 필터와 과한 뽀샵은 하지않고 잘 고를 수 있는 사진이 대부분이였는데 에이블리에 인스타마켓들이 입점하면서 소비자가 자세히 봐야 할 옷사진들에 머리카락으로 가리고 인스타감성을 한 필터를 넣어 실제로 옷을 받으면 다른 경우가 대부분입니다. 신고를 많이 받은 옷은 쇼핑몰에게 전달돼 사진을 다시 찍게 하거나 그런 기능 추가해주세요\\n⭐장점 - 편의점 결제가 된다는게 너무 좋아요! 예전에는 결제를 어려워해서 옷을 사지못하고 구경만했는데 편의점 결제가 생겨서 쉽고 빠르게 옷을 살수있어서 좋은거같아용ㅇ 그리고 쿠폰도 많이 주셔서 좀더 저렴한 가격으로 옷을 살수 있어서 좋아요 ㅜㅜ 그 전에는 시내에서 샀는데 이쁘다 싶으면 4~5만원이 훌쩍 넘어가더라구요... ⭐단점 - 요즘 너무 잡다한것들이 많아요... 곰팡이제거제, 칫솔거치대, 커터칼 등등 에이블리하면 옷이 생각나는 앱이였는데 요즘은 그냥 이것저것 사는 앱이 되어버린 거 같네요... 여러가지를 살수있다는 장점이 있겠지만 너무 정신없어요...\\n검색을 하면 검색한 옷만 나왔으면 좋겠어요. 후드티를 검색하면 뜬금없이 바지가 나오거나 목티가 나오는 경우가 많아서 검색창이 있는 의미를 모르겠네요. 제발 어줍잖은 광고한답시고 필요없는 정보좀 알려주지 마세요. 처음 깔았을때만 해도 되게 만족하던 어플인데 쓰면 쓸 수록 불편한 점이 한 두가지가 아니에요.\\n배송도 느리고 옷 재질도 별로 안좋아요 에이블리에서 산 옷들 거의다 벌써 보풀 나오고 찢어진 것도 몇 개 있어요 입은지 얼마 안됐는데요ㅠㅠ\\n아이가 사고싶은 옷이 있다고 캡쳐해서 보내줘서 그거 사려는데요. 왜 이렇게 접속이 안된다. 오류다 뜨는거죠? 며칠째 구매도 못하고 답답하네요. 개선해주세요. 예쁜 옷은 많아요. 처음 앱 깔았을 때 잘됐는데..요 며칠은 들어가볼 수가 없네요. 계속 지웠다 깔았디 해보는 중이예요-\\n일단 저는 이 앱 잘 쓰고 있습니다. 전상품이 다 무료배송이라서 참 좋은것같습니다. 또 세일도 자주하고 쿠폰도 자주 받아서 좋아요. 가끔 일주일 넘도록 안오는 물건들이 있긴하지만 거의 다 3일 안에는 왔던것 같네요. 혹시라도 이 앱을 깔지안깔지 고민하시는 분들이 있다면 한번 깔아보는것도 괜찮을 것 같네요.\\n상품 다 너무 좋은데 무통 입금 할 때마다 계속 확인이 안돼서 주문이 취소 돼 상품 준비도 늦어지고 배송하는 날도 늦어지니 이 점에선 너무 화가납니다,,물론 상품을 받으면 만족감에 조금 풀리긴 하지만 매번 이럴 수도 없는 노릇이라..어떻게 안 될까요ㅠㅠ...???\\n일단 저는 간편한 화면 정리로 편하게 헷갈리지 않고 쇼핑할 수 있는 점이 정 말 좋은 것 같았어요♡ (첫번째 반함) 그리고 상품을 구매하고 리뷰를 남기면 포인트를 준다는 점에서 두번 반했고요..그래서 별점 5개를 드리려고 했는데 생각보다 배송도 많이 늦구 배송 조회도 오류가 나서 그런지 상황 조회를 안해주더라고요ㅠㅠ 그리고 포인트를 적립하고 써야되는 기간 한정이 있다는 점도 좀 흠집인것 같아요....ㅜ.ㅜ\\n여기서 구매한 옷들은 유독 배송이 느려요. 경험상 70퍼센트는 1주일 이상걸렸고 이틀이내에 출고만돼도 선녀임... 1달만에 받은 옷도 있고 재고관리도 엉망진창이라서 샀는데 품절이라고 뜬적도 한두번이 아님. 쿠폰을 많이 뿌리긴 하는데 막상 가격비교 해보면 아무리 쿠폰을 쏟아넣어도 그닥 싸지않음. 88까지도 입을수있다고 나와있어서(본인 55반) 구입했는데 강아지 옷크기인 옷도 있었고... 막 상품이 찢어져서 오거나 한적은 없는데 체계없는 사이버 시장통이랄까...? 제가 몇번을당했으면 이렇게 귀찮게 구구절절 리뷰를 쓰고있을까요...^^.......지금 주문해놓은것만 배송도착하고 지금도 주문하고 한참지나서야 품절이라고 문자가와서^^ 이것만 제대로 환불되면 앱지울생각입니다. 입점한 쇼핑몰 관리좀 잘했으면~~~~\\n카테고리 정리좀 해줬으면 합니다. 워커부츠를 쳤는데 무슨 코르셋이 나오고 속옷이 나오고 장난아니네요. 다른 종류의 신발이 나오는것쯤은 그러려니 하겠다만 완전히 다른 것의 물건들이 나와있으니 불편합니다. 한두개도 아니고 그냥 완전히 다 다른것이더군요. 그것이외에는 잘쓰고있습니다.\\n이븐 옷들도 많고 여러 상품도 한번에 볼 수 있어서 좋은데 앱 기능이 별로임 리뷰를 써도 포인트가 오라가지도 않고 배송 시작한것도 아닌데 시작했다고 떠서 취소도 못하게 만들고 쉽게 결제 취소도 안되고 이런것들만 고쳐주시면 좋을것 같ㄷ아여\\n나를 간보는듯한 태도 양손가득한 쿠폰 단번에 내눈동자에 들어와 기선을 제합해\\n일단 장점은 가격대비 괜찮다는것? 전체적인 가격은 괜찮은데, 가끔 제가격에 비해 그만한 퀄리티를 못미치는몰이 있다는게 흠이고, 제일 짜증나는게 각 몰마다 가격표기임..막 천원 몇백원 해서 들어가면 그런건 보이지도 않고 뭐하는짓인지 모르겠음 ㅋㅋㅋ 천원해서 들어가면 이만원에 팔고,, 웬만한 가격이면 별말안하고 사는데 농락하는건가 뭔가... 그런 몰들한테 경고 안하나? 그리고 이번에 소프라이즈 이벤트인가 되게 소름돋음 애초에 꽝나와서 천원쿠폰을 준게 합쳐서 준게 아니고 따로따로 준이유가 ... 제한기간안에 써야한다는 소비자마음을 이용해 여러개를 사게하려고 그러는듯하는데 ..속이 훤히 보여서 좀 그렇다 ㅎㅎ 그외에는 다양한것도 많이 팔고 좋던데👍\\n화면에 스크롤 내리는 바 없는거 너무너무 불편해요 확대도 안되고. 상품을 제대로 보기가 어려워요. 하.\\n에이블리에서 특가 상품으로 되어있는것들은 최소 주문을 3개 또는 4개 이상으로 해야하는것들이 많은데 조건을 만족하고 최소로 주문했을 경우부터 가격을 걸어두었으면 좋겠어요 890원 900원은 눈속임 같아서요\\n계절 선택 기능 있었으면 좋겠어요\\n퀄리티도좋고 옷도좋고 가성비도 좋은데 다 1일이 97%으로 적혀있는데 저는 4~5일에 와요 돈은 없는데 기간은 남으면 추천 그리고 저처럼 성격급하면 한? 3일때 정말짜증납니다....\\n다른 쇼핑몰보다 저렴하고, 예쁜것고 엄청 많은데 편의점결제도 계좌번호를 써야되서 좀 곤란해요.. 미성년자도 쓸 수 있는 앱이라서 좀.. 다른쇼핑몰에서는 계좌전호는 안써도 됬거든요. 환불도 않할거고, 그 점만 고쳐주시면 좋을 것 같아요.\\n진짜 에이블리 좋아하고 애끼는데 왜 자꾸 오류가 뜨고 접속이 안되요ㅠㅠ 왜그럴까요..? 제 폰이 문제인가요? 그러기엔 다른건 너무 잘되던데....\\n리뷰에 옵션 생긴거 완전편해용 근데 광고낚시는 좀 짜증나요 만원대라면서 앞자리 만원인 제품한개 밖에없고 다 5~6만원 되있으면 비싼거 훨씬전에 호구빙구된기분이에요 없던 짜증도 올라와요 차라리 정직하게라도 적으면 맘에드는거 둘러보고싶은 맘이라도 들텐데 아그리고 검색 완전 비정확해요 그냥 장식임\\n요 며칠째 계속 오류나고 앱 실행도 잘 안되는데 왜이런거죠..? 전엔 너무너무 잘 사용했었는데 지금 일주일?정도 계속 이런거같아요ㅠㅠㅠㅠ\\n폰 악세사리는 본인이 찾는 기종이 있는 상품만 볼 수 있게 해주세요. 갤럭시 폰 유저는 아이폰 케이스 필요 없고 버즈 유저는 에어팟 케이스 필요 없어요. 찾기 너무 힘들어요. 버즈케이스 검색하면 에어팟 케이스 나와요. 어떻게 상품을 고르겠어요...\\n디자인은 좋고 예쁜게 많은데 폰케이스 같은걸 살때 폰 기종이 아이폰 케이스밖에 없더라구요ㅠ 그 디자인의 폰 기종을 선택할수 있는 기능을 만들어 주시면 더 유용하게 쓸 수있을것 같아요..!\\n다 좋긴 한데... 입금 분명 했는데도 문자가 안 떠요 ㅠㅠ 이것 때문에 옷 취소 시킨 적도 있어요... 이 점만 확실하게 고쳐주세요 ㅡㅡ\\n며칠전부터 계속 네트워크 오류라더니 삭제하고 다시까니까 상품창만들어가면 다 오류라고 뜨네요. 몇번째 삭제하고 다시 깔고하는건지..버그인거같은데 업뎃되고 더 안되는느낌\\n옷도 이쁘고 간편해서 좋은데... 제주도는 제주도비가 붙네요.... 개인적으로 무료배송이라고해야될지...모르겠네요....\\n안년하세요 아직 물건을 사지않은 한 유저입니다. 다름이 아니라 옷,에세서리 등 많은 물건이 있긴한데 쿠폰을 사용할 수 있는 제한이 너무 커요. 5,000원 쿠폰을 쓰려면 20,000원 정도를 골라야 살 수 있고 아직 청소년이라 가격부담이 너무 커요. 될 수 있으면 10,000원을 살때 5,000원 쿠폰을 적용해줬으면 좋겠어요. 제발 쿠폰쓸 수 있는 제한을 줄여주세요.\\n그 옷들이 다 170 아래 키 모델 분들밖에 없고 170 이상인 모델 들 찾기 힘들어요. 서버가 안 좋다고 튕길때가 있네요. 그런 부분 빼고는 좋아요\\n예전엔 정말 좋았었는데 요즈음 10프로 할인 쿠폰이 잘 안 나오더라구요ㅠ 할인 쿠폰이 정말 좋았었는데ㅠ 좀 아쉽네요ㅠ\\n편의점 결제도 돼서 넘넘 좋지만 옷 종류도 다른 사이트보다 적고 ㄴㅇㅂ쇼핑이나 울ㅌㄹ패션같은 앱들보다 비싼것 같네요;; 그리구 캐주얼 스타일의 옷보다 여리여리하고 청순한 옷들만 많은듯 싶어요...그래두 무료배송 해주는것도 좋고 막상 제품 받아보면 넘 예뻐요❤옷 종류만 조금 더 많았으면 싶슴다!\\n편의점 결제가 있어서 너무 좋았지만 편의점 픽업도 있었으면 좋겠어요 부모님 몰래 시키는 물건을 편의점 픽업해서 받으면 안걸리고 더 좋을것같네욯ㅎㅎ\\n진짜 다 좋은데 포인트 10퍼 제한하는거 없어지면 좋겠고, 품절목록은 제발 사라지길🙏,,몇번을 내려야하는지,,\\n다 좋은데ㅜ 리뷰 볼때 키랑 몸무게 구분해서 보는거 제발 있었으면 좋겠어요..... 자기 몸에 맞는 리뷰 보려면 한참 걸려요..\\n딴ㅇ건 다 좋은데 요즘 검색결과가 좀 이상하게 나와요 셔츠를 검색해도 후드티 맨투맨 이런게 나와서 불편합니다ㅠㅜ 개선해주세용\\n배송이 2일~3일 안에는 빠르게 와서 좋지만 서버 상태가 좋지 못하다고 물건의 구매가 잘 안될 때가 있습니다\\n조금 아쉬운건 다른 S10이나 이런 사람들은 생각을 안 했주니 조금 아숴워요. 게다가 다른 기종케이스를 살수가 없어서 많이 아숴워요\\n문의를 하려는데 문의 카테고리가 안눌립니다\\n옷사는것은 진짜 편리한데 요즘따라 오류가너무많아서 제대로 옷을 못보고 나가야되고 정말 별로네요\\n며칠전부터 인터넷 연결이 불안정하다면서 어플이 안들어가져요 ㅠㅠ 어떻게 해야할까요??ㅠㅠㅠㅠ사고싶은 옷이 있는데 들어가지질 않으니 보질 못하는중...\\n다 좋은데 대체 왜 리뷰 신체사이즈에 맞춰서 보는 기능이 없는건지 모르겠어연 있으면 죄송하구 없으면 만들어주세요!!\\n물건은많고 예쁘나 배송들이 너무 느림. 이주일씩 걸리고 어떤건 한달걸림. 마켓마다 배송예정기간을 좀 잘 입력해주었음 좋겠음\\n배송중이면 배송중이라고 빨리빨리 업데이트 됬으면 좋겠어요 계속 상품 준비중 이었다가 갑자기 물건 오면 당황함\\n처음 시켜봤는데 아직 안와서;; 오면 별 5개다 진짜...ㅠㅠ\\n갑자기 인터넷연결이 불안정합니다 라고 뜨며 앱이 켜지질않네요! 업데이트도했는데 여전히 안됩니다ㅜ\\n비슷비슷한 디자인들을 가격별로 보고 선택할수있어서 좋아요 그리고 솔직한 후기가 꽤 좋아요\\n무료배송인건 좋은데 담당자님께서 옷 원단도 신경써 주셨으면 좋겠어요ㅠㅠ 옷은 예쁜데 대체로 원단이 안좋아서 아쉬워요\\n옷 품질 개선좀\\n포인트 10%만 사용 가능한 거 없애주시면 안 될까요? 포인트 힘들게 모아놨는데 10%라뇨 ㅜㅜㅜ\\n쿠폰으로 샀는데 주문취소가 돼면 쿠폰이 없어지는게 좀 아쉽습니다ㅜ..\\n입금확인 좀 빨리빨리 해주세연~ㅠ 입금 할때마다 톡이 늦게와서 불안하고 짜증나고 그러네요ㅎ;\\n옷 시키고 현금 결제 무통장입금까지 눌렀는데 왜 농협은해은 없는건가요 농협중앙회는 있는데 그것땜에 옷을 못 샀습니다\\n쿠폰 무료로 주는 이벤트에서 1000원 짜리 뽑은걸로 양말 5개 정도 샀는데 난 취소 안 했는데 갑자기 혼자 다 취소 되버림 쿠폰도 되돌아 오는거 아니고 그냥 없어져버림\\n여태 옷만 보다가 이제 시켜 봤는데 결제 전에 입금을 해버려서요... 어떻게 안 될까요?ㅠㅠ\\n심심할때 구경하기 좋음\\n잘 쓰고있는데 갑자기 앱이 중지되서 다시 까니까 되는것 같더니만 갑자기 앱이 안되요ㅠㅠ\\n예쁜옷도 많고 종류도 많고 너무 많아서 앱 정리가 잘 안되는 것 같네요~ ^^\\n결제하는거 갑자기 달라져서 돈날림;; 왜 바꾼지 모르겠음 환불도 안 해주네\\n모든 상품이 무료배송인 건 좋지만 아쉬운 점이 많아요\\n에이블리까 좋은데 계속 한진택배 때문에 배송이 안되네요ㅡㅡㅡ\\n좋아요 엄마도 허락해주셨어요\\n많은 제품이 한군데 모여있어 좋은데 상품검색시 렉이 너무 심합니다\\n아가일 패턴가디건이 1+1이라고 적혀있는데도 불구하고 돈을 2배로 내야해요ㅜ 잘 확인부탁드리고 1+1인데 돈을 2배로 내야하는것은 헷갈리지 않도록 사진에 1+1이라고 쓰는것을 제지해주세요\\n일단 무료배송인건 좋은듯 이제 첫구매해봐서 아직 잘모르겠음^^;배송기다려봐야알듯\\n다 좋은데 포인트를 10%만 쓸 수 있는 게 너무 불편해요... 고려해주시면 감사하겠습니당\\n가격은 들어가서봐야 정확함 거의 추가긍액\\n장바구니에 어케 담나요;; 계속 들어가도 새상품 보고 오라는데\\n다양한 사이즈 다양한 스타일!\\n배송완료는 떴는데 왜 택배가 없죠?\\n앱이 자꾸 안들어가져요 고쳐주세요;,,,\\n그 $end라는 앱으로 결제를 했는데 주문접수라고되있는건 주문 완료가 된건가요???\\n가격표기 왜이럼 5천원이래서 들갔는데 2만원짜리가 나옴 ;; 한두번도 아니고\\n옷 예쁜거 참 많고 다양해서 좋아요~!! 가격도 원하는대로 조정할수도 있고요. 근데.. 쿠폰이 몇 만 원 이상 사면 쓸 수 있잖아요, 가끔 보면 적용 가능한 쿠폰이 2~3개일 때가 있는데요.. 적용 가능한 쿠폰이 2개 이상인데 쿠폰 1개만 사용할 수 있더라고요.. 그래서 이 점이 좀 아쉬웠어요ㅠㅠ 적용 가능한 쿠폰이 많다면 최대 2개 사용할 수 있었으면 좋겠어요!!! 그리고 상하의 세트 제품 보면 세트라고 적혀있고 가격이 11,900원(예시 가격입니다.)이라 \"세트에 이 가격이면 싸네\"하고 구매하려고 보면 상의 11,900원 하의 11,900원 세트 23,900원(예시로 적어놓은 가격입니다!) 이렇게 가격이 적혀있더라고요... 구매하려고 가격보면 웬지 속은듯한 기분이 든 적도 있었습니다.. 물론 상하의 세트가 다 그런건 아닙니다!! 그래도 구매하는 사람 헷갈리지 않게 세트 옆에 괄회치고 \\'세트 구매시 할인\\'(이렇게 안적혀있는 것도 있더라고요..)이라는 말도 함께 적어주시면 좋겠어요.\\n???????? 업뎃 왜 그래연 별로에요 리뷰가 잘 안보이게 하려고 일부러 그런건가? 있잖아요 되게 상품 비교하기 불편해요. 다 만족해요 ㅎㅎ 하눈데... 내가 저번주에 분명히 별로에요만 앞에 깔려있는걸 봤는데 왜 사라졌지? 음?\\n옷 사이즈 같은 메뉴(?) 그게 어디있죠..\\n배송이 너무 느려요\\n소프라이즈 참여하지 않았는데 했다고 뜨고 공유로 한 번 더 할 수 있는걸 날렸....;\\n다른 앱들과 같이 기능과 그런 것들은 괜찮기는 한데 제품을 구매하면 언제쯤 도착하는지 몇시간뒤에 배송이 완료되는지 이런 기능들을 넣어주면 좋겠어요ㅠㅠ\\n아직은 더 사봐야함\\n질좋고 오래 입을 수 있는 옷 찾기 어렵습니다.. 무료배송 + 저렴한가격에 살수 있다는 점만 좋은것 같구요. 질은 기대하지 마세요 애초에 !! 다양한 종류의 상품도 많고 다 좋은데 정말 한가지 말씀드리고 싶은거는 크림치즈마켓은 거르세요. 제가 거기에 몇십만원을 쏟아부었는데 옷은 지금 당장 쓰레기통에 들어가도 무방한 옷들이 와요 ;; 사장님이 어린나이신것 같은데 불친절하고 환불요청하면 개인의 체형 문제라고하네요. 사진을 어떻게 찍으시는지는 모르겠지만 사진이랑 같은옷 기대하시면 절대 안됩니다. 아주 사진으로 사기를 잘쳐요 정말 거기 쓴 돈만 생각하면 너무짜증나고 그런식으로 장사해서 돈버는게 너무 꼴보기가 싫네요 제발 여러분은 거기에 돈 낭비하지 않으셨으면 좋겟어요 ㅠㅠ 에이블리 베스트 상품이라고 뜨고 구매 만족율도 89퍼센트인데 다 에이블리에서 쇼핑몰 광고해주는거고 만족율도 정확한 계산인지 모르겠어요 크림치즈마켓은 저 믿고 거르세요 ㅠ!!!!\\n같은옷을 지하상가에서 봤네요 근데 지하상가가격이 훨신 저렴하네요 여기 만원돈을 더 올려서 판매 ㅡㅡ 적당히 하세요\\n앱도 좋고 여러 상품이 많아서 좋긴한데 왜 내가 모아서 한꺼번에 쓰겠단 포인트를 왜 한꺼번에 다 못쓰게하는거에요? 그리고 앞에 가격에는 5000원 , 6000원 이라 써놓고 상품 살펴보면 그 가격대 옷은 하나도 없고 진짜 상품 가격은 2만원 ,3만원 하는경우도 있어서 이 두개만 좀 고쳐주시면 좋겠어요\\n추가해주셨으면 하는게 하나있는데 찜 목록에 서랍을 옮길 수 있게 해주시거나 가나다순으로 정리가 가능하게 해주세요. 나머진 다 좋아요!\\n남녀공용도 있긴한데 대부분 여자옷이네요 남자옷은 없나요?\\n인터넷 오류가 없는데도 튕기는 현상이 자주 발생해서 불편하네요..버그 수정바랍니다\\n리뷰 남기면 수정이 안됩니다ㅠㅠ 이것좀 고쳐주세요 리뷰를 남기고 나서 사진을 지우고 싶은데 지우고 저장을 눌러도 똑같아요 그래서 아예 지우고 다시해야되서 번거로워요 그리고 지그재그보다 카테고리라던지 종류가 더 많아서 좋지만 배송도 늦고 마르고 키 작은 체격이 입을만한 옷이나 아예 빅사이즈인 옷이 대부분이어서 보통~통통 체격의 옷이 많이 없어서 아쉽고요 모델샷이 별로 없는 제품이 많아요\\n제가 에이블리를 잘쓰고있는 사람인데요 동생이 탈퇴를 눌러서 다시 로그인할려고 했는데 30일 뒤에 로그인이된다는거에요 에이블리에서 사야되는거있는데 사지도 못하고 쿠폰들이랑 포인트도 날라갔겠네요..:(\\n오래 사용하면서 다 좋았는데 옷 길이구분 좀 해주셨으면 좋겠어요ㅠㅠ 크롭은.. 입지도 못하는데 계속 추천에 뜨고.. 그게 좀 불편했어요\\n여러 판매처에서 고루고루 시켜봤지만 참 아이러니한 게 어떻게 한 판매처에서만 그런 것도 아니고 고루고루 문제들인지.. 여기서 옷 시킬 때 마다 별의 별 문제가 생겨서 그냥 앱을 지웁니다\\n물건은 다 좋은데 휴대폰 케이스에서 삼성 A31이나 그런 제품이 없네요.. 그점만 개선 하면 별점 5점이 되겠네요. 에이블리 사장님 개선하세요\\n옷 그런건 다 좋아요 그런데 배송이 너무 느리게 오네요 ㅋㅋ\\n무료배송이라는 점과 모아볼수있어편하다는 장점이있지만 여기서 옷 3번 샀는데 (각각 다른 쇼핑몰) 셋다 배송에 2주씩 걸렸습니다. 재고가 없으면 미리 일시품절걸거나 구매하자마자 재고없다고 알려주지않나요? 보통 4~5일지나고 나서 배송지연되니 기다리하는 식. 세번째는 설마했는데 역시나 또 올 기미가 안보이네요. 어플통해서 사는 사람이 젤 우선순위에서 밀려서 그런가...\\n제주도 배송비가 너무 비싸요..물건 2개사게 되면 둘다 배송비가 붙어서 배송비만 6천원이 들어요 .....배송비만 어떻게 하면 좋을꺼 같아요.\\n*배송기간 노답임* 옷을 다양하게 볼 수 있는건 좋은데 배송이 진짜....자체배송이든 그 업체배송이든 일주일넘게 기다리게하는건 진짜ㅡㅡ 이런거 잘 안남기는데 한참 기다렸더니 늦게 품절이라 못보내준다하고 일주일넘게 기다리라하는게 한두번이 아니라서 짜증나서 남김. 나름 여러번 시켰는데 빨리 온적이 단 한 번도 없음. 업체들 재고도 없으면서 뭘 팔겠다는건지. 늦게라도 오면 다행임. 업체들 재고관리 엉망인거 에이블리한테도 책임있다고봄. 재고관리 안되는 곳들 조치 취하고 계절지나기전에 옷 좀 입자!!!!!!!!!!!!!!!!!\\n무료배송과여러쇼핑몰을 한번에 다양하게 볼수있다는점은 너무 장점이오나 배송이 너무 늦습니다. 각기 다른 쇼핑몰배송이다보니 두세곳이상 시키면 기본적으로 이주는 예상하셔야해요. 여유있이 주문하세요. 허나 문의시에 답변이나 대응력은 너무 좋습니다.\\n예전보다 카테고리가 더 편리해지고 좀 더 다양하고 새로운 옷들이 많이 올라오는 것 같아 좋은 것 같다. 단점이 있다면 업그레이드 하고 나서 등급이 friend에서 welcome 으로 내려간게 당황스러웠지만 신경쓰진 않았는데 배송조회가 너무 실시간처럼 바로 안떠도 괜찮은데 너무 지나치게 늦게 확인되는게 별로인 것 같다. 배송조회만 개선 되면 좋을 것 같다.\\n모두 무료배송인건 좋지만.. 제가 언니껄로 계산을 하는데 토스가 앱이있어야한다네요..?언제 바뀌었죠..ㅠ 그래서 제 폰에 남아있는 쿠폰도 사용못하고 포인트도 못쓰는 상태가 됬습니다.. 거기에 대해 좀 실망입니다.. 생각해보시고 바꿔주세요..ㅠ 계속 이 상태라면 구매를 할수가 없어서 .. 좀.. 그래요.. 부탁드립니다 :)\\n검색하다 우연히 발견하게되어 리뷰들을 보니 다들 옷도 이쁘고 배송도 대부분 빠르다고 되어있어서 어플깔고 구경하다 결국 구매해버렸네요 .. :) 부디 배송도 빨리 오고 하자없는 제품들로만 왔으면 좋겠네요♡♡ 처음 이용하는거라 일단 별 3개 !! 배송 오는 것 보고 , 제품 이상 없는지 확인 후 이상없으면 별 5개로 리뷰 다시 달고 자주 이용하겠습니다♡ 잘부탁드려용♡♡\\n일단 무배인것도 좋고 다양한 셀러가 있는 것도 좋은데 단점은 1. 리뷰를 써도 적립금이 안들어오는 경우가 있습니다. 이건 셀러가 확인하고 주는 제도라서 그런 것 같은데 저는 어떤셀러가 잘 주는지 모르니 포인트도 못받겠네요^^ 게다가 별로라는 평을 남기면 퍽이나 포인트를 주겠구요. 2. 적립금 할인이 10프로 한도인것. 물론 그나마 할인이 있어서 좋기는 하지만 타 통합쇼핑몰에서 살때는 적립금 사용한도가 없거나 더 큰데 이 점이 아쉽습니다. 2번은 보완을 안해도 그러려니 하지만 1번 문제는 에이블리 내에서 처리하던지 자동으로 주던지 하셨으면 좋겠습니다.\\n다 좋은데 옛날글들과 막 섞여있어서 원하는 계절 옷 찾기가 좀 힘들어요 계절별 옷 정리가 되어있었으면 좋겠어요 ㅠㅠ\\n무료배송인 건 마음에 드는 데 퍼인트가 10%까지만 사용할 수 있다는 게 저금 그렇네요 포인트를 100% 다 쓸 수 있었으면 좋겠습니다\\n여기서 옷시키면 2주뒤에 와요 ㅎㅎ그래서 별 3개.. 근데 그래도 상품 되게많고 셀럽공구도있어소 이용중!! 아무리 마켓별로 상품재고파악을 해야한다지만 주문 일주일 후 품절이라고 환불해주는거는 좀;; 그리고 고객문의 ux 최악이에요 ㅋㅋㅋㅋ 카톡도 메뉴얼만 있고 답답해서 전화 걸려고 하면 전화상담은 대표번호 하나 있고 , 전화 걸때마다 통화중이라고 해서 휴일 아니면 전화 걸기도 어렵네용 ㅋㅋㅋ 어처구니 없음... 이런점만 개선해주시면 참 좋을거같아요\\n다른 건 다 괜찮은데 주문 후 결제 취소를 할 때 오후 3시 이후 답변 가능하다는 게 불편합니다. 결제 취소를 한 번에 할 수 있게 해주세요. 애초에 문의 게시판에 결제 취소하도록 문의글을 올려 취소해달라는 게 아니라 결제를 잘못했을 때 즉시 취소할 수 있게 해야할 것 같습니다.\\n예쁜옷도 많고 택배도 빨리오는것같아요 설에 시킨건 2주만에 왔지만 만족해요 근데 3개의 상품을 구입했었는데 리뷰쓰고 최대 1000포인트 받는게 있다고해서 리뷰를 3개 전부 썼는데 포인트는 1포인트도 안들어오내요..어떻게 최대 3000포인트를 받을 수 있는데 0포인트라니 조금 당황스럽네요,, 상품 한번에 3개사서 VIP로 올려주시고 포인트는 없는걸로 퉁치는건가요..?\\n옷들이 정말 이뻐요. 하지만 대부분의 마켓들이 상품을 소개하는 취지가 아닌 예쁘게 보이게 하기 위해서 상세보기의 사진들에 필터를 넣는 등의 행동들로 소비자들이 실망하게 할 때가 꽤 많습니다. ※그리고 pc에이블리 없애신 것 같은데 다시 만들어 주시면 안될까요?※불편합니다~\\n에이블리 잘쓰고있는 구매자 입니다. 어느순간부터 상품 정보란이 하얀색으로 안보이게됬더라구요 다시지웠다가 깔아봐도 같구요. 인터넷으로는 뜨는데 앱에선 보이지 않아요ㅠ 저랑 똑같으신분이 많아보이는데 해결부탁드립니다.. 아무래도 버그인것 같아요\\n다 좋은데 배송이 너무 느려요 . 1일이라고 해놓고 한 5일? 그정도도 가더라고요. 배송 엄청 늦게 오고요 옷은 다 예쁘고 질도 좋지만 배송이 너무 느려서 사람을 애태우게 만듭니다. 별 3개 드립니다.... +5일이아니라 거의 14일 가네요. 이것좀 고쳐주세요 ....\\n맨날 깔아도 영 만족하지 못하고 지우는 이유는... 1. 마켓 안에 옷이 카테고리화 되어있지않아 무조건 스크롤을 내리며 마음에 드는 옷을 찾아 시간이 불필요하게 많이 든다는 점... 2. 마켓마다 스타일을 해시태그 해놓았는데 러블리 20대 쇼핑몰만 보고싶은데 그렇게 모아보는 기능도 없는 것... 3. 마음에 드는 옷을 볼때도 스크롤바가 없어서 (매우불편!!!) 맨 밑에 옷 사이즈 먼저 보고싶은데 그게 안된다는 점.... +) 이건 앱의 문제는 아니지만 마켓들이 다 날로먹으려함... 사진도 대충 셀카로 폰으로 찍어서 올리고 옷걸이에 옷 제대로 걸어놓고 찍은 것도 없음... 이로 인해 쇼핑에 시간이 너무 많이들게 되어 지치고... 원하지도 않는 옷만 보다가 시간 다 간다는 점.... 등등 너무 불편한 구조의 앱... 무료배송인 것은 좋은 것 같다.\\n정말 애용하고 있어요!근데 참 치명적인 단점이 하나 있네요..ㅠ이게 에이블리를 잘 못 쓰게되는 이유인데..찜 상품페이지 기능에 문제가 있는 것 같아요!설명드리자면 찜 상품이 한 200개정도 되있는데 처음과 끝 페이지 빼고는 볼수가없어요 중간을.... 그니까 상품 수가 많아서 로딩이 되서 넘어가는데 갑자기 중간에서 맨 끝으로 그냥 휙 넘어갑니다,,그래서 중간에 있는 찜 상품은 보지를 못해요!!ㅜㅠ이게 말이..됩,,니까.... 원할하게 보지를 못하네요..휴...정말 이거하나 빼고는 다 좋은데 흑. 하라는 업데이트도 물론 다 했습니다ㅜㅠ 꼭 개선해주시면 감사하겠습니다!!!!!!\\n나쁘지 않아요. 다만 무료배송의 임팩트가 좀 떨어지는 점? 요즘 추세가 옷값에 택배비를 포함해서 판매하는지 무료배송이 많더라고요. 가끔 다른 판매 사이트 가격에 택배비를 붙여서 같은 제품 다른 가격에 파는 경우도 봤구요. 그래도 이쁜 제품 모아본다는 점에서는 괜찮게 사용하고 있습니다. 그리고 하나 요구하고 싶은 사항이 있는데 마켓별로 차단이나 즐겨찾기를 할 수 있는 기능이 생겼으면 좋겠어요. 동대문 옷 팔아 명품든다는 모 쇼핑몰, 꼴보기 싫어 죽겠는데 계속 피드에 떠서 저도 모르게 ably 앱을 끄게 되네요. 특정 마켓에서 구매한 내력이 있는데 너무 별로일 경우나 평판이 좋지 않은 경우, 차단이나 관심 없는 마켓으로 카테고라이징 할 수 있게 해 주셨으면 해요. 응원합니다.\\n비슷한옷 비교해주면 좋지만 갠적인 생각으로 간혹 너무 과대 광고하는것..같아요.. 그래서 잘안쓰게되네용 ㅎ....\\n에이블리 자체는 좋은데요..ㅠㅠ 카드로 결제할때는 환불계좌 안적게 해주면 안되나요? 아무래도 계좌를 입력하는거다보니 불안한건 어쩔 수 없는 것 같아요 결제 수단을 먼저 고르고 카드면 그냥 패스하게 해주고 아니면 환불계좌를 선택할 수 있도록 만들어주세요~\\n배송...........배송이 뭐 해외배송도 아니고 아직도 상품 준비중이라니요...........다른 매장에서 가져와서 한 번에 보낸다고 쳐도 좀 느린 것 같아요.....다앵한 매장에서 옷을 살 수 있는것,무료배송,가격 다 좋은데 제품이 언제 출고될지도 모르고.... 인터넷에 쳐보니까 2주 이상 걸린 사람도 있다고 하고요....ㅠㅜ옷을 빨리 받아봐야하는 분이라면 다른 앱을 사용해보시는 것도 좋을 것 같아요...ㅠㅠㅠㅠㅜㅜㅜ\\n다 좋긴 한데 쿠폰받기 취소 기능도 있었으면 좋겠네요..\\n무료배송이고 다른거 너무나도 좋은데 역대급 세일이나 그런거 할때 시간이 정해져 있으면 그 시간에 딱 맞춰서 세일 해주시면 안될까요? 저는 시간이 정해져있길때 그 시간 되기 1분전 쯤에 들어가 있었는데 제가 들어가기 전부터 세일이 시작되고 있어서 제가 들어갔을땐 이미 다 품절된 상태라서 하나도 구매하지 못했습니다. 그래서 이 점 꼭 참고해서 꼭 고쳐주시길 바랍니다.\\n이번에 소프라이즈 이벤트에서 100,000원 쿠폰에 당첨됐는데요 언니가 이벤트를 알려준거라 결국 절반을 언니에게 줘버렸네요.. 쿠폰이 가격제한도 없고 괜찮은데 사용하려고 보니 에이블리 앱의 치명적인 단점이 생각나 버렸습니다.. 에이블리에 들어와 있는 쇼핑몰들이 자신들의 공식 사이트에서는 좋은 상품들을 많이 보내주지만.. 에이블리에서는 불량을 많이 넣는다는 겁니다.. 불량을 받았을때 환불 금액도 너무 비싸서 결국 그냥 가지고 계시는 분들이 많은데요.. 이걸 해결해야지 에이블리 앱이 많이 발전되고 이용하시는 분들이 마음편히 구매하실수 있을 것 같습니다. -이상 갑자기 말이 바뀌는 평가였습니다-\\n생각보다 실속없네요. 할인폭이 높다는 알람이 자주떠서 혹시나해서 이것저것 봤는데 디자인도용 물건도 열에 여섯건은 보이고(자주보니 피로하기까지합니다) 찾고싶은물건도 별로 안뜨는걸 보니 물건종류 폭도 적고요. 뭐 쓸사람은 잘쓰겠지만요.\\n에이블리자체는 너무좋습니다. 그런데 쇼핑몰 차단기능도 생겼으면 좋겠어요. 예스버튼이라는 곳에서 대응도 엉망이고 배송 한달가까이 기다렸더니 문의전화도 안받고 환불처리중이라고 떠버리니 황당하네요;; 이런 쇼핑몰 거를수있는 차단기능도 생겼으면합니다!!\\n다 좋은데, 앱 인터페이스 좀 더 개발하셔야 할거같습니다. 예를 들어서 상의를 누르면 블라우스,티셔츠 등등 상의의 종류별로 분류해서 보고싶은데 어디로 들어가야 볼수있는지 헷갈립니다. 그리고 내 맞춤 필터에서 연령대, 키 말고도 스타일(캐쥬얼,심플 등) 추가로 필터가 적용될 수 있도록 해주시면 정말 유용할거 같습니다. 솔직히 키랑 연령대만 가지고 필터를 적용하면 너무 광범위합니다. 별로 필터라는게 의미가 있나 싶은 생각이 듭니다. 번창하세요.\\n무료배송인것도 좋고 앱도 깔끔해서 좋긴한데 등급 혜택이 좀 아쉽고 의미없게 느껴지네요.. 10%할인 쿠폰이 간간히 생겨서 그런지 몰라도 3만원 이상샀을땐 1000원 쿠폰.. 7만원 이상 사도 4000원 밖에 할인이 안되는 점 때문에 등급과 관련된 혜택쿠폰은 써본적이 없어요ㅡㅡ\\n베스트 상품이나 특가 상단에 뜨는게 맨날 똑같다... 솔직히 위에 뜨는 상품들은 광고 받아서 뜨는듯.. 다른 알고리즘으로 다양하게 띄워주세요 이외 무배인거랑 쿠폰 주는 것, 그리고 환불처리 같은 서비스들은 빠르고 다른 쇼핑몰보다 깔끔하다. 근데 990원 이벤트 상품들은 무슨 배송이 3주나 걸린다... 저처럼 990 개이득 이러면서 속지 마시고 잘 고민하고 구매하시길,,, 여름 다 지나고 오겠어요.. 전반적으로 좋은 앱이긴 한데 아쉽\\n다른건 다 좋은데 로그인 오류가 계속 뜨네요... 비번도 맞게 로그인했는데 오류가 떠서 비번찾기 해서 임시비번을 입력했는데도 불구하고 오류만 뜨네요 저만 이런가요..? 이 점 고쳐주시면 정말 좋을것 같아요 ㅠㅠㅠ\\n뭐 앱은 평범하니 괜찮은거 같은데요.마켓에 들어갔을 때 상의,하의,아우터 등은 카테고리 별로 나눠주시면 안될까요 ?보기 불편합니다.그리고 입고 지연된 상품은 왜 품절처리가 돼서 시키지도 못하는거죠 ?입고 지연은 지연된 후에 주문을 해도 순차배송을 해주는 시스템이라 품절이랑은 전혀 상관없는데요.\\n옷 검색하는것도 편리하고, 저렴하고 옷 좋은곳도 많이 뜨는건 좋으나 마켓들 관리를 안하시는거 같아요 3군데 시키면 그 중 1군데는 무조건 2주이상 배송지연이 되요 한 두번이면 참겠는데 시킬 때 마다 그래요, 그리고 늦어진다고 말도없고 문의 넣어야 그재서야 언제까지 늦어진다고 알려주고 그 기한도 안지켜요 계속 이런식이면 어플 사용 안할것같아요...\\n너무 좋네요^^ 근데 결제가 힘드네요^^\\n예전에 사이즈별로 검색할 수 있으면 좋겠다고 리뷰했었는데 아직도 그 기능이 없네요.. 사이즈 표기되는건 좋은데 나랑 비슷한 사이즈가 아니면 거의 아무 의미 없지않나요.. 사이즈별로 리뷰 솔트해서 골라볼 수 있게 해주면 좋겠어요 다른사이트 쓰다가 넘어왔던건데 거기선 리뷰창에서 추가적으로 특정사이즈 리뷰 검색할 수 있게 해놨었거든요 그기능이 도입되면 좋겠어요\\n제발 제품 상세페이지는 따로 만들어주세요. 어떤 옷은 사진만 100장임 ㅠㅠ 한 두개면 안사고 마는데 많은 제품이 그러네요. 계속 그아래까지 다 내려서 사이즈를 볼 수는 없잖아요. 그리고 페이지 위로 올라가는 버튼 누르면 너무 느리게 올라가요. 그냥 한방에 이동좀....\\n무료배송이 좋아서 처음 깔고 결제하려는데 계속 서버문제있다고 하고 몇시간동안 되는게 없네요 ㅜ 보니까 이 앱 고질적인 문제같은데.. 앱이 불안정한건 진짜 큰 문젠데 빨리 손봐주세요.. 속터져서 못쓰겠어요. 그리고 결제하고 바로 취소 기능 없다는 거에 진짜 충격... 이정도 규모면 바로 취소기능 해주셔야되지않나요 ㅠ 하나하나 취소글 올리고 하고. 예전에 다른데에서 이런 시스템인 경우에 글 확인도 안하고 배송 먼저 해버리고 그런 경우 많던데.. 이것도 바로 취소 가능하게 빨리 구축해주세요ㅠ\\n예쁜 옷 많아서 좋아요 제가 원하는 쇼핑몰들이 있지는 않지만... 근데 옷 30만원치 골라놓고 무통장 입금 하려고 주문버튼 눌렀더니 안된다고 뜨더라구요ㅋㅋ 그거 확인해보려고 리뷰도 뒤적거려봤는데 배송도 엄청 늦는다고 하고... 그냥 이런 사소한것들에 스트레스 받기 싫어서 지그재그에서 주문했네요 개선해야할 부분이 눈에 많이 띄어요\\n제가 진짜진짜 잘 쓰고있는 앱 이에요 여기서 옷도 여러 벌 샀었고요. 그동안은 배송도 잘 되어서 정말정말 좋았어요. 이번에 옷을 4벌을 사게 됐어요. 그래서 들뜬 마음으로 기다리고 있었는데 갑자기 그 4벌의 옷이 모두 주문 취소가 됐다고 뜨네요. 저는 취소 한 적도 없고, 계산까지 완료했지만 갑자기 환불을 했다고 하네요. 이거 어떡하죠?\\n옷도 예쁘고 좋은데 왜 결제 할때 스토어로 넘어가서 뭘하라는데 계속 로딩중일까요? 답답하고 짜증나서 결제도 못하고 있어요..왜이러는 거죠? 제 폰이 이상한건가요? 정말 답답하고 짜증납니다.\\n좋아요 다 좋은데... 업댓 되기 전까지만 해도 무통장입금하면 바로 톡이 왔는데 요즘은 자동취소 될 때까지 안 옵니다;;; 나중에 문의를 해야 확인이 되더라구요. 마켓이 문제인지 앱 전체가 문제인지...^^ 분명 2시간 내로 확인이라면서 취소될 때까지 처리가 안되면 어쩌자는 건가요? 매번 이러니까 짜증나요;\\nQ&A 기능 좀 개선되면 좋겠습니다. 판매자에게 1:1로 문의하게 되어 있는데, 일반적인 게시판 형태로 Q&A를 볼 수 있으면 좋겠어요. 다른 사람들 질문글들을 토대로 배송현황을 유추하거나 사이즈 문제 등을 볼 수 있는데, 이건 다른 사람들 질문을 못 보니 그냥 구매했다가 배송도 안오고 1:1 문의 남겨도 판매자는 답변도 없어서 답답합니다.\\n되게 뭔가 재미있어요 쇼핑하는거 ? ㅋㅋ\\n와 진짜 신규가입쿠폰도 가격대 다양하게 많이줘서 소비자 생각하는게 느껴지고 맘에드는 상품 발견했을 때 관련상품 누르면 진짜 취향저격하는 비슷한 것들 나와서 좋아요 근데 너무 심각하게 치명적인 단점이 있어요.. 무통장입금 기한이 너무 짧아요 밤 12시에주문했는데 카톡으로는 다음날 아침 7시 30분까지 입금하라니ㅋㅋㅋ 학생이라 인터넷뱅킹 안쓰고 은행가서 직접입금해야되는데 밤에주문하면 자고 일어나서 아침에 은행 문도안여는 시간에 입금기한이 만료되네요ㅎㅎㅎ어이없는 실수죠..?\\n옷같은거 살때 옷 바느질? 같은게 잘 안되있네요.. 실이 막 튀어나오고.. 그리고 이번 50만원 이벤트 너무 실망인게어제 진짜 열심히 해서 50만원 겨우 다 채웠는데 오늘 학교갔다와보니깐 갑자기 46만ㅋㅋㅋㅋㅋㅋㅋㅋㅋ.. 중간에 세일하는거 뭔데요 ;; 오늘 오후12시까지 라서 어짜피 참여되지도 않았을텐데ㅋㅋㅋㅋㅋ노린거면 실망\\n레이아웃이 깔끔하고 보기 좋게 정렬되어있어서 좋아요. 각각 다른 마켓에서 구매해도 같이 배송 된다는 점도 좋은데, 배송이 느려요.. 그리고 주문 이후에 품절되는 경우도 많네요. 해외 직구했다고 생각하고 기다리면 될 듯 하네요.\\n옷들은 이쁘고 저렴하면 쿠폰도 간간히 줘서 좋아요 배송도 배송지연일경우에는 5일정도 걸려요 배송걱정 많이 했는데 생각보다 빨라서 놀랐어여 근데 진짜 별로인게 배송온 옷이 별로라서 반품할려했는데 앱에 문의남기면 2일후에 답변오고 톡문의같은 경우도 엄청 느려요 카톡문의 10~6시까지 받는데 2시에 보고 1시간간격으로 답변옴...ㅋㅋ7일안에 반품해야한다해놓고 문의에 대한 답변이 느리면 어쩌라는건지...에휴\\n다른 건 다 좋은데 상품은 취소가 됐는데 돈이 안 들어오네요 이것 좀 빨리 해결해 주세요\\n저는 정말 에이블리를 잘 사용하고있었는데요 ... 갑자기 주문을 하려는데 배송지를 선택해도 다시하라는 창이뜨고 환불계좌를 입력하는 곳을 눌러도 뜨지않네욤...ㅜㅜ 아 그리고 앱도 지웠다 깔아보고 여러가지 많이 해봤어욤..ㅜㅜ\\n싸다고 해서 일단 18000원 할인 받고서 ^^ 샀는데 옷 퀄리티를 모르겠어서 좀 걱정이네요.. 근데 할인권 뿌리는거 만큼 비싸서 할인권해도 가격 다른데랑 비슷할것 같습니다 괜찮은 샵을 ㅋㅋ 찜하던가..해야지 그렇게 다지면 ㅈㄱㅈㄱ 랑 별로 다른게 없는데, 그래도 무배있으니 일단 ㅋㅋ 해봅니다 번창 하시길\\n제가못찾는건갸요.?푸시얄람끄는기능이 없네요 광고가 엄청오는데.. 베터리너무많이먹어서 삭제하려구여~~ 예쁜옷은 많긴한데 아쉽네요 다음에 옷살날이오면 다시깔아야져 공구 아이디어 좋은것같아요\\n평소 잘 애용하던 앱이고 최근에도 구매를 하려고 찾아보고 있었는데 갑자기 아까부터 카테고리,가격 등등 설정할 수 있는 기능들이 다 막혔네요.. 선택할 수 있는 필터가 없다는데 아침까지만해도 검색이 되었던 것들이 안된다니 당황스럽네요..^^ s9+사용하며 앱 다시깔기,최근 업데이트,핸드폰 껏다키기 등등 할수있는 모든것 다 해보고 안되서 남깁니다..\\n미진열... 무슨 뜻인가요 ㅠㅠ 멀시로고후드집업 찜해놓고 살려고 딱 열었더니 미진열 상품이라고 뜨네요 ㅜㅠ 여기가 딴데보다 가격도 싸고 혜택도 많아서 딱 살려고 열었는데 진열되지 않은 상품이라 뜨는데 이거 혹시 나중에라도 다시 살 수 있게 뜰까요? ㅠㅠ 뜬다면 언제쯤 뜰까요..\\n큰 장점은 하나만 사도 무료배송이라는점 가격대는 일반쇼핑몰과 비슷함 단점은 배송 너무 느려요 소수의 당일배송 상품제외 빠르면5일 평균 일주일 걸리고 배송지연 상품은 1~2주 그 이상도 걸립니다..\\n에이블리 몇달간 사용한 결과 이벤트해도 비싸고 특히 쿠폰이 너무 사는가격에 비해 적네요.배송걸리는 기간은 저번보다 나아진거같구요!!!상품 상태같은거는 보통이상정도 구요.\\n다 좋은데 구매후에 옵션변경으로 취소하고 재구매하고 싶을때 바로 할수가 없어서 불편해요 매번 요청해서 해야하는데 바로 되지도 않고 시간도 오래 걸리고 구매가 신중해지네요 다른앱처럼 내가 스스로 취소할수 있었으면 좋겠어요 그리고 배송도 너무 느려서 한달 기다린적도 있는데 그럴거면 안파는게.나을거 같아요 계절지나서 사면 무슨의미가 있는지...\\n에이블리ㅜㅜ정말잘쓰고있는데 갑자기 들어가보니 다품절이더라구요 무슨말이냐면 그냥 에이블리에서 판매하는 모든상품이 전체 다 품절이뜹니다.... 일시적인 오류인가요 ? 몇주동안 열심히 장바구니담았는데 장바구니에 담은것들도 다 품절이라고뜨더라구요 잠깐 생긴 오류였으면 좋겠어요 에이블리ㅜㅜ\\n기능 제품들 전부 다 좋은데요 앱 접속이 너무 느려요.. 예전엔 빨랐는데 접속 유저들이 많아진 탓인지^^;; 좀 더 용량좀 늘려서 속도가 빨라졌으면 좋겠습니다.\\n앱 자체는 너무좋고 잘 이용하고 있는데 어떤 마켓이 입금까지 하고 2일정도 지나서야 품절이라고 환불해준다네요, 애초에 제품을 받지않아야 하는거 아닌가요? 다른 곳에는 품절이면 품절된 상품이라고 다 뜨는데 왜 굳이 주문을 받았다가 환불절차를 밟게 하는 건가요;; 쿠폰도 그냥 날아가고 진짜 뭔가 기분안좋네요.\\n가격도 괜찮고 다 좋은데요 보다 보면 똑같은 디자인들이 엄청 많은데 가격은 비슷비슷한데 상품 품질은 진짜 하늘과 땅 차이에요 그런걸보고 원조와 짭의 차이라고 하나요 ? 그리고 배송도 너무 늦어요 많이 주문해보지는 않았지만 배송이 기본 1주일이고 저는 한 달 전에 주문한 상품마저도 지금도 못받고 있어요..ㅎ\\n안녕하세요 에이블리를 사용하고 있는 한 여학생입니다 저는 요즘 에이블리에서 예쁜 옷들을 보고 고르고 있었습니다 그래서 옷들을 다 고르고 사려고 하니깐 회원가입을 하라고 하네요? 그거까진 괜찮았습니다 근데 회원가입을 할 때에는 휴대폰 인증 을 해야되는데 이미 사용한 전화번호라고 하더군요 제가 알기론 제가 지금 사용하고 있는 휴대폰번호를 전에 쓰던 분이 이 앱을 사용한것 같은데 문제는 제가 그분의 아이디와 비밀번호를 모릅니다 그래서 아이디나 비밀번호를 바꿀수도 없어서 정말 답답하고 짜증나네요 이 글이 보시면 최대한 빨리 해결책 을 알려주세요 그 계정을 초기화하든 없에든 상관 없으니깐 걍 빨리좀 처리해주세요 제가 고른 옷들이 점점 품절이 되고 있습니다ㅜ 도와주세요\\n다 좋은데 깊카로도 살 수 있었으면.. 일단 저는 조금 시골이라 버스를타고 나가서 편의점결제든뭐든 하는데 요즘 시국이 시국인지라 뭘 나가지도 못하겠고 쿠폰은 날짜도 다 되가고.. 조금 불편한 점들이 있는것 같아요..\\n찜한곳에서 다른 파일로 옮기려고 하는데 한번에 밑으로 넘기는게 없어서 너무 불편하네요. 그리고 파일 옮길 때 뭐 하나라도 잘못누르면 자꾸 맨우로 올라기네요. 다음 업데이트 때는 이것도 보완해서 해주세요.\\n배송비가 없는 점은 큰 장점이지만 조금만 인기있는 상품을 시키면 기본 일주일에 길면 한달 이상 배송 지연이 되네요..정말 좋은 앱이지만 해결 방안을 마련하는게 장기적으로도 좋을 것 같습니당\\n제품들이 다 이쁘고 뽀쟉뽀쟉(?)합니다! 그런데..ㅜ제가 갤럭시a8 star 인데..제 폰 기종이 없어서..ㅜㅜ예쁘고 귀여운 폰케이스가 있어도 폰기종 때문에 저는 폰케이스를 살수없습니다..ㅜ 이 점 고쳐주신다면 별5개 드립니다..!\\n예전부터 옷도 예쁘고 배송도 괜찮아서 많이 사용했는데요 앱을 다시 깔고 들어가니까 와이파이 연결이 잘안된다고하는데 다른앱들은 잘 들어가지더라고요 그래서 삭제하고 다시 들어갔는데도 똑같이 그러네요 이유가 있을까요??\\n예쁜 옷도 많고, 편리하긴 한데 찜 목록에 모아둔 상품들을 장바구니에 담았는데 \\'장바구니\\'에 어떻게 들어가나요..? 아무리 찾아도 안 보여요. ㅠㅠ\\n다 좋아요... 괜찮은데요..ㅠㅠ 제주도는 배송비가 너무 붙네요..... 아무리 섬이라지만.... 그리구 카테고리에 사이즈도 추가 됐으면 해요. 아니면 총 기장이나..\\n가격대별로 있고 옷, 악세사리 등 패션소품이 다양하게 있어서 좋은것 같아용ㅎㅎ 쿠폰 한개만 쓸수 있는게 아쉽워요 2이상 쓸수 있으면 좋겠네요~~~!!!\\n앱 자체는 너무 좋고 쇼핑몰도 많아서 좋지만 저만 그런건지는 잘 모르겠는데 자주 앱실행이 안되요... 인터넷 연결 잘되어있구 다른앱들은 실행잘되는데 왜 에이블리만 그런가싶네요.. 지금 너무 짜증나서 앱 삭제하려다가 에이블리의 장점 생각하면서 참는중입니다....하...별점은 앱실행 문제때문에 하나깍았구요 다른 별하나는 제 마음에 드는 옷들을 찾는데 시간이 쫌 오래걸려서 깍았습니다\\n환불계좌 넣는건 대체 왜 있는거에요..? 이때동안 구매했던 쇼핑몰에서는 이런거 전혀 없었는데... 그리고 어차피 신용카드로 결제하는건데 환불받는것도 부분적으로 환불받으면 되는건데 ,,, 왜 이런체제를 넣어놓은지 모르겠네요 ,,,, 왠지 그런거 하면 뭔가 찝찝하잖아요.. 다들 안그랬나요 ??\\n다 좋은데 검색엔진이 어느 순간부터 이상해짐. 검색어가 아예 포함되지 않는 결과물이 90%를 차지하는 듯 ex 반팔셔츠 쳤는데 겨울 골덴 퍼 자켓이 나옴ㅋㅋㅋ대체 무슨 상관관계가??\\n마켓별 상의 하의 드레스등 카테고리가 없어서 상품이 많은 마켓들은 원하는 카테고리만 둘러보기가 힘들어요, 그리고 페이지 나눔도 없어서 무한스크롤도 필요하고 맨 위로가기 기능도없어서 불편하네요.....그리고 저가순은 있는데 고가순이없어서 그것도 불편합니다\\n왜 제품 상세설명칸이 제대로 뜨지 않을까요. 처음엔 제 폰에 문제가 있는 줄 알고 넘겼습니다. 하지만 다른 것들은 다 괜찮게 작동하는데 상세컷은 아예 뜨지도 않네요.\\n솔직히 싼거도 많고 좋은것도 많아요. 하지만 결재를 하고,마이페이지 들어가서 물건이 언제 오는지 살펴보면 안나와 있어요;;그래서 너무 늦게 오면 좀 그렇고 그런데 다른데를 보면 언제오는지 나와서 안심이 돼는데 이건전혀 안심이 안돼네요;; 이거좀 고쳐주었으면 해요.아님 좀 빨리오든가여;\\n장점은 배송비가 없다는거고 단점은....배송도 엄청 느리고..알림은 계속 떠서 어디서 설정해야할지 모르겠고 결제하려고 할때마다 렉걸려서 나가집니다.... 좀 마른 사람들이 입으면 핏은 좋음 상품질은 때마다 다른듯\\n옷은 너무 예쁜게 많고 좋은데 뭘 사든 항상 배송지연이라고 하는데 저만 이런건가요.. 넉넉하게 착용 보름전에 주문해도 항상 주문폭주로 배송 지연이라고 하네요 다 좋은데 배송부분이 아쉽습니다\\n계속 잘 쓰고 있었는데 상세페이지가 안떠요...!몇번을 지우고 다시 깔아도 안 떠요..!ㅜㅠㅠㅠ 이거 빨리 해결해주세요 답답해 죽겠어요..\\n정말 잘쓰고 있는 유저인데요 옷도 예쁘고 맞춤까지 완벽하지만 1+1이라고 쓰여있는 상품을 시키려고하면 돈이 추가됩니다 .ㅠㅠ 왜그러는지도 잘모르겠고 조금 당황스럽네요ㅠㅠ\\n다른건 다 좋은데 가끔 쇼핑몰이 리뷰를 조작하거나 리뷰를 삭제할수 있는부분이 쫌 그렇네요 이상하다해도 삭제된단말이 떠도네요 그런걸 알고나니 믿음이 가질않네요 쇼핑몰앱에 그런 기능좀 삭제해주셨음 하네요\\n굉장히 잘 쓰고있었는데 돈을 입금해도 상품이 계속 취소됩니다 벌써 일주일내내 그러고 있습니다 빨리 고쳐주세요 그리고 쿠폰을 받아도 정작 주문할땐 쿠폰이 안 뜨네요 빠른 개선 부탁드립니다\\n깔끔한 디자인은 좋은데 카테고리가 좀 더 세분화 되어있어야 할 것 같아요. 좀 더 찾기 쉬웠으면 하고. 보기는 좋은데, 배려가 부족한 디자인이에요. 모든 상품이 무료배송이라는 점은 굉장히 좋네요.🙂\\n저저번주에 시킨 폰케이스 아직도 안왔어요ㅠ 이쁜거 많아서 좋은데 배송이 넘 늦네요ㅠ\\n상품을 모아 볼 수 있는 건 좋은데 너무 불편해요. 상품을 하나 보고 뒤로 가면 검색창이 다시 처음으로 되돌아가 있어서 제가 본 곳까지 다시 내려야합니다 이거는 정말 고쳐주셔야 할것같아요\\n제가 전화번호가 바껴서 로그인이 안된다고 말씀을드렸는데 로그인한뒤에 할수있는 방법만 말씀해주시네요... 지금 바뀐번호로 가입한사람이 있어서 자꾸 뭐만하면 아이디찾기로 넘어가고 아이디찾으면 다른사람 아이디가 뜨고 비밀번호설정이안돼있는 이메일이라뜨고 아무튼 무슨수를써도 로그인 및 회원가입이 안되고있어요 고객센터도 로그인해야 되던데요?\\n테블릿에 설치할 수 있도록 기기호환도 됐으면 좋갰어요 ㅜㅜ 아님 컴퓨터로 일반 쇼핑몰처럼 싸이트를 만들다던가..다 좋은데 테블릿으로 앱사용하고싶은데 기기호환이 안되서 에이블리에서 옷 사고 싶어도 결국 다른 앱 깔아서 쓰고 그러네요 ㅜㅜ\\n싸게 잘사는거 같아요 무배 좋아요 근데 몇몇 배송 정말 심하게 느리고 연락도 없이 지연 문의하면 똑같은 템플릿의 대답 업체 평가하는 항목은 없나요? 이번에 교환건으로 신뢰도 많이 떨어졌어요\\n음... 진짜 쇼핑몰을 모아 보는것 밖에 장점이 없는것 같아요 에이블리만의 특징이 있었으면 좋겠는데 다른 마켓모음앱도 무료배송이라 다른 임팩트가 있었으면 좋겠어요.\\n잘 사용했는데 갑자기 들어가보니깐 모든 상품이 다 품절이라고 떠요... 앱 자체에 문제가 생긴거 같은데요ㅠㅠ 해결해 주ㅅㅐ여 제발 ㅠㅠㅠ 저 에이블리 말고 다른 쇼핑몰 안 쓴단 말이에여 ㅠㅠ 흑흑\\n갤럭시쓰고있는 사람인데요. 옷 앱에서 폰케이스를 사는것은 좀 이상하지만 폰케이스를 사려고 보면 정말 이쁜게 있어요.근데 다 아이폰 밖에 없습니다..;갤럭시 폰케이스도 좀 이쁜거 만들어줬으면 하네요.\\n무료배송인것은 좋지만 문의글을 올리면 답이 너무 느립니다 판매자마다 다를 수 있겠지만 그래도 느리고 배송이 지연되면 또 연락을 해주시면 좋은데 그렇지 못한 점도 별로였습니다\\n답변보고 리뷰 삭제했는데요ㅠㅠ 제주라서 배송료 추가되는거 이해했어요.. 근데 16일 오후에 결재 한거라지만 20일이 되도 아직도 배송준비중인건.. 해당 쇼핑몰 문제인가요?ㅠㅠ\\n전 광고에서 폰케이스가 많다고 나와서 이 앱을 깔았는데 아이폰 케이스만 있고 갤럭시 케이스는 없더라구요 그래서 앱 쇼핑 한 번 못하고 그냥 지웠어요 만약에 갤럭시 케이스가 나온다면 당연히 깔 것입니다 ^ ^\\n행사도 많고 제품도 많고 쓰기 좋아요. 근데 리뷰검수좀 꼼꼼히 해주셨으면 해요. 리뷰 검수하는데도 시간 꽤 덜리던데 아무 관련없는 사진이나 말만 있는데도 리뷰로있으면 재품선택에도 도움이 안되고 그렇더라구요..\\n상품설명란을 확대해서 사진을 크게 볼수있는 기능이 있었으면 좋겠습니다. 상품정보에 첨부 되어있는 사진과 사이즈나 상세정보가 너무 작고 화질이 낮아서 눈이 빠질것같아요.\\n정말 좋은 앱이긴 한데 편의점결제와 문화상품권 결제와 같이 학생들도 쉽게 살 수 있는 방법을 추가해주시면 안되나요? 무통장입금은 현금으로 하려면 만원단위라서 맞추기도 힘들뿐더러 휴대폰결제도 안되는 사람은 사고 싶어도 방법이 없습니다.\\n예쁜것도 많고 가격도 싼것도 많아서 좋긴한데자꾸 뭐 누르거나 할때마다 튕겨요 제 폰만그런건가요?아니면 이 앱이 원활하지않아서 그런건가요?그리고 구매할때 현금으로는 안되나요?\\n아 솔직히 배송비 공짜에 이것저것 혜택이 많아서 좋긴 한데요 환불 진짜 엄청 느리고 배송도 당일배송이라는거 바로 오지도 않네요... 급해 죽겠는데 안 와요 제품이...\\n이 앱은 예쁜 옷도 많고 좋으나 가끔 옷이 불량일때가 많습니다ㅠ또한,모델들의 어깨가 너무 직각이고 말라서 실제와 비교가 어려워 불편한 점이 있었습니다\\n옷 자체는 괜찮은게 많은데 알림이 어마어마하게 와서 너무 번거롭고 거슬립니다. 설정 창도 명확하게 안 보여서 고스란히 받는 중인데 이럴 바에는 삭제하는 편이 좋겠다는 생각이 들 정도입니다.\\n제가 예전에 에이블리를 깔았다가 삭제했었는데 이번에 새로 다시 깔고 로그인을 시도했는데 안 되길래 회원가입을 시도하면 이미 가입된 번호라고 하고 아이디비밀번호 찾기하면 없는 회원이라고 뜨네요ㅠ 어떡하죠?\\n에이블리에서 제품 찜취소한거 다시 복구하는 기능이있었으면 좋겠습니다ㅠ 찜 기껏다해논거 A를 찜취소한다는게 다른 B를 잘못 눌러서 엄한것 찜취소하고 다시찾아야되는 일이 자주있네요 엉엉ㅠㅠ 그리고 불친절한 마켓은 관리나 제재가 필요하다고생각합니다! 나쁜마켓에게는 마이너스되게하는 시스템이 도입되었으면합니다!\\n에이블리 너무 잘사용하고있었는데 갑자기 서버연결이 안된데요ㅜㅠ 왜 그러죠? 다른 앱은 다 들어가지는데 에이블리만 서버연결이안된데요..ㅜ 어떡해하죠?\\n원래 잘 쓰고 있었는데 오랜만에 들어가니까 스타일 부분에 예전에는 유튜브 동영상이 있어서 룩북 동영상으로 많이 참고했었는데 바뀌었더라구요. 이제 유튜브 동영상은 더 이상 안올라오는 건가요? 아니면 제가 다른 버튼을 못찾는건가해서요 ㅜ 꼭 답변주세요ㅜ\\n제가좀 에이블리를 오래썼어요 전 아이폰이였는데 이번에 갤럭시s20로바꾸고 동생은 s9으로바꾸는데 동생생일이라갤럭시를사줄려고 에이블리를봤는데 다 케이스는 아이폰위주로만되있네요 갤럭시좀 추가해주시면좋겠네요 전엔 lg것도없어서 케이스문제가 많네요 ㅠ 좀다양한종류로케이스를넣어주세요\\n다 너무 좋은데.. 실제 쇼핑몰 가격보다 높게 파는 경우가 많네요 가격 올려놓고 배송비 무료라고 하면 어떡하나여..^^ 참고하셔서 현명한 소비하세요\\n다 좋게 잘 사용중이예요 근데 제발 사이즈를 사진으로 올리시는 분들이있는데 안보입니다 눈 졸라 좋은데 안보임 ... 확대가 필요한것같습니다. 확대넣어주셈.. 쇼핑몰도 확대 되는데 대체 확대 왜안됨 이해x\\n구매하려고하는데 고객정보랑 배송지정보등등 적으란거 다 적고 결제하기눌렀는데 계속 휴대폰번호를 입력하라고떠요ㅜㅜㅜ 번호도 다 적었는데 왜이러죠ㅜㅜㅜ\\n무료배송 너무 좋아요! 검색기능은 있으나 마나..... 전혀 연관 없는 애들이 검색이 되니 검색 기능이 제 역할을 못하네요..\\n모델들 보정이 무슨 목각도 아니고 목이 너무 심해요 비현실적으로 ,, 무료배송인건 너무 좋아용 쿠폰좀 자주 주세요 ㅠㅠ 5만원이상이런거에 쓸수있는거만 주셔서 좀 그래요..\\n여러 쇼필몰을 한번에 볼 수 있어서 좋고,할인을 많이 해서 좋고 그렇지만 대부분 시킨게 배송이 1주 정도 더 넘어서 그게 조금 불편하기도하다..\\n온라인쇼핑에서 중요한 배송문제가 항상 충격적이라..내경험상 일년동안 이앱에서이용한 모든옷이 그랬다. 배송오는기간은 개의치않는분은 이용하기 괜찮은듯.\\n키가 작은 저는 옷핏이 잘 안맞아서 불편해요ㅠㅠ 작은옷도 많이 나왔으면 좋겠어요. 폰케이스도 안드로이드로 많이 나왔으면 좋겠습니다.\\n엥 스토어 리뷰남겼는데 글이 없어졌네요 아무튼 앱내에서 사진과 함께 상품 리뷰 한 글은 수정이 안되는데 버그인가요? 주의사항 봐도 글 수정관련 문제는 없던데 왜 그런건가요?\\n대략적인 예상 배송일 정도는 알려줬으면 좋겠어요. 배송 느린곳은 거르게요... 기본적으로 2주 이상 걸리는 곳이 많네요.\\n예전에 한 번 깔았다가 지웠는데 그 뒤로 앱 설치가 안돼요 ;;\\n쓰기 편리하고 무료배송이라 좋은데 주문취소하고 취소완료라 뜨는데 환불금액은 언제 입금되는거죠? 한 주문취소한지도 4일은 지났는데 아직까지도 돈이 안들어왔네요 고객센터에 전화해봤을때도 언제 입금되는지 자세히 말씀을 안해주시네요\\n저는요 쿠폰을 받았는데 에이블리 처음하는거라 쿠폰이 하나 사용이아니라 여러개 사용인줄알고 신나게 고르고 있었는데 보니까 하나밖에 사용이 안되더라구요 뭐 이해는 합니다 근데 2만원인가 3만원에 천원은 너무한거 아닙니까 열심히 고르고 계산하려는데 쿠폰 하나 사용에 제한까지 걸려있는거 보고 충격먹었네요 쿠폰을 얻으면 뭐합니까 제한 씨게 걸려있어서 골라도 6만원짜리 쿠폰쓰려면 24만원 어치 골라야하고 이러는데 학생한테 그런 돈이 어디있고 그럽니까 에이블리도 먹고살아야 하겠지만 이번일은 저한테 약간 충격이네요 쿠폰은 사용하지도 못하고 없어지겠네요..일단 저한테 20만원 쿠폰 주셔서 고맙고 비록 쓰진 못하지만 큰 교훈을 주셨네요 김치국 마시다가 한방 제대로 먹는다는걸 저한테 알려주신 에이블리 정말 고맙습니다 교훈을 얻어서인지 정말 신나네요 어제와 오늘 포함 4시간 5시간 정도 에이블리에 쳐박혀있었는데 그게 다 날라가버리니까 정말 몸둘바를 모르겠습니다 에이블리님 에이블리 영원히 함께 하길^^\\n예쁜 폰케이스가 많다고해서 깔았는데 보니까 예쁜 폰케이스는 많았어요 그런데 대부분 갤럭시 폰케이스는 없고 아이폰 케이스가 대부분이더라고요 그래서 좀 실망했어요 ㅠㅠ 그래도 예쁜 옷들이 많아서 좋았어요\\n다 좋고 쇼핑몰도 많은데 쿠폰으로 주문한 상품 다 품절이라던지 취소됐네요 쿠폰때문에 0원 결제였는데 품절은 어쩔수 없지만 제가 취소하지도 않았는데 취소 됐더라구요?ㅠㅜ\\n초창기때부터 썼는데 처음에는 배송도 빠르고 그래서 정말 잘썼는데 점점 지날수록 일주일후에 배송오고 그러네요... 어플을 안쓰잖이 예쁜것들이 너무 많고 조금만 계선해주세요!😊\\n쇼핑몰 전체 상품 말고 카테고리(아우터 상의 등등) 내에서 \\'인기 최신 저가 리뷰순\\'으로 정렬하는 기능 돌려주세요 불편해요.\\n마켓들 모아놓아서 구매하기는 편한데 배송 너무 느리고 문의를 남겨도 답변도 너무 느려요 내부적으로 심각하게 문제삼지만 말고 제발 개선좀 해주세요\\n유투브 광고할때 음악제목좀 알려주세요 요즘 광고나오는 음악이요 바이올린소리만 나면서 띠딩띵 띠딩띵띵띵 ~ 음악좋아서 다운받았는데 도대체 제목을모르겠네요 답변 부탁합니다\\n다 좋은데 찜목록 선택삭제 기능이 있었으면 좋겠어요. 찜목록에 넣어둔 제품이 품절될 경우 그 상품페이지로 넘어가지 않는 것도 있어요. 그럴때 하트(찜)를 눌러서 지워야하는데 하트가 안눌리고 튕겨요. 자꾸 오류가 뜨니 짜증나네요.\\n다 괜찮은데 근데 이벤트가 계속하는데 거기에 사고싶은게 정말 많은데 이벤트에서 주는 쿠폰으로는 진짜 택도 없어요 정말 적게주셔서 쿠폰만 계속 모으게 되네요.\\n주문을 하고싶은데 우편번호 검색 창이 안떠요ㅠㅠㅠ 상세주소에라도 전체 주소를 입력해서 주문하려고 해도 요구조건이 충족되지 않아서 아예 막히네요ㅠㅠㅠㅠㅠ 도와주세요ㅠㅠㅠㅠㅠ\\n옷들 재질도 좋고 공구도 좋은것들이 많이올라와서 좋습니다. 무엇보다 무료배송이라서 부담없이 구매가 가능한것같아요. 단점은 대체로 배송이 꽤 느립니다 ㅎㅎ\\n처음엔 좀 가지고 있습니다 그리고 저는 힘들게 하는 사랑 때문에 빵빵 소리를 지르고 또 다시 찾고 또 한번 꼭 ㅡ 하고 싶은 마음은 빠르게 이동해야 하는 방법을 잘 알고 있어요 근데 인생이 왜 그렇게 힘들게 하고 싶은 마음이 있습니다 그래서 제가 정말 좋아하는 우리 판소리 큰 힘이 있습니다 그리고 제가 너무 사랑해\\n입금시간 늘려주세요 2~3일 정도로~~ 좀 더 여유를 가질 수 있게 기간을 살짝만 이라도 늘려주세요~~긍정정인 변화가 있으면 좋겠습니다~~\\n무료배송이고 옷들도 이쁜거 많이올라오는데.. 다만 후기사진을 크게 보려고하면 거의 다 안떠요ㅜㅜㅜㅜ진짜 짜증납니다.. 고쳐주세요\\n검색해서 한번에 원하는걸 찾기가 어려워요. 특정 옷을 검색했는데 관련 없는 상품이 나올때가 많은 것 같아요. 그 외에는 괜찮은 것 같습니다.\\n딸아이가 주문해 달라고 해서 앱을 설치했는데요. 상품 상세페이지에서 글씨는 작은데 확대가 안되서 보기에 너무 불편하네요.\\n제가 한 쇼핑몰에서 색깔만 다른 똑같은 옷을 2개 샀는데요. 옷이 떠로따로 오나요? 같은 곳에서 시키고 같은 옷을 시켰는데도 한 색은 5일만에오고 다른 한 색은 아직도 안왔네요. 같은 옷이라도 따로따로 오는지 궁금해요.\\n서버가 너무 자주 불안정한 거 아닌가요,..?? 한두번도 아니지.. 데이터 써도 이러면 곤란합니다.. 서버 구축에 더 신경 써주셨음 하네요.\\n편하게 옷을 고르고 구매할 수 있어 좋아요!! 하지만 옷의 재질이나 택배 상태가 별로인 곳을 조금 걸러 주셨음 해요 ㅠ\\n다 좋은데 옷 코디상품도 같이 올려주셨으면 좋겠어요 가끔씩 옷 한 벌만 찍고 올리시는 데 그럼 코디를 어떻게 해야할 지 모르겠어요ㅠㅠㅠ 그래서 사기 망설여져요ㅠㅠ\\n앱을 두번이나 깔았다 지웠는데도 회원가입 인증 번호가 안와요 페북 카톡 이메일 다 시도했는데 안와서 앱에 문제가있나 지웠다 깔고 다시해도 안되네요 ㅜ . ㅜ\\n너무 편해서 vip 까지 갔네요 ㅎㅎ 오늘 옷 시킬려고 들어가니 자꾸 서버가 불안정하다고 않들어가지네요 ㅠㅠㅜ 이부분 빨리 고쳐주심 감사해요 빨리 시키고 싶어요 ㅠㅠㅠ\\n옷 예쁜 거 많아서 좋은데 튕기는 것 좀 고쳐주셨으면 해요 주문 할려고 해도 튕기고 쉬도 때도 없이 튕겨요 자꾸 중지 되고 불편 합니다  (´•̥ω•̥`)\\n폰케이스가 너무 이쁘긴 한데 기종이 너무 아이폰 위주라서 아쉬웠고 , 다양한 기종의 케이스가 생겼으면 좋겠어요..ㅜㅜ\\n사이트로 둘러볼 수 있게 해놓는게 휠씬 편하네요 컴퓨터인데 구지 깔고싶진 않아서요 휴대폰으로 보는게 너무 불편해서 크게 보려고 했는데 구지 앱을 깔아야 하나요.....? 휴대폰에 깔려있어서 로그인도 너무 불편합니다 ㅠㅠ\\n06에 150입니다 좀 입을수있는옷의 폭을넓혀주세요 저도 아가씨옷입고싶어요 키가작아서 입지도못하는 그런 옷 말고 저같이 키작은사람을위한옷좀 마련해주세요 필터를 껴도 원라는옷이안나오네요 ㅋㅋㅋㅋㅋ\\n앱자체는 좋고 여러옷도 있어서 좋아요. 아니;;로그아웃을 하고 다시 로그인을 하려는데 로그인을 하려는데 회원가입이랑 같은 창이 뜨고 그래서 그창에다가 다시 가입을하는데 있는 번호(계정이)라고뜹니다...계속 시도하는데 안되네요..\\n좋기는한데요 팝업알림이 너무 시도때도없이 와서 알림을 꺼놓고싶은데 설정하는 기능이 없네요. 그래서 그냥 앱 삭제하려구요ㅠ\\n1. 앱에서 옷들의 사이즈 상세보기가 안되요... 지웠다 깔아도 안되고 2. Q.and A답변도 링크 연결안된다며 답변온8키로걸 확인할수가없어요.... 지웟다가 깔아도 안되요\\n옷 예뻐요 구경도 재밌고요 근데 번호 없는 사람은 가입 못하네요... 유학생이라 한국 번호가 없는데.... 나중에 시간될때 부모님 번호로 가입해야겠네요\\n한번씩 상세보기 들어가도 상품이 안보일 때가 있어요 왜 그런지 몰라 삭제하고 다시 깔았는데도 안되더라구요 최근에 다시 되어서 보고 상품도 사고 하지만 계속 반복이 된다면 불편해서 못 쓸거 같네요\\n이뻐용💕편의점 결저도 가능이긴 힌데 사이즈가 거의 freeㅠㅠ\\n왜 제품 상세설명이 안 뜨져?? 저만 안 뜨는건지 모르겠는데 더보기해도 안 뜨고.... 아무리 신뢰한다고해도 구매평만 보고 살 수는 없잖아여..😭\\n주문했는데 2주 걸리기도 하고 반품도 상당히 번거롭고 비슷한 룩 보기는 쉬운데 구매후 서비스가 꼭 여기서 구매해야 할 이유를 못찾은 앱.\\n좋은옷들 많은데 카드가 안 돼요... 그래도 다른 쇼핑몰들을 다 가입하지 않고 살수 있어서 좋아요!! 카드 결제만 좀 되서나 구매가 편리해지면 좋겠네요ㅠㅠ 무통장이산분들은 추천드려요!\\n옛날에 깔았었는데 결제수단이 편의점결제가 없어서 사지 못했어요 ㅠㅠ 옷들은 너무 이뻐서 아쉽더라구요 편의점 결제 추가하면 완전 좋을것같아요!\\n배송비없는건좋은데..쿠폰주려면 좀괜찮게주지 갈수록 적용금액이 높아지는건뭐죠..ㅋㅋㅋ옷들도 맨날거기서거기고ㅠ제생각은 그러네요ㅠㅋ\\nㅇㄴ.. 낼 졸업앨범 찍는데 미리 2주일 전에 구매를 했는데 아직도 안 오네요^=^ 무료배송 인건 좋은데 배송이 너무 느립니다 그냥 쿠팡에서 살껄 그랬네요\\n푸시 작작 좀 띄우세요 광고도 정도껏 해야지 밤에도 띠링띠링거리고 뭐하는짓입니까;; 앱에 알림설정도 못찾겠고 스마트폰 설정까지 들어가서 알림 꺼야하나ㅡㅡ\\n다 좋은데 요즘들어 너무 로딩이 너무 오래걸리네요,, 와이파이도 빵빵하고 다른앱들은 다 잘되는데 맨날 서버 상태 안좋다고 로딩이 안되요..\\n찜한 상품 보는거 너무 불편하네요ㅡㅡ 다음페이지 넘어갈려고 하면 제일 끝페이지로 넘어가요 중간쯤 찜해놓은 상품은 아예 못보네요\\n다 좋은데 왜 상품 정보가 아무것도 안보이는거죠 ㅠㅠ? 어떤 제품이든 다 안보이네오 ... 업데이트 하라고 하시는데 업데이트 하라고 안뜨니 할 수 가 있나 ...\\n잘 쓰고 있었고 쇼핑이나 커플템도 주로 여기서 구매하였지만 일부러 꺼놓지않은 광고에서 방탄이 나왔기 때문에 바로 앱 삭제 했습니다. 전 지그제그로 넘어갈테니 그리 아세요. 방탄 진절머리가 나네요\\n질이 그렇게 좋은 편은 아니나 무료배송이란 점이 좋음. 간혹 찜한 목록 상품에 들어갔다 나오면 하트가 사라져 찜한 상품이 사라지는 경우가 있음.\\n왜 후기가 최신순으로 안될까요 오류인가요..... 후기조회할때 키나 몸무게 이런걸로 조회좀 가능했으면 좋겠어요 키가 작아서 같은 핏인 분들 좀 보고 사고싶은데..\\n상품을 살려고 결제를 하려고 하면 버퍼링 생겨서 다시 껐다 켜도 계속 그러고 도대체 어떻게 물품을 사라는 건지 진짜 모르겠네요......\\n카테고리에서 볼 때 품절 상품 제외하고 보기가 있었으면 좋겠어요! 계속 품절 상품이랑 같이 뜨니까 보는데 불편해요ㅠㅠ\\n다른건다 괜찮은데 카테고리타고들어갔을때 가격필터가 없더라고요 따로검색했을때만 있고 근데 따로검색하면 안나오는물건도있어서 카테고리를타야하는데 그러면 가격필터가없고 불편합니데이\\n배송 너무 느려요.. 시킬때마다 기본 6~10일은 잡아야 합니당.. 그래도 옷 이쁜 것들 많아서 좋아요! ㅎㅎ\\n정말.... 정말 좋은데...... 진짜 좋은데 제발 배송지 입력 좀 빨리되게 할 수 없나요???? ㅠㅠㅠㅠ 매일 똑같은 곳에있고...\\n솔직히 쿠폰 이벤트하시는데 이거 정말 랜덤 확률 맞나요.....? 내가 운빨이 없다는걸 잘알고있지만 단 한 번도 맨 꼴등보다 더 높은 순위가 된 적 한번도 없음... 혹시 구매횟수나 구매 누적가격에 따라 고객 갈리는거 아닌가요..? 다른건 다 조은데 이게 참...그렇네요 참...\\n지금 서버가 안좋아요ㅠ 이틀째 안좋네요ㅠ\\n다른앱들은 다 열리는데 자꾸 인터넷 서버가 불안정하면서 에이블리만 며칠째 안열려서 못 쓰고있네요. 데이터써야지만 열리고요\\n근데 어차피 원가에 2500원 추가해서 무료배송이라고 하는거면 무료배송이 아니지 않나요? 안그런 상품도 있는데 그런상품도 있어서요\\n옷도 이쁘고 전체적으로 전부다 좋지만 폰케이스도 이쁜거 많아서 보면 거의 아이폰 케이스 뿐이라 속상합니다 ㅠ 갤럭시도 많이 추가해주세요 !\\n아직까진 별로 나쁜건 없었어요 일단 무료배송이 너무 좋아요 근데 좋은 옷들도 많이 있지만 몇몇 옷들은(물건) 진짜 안좋게 오더라고요\\n옷은 예쁜거 많이 파는데 배송이 진짜 헬이에요. 주문한지 일주일째인데 아직 상품준비중이네요 ㅋㅋ 예쁜 옷은 많아요\\n어플 관리자 측에서 1+1 같은 문구 정확히 좀 하라고 해주세요 늘 1+1 이라고 적혀 있어서 들어가면 아닌 경우가 대부분이에요; 진짜 불편합니다 아무리 다들 소비자 유입이 중요하다고 하더라도 첫 장면에서 이렇게 속이면 어떡합니까 이런 수법 쓰는 데가 한둘이 아니라 그냥 관리자 측에서 컷해주셨으면 좋겠습니다\\n이쁜옷 많아서 좋은데 환불받을 계좌 넣는 것 때문에 아직 결제못하고 있어요ㅠ 엄마가 환불받을 때 그냥 취소시키면 된다고 하던데 왜 계좌를 넣냐고 하면서 결제 못 하게 하시네요ㅜ\\n상품마다 택배비가 다 붙어요ㅠ 무료배송이라 표시됬지만 제주도라서. 할인해주고 상품이 괜찮아보여 주문합니다.\\n죄송한데요ㅠㅠ 앱이 아무리 가입을 하려고 해도 이미 등록된 번호라고 하면서 인증번호도 안와서 제가 가지고 있는 이메일 다 해봤는데 로그인도 안될 뿐더러 아이디 찾기 조차 로딩이 안되요.. 페이스북으로 로그인 하려고 하면 아에 다 튕기고 아무것도 안되는데 정말 답답하네요.. 업데이트하고 다해도 안돼서 삭제하고 다시깔았는데도 안되요... 참고로 갤럭시 s9+사용 중이에요ㅜㅜ\\n불량이 많아요\\n어음..갑자기 로딩이 느려졌는데 갑자기 로그아웃되어있어서 로그인하려고했더니 서버가 불안정하다고 계속 뜨네요..왜이럴까용 집 와이파이문젠가 싶어서 데이터로도 들어가봤는데 그래도 안되네용 사용자가 많아서그런건가..\\n옷도 이쁘고 배송비도 없어서 다 좋은데요 포토리뷰 다쓰고 30자도 넘게 썼는데 왜 포인트가 생기지 않죠? 여기서 제가 쓴돈만 10만원이 넘는데 계속 등급이 그대로에요\\n지그재그에서 에이블리로 갈아탔는데 전 상품 무료 배송이라더니 제주도는 배송비 붇음 뭐 살때마다 배송비만 만원이 넘어...\\n정말 다 좋은데 포인트를 왜10프로 정도밖에 못쓰게 해놓으셨나요ㅜㅜ 그냥 다 사용할수있게 하면 진짜 완벽할것같아용..\\n서버 불안정으로 안들어가지고 제거해도 안열리네요 제발 서버 관리좀 해주셨으면 해요 그리고 대체적으로 다 만족하지만 하나 아쉬운게 있다면 인기제품도 카테고리별로 나눠주시면 더 편할거 같아요\\n다 좋은데 솔직히 배송이 언제쯤 될지같은 정보들울 보기엔 좀 부족한거 같아요ㅠㅠ뭐 따로 설명이 적혀있는것 도 아니고 그래서 좀 불편한거 같네요..ㅠ\\n2월 4일날 시킨것이 2월 6일 이후로 배송조회도 안뜨고.. 어디간거죠?\\n신용카드로 결제할때 왜 페이코앱만 쓰게 되있어요? 핸드폰이랑 카드 명의가 같지 않으면 결제가 안돼서 진짜 너무 불편해요 제발 이것좀 바꿔주세요 페이코 쓰는거랑 일반결제 중에 택해서 쓰는게 훨씬 편할 것 같아요\\n진짜 다 괜찮은데요 앱로딩이 너무 느리네요 가끔은 상품정보를 불러올 수 없다고 떠요 이것만 빼면 진짜 좋아요\\n영업 시간 안 끝났는데 에이블리 상담 연결이 안 돼요 ㅜ 결제건으로 고객센터 전화했는데 안 받으시네욤 개선되었으면! ㅎ\\n제가 옷을 장바구니에 담아놨는데 그게 들어가 보니까 장바구니가 비어있다고 떠요ㅠㅠ 제가 딱! 찜해논 옷이 있었는데ㅠㅠ 어떻게 해야 다시 원래로 돌아오나요??\\n검색창에상품을치면그상품과는관련없는제품들도같이뜨네요...,,업데이트하기전엔안이랬는데하고나서이상하게변했네요\\n입금일 좀 늘려주세요 다른데는 적어도 3일 하는데 에이블리만 하루여서 맞춰서 입금하기가 힘들어요 맨날 쿠폰 날리고 취소된 것만 수두룩함;; 그리고 찜한 것들 정리하는 서랍은 순서도 바꿀 수 있게 해주시면 좋을 것 같아요\\n상세페이지가 절대 안떠서 구매하기 힘들듯 인터넷으로 웹페이지용으로 따로 보고 앱으로 들어가서 구매했어요 개불편...어서 개선해주시길\\n잘 쓰고 있었는데 오늘 갑자기 상품 검색해서 필터 설정하려고 하니까 몇 번 시도해도 안 된다고 뜨네요ㅜㅜ\\n옷은 예쁘고 배송도좋은데 상담이안돼요 입금을잘못해서 그거 환불받으려고 전화했는데 안받네요 그렇다고문자를보는것도아니고\\n저 10월 되면 vip등급 되는거 아니었나요? 왜 갑자기 friend 까지남은 금액 어쩌구라고 써있는지.. 30만원 넘게 썼는데 이번에 vip로 올라가는거 아니었나요.... 잠시 오류 인가요? 아니면 제가 잘못 알고있는 건가요?\\n장바구니에 옷담아뒀는데 장바구니에 들어가니 뜨지도않고 자꾸 비었다고 뜨고 새로담을라그랬더니 이미 있는상품이라고 담기지도않고 왜이러나요ㅡㅡ\\n서버가 너무 느리네요\\n이미 찜한 상품을 볼 때 그 상품이 어떤 서랍에 있는지 나왔으면 좋겠어요! 그리고 서랍 순서 편집이 가능하면 좋겠어요!!\\n전에는 키와 몸무게 필터가 있어서 리뷰를 보며 옷의 기장과 핏을 가늠 하기 편했는데 없어서 불편해졌어요.\\n포인트 사용 제한을 없애주세요. 제가 상품을 구매해서 모은 포인트인데 왜 사용을 할 때에 이런 불편함을 격어야하죠? 그리고 배송이 느린 곳도 꾀나 있구요, 상품을 배송받고 나서 보면 상품에 문제가 있는 경우가 꾀 많습니다. 이런 부분에 대해서도 잘대처를 해주셔야할 것 같네요.\\n좋긴 한데 학생이라서 카드나 그런게 안되서 불편하기 때문에 GS결제 방법이 있으면 쉽고 간편하고 에이블리를 많이 이용할수 있을것 같네요\\n배송이 느려요 ㅠ 일주일 정도 걸리네요 ㅠ 배송기간이 너무 오래걸리는거 빼면 제품도 좋고 완벽합니댕:)\\n요즘들어 검색어에 대한 정확도가 너무 떨어집니다 긴팔가디건을 검색하면 반팔이 나오거나 면티나 다른 종류의 아우터가 나와서 불편합니다\\n샵이나 상품 신고하기는 없나요? 짝퉁을 파는데 상품 설명란에는 가방옆에 떡하니 박스까지 같이 두고 찍는건 좀..\\n리뷰 필터링 기능 넣어주세요 제 피지컬이랑 비슷한 분들의 리뷰만 골라보고 싶은데 필터링 기능이 없으니 불편하네요\\n솔직히 딴건 다 괜찮고 좋은데 장바구니 진짜 너무 느려요,,서버좀늘리시던지 하셨음좋겠네요,바꾼지도 얼마안되었고 폰 용량도 넉넉한데 장바구니 담아놓은거에서 골라사려고해도 너무느려가지고 짜증나서 살 마음이 싹 사라지네요,,\\n제가 앱을 쓰려고 봤더니 제 번호와 이메일로 이미 가입이 되있다고 하여 비밀번호를 찾기를 눌었더니 사용자이름이 일치하지않는다고 합니다 사용자 이름은 어디서 알 수 있나요\\n좋긴한데 문의하면 답변이 너무 느려요ㅠㅠ 카톡 확인도 잘 안하시고.. 상품은 잘 구매하면서 보는데 문의를 좀 빨리빨리 봐주세요\\n알림 수신 거부 하는 걸 왜 어플 내에는 만들지 않았는지 의문.... 스마트폰 상 알림 수신 거부 말고 어플 상에서도 바꿀 수 있도록 해주세요.\\n저도 잘쓰고있었는데 몇일전부터 상세페이지가 안떠요.. 그래서 구매하고 싶어도 할수가 없어요 카톡문의랑 게시판문의도 했는데 아직도 해결안된것같네요.. 얼른 고쳐주세요..!\\n원래 배송 빨랐던거 같은데 어느순간부터 마켓 배송이 지연된다고 계속 문자옴.. ㅜㅜㅜㅜ\\n정말 좋은 앱이예요! 근데..폰케이스 여... 왜?아이폰만 있죠? 저는 갤럭시 노트 등 많은 폰케이스가 있는 줄 알았는 데...근데 아이폰 폰케이스 찾으 시면 이 앱 쓰세요~아이폰은 강추!\\n예전에는 으냥 결제가 빨리 됐는데..지금은 왜이렇게 복잡한지...결제 예전처럼 바꿔주세요 주문을 못하겠어요..\\n주문하고 돈 입금했는데 주문완료가안되고 입금해야되는 시간?같은게 게속 흘러가는데 뭔가요,,좀 빨리 답부탁드릴게요..\\n포인트를 쓸려고 많이 모아놓았더니 한번에 다 쓸수가 없고 금액의 10%만 쓸 수 있게 해놓으셨어요 리뷰쓰고 받은 포인트 보다 정작 쓸 수 있는 포인트는 몇 안 되서 좀 불편해요 한번에 포인트를 전체 다 쓸 수 있게 고쳐 주셨으면 좋겠습니다.\\n옷은 다양하게 많이 있어서 좋은데 그만큼 퀄리티가 덜 한 옷이 아쉬워용 앱 자체는 진짜 다른 앱보다 ㅅㅌㅊ\\n옷 소재가 안좋은게 많아요ㅜㅜ\\n뭐 쿠폰을 많이 주는데 꼭 얼마 이상 이 있네요 지원금 많이 주셨으면 좋겠습니다.. 이건 개인적인 의견이에요\\n에이블리 잘 활용하고있습니다 그런데 앱➡️고객센터➡️문의하기➡️주문➡️상품선택을 하는데 선택을 하면 그 다음이 진행되질않아요 오기로 다른상품도 전부선택해도 뭐 어쩌라는건지 답답합니다 저만 이런건가요 카톡으로 문의를 드려도 앱에서 하는게 더 정확하고 효율적이라는 말씀만 하시네요\\n이미지가 너무 늦게 떠요 다른 쇼핑앱은 안그러는데 이거만 그래요 ㅠㅠ 굳이 새로고침해야 로딩되더라구요\\n페이스북 로그인이 안돼요. 비회원은 찜 5개밖에 안된대서 예전에 만들어 놓은 로그인하려고했는데 아예 안되서 다른걸로 회원가입하려니까 있는번호라고 안돼요 빨리좀 고쳐주셔여:)\\n회원정보에서 생년월일을 수정해도 저장이 안되고 적용이 안되는 점 개선 되었으면 좋겠습니다.\\n다 좋은데 좀 앱이 왤케 느려요ㅜ 완전 느리다 까지는 아니지만 자잘한 렉이랑 좀 짜증나게 느린 감이 있음.. 그래서 좀 답답함\\n아니 전부 무료배송이라 해놓고 3개 정도 장바구니에 담으니까 전부다 각각 다 배송비붙어서 7500원이나 더들잖아요;이게무슨상황이죠;?\\n키 좀 더 작은데 거기에? 마춰서 좀 더 작은 사이즈도 만들어주세요ㅠㅠㅠ허리눈 맞는데 길이가 안 맞아서ㅠㅠㅋㅋㅋㅋ xs 만들거나 해주세요 ㅠㅠ\\n다좋은데 마이페이지 로딩이 너무 길어요 들어가면 바로 제정보가 안나오고 꽤 기다리고 나오네요 이부분 좀 고쳐주세요\\n핸드폰악세사리 아이폰,삼성,LG,에어팟,버즈 등.. 선택해서 볼수있는 항목 만들어주세요... 아이폰 유저 아닌데 계속 아이폰 악세사리 만 나와서 불편합니다..\\n금액이저렴해서주문햇는데 상품이어떨지궁금하네요 상품까지좋으면 대박이겠네요~~~또올리께요\\n이것 저것 구경하기 좋았어요 하지만.. 신규 상품 쿠폰 너무한거 아닌지 모르겠네요~~\\n원래 키 설정이 다 가능했는데 갑자기 선택이 안된다고 하더라고요ᅲᅲᅲᅲᅲ 키 설정 다시 가능하게 해주세요ㅠㅠㅠ\\n옷은 괜찮은데 배송도 느리고, 어플 업데이트 너무 자주해야해서 힘들어요. 안그래도 저장공간 모자라서 뭐 업데이트할 때마다 사진 지우고 하느라 시간 오래걸리고 귀찮은데 1,2주에 업데이트 해야한다다고 앱 못들어가게하니까 짜증이 좀 나네요ㅠㅠ\\n왜 마켓의 전제품이 없는거에요? 그리고 신상들은 어떻게 표시 좀 해주셨으면 좋겠어요\\n알람 어디서 꺼야하는지 알려주세요. 도저히 찾을수가 없고, 설정 창도 없네요. 그냥 단순 팝업도 아니고 진동 알람인데다가 하루에 한 번 이상 와서요.\\n제가 찾는 상품이 많이 없어요 예를 들어 에어팟, 버즈 케이스는 많은데 이어버드 케이스가 없어 아쉬워요\\n일단반만줌 첫주문했는데 배송하는거보고 다시평쓰겠은 보아하니배송이엄청느린가본데 배송느리면 장사접어야함... 요세누가1주일씩기다림 두고보겠음\\n아니 이벤트 20분을 대기탔는데 1분남기고 로그아웃시켜버리고 튕기게하면 어쩌자는건가요;;\\n배송이어느정도걸리는지 눌러보기전에 뜨게해주심 좋겟어요ㅠㅠ 급하게.옷 구매할때 너무 번거로워요~~\\n아니 입금자 정보랑 에이블리정보랑 달라서 고객센터에 문의했더니 답도 1시간에 한번꼴로보고 입금내역도없다고 하시네요 ;;;; 참 2만원 날리게 생겼어요~\\n폰케이스 가 다 아이폰이여서 실망스럽네여 저는 삼성 쓰는데 다 아이폰. 케이스고 갖고싶은거 있어서 찾아 보고 기종을 보는데 다 아이폰 이더라구여\\n옷은 예쁜거 많은데 배송 진짜 너무 심하게 느림..ㅎㅎ 최소 일주일 아님 일주일 뒤에 품절 알림 ㅋㅋㅋ\\n다좋은데 가입하자마자 990원광고가 안보이네요 검색창에 검색하면 나오긴하지만..잘모르면 낚인기분들겠어요..전솔직힘좀그래요..\\n다 좋은데요!! 편의점 결제 넣어주세요ㅜㅜㅜ 학생이라서 인터넷뱅킹 아직 안되는데 제발 편의점 결재...\\n앱 자체는 되게 좋은 앱인데 오늘부터 계속 오류가 나네요ㅠㅠ 찜한 상품이 막 늘어나요ㅠㅠ 삭제했다 다시 깔아두 똑같네요ㅠㅠ\\n무료배송 정말 좋은데 리뷰어워즈 오류있는 것 같아요 올해만 리뷰 8개 썼는데 리뷰어워즈에는 3개만 썼다고 나오네요 .. 확인 부탁드립니다\\n배송이 너무 느립니다 걸어서오는지 해외배송인지 헷갈리네요..다른건 다 좋아요\\n좋긴 한데 자꾸 결제수단을 골라도 결제방법을 택하라고 하니 결제를 할 수가 없어요 왜 그런 거죠….\\n원래 장바구니가 옷이 많으면 렉이 걸리나요? 옷을 주문하려 하는데 장바구니가 렉걸려서 스크롤도 안 내려가고 답답합니다,,,\\n카테고리 스크롤바만 있네요 상품 상세보기에도 스크롤바 만들어주시요 밑에까지 가는데 너무 귀찮아요\\n에이블리는 후기안좋게적으면 포인트를적게주나요 좋게적은거는 천원씩들어오고 상품이별로여서 후기를안좋게쓴거는 포인트가 100도안오네용 ....\\n앱은심플한데 배송이 진짜...너무너무 느려요 상품준비만 4일째.. 재고 없는 상품도 올려두고 ㅠㅠ\\n쓰고 싶어도 사용할수가없네요. 아이디 만들려고 하니까 이미 가입된번호라고 하고, 비밀번호 찾기하면 없는회원이라고 하고......\\n파는건 많아서 좋은데..렉 때문에 제품 사진이 안뜨고 피드에도 글씨만 나오고 그래요..ㅠㅠ\\n여러가지 상품을 주문하면 한번에 안오나요? 같은 셀러여도 하나는 상품준비중 하나는 배송중이라 뜨네요.\\n환불, 반품이 너무 느려요..\\n왜 인터넷 연결이 잘되있는데 쿠폰확인도 안되고 장바구니확인도 안될까요 안들어가질때도 많네요\\n아니 근데 어플자체는 좋은데 에이블리 찜이벤트 당첨됐다고 후기 올리는 사람이 없네요 이벤트 꽤 많이 했는데 왜 없나요 ㅇㅅㅇ\\n이쁜옷이많아서 첫주문했어요~~~아직 배송전이고 배송기간이랑 교환,반품 잘되는지도봐야겟네요 그래서별3개입니다.\\n다 좋은데 초등학생이나 중학생이 쉽게 결제 할 수 있도록 편의점 결제가 생겼으면 좋겠어요.\\n아니 페북 광고에 옷 올리지 마세요;; 내가 장바구니 담아둔거 다나 오니까 다른 사람 다사고 다겹치잖아요 ㅋㅋㅋㅋ진짜 개빡치게\\n다 좋은데 후기볼 때 키, 몸무게 입력해서 비슷한 스펙이신 분들 후기 골라서 보는 시스템이 있으면 좋겠어요\\n진짜 잘 쓰는 쇼핑몰이고, 다른 곳에서 옷 안사고 항상 에이블리에서만 사는 사람입니다. 그런데 환불을 하거나 품절되서 환불처리를 하면 돈이 너무 늦게 들어옵니다. 돈이 좀 빨리 들어왔으면 좋겠네요. 환불하면 돈이 기본 일주일 뒤에 들어와서 사람 미치겠습니다\\n다 좋은데 기능에 신체 조건 같은거 넣어주시면 안될까요...?허리가 얇다던가 허벅지가 두껍다던가 그런거요 바지를 사고 싶은데 허리크기 보느라 바지 고르는데 너무 오래걸려서요....\\n옷들이 한눈에 보여서 쇼핑하기 편해요. 근데 배송비 므료라고 써놓고 옷 하나하나 가격에 배송비 포함시켜놓은건 진짜 기만인듯.\\n오류가 조금 있네요. 상품 배송완료되고 확정까지 했는데도 주문내역에서 안사라져서 주문한건 1개인데 전의주문내역 상품들도 다 합쳐져서 4개로 표시되는,.\\n좋아요 매우 좋고 예쁜것들도 많은데 따로 매뉴가 나뉘어져 있지 않아요 저는 펜시를 좋아하는데 펜시 로 검색하면 안 나오고 개별로 펜이면 펜 다이어리면 다이어리 따로 검색하는게 꽤 귀찮더라구요 브랜디 처럼 계별로 나뉘어져 있었으면 좋겠습니다.\\n사진이 너무 많은 쇼핑몰이 있는데 사이즈 표기, 제조국, 원단 그런게 다 맨 밑에 있어서 계속 내려야해서 손도 아프고 짜증나서 맨 밑으로 가는 버튼도 있으면 좋겠어요 나머진 다 좋아용\\n비교하고 나만의 스타일 찾아주는건 처음에는 되게좋았으나 자꾸 들어가다보니 매일 매번그가게라ㅜㅜㅜ어느순간 또 다른곳을 찾고있다는.... 거래처가 진짜 많아지면 더 다양한스타일을 볼수있어 좋을것같아요 허나 비슷한스타일 비교분석하긴 진짜 편했어요\\n다른앱보다 보기편함 필더도 편한데 다른앱에비해 맞는편이긴한데 안맞는게 쫌 있네요 그리고 한번에 받아보고싶어 에이블리 배송상품만 찾아봤는데 그런필터는 없네요??\\n제 스타일에 맞는 옷이나 악세를 바로바로 서칭할수 있어 좋아요. 무배도 매력적!! 이벤트도 다양해서 좋긴한데~뭐랄까.. 그러다보니,카테고리가 굉장히 정신없어요. 배송도 빠른 편은 아니구요^^\\n너무 좋와요!! 원하는 재품 구매가능하고 무료배송까지!! 가끔 조금만 구매할때 배송비가 아까웠는댕 무료배송 해주시니깐 너무나도 좋와용!! 사용해보셔도 좋을듯해요 ㅎ\\n정말 좋아요 !! 근데 상품은 도착 했는데 상품이 오고있는 중이라고 떠서 리뷰를 못써요 🥺😵\\n예쁜옷들도 많고 배송도 빨라요 자주 이용하고 있어요! 옷 종류가 엄청 많아서 고민하게 되네요 ㅎㅎ예쁜 옷이 너무 많아서 고르기가 어려워요 ㅜㅜ 이 앱이 저를 결정장애로 만들었습니다. 전 제품 무료배송이라서 배송비절약했어요! 좋은 앱 감사합니당\\n내가 원하는 스타일을 선택해서 볼수있어서 좋았고 사용도 어렵지 않았어요. 전상품 무료배송인점도 좋았고 쿠폰을 많이줘서 좋았어요. 아쉬운점은 15%쿠폰을 24시간내로 사용해야하는게 불편했어요ㅠ 다른분들은 쇼핑을 먼저하고 살옷을 정한다음에 쿠폰을 결제하기 직전에 받는것을 추천드립니다. 옷종류도 다양하긴 했지만 제가 네이버쇼핑에서 봐둔 옷은 없어서 아쉬웠습니다. 그래도 전반적으로 좋고 편리한 어플인건 확실합니다.\\n근데 한눈에 안들어오고 너무 많고 설정 사항 일치하지 않는 쇼핑몰이 너무 많음. 검색어 설정으로 인한 선명한 검색결과를 원하는데 키워드 마케팅으로 신뢰를 줬으면 하는 기대와 달리, 키워드에 대한 신뢰가 떨어지기만함.\\n좋은데 그냥 별로 괜찮은데 쏘쏘해요 나쁘진 않은데 좋지도 않은? // +뭔 개소리를 썼었던.... 죄송합니다 ... ㅜㅜ 진짜 좋아요 쇼핑앱들 중에 가장 쓰기 편했어요 다만 질문사항이 잇서요 ㅜㅜ 혹시 편의점결제를 하면 택배는 집으로 받는거죠? 아니면 편의점 주소를 배송지에 입력하면 편의점에 배달이 올 수 있나요? 이것 빼곤 다 너무 좋았어요 ㅜㅜ ❤❤❤\\n아래로 내려가기 버튼 만들어주세요. 이번에 처음 깔아봤는데 저 버튼이 없어서 에이블리에서 옷 보다가 지그재그 가서 실측이랑 후기 보고 다시 에이블리에서 옷 보고 무한반복 했어요ㅠㅠ 너무 불편해요. 그리고 올라와있는 옷이랑 마켓이 너무 적어서 아쉽지만 그래도 전상품 무료배송은 확실히 좋은 것 같아요 앞으로 옷 사기 전에 여기 올라와있는지 확인해볼 것 같아요\\n배송이 좀 느린게 아쉬워요 작은 악세사리 들은 1~2일 걸리는데 빨리와서 좋아요 근데 의상이나 하의 , 원피스 이런게 일주일넘게 걸리는때도 있었어요 좀만 수정해주셨으면 합니담. 글애두 옷들은 이쁘니까 용서가 되네여. 하지만 이 앱 좀 추천합니드ㅏ\\n10대 딸아이가 선호해서 쇼핑 시작했습니다 다양한 상품들이 보여서 쇼핑하기 좋으네요 아쉬운점이 있다면 모델컷 사진을 확대할수없어서 캡쳐후 확대해서 본다는게 조금 불편합니다 첫구매에 만족해서 재구매했구요 엄마옷도 샀습니다 10대 딸아이옷 쇼핑에 시간절약되서 도움됩니다.\\n안녕하세요. 에이블리를 사용한지 3주일이 됀 사람입니다. 오늘 한 번 물건을 시켜보려고 옵션이랑 다 선택하고 이름 쓰고 우편번호를 쓰려고 했어요. 그런데 우편번호 입력창을 클릭하면 우편번호에 대한 설명이 나오고 주소 입력창을 누르면 또 우편번호 설명이 나와서 우편번호와 주소가 안 써져요;; 제 폰만 이러는지 모르겠습니다.\\n갤럭시 버즈(플러스) 케이스를 더 판매해주셨으면 좋겠어요... 찾기도 어려워서 에어팟이랑 버즈를 분류하면 더 빨리 찾을수있을거 같아요 ㅠ (만약 버즈랑 에어팟 케이스가 같이 판매된다면 두 카테고리 다 넣는방식)\\n굉장히 만족하는데.. 쿠폰이 말이 안돼서 리뷰 써봅니다. 쿠폰이 적어도 10000원은 있어야 적용이 가능하더라고요. 방금 9800원 짜리 결제했는데 200원만 더 내고, 쿠폰을 쓰고 싶더라고요. 조금 소소한 이벵 처럼 열어서 모든 상품에 적용 되는건 없을까요? 3000원 짜리를 1000원 쿠폰으로 2000원에 산다는지. 그런게 생기면, 5점으로 바꾸겠습니다.\\n평소에 에이블리를 잘 애용하고있는 학생입니다 !! 최근 탈퇴버튼을 실수로 눌러서 이도저도 못하고있는 상태에요.. 30일을 기다려야한다니 저에겐 억장이무너지는 점입니다..ㅜ 탈퇴버튼을 잘못눌러서 결제도 못하고 있어요.. 이 점 어떻게 해결할 방안은 없는건가요 ?.. +무통장입금으로 35000원을 결제한다고하면 40000원을 내도 거스름돈은 어떻게되는건가요 ?\\n배송비무료에 상품 비교하고 살수있어서 좋아요\\n예쁜 상품이 굉장히 많고 가격도 괜찮아요. 그런데 배송이 조금 느려서 하나 깎았어요.. 다른건 좋네요.\\n무료배송에 옷들등 마음에 드는 것도 많아서 좋아요..! 근데 주문내역에서 취소한것들 삭제하는 기능 있었으면 하네요.. 잘못 누른것으로 주문내역 글 많은데 친구가 왜 계속 취소만 누르냐고 하네요\\n일단, 전 배송이 무료배송이라는 점이 가장 좋았어요. 쿠폰도 자주 지급되어서 사용하기도 간편하고, 미성년자분들은 편의점 결제라는 시스템을 이용할 수도 있겠더라구요. 앱도 쉽게 구성되어서 다루기도 편했습니다. 추천드려요:)\\n가끔 배송이늦게 오지만 상품들 전체적으로 좋았어요\\n진짜 자주 사용 하는 유저 입니다(방금도 20만원 씀) 근데 쿠폰을 중복으로 사용 할수 있으면 좋겠습니다 ㅎㅎ 쿠폰 활용해서 젤 달 사려면 여러번 쪼개 사야되는데 그러면 앞에서 죽치고 결제하는게(편의점 결제 이용시) 창피도 하고 너무 민폐라서 제발 부탁드립니다 ㅠㅠ\\n옷이나 악세사리들도 너무 예쁘고 다 무료배송이고 편의점 결제가 있는건 좋았는데 환불받을계자는 없으면 더 좋을거 같아요 아무래도 학생중에 계자가 없는 학생도 있으니까 쿠폰으로 돌려주던가 했으면 좋을거 같아요\\n내 체형에맞는 리뷰도 볼수있어 좋지만,저만 그런지 모르겠는데 원래 찜한게 5개까지 가능했는데,4개가되고,3개까지줄어들었네요ㅠㅠ 그래도 옷은예쁜게많고,총장도적혀있어좋네요.\\n진짜 좋아요👍🏻👍🏻 키작녀들 위한 제품들은 많이 안뜨는게 아쉬워서 별 하나 뺐네요ㅠ 그래도 결제 방식이 다양하고(특히 현금결제 너무 좋아요 엄마 몰래 지를 수 있어요) 그냥 다 좋네요 일단 깔아보세요\\n진짜 다른 앱 쓰다가 이거 쓰니까 다른건 눈에 안차요. 일단 두달 정도 쓰면서 제일 좋았던게 1. 아무리 싼가격이라도 무료 배송이라는 점이에요 진짜...이건...누가 생각하신건지 배보다 배꼽이 커서 배송비에 화났던 나날들이 지나가요 2. 혜자로운 쿠폰. 쿠폰 잘쓰면 7만원이 49000원이 되더라고요...? 방금 결제하고 감동 먹어서 눈물 펑펑 흘리다 쓰는 리뷰였습니다 끄읕 감사해요 (아 참고로 질 안좋은 옷들도 있어요 잘거르세요 이건 에이블리 탓 아님) ----------------수정------------------ 에이블리 너무 잘쓰고있고 좋긴한데, 각기 다른 쇼핑몰에서 여러개 옷을 배달시키면 한 옷이 가끔씩 품절돼 주문취소가 될때가 있는데, 그때마다 환불 금액은 항상 쿠폰가격을 빼서 들어오더라고요. 소비자인 제가 잘못한것도 아니고 사전공지 없이 쇼핑몰 측에서 옷이 품절 된거면 당연히 제게 들어와야하는 돈은 원금 아닌가요? 왜 시스템을 이렇게 만드신건지 모르겠네요.\\n진짜 옷이고 뭐고 다 좋고 이벤트도 많이 해서 좋긴한데 정해진건지...뭔지 모르겠는데 이벤트 걸린사람만 계속~~걸리고 한번도 안걸린 사람은 거의 대부분 안걸리더라고요.. 후... 그리고 배송 개느림...\\n님들 후기에 자꾸 배송 얘기하는데 배송은 마켓마다 다른거임ㅋㅋㅋ 그 말은 니들이 배송 느린데에서 시켰다는 거에요ㅋㅋ 그런 건 입점한 마켓한테 따져야 되는 겁니다 참고로 제가 시킨데는 다 빨리 왔음 아직까지는 실패한 거 없고 나름 괜찮은 거 같아용 ㅇㅇ\\n예쁜거 정말 많고 좋은데요 폰케이스를 사고 싶은데 제가 원하는 폰케이스에 제 폰 기종이 없어요.. 지금 제 폰 기종이 갤럭시 A42거든요? 근데 예쁜 케이스마다 제 폰 기종이 없어서요....좀 많았으면 좋겠습니다!\\n에이블리 너무 잘 쓰고 있는데 옷을 볼 때 사이즈를 보려고 빠르게 내리면 상세 페이지가 싹 사라져요 그럼 나갔다 들어와야 하고 또 다시 내리고 사라지고... 이거 좀 고쳐주세요 ㅜㅠ 그리고 무신사처럼 리뷰칸 옆에 아예 사이즈칸을 따로 만드는 건 어떨까요 맨날 페이지 밑까지 내리기 귀찮아요 아니면 그 사이즈별 상세 길이를 제일 위에 두든가요 만족해요/별로예요 말고도 그냥 그래요 같은 걸 추가해 주세요 옷이 그냥 평타인데 만족스러운 수준은 아니고 그렇다고 별로인 수준도 아니라서요 이걸 좀 더 세세하게 나누는 게 좋을 듯\\n매일추천해주는것도 좋고 사용하기 쉽네요\\n상품도좋고 거의싼데.. 막 에어팟 케이스등이나 이런거은 여러개있으니까 케리스 가격도아니고 필름같은거 가격을 써놓으면 어쩌자는겁니까...ㅠ\\n원래 배송이 느린가요..? 제가 체크카드를 만든 후로 처음으로 온라인쇼핑을 했는데 배송중인지 9시간이나 됐어요. 원래 이렇게 느린가요?\\n다른건 다 괜찮은데 배송조회 확실하게 해 주셨으면 합니다 그 시간에 들어갔을때 안 뜨더니 한참 지나서 들어가니 뜨면 어쩌자는거죠 그리고 만족해요 별로에요 말고 별점을 매길 수 있게 만들어주시거나 이 방법이 별로시면 보통이에요도 추가해 주셨으면 좋겠습니다\\n다 좋은데..찜한상품들을 카테고리별로 나눠져있음 좋을거같아요...예를들어) 원피스 치마 가방 신발 이렇게..\\n잘 사용중입니다 한거지 요청사항이 있습니다. 필터 기능에서 선택이 아닌 제외 기능이 있었으면 좋겠습니다. 예를들어 크롭 제외 이런식으로요\\n다른 쇼핑몰에 비해서 카테고리도 세세하게 나눠져있고 무료배송이라 부담이 덜한 것 같아요~ 옷 살때 잘 쓰고 있습니다!😘\\n에이블리 잘 쓰고있어요 근데 옷 사려고 결제 눌렀더니 결제가 안되네요.. 왜 그러는지도 모르겠고 빨리 결제했으면 좋겠네요 앞으로도 잘 쓰겠습니당\\n다양한 옷을 한번에 볼 수 있어서 좋아요 하지만 검색 기능을 써도 카테고리에 맞지않는 옷이 간간히 뜨는게 좀 불편했어요\\n판매자들이 품절상품은 판매페이지를 바로 내려주면 좋겠어요 구매 후 취소를 여러번 겪으니 넘 피곤하네요ㅠ 앱 자체는 편하고 좋습니다\\n페이지 확대가 왜 안되죠?? 옷 더 자세히 보고싶은데 확대가 안되네요 개선해주세오 그 외엔 다 최고!!\\n딸아이 옷사려고 가입했는데 정말 좋습니다. 가격도 착하고 배송도 빠르구요^^자주 이용할것같아요~!!\\n이쁜 옷도 많고 사용하기 편하고 굉장히 좋은 앱인데 저번에는 로그인이 잘 됬었는데 지웠다 다시 깔아서 로그인 할려니 인증번호 발송이 안되네요.. 로그인을 해야 주문을 하는 게 편한데 고쳐 줬으면 좋겠네요\\n안좋아하는 상점은 차단할수 있는? 그런 기능 생겼으면 좋겠어요. 제스타일 아닌옷들 파는 상점이 자꾸 떠서 불편해요ㅜㅜ\\n정말 잘 쓰고 있습니다, 근데 앱 사용 초기에 나오는 추천 스타일 분석 기능을 로그인 이후에도 한두번 다시 선택할 수 있었으먼 좋겠어요ㅠㅍ\\n다 좋은데 제발 이것만.. 환불 하지도 않았는데 했다고 뜨고 환불창만 들어가도 환불됐다고 뜨는데 왜 이런 거죠..??\\n사이즈및 만족도가 구체적이라 좋아요\\n저희 아이가 넘 좋아하는 쇼핑몰입니다. 좋아하는 옷이 넘 많이있네요.\\n인증 번호 잘 받고 가입해서 둘러보는 중인데 조금 자주 로딩이 걸리는 것 빼고는 괜찮은 것 같아요\\n진짜 너무 좋은데요, 유학파는 웁니다.. 해외 회원가입, 배송 되도록 해주세요...\\n잘사용중 모든게 무료배송이라 좋아요\\n리뷰를 썸넬 보기좀 편하게 리뷰가 메인에서 너무 작아서 클릭해서 들어가는게.좀 불편 이건.지그재그가 보기편함\\n검색 결과에 제외할 단어,마켓 설정할 수 있는 기능 있었으면 좋겠어요 !!\\n가성비 좋은데 질이 떨어지는 제품도 있더라구요ㅜ 좀 아쉽긴해도 전반적으로 만족스럽습니다!\\n아직그렇게마켓이많이들어온거같진않아서그게좀아쉬워요 쿠폰도 타어플보다커서 마음에듭니다ㅎ\\n진짜 좋은데 코스메틱 들어온 것도 좋고 쿠폰도 많이 줘서 좋은데 즐겨찾기한 마켓 상품들만 볼 수 있는 곳이 있으면 좋겠어요\\n검색해도 분류가 안 되니 원,, 검색을 하는 이유가 없네요. 그래도 앱 자체는 꽤 좋아서ㅎㅎ\\n다 좋은데 갤럭시 탭에서 가로로 보는 기능이 가능했으면 좋겠어요!!\\n가입하려고 핸드폰 번호 입력하고나서 인증누르는데 인증번호 전송이 실패했다고 떠요 그래서 회원가입못하고있는데 어떻게해야하죠?\\n지그재* 보다 이용하기 훨씬 편리하고 평소 좋아하하는 스타일 옷들 저렴하게 득템중이예요!!\\n제 스타일에 맞게 옷이 보여지는데...넘좋아요\\n여태 잘쓰고 있었는데 갑자기 뭐 하나 누르기만 해도 꺼집니다.\\n정말 잘 사용하고있고 옷들도너무 예쁘고 다 정말 괜찮은데 쪼끔 서운해요ㅠ 전 갤럭시 J2라서 전기종에도 안들어갑니다.. 아무리 찾아봐도 없어서 서운해요 전기종이라면 정말 전기종이있기를 바랍니다\\n모두 다 좋고 괜찮은데 제가 126100을 결제했는데 왜 패밀리가 아닌 계속 웰컴이죠? 원래라면 패밀리여야하는것아닌가요? 이 점 제발 고쳐주셨으면하네요(; ㅅ ;)\\n무배인거 너무 큰매력인듯용 각각 다른샵에서 사도 배송비 부담이가 없네열~\\n너무도 다양하고 많은 물건에 한번들어가면 나오지 못하는 개미지옥같은\\n회원가입절차도 편하고 결제방법도 간단해서 좋았습니다\\n할인권? 같은거 줘서 괜찮았고 무료라는점도 좋았음 다만 10대가 사용할만한게 많이 없다\\n여러 쇼핑몰을 한번에 모아서 볼수있어서 편하고 좋아요 굿굿\\n비슷햐 상품추천과 쿠폰제공으로 합리적인 구매 가능!\\n좋지만 썸네일에서 보이는 가격과 실제 상품 가격이 달라요\\n만족스럽지만 가끔 너무 늦는 상품때문에 별 하나빼긴해요~\\n찾는것도 다있고 할인도많이하고품질도좋아서 제 최에 앱입니다❣\\n가입편하네요ᆞ 반품도 빨리되면 계속 사용할 의향있습니다\\n관심있는 스타일의 옷을 자동추천해줘 편리하네요\\n진짜 다좋은데 옷의 다양성을 좀 늘려줬으면해요\\n검색방법 쇼핑 목록 다 맘에 듭니다\\n주문 취소 처리 속도만 더 빠르면 좋겠어요\\n다양한 상품 볼수 잇어서 좋아요\\n여라상품한번에보고~배송이없는게~최고요^^\\n다 좋은데 왜 자꾸 시험기간이랑 할인기간이랑 겹치게 하시나요 저 뉸물나요\\n다 좋은데 리뷰 쓸 때 사진 넣는게 안됨.. 슬프지만 그냥 쓰는중\\n빠르고 간편해서 좋아요\\n예쁜 옷들이 사이즈가 작아요..ㅜㅠ 66, 77사이즈 만들어 주세요\\n편하고 가성비좋은 마켓상품들에 옷이 많아요\\n의류 악세사리 잡화 다양해서 쇼핑하기좋아요 배송료없어 더 꿀~~!!!\\n체형.스타일에 맞는 옷으로 추천됨\\n옷은 받아봐야알겟지만 어플은 편리합니다\\n간혹 오류때문에 접속 안되는거 빼면 나쁘지않아요\\n좋아용! 음,,자신만의 피드?가 생기면 좋을 것 같아요!\\n상품이 많고 저렴해서 좋아요\\n필터에 폰 기종도 있었으면 합니당 s20 fe라 맞는 폰 기종 찾기 너무 어려워요 ㅜ\\n배송이 좀 오래 걸리긴 하지만 옷이 이뻐요\\n편리하고 좋아요. 예쁜옷도많구요\\n가성비좋게 이쁜옷이 많아요~\\n다 좋은데 화장품 좀 더 들여주세요....ㅠㅜㅜ\\n아주 좋아용 간편하고 편리해용\\n중학생딸 옷사기 싸고 다양하고 좋아요\\n필터에 체형도 있으면 좋을 것 같아요\\n여러가지상품을비교할수있어서 조아요\\n안녕하세요? 이앱을 잘쓰고있는 한 사람입니다. 한가지 아쉬운점을 말하자면, 힘들게 찾은 옷이 마음에 들었을때 하트를 눌렀고 구매까지 하려고했지만 품절이되어 오류가 뜨며 앱을 삭제하고 다시 깔았습니다. 삭제하니 모든 기록이 지워져있더군요? .... 제 계정 복구 안하셔도 되니 제발 다른 피해자없게 고쳐주세요!\\n상품이쁜옷이 많아요 만족합니다\\n일단 쇼핑앱이라 절 정말 행복하게 만들어줘요. 하지만 리뷰 사진을 넣을 때 오류가 나서 사진이 복붙이 돼요. 그리고 배송이 너무 느려요. 시키면 한 3~4일? 리뷰에는 1일만에 온다고 하지만 전 아닌 것 같네용\\n딱히 문제는 없는데 140이 입을 핏이 많이 없어서 좀 아쉬운거같아요\\n휠라,아디다스,나이키 같은 브랜드도 넣어주셨으면 좋겠어요ㅜ\\n좋아요 요즘 어플이 많이생기긴했지만 나름 이게 젤좋음\\n옷 이쁜것들도 많고 문의할 때 너무 좋게 말씀해주셔서 앱 최고에요\\n저렴하고 이쁜 옷이 많아요\\n사이즈 표시가 너무 밑에 있어요. 사진이 많은 건 좋지만 보려면 밑으로 계속 내려가야 되는 점이 좀 불편해요.. 사이즈를 위로 올려주시거나 맨 아래로 내려가는 버튼을 만들어주셨으면 좋겠어요\\n무료배송 빠른 배송 좋아요^^\\n너무좋아옷너무이뻐자꾸사게되요중독임\\nㅠㅠㅠㅠ좋긴한데 바온이랑 사뿐 좀 입점해주세요... 편하긴해요 좀잇음 vip임다\\n다 좋은데 디테일 선택지좀 더 늘려주세요\\n1.검색했을 때 연관없는 상품들이 몇개 같이 떠서 불편해요. 2. 편의점결제할 때 24시간 안에 하지말고 3일정도 더 늘려줬으면 좋겠어요. 3. 포인트 10% 까지 밖에 못쓰는거 고쳐주세요. 내가 모은 포인트 내가 다 쓰는데 왜 한정적인지 모르겠네요. 소비자가 최대한 저렴하게 살 수 있는 방법이 아닌거 같아요.\\n이 앱의 장점단점을 말하자면 장점은 1.배송비가 무료이다. 모든 물건이 배송비 무료여서 딱 물건값만 내면 됨. 2.계좌가 없어도 결제 가능. 편의점 결제를 하면 현금으로 결제 할 수 있다. 3.쇼핑하기 편하다. 장바구니,찜 기능이 있고 내가 본 물건들 위주로 추천도 해줌. 그리고 검색필터로 가격대, 카테고리, 스타일 등을 고를 수 있음. 장점이 있다면 당연히 단점도 있음. 1.물건 가격이 배송비까지 포함한 가격 같음. 물론 모두 그런건 아니지만 꽤 많이 보임. 2.배송비(2500원정도)보다 물건이 쌀경우 여러개를 사야지 주문접수가 된다는데 필요이상으로 사야할때가 있음.\\n정말 쿠폰이벤트도 많이 하고 검색 필터도 잘되있어서 지금까지 에이블에서 약 30~40만원은 쓴것 같아요. 하지만 아쉬운점이 있다면 포인트가 왜 10%만 사용 가능한지 모르겠네요. 직접 하나하나 후기 써서 얻은 포인트인데 그렇게 모은 포인트를 쓰려면 또 물건을 시켜야 된다는 점이 아쉽네요.. 자기가 모은 포인트인데 가격제한 없이 쓸 수 있었으면 좋겠네요..\\n에이블리에서 쇼핑을 하는데 불편한 점이 있어 개선해 주셨으면 좋겠습니다🙏 첫 번째, 스크롤을 쉽게 조절할 수 있도록 바꿔주셨으면 좋겠습니다. 상품정보가 긴 경우에는 계속 터치하면서 내리거나 올려서 봐야되는 점이 너무 불편하더라구요. 두 번째, 오른쪽 하단에 있는 화살표버튼의 위치를 위쪽으로 바꿔주세요. 화살표버튼의 위치가 잘 눌리는 곳에 있어서 자꾸 맨 위로 가집니다. (스크롤이 길어서 힘들게 내려서 보고있었는데 자꾸 눌려져서 쬐끔 짜증이 났어요ㅜㅜ) 에이블리에 좋은 제품들이 많아서 필요 한 게있으면 구매하는데 좀 더 편리하게 쇼핑할 수 있게 개선해 주시면 감사하겠습니다😊\\n다른 인쇼 어플보다 훨씬 깔끔하고 보기 편해요 대신 검색어 필터 기능이 좀 아쉬워요 마켓에서 등록한 키워드로 검색돼서 그런지 뭐 하날 검색해도 엉뚱한 게 나올 때가 있고 그 키워드가 없으면 안 나오는 옷도 있어요 또 빅사이즈 카테고리가 생긴 건 좋은데 그 안에서도 다시 아우터, 상의, 하의 등 세부 카테고리를 나눠서 선택할 수 있으면 좋겠네용ㅠ 그리고 5000원짜리 물건 팔면서 옵션에 작은 상품 끼워넣고 목록에선 몇백원짜리 물건으로 보이게 최소최대 금액 악용하는 마켓들 좀 관리해주세요ㅠㅠ\\n정말 사용하기 쉬운것 같지만 다만 카드결재할땐 많은 어려움이 있었던것 같아요..카드결재를 더 편하개 사용하게 사용할수 있도록 바꿔주세요..사고싶은건 많은데 구매를 못하고있네요..\\n다른 앱에 비해 가격이 싸고 배송비도 들지않아 저렴하게 살 수 있어서 좋아용 ! 근데 고고싱 마켓이 없어서 아쉬워요 ㅠㅠㅠ 더해주시면 안될까요 ? 간절합니다 ㅠㅠ!\\n에이블리 진짜 좋아요! 종류도 다양한데 나 이쁘고 실용성 있습니다! 심지어 무료배송이에요! 가격도 저렴한 것도 많고... 진짜 좋아요! 근데 조금 아쉬운 점은 티이틀 폭이 좀 더 넓었으면 하는 점이랑 몸무게랑 키(스팩)에 대한 맞춤 설정 있었으면 좋겠어요ㅠ 매번 검색해서 설정하는거 어려워여ㅠ 그리고 몸무게 설정해서 체격이랑 맞는 옷들 추천이 떴음 좋겠네요! 어쨌든 에이블리 좋아요:-)\\n에이블리 너무 좋은데 약간 싼거는 마감처리?이런거 좀부족하공! 케이스는뭐 거울 ?붙어져있는거면 삐뚤어지거나 빠져서..ㅜㅜ그래도 대만족 ! 젤싫은건 배송이...;;3주걸릴때도있고 빨리올때도있어서 괜찮기도한데 얼마전에 스티커샀는데 돈만 날리고 안왔는데 문의해도..;노답인데 딴건좋아서 에이블리 짱먹어도 될듯😊\\n되게 오래 써왔어요. 전에는 옷이 깔끔하고 데일리로 입기 좋은 옷이 많았는데 요즘은 딱히 사고싶은 옷이 별로 없어요. 그래도 이 앱은 옷 말고 가성비 최고인 주얼리가 진짜 많아요!! 주얼리 때문에 별점 좋게 줬어요 주얼리가 다 한거 같아요👍👍\\n이쁜 제품들을 싸게 배송비 없이 구매할 수 있는 점은 정말 좋은거 같아요! 하지만 지금 주문한거 내역 보려는데 자꾸 앱중단 되네요... 버그인건지...오류인건지 확인한번 해주시고 고쳐주세요 ㅠㅠ!! 다른 점은 다 좋아요!\\n편리한 쇼핑이 되었습니다\\n검색창에 세부적으로 검색됐으면 좋겠어요\\n예쁜 옷들도 많고 옷 이외 인테리어 소품같은거 있어서 좋아요! 근데 \\'에이블리는 전상품 무료배송!\\'이래놓고 제주도 및 산간지역은 배송비 붙던데... 기만하는 느낌을 받았어요ㅠ\\n갑자기 안들어가져요 이것좀 빨리 고쳐주세요\\n다좋은데 문자 왜 동생한테 가요\\n별 5개를 주고 싶지만 너무 키가 작은 사람들을 위한 옷이 많아서 옷 찾기가 힘든거 빼곤 전부 괜찮습니다\\n안녕하세요!에이블리 앱 아주 유용하게 잘사용하고 있습니다!!그런데 페이스북에서하는 사전예약을 했는데 5000원쿠폰이 안왔어요ㅠ1개만 했는데 신청ㅠ\\n좋은 앱이긴 한데 쿠폰을 구매할 때 한번에 여러번 쓸 수 있었으면 좋겠어요 ㅠㅠㅠ 천원짜리 쿠폰 (제한금액 없는) 만 5개를 갖고있는데 천원 이하인 물건들은 들어가보면 다 3개이상 구매 그런거고... 아쉬워요\\n에이블리 애용자인데 너무 예쁘고 편안해 보이는 옷 발견해서 무통장입금을 통해 살 예정이었는데 주변 은행이 하나 은행이 젤로 가까워서 하나은행 계좌 따서 했더니 자꾸 가상계좌라고 불능처리되네요ㅜㅠ이걸 우짤까요 넘 이뻐서 맘에 쏙 들었는데!!ㅠㅠㅠ\\n진짜 에이블리 너무 좋아요..❤❤ 그리고 1000원 쿠폰 주는거 좋긴한데 금액이 너무적은것같아요..하지만 전에 5000원 쿠폰 정말 좋았어요 ! 그걸로 그립톡 질럿답니다..ㅋㅋ 근데 5000원 쿠폰 악용때문에 좀 힘드실것같네요🥺그런 그지들은 무시하세요 !! 그리고 편의점 결제 넘 좋아요〰 근데 배송이 좀 느리고 배송조회가 잘 안되는거 빼면 정말 좋은 어플이에요🥳🥳 진짜 이쁜 악세사리와 옷들이 많더라구요🤤 새뱃돈 많이 받아서 조만간 많이 지를것같아요ㅋㅋ🛍 아무튼 에이블리 앞으로도 쭉〰쿠폰 많이 뿌려주세요❤❤\\n너무너무 좋은 앱 입니다! 최근에 목걸이를 샀는데 너무 이쁘더라구요! 가격도 착하고 정말 좋아요... 근데 PC 버전도 나왔음 좋겠네요!\\n평생배송비무료로해주세요😭😭 그리고 \"원피스\"라고쳤는데 검색어에 거의 관련없는것만 나와요 그리고 예전에는 4%할인 5만원이상 살때마다 쿠폰쓸수있었는데 이제는 뜰때도있고안뜰때도있네여😭\\n스타일 탭에 유튜버분들이 올리신 그영상들이 뜨고 그래야되는데 그기 어느순간 없어졌네요..? 제기 못찾는건가요..?ㅠㅠㅠ 그기 없어져서 놈 불편해져써용..\\n내가찾고자하는것을 미리보여주니좋다\\n다 좋은데요..좋은데..왜 검색을 만들으셨는지 ㅎㅎ 후드집업 검색하면 바지가나오고 바지검색하면 맨투맨이나와요..ㅋㅋ 어쩌라는건지 뭐 그런거 빼고 무료배송 등이여서 좋아요 😀\\n완젼 짜증나네요 갑자기 서버가 않좋다고 나와지질안나 문의도느리고 가끔 완젼 좋지안은 마켓도 많은데 관리를 하기는 하는건가요? 무료배송이라좋기는한데 급해서 빨리오는걸로시켰는데 갑자기 배송지연이라고하고 문의답변도 완젼느려요.. 그리고 진짜안좋은건 아니 상품을 보고있는데 서버가안좋다면서 나가지는 이런 어이없는경우도 엄청 많이있거든요 관리 부탁드려요\\n1. 가격 혼동되게 안해주셨음 좋겠어요 필수옵션 선택하면 삼천원이 만원이 되고...가격으로 찾아볼 때 방해 많이 돼요 2. 배송을 한달을 넘게 기다린적이 있어요ㅠㅠ 4일+ 말고 좀 더 정확한 기재를 원해요 3. 카테고리 분류를 정확히 해주세요!!\\n무료배송이라 좋아요!\\n큰 싸이즈를 맘대로 고를 수 있어 좋아요\\n아니 찜한 옷들이 갑자기 없어지네요. 옜날에는 품절이면 품덜이라 뜨는데 갑자기 사라져서 메장 들어가면 상품은 않보이고 이전이 처음이거나 두번째면 괜찮죠 근데 한두번도아니고 네전정도 그러네요 오죽하면제가 사진을 캡처를해나요. 그리고 캡처를 할태 다있는거를 확인후 캡처를 하는데 캡처후 나중에 들어가면 수는 똑같은데 없어진게 있네요.\\n무료배송인 점이 맘에들지만 옷살때는 괜찮다 생각했지만 옷이아닌 악세사리나 화장품 등등 여러개 구입해야 배송가능한 것이 아쉬운 부분임.\\n일단 옷들은 이쁜거 같습니다. 하지만 제가 입고싶은 옷을 검색창에 쓰면 다른 검색물들이 나온 적이 많습니다 그래서 그런지 좀 불편하네요\\n서버 왜 이래요 맨처음 화면에서 안 움직이고 다음으로 넘어가도 로딩만 계속 뜨고 서버 연결이 안 좋다는 문구도 뜨고 데이터로 바꿔서 해봐도 똑같으니 당황스럽네요\\n좋긴한데 키작은사람에게는 맞는게 엄청 많지는 않아요! 그래도 잘쓰고있고 갑자기 환불됬는데.. 그것만 고쳐주세요!!\\n다좋은데...쿠폰을 하나살때 하나밖에 못하더라구요.. 그 점에서 조금 아쉽습니다ㅠㅠ 쿠폰을 여러개 사용할 수 있게 바꿔주세요ㅠㅠ\\n에이블리 옷사기에 정말 좋은 앱이라고 생각해요! 카테고리나 리뷰도 솔직하게 써있어서 보기 좋습니다. 근데 한가지 아쉬운점이 리뷰를 썼는데 왜 포인트가 적립되지 않는지..ㅠㅠ\\n솔직히 다른 앱보다 여기가 젤 좋아여.. 앱도 깔끔하고... 옷은 확실히 질이 막 엄청 좋은건 아닌데 입을만하고 솔직히 쇼핑몰에 따라 다른거지만., 제일 사기 안치는 앱이네요 쿠폰도 많이 뿌리고 배송도 무료고 개발자님 사랑합니당♡♡♡\\n예쁜 옷들도 많이 사서 좋은데 오늘 오전부터 계속 튕기네요? 앱에는 들어가지는데 옷 보려고 누르면 튕기네요;;; 그리고 오래 쓰다보면 렉 걸리고 폰이 느껴지더라구요 이런부분 개선해주세요😭🙇\\u200d♀️\\n좋은데, 편의점 결제 할려고 하는데 모르시는분들이 과반수, 아니 거의 대부군이라 구글 기프트카드나 문화상품권을 통하여 결제가 가능하게 바꾸어주시면 더 좋을 것 같아용..\\n앱은 정말 좋네요. 근데 계속 나가지는 문제 때문에 쇼핑을 제데로 할수가 없습니다. 문제 해결해주세요.\\n후기정보 무료배송이라좋아요\\n결제도 쉽게 할 수 있고 이쁜 쇼핑몰 많아서 좋아요ㅜㅜ 근데 리뷰 볼 때 스펙 비슷한 사람 거만 볼 수 있는 필터 같은 것도 있었음 좋겠어요\\n4개면 충분해요 그리고 이쁜옷 많은데 안좋은점 있어요 1.배달이 너무 늦어요ㅠㅠㅠ 1주 2주 안으로 와요ㅠㅠㅠ 그 다음은 없어요 그리고 간편하게 편의점 결제도 가능!\\n저의 최애 앱♡ 슬픈게 이거 하려고 깊카현질해서 샀는데.. 구글 기프트카드로는 안되더라구욧;; 요즘엔 편의점 결제로 학원가기 전마다 계속 하나씩 사구 이써요 확실히 배송이라 불친절하신분도 계셨고, 상품에 하자가 많은것도 있었지만 이제 그런거 신경 안써요ㅋㅋㅋㅋ 떨어지면 본드나 발라서 쓰고 스크래치 나면 걍 써욬ㅋㅋㅋ 여러분 에이블리 많이하시면 이케됩니다 모두 A블리 하세요~!!♡\\n검색기능이 넘 허술한듯요;; 조거팬츠 검색했는데 엉뚱한 와이드 팬츠가 나오고 티 검색하니까 바지나오고 불편해서 미치겠음요....\\n다 좋은데 배송완료인게 계속 배송 중이라 뜨고 배송 중인건 어디까지 도착했는지 오류 걸려서 인지는 모르겠는데 안 떠요 ㅜㅜㅜ\\n조금 품질에 비해 비싸긴 하지만 잘 찾다보면 가성비템이 있으니 좋습니다 쿠폰도 줘서 좋고 그냥 다 맘에 듭니다...😍\\n일단 왜 별을 4개드렸냐면 제 핸폰 기종이 s7엣지인데 이번에 핸폰 케이스를보는 거의 아이폰 또는 갤럭시 최신 밖에없더라고요..그래서 별 한개 뺏습니다ㅠㅠㅠ 다른 기종도 많이ㅠ넣주셨음 하네요ㅠㅠ\\n다 좋아요 근데 가격이 비싸고 쿠폰 얼마까지 사야 돈 뺄수있는거 그게 너무 비싸요 그거 빼곤 다 좋아요\\n등급이 안올라가는데 어이없네요 몇 일 뒤에 보니깐 등급은 올라갔는데 혜택이 밑에 단계에서 멈췄어요ㅋㅋㅋㅋ 빨리 고쳐주세요^^ 검나 빡치니깐\\n와 진짜좋아요 근데 리뷰에도 신체검색하는기능 있으면 좋을듯요 제가좀 키가커서 저랑 맞는분 찾는게 너무 어려워요\\n옷도 예쁜 옷도 너무 많고 가격대나 스타일 색상 모두 선택해서 볼 수 있어서 편하고 좋은 것 같아요 🥰❤\\n키 140 아래 옷들이 없다는게 아쉬워요 ㅜㅜ초딩들 사이트가 아니긴 하지만ㅎㅎ 옷들 다들 너무 이뻐요!!\\n너무 좋구요!!갤럭시 쓰는데 폰케이스에 아이폰만있어서..좀 그랬는데 너무 좋아요!!\\n옷은 존옌데 솔직히 Friends 등급 쿠폰이 30000원 이상 구매시 1000원이 말이 됩니까 ? ~이상 없는줄 알고 일부러 샀는데 이게 뭐죠 ,, ~이상이나 ~~브랜드에서 사면 이것거좀 안하고 1000원 이하도 괜찮으니까 주시면 안되나요 ,,\\n이쁜거 많아서 좋은데 체인케이스 같은경우는 쫌 잘끊어져요우ㅠ 배송도 느려유ㅠ2주만에 겨우 받은적도 있어유ㅠ\\n다 좋은데..왜 계좌를 써야하죠?? 굳이.. 반품할사람만 문의 넣어서 하면 될거 같은데..그것때문에 조금 불안하네요 그것만 고쳐주심 별5개 아깝지 안을듯 하고, 옷도 많이 살수 있을것 같아요\\n확실히 무료배송이라서 좋은데 무료배송이다보니까 싼것들은 무조건 2~3개이상이여야 배송이되더라구요\\n필터에 몸무게도 추가해주셨으면 좋겠어요ㅜㅠ 164/42 허리 21정도로 마른체형인데 바지 한개빼고 전부 실패했어요😭\\n광고할때 내 장바구니에 있는게 올라오는게 아쉬워요 요즘 많이 사는 제품 같은걸 올려주셨음 해요\\n다 좋은데요 보기싫은 쇼핑몰 숨기기 기능좀 있엇음 좋겠어요 다른쇼핑몰보고싶은데 너무 도배씩으로 뜨네요\\n찜목록도 카테고리별로 볼수있으면 좋겠어요 몇백개씩 찜해놓으니깐 보기힘들고 가격비교도 힘들어요\\n무료배송도 좋고 다 좋은데 끊을 수가 없어서 돈이 20만원이 있었는데 1만원 남음ㅠㅠ\\n예쁜 옷도 많고 좋은 것 같아요 하지만 취소 했는데 너무 늦게 진행되는 것 같네요\\n다양한 물건들이 많아서 좋아요~^^\\n리뷰작성하면 포인트 준다고 되있는데 포인트가 안들어와요..뭐 상관은 없지만..그래도 쓸 수있는 돈이라서요...\\n이뿐옷너무많아요^^재구매의욕이 막생겨요^^\\n좀 키 큰 분들이나 여성스러운 옷 좋아하는 분들에겐 짱이지만 키 작고 여리여리한게 좋으면 다른 앱이 좋을듯 합니다.\\n체형이 작고 옷 사는게 힘든데 에이블리는 좀 크지만 예쁘고 저에게 맞는 옷이 많은것 같아 좋아요\\n좋아요 여러 사이트를 한번에 볼수 있어서\\n다 좋습니다 근데 아쉬운점은 키는 나오는데 몸무게는 안나와서 너무 아쉽습니다.\\n이쁜 옷 편하게 살수잇고 배송비 무료라 좋습니다 !!\\n다른건 다 괜찮아요 근데 이건말하고 싶네요 제가 키 152cm에 37kg으로 조금? 마른편인데 선택할려니 40미만은 없더라구요 이거추가해주면 감사하겠습니다\\n앱 안에서 여러 쇼핑몰을 비교하고 비슷한 제품을 추천해줘서 여러군데 돌아다니지 않아도 되네요\\n좋은데 뭘 사려면 7% 이런거 붙어있어서 상품 기대하고 들어가면 그 가격보다 비싸요 ㅠㅠ\\n앱자체는 괜찮은데 진짜 배송 느려터졌음 폰케이스 하나 시켰는데 4일 넘은듯\\n좋은 물건이 왔어요👍 근데 주문한 물품이 늦게온다는 점에서 별점 4점드릴게요ㅠㅠ\\n다 좋은뎁 1가지 단점이 있어용 ㅜ 1번 택배가 너무 늦게 와요 ㅜ 그래두 다 좋아용 !!\\n앱자체는 좋은데 폰 번호 인증이 안되서 쿠폰이 안받아지네요;; 수정부탁드려요\\n환불계좌 선택없음으로 바꿔주시면 좋을꺼 같아요 ! 다른건 다 조아요 !!\\n다 좋은데 리뷰볼때 제 키와 몸무게등에 맞게 찾아서 볼 수 있게 리뉴얼 해주셔야겠어요\\n옷이 넘넘 이뻐요~처음 주문하는거라 별하나 빼용~아 그리고 빅사이즈도 판매하심 좋겠어요\\n다른 쇼핑몰과 좀 다른 매력~!\\n배송 속도가 다들 다르지만 한눈에 볼수있어서 좋네요~\\n좋긴한데 제가 찾는 상품이 몇개 없어서 조금 아쉬웠어요ㅠ\\n딸이 좋아하는 쇼핑몰 이네요. 더 이쁘고 저렴한거 많이 있으면 지름신 오겠죠~~\\n배송비도 무료고 이쁜것도 많아서 좋음 뭐 깔고싶으면깔아보는것도 나쁘지 않음\\n좋은데 결제수단이 좀더 많았으면 좋겠어요 오케이캐쉬백 제발 만들어주세요 ㅠㅠㅠㅠㅠㅠㅠ\\n이쁜 물건이 많이 있어요\\n다 좋은데 가끔 핸드메이드제품이 뜬금없는 곳에 발견되서 좀 불편해요\\n일단 다 무료 배송이라서 너무 좋아요 그리고 10대부터 30대까지 입기 좋은 옷들이 있어요\\n다양하고 많은 쿠폰이 적용되어서 너무 좋은것 같아요!\\n환불했는데 돈이 아직도 안 들어왔어요 에이블리측으로 문의하라고 해서 문의해요\\n쇼핑을 완벽하게 할 수 있는곳\\n보기편하고 좋아요\\n예쁜 옷들이 많아서 좋아요^~^\\n무료배송에 비슷한 상품을 한번에 비교해서 구매할 수있어 너무 좋아요\\n배송도 빠르고 예쁜옷도 많고 좋아요 잘 사용하고있어요\\n다 좋은데 가입할때 초대코드를 입력해야 가입할 수 있는데 계속 안돼요\\n다양한체형으로 확인할수 있어서 좋습니다\\n좋네요! 다만 너무 10대, 20대초반 쇼핑몰이 많네요ㅠ\\n정말 좋은 앱인데요 ㅠㅠ 케이스들이 아이폰 위주라서 약간 아쉬워요!!ㅠ\\n특별하고 유니크한 디자인이 많아요~♡\\n조금 불편한게 노트북에 안깔려서 불편하네요... 그렇게고쳐준다면 괜찮겠네요..!!\\n와 진짜 좋아요 무엇보다 현금처럼 쓸수 있는 쿠폰주는거..👍🏻❤\\n제가 에이블리에서 오늘 나눠주는 쿠폰 사전 예약을 했는데 쿠폰이 아직 안 와서요ㅠㅠㅜㅠ 저 카톡까지 받았는데ㅜㅠㅠㅜㅜ\\n혜택 많고 옷 이쁜거 많아서 좋은데 배송 너무 느리네요\\n무료배송이라 부담없이 쇼핑할 수 있어서 좋아요.\\n여기서 맨날 옷사여~~♡ 감사합니다!!! 덕분에 옷을 잘 코디할 수 이써여\\n무료배송에 저렴하네요 배송만 더 빠르면 좋겠어요\\n다양한 소품및 의상을 한눈에 볼 수있어 좋아요\\n별4개 줍니댜.. 이유는 좋긴좋치만 자기가 원하는 것들..예로 방탄 굿즈가 많이없다는 점 입니댜.. 다른점은 다 좋아용!! 옷도 예쁘고 가격도 원하는데로 맞쳐서 살수있어서 좋아요❤\\n좋아여~매번 신상이 새롭게 많이 업데이트됐으면 좋겠습니다\\n그 찜 한 상품 서랍 만드는거 있잖아요 그거 위치 옮길 수 있으면 좋겠어요ㅠ\\n다 좋은데 옷 사이즈가 거의 다 프리여서 제 키준에서 큰 옷들이 많아요\\n시각효과 좋아요\\n가격도 착하고 종류도 많아 좋네요~~^^\\n다 좋은데 쿠폰 여러가지를 한번에 쓸수있게 해주세요...ㅠㅠ\\n저렴해서 너무 좋아요 학생이 쓰기 딱 좋은거 같아용\\n옷도 예쁘고 편의점 결제 너무 좋네용🤭\\n스타일 란에 유튜브 영상 어디갔나여ㅠㅠ 코디,룩북보고싶은데 유튜브로 가야하나여 이제ㅠㅠ\\n처음 구매해봅니다 좋으면 자주애용해볼라구요~^^번창하세요\\n신속하고 편리하고 저렴해요.\\n한번에 볼수 있어 좋아요~^^\\n여러 상품을 한번에 볼수 있어 좋아요\\n와 짝짝짝 편의점 결제로 저 같은 초딩도 구매하게 해 주셔서 증말 감사합니다!\\n처음시켜서 아직 모르겠지만 괜챃은것 같아요\\n사이트터짐?접속이안되요 광고는계속오는데...\\n예쁜옷이 많아요\\n생각보다 되게 괜찮네요.\\n빅사이즈도 이쁜옷있었으면 좋겠어요\\n처음 사용인데 만족할수 있는 결과 기다려요~~\\n배송이 대부분 느려요ㅠ\\n좋아요 쿠폰도 자주 주시고 이쁜 옷도 많고 케이스도 많고\\n좋아요 다 좋은데 카드결제에 왜 농협은 없어요?\\n다 좋은데 쿠폰을 물건을 살때 좀 더 쓸 수 있게 해주세요\\n정말 잘 사용하고 있는데, 상품정보 바로 옆이 리뷰가 아니라 연관 상품이라 조금 불편해요. 제품을 볼 때 연관 상품보다는 리뷰를 먼저 보는 분들도 많고요. 연관 상품을 전처럼 아래로 옮기든 리뷰 다음으로 넘기는 쪽이 훨씬 편할 거 같아요:)\\n비교하기 좋네요 굿\\n무료배송 좋다\\n예쁜물건 무료배송이 많아 좋네요\\n첫구매 기억이 안좋지만... 잘 사용하고있어요\\n쇼핑하기 편해요\\n다 좋은데 리뷰 작성하고 포인트 언제쯤 들어오는 지 궁금합니당\\n오늘처음봤는데,나름만족해요.\\nㅈ ㅓ는 ㅈㄱㅈㄱ보다 에이블리가 더좋아요♡\\n굿 좋아요 지금까지 아무 문제없이 잘 사용중!\\n다양하고 저렴한 제품들 굿굿\\n다좋은데 너무 느려요...ㅠㅠㅠ\\n합리적 가격 괜찮네요\\n주문한 상품이 와서 리뷰를 쓰고싶은데 왜 상품이 도착했다고 뜨지 않는걸까요,,,배송조회를 보면 한참 걸리는 지역에 있고,,,오늘 뿐만 아니라 다른 물건들을 시켰을 때도 배송온지 한참됐는데도 몇 시간 지나거나 한참있다 도착했다 뜨고 🤦\\u200d♀️🤦\\u200d♀️\\n옷이 다양하진 않지만 만족해요\\n주문한 물건은 잘 왔는데 배송 보낼 때 전화번호 좀 제대로 입력해주세요; 번호가 한글자씩 바껴서 배송 연락이 다른 분한테 가가지고 그 분이 불편하셨다고 기사님께 한소리 들었어요 제가 주문할 때 번호를 잘못입력했나 싶어서 주문내역 보니까 그것도 아니고요\\n아이들이 좋이해요~~\\n좋아요 찿기편하구요\\n쓰기편해요~\\n일단 키랑 연령을 선택할수있어서 편리한거같아요. 항상 어떤 옷을 입을지 고민을 많이 했고 맘에 드는 옷도 별로없었는데 에이블리에는 제가 맘에 드는 옷이 많아서 생각보다 괜찮은거 같아요.\\n가끔~ 하트가 안 눌러져요\\n쇼핑하기좋아요\\n사용하기 편리하네요\\n딸아이 옷 사기 좋네요.\\n틱톡추천으로 에이블리 깔아봤는데 역시 좋기는 좋더라고요👍옷도 예쁘고 배송비도 없고,무엇보다 편의점 결재가 굿입니다! 강추에요.(되지 않는 곳도 있어요)\\n상품찾기가 좋아요\\n처음 써보지만 나쁘지 않은 앱인 것 같습니다.\\n여러가지 쇼핑앱을 검색할수 있어서 좋은거 같아요\\n무조건 무료배송 좋네유\\n딸이 좋아해요\\n지금껏 좋았는데 갑자기 모든 상품에 대한 상품 설명 부분이 다 안 보여요 리뷰나 다른 옷 추천은 다 뜨는데 하얀 화면만 뜨고 안 보이네요 뭐가 문제일까요ㅠ\\n저는 이앱 정말 좋네요☺ 사람마다 다르겠지만 저는 정말 사용하기가 편합니다 제품도 다양하고 가격,색깔 등 키워드도 정말 편합니다.\\n만족하며 사용하고있어요\\n제가 에이블리에서 100만원이나 지른 이용지입니다 ㅎㅎ 그 계정은 이미 날라갔지만..ㅎㅎ 에이블리에서 리뷰를 쓰고 유용한 댓글이였다면 좋아요를 누르곤 하는데요, 구매자분께 물어보는거 솔직하게 듣고싶어요..! 답글기능이 생겼으면 좋겠습니다 답글기능이 생기면 사기도 덜 당하고 제가 원하는걸 살 수 있을 것 같아요! 100만원 중 20만원은 사기당했거든요ㅜㅜㅜ 꼭 생겼음 합니다! 긴글 읽어주셔서 감사합니당😊\\n엄청 잘 쓰고 있는데 어제부터 갑자기 안 들어가저요. 그리고 회원 정보 수정 하려고 하는데 계속 웹페이지를 사용할 수 없다고 떠요.\\n재고 남은 상품과 품절된 상품 분리하는 기능하고 카테고리 선택할 때 두 개 이상 선택할 수 있는 기능이 생겼으면 좋겠네요😃\\n제가 총 결제한 결제금액은 240800원인데 앱에서는 134530원이라고 나오네요. 뭐죠?\\n딸 옷 고르기 좋아요\\n좋아요 계속 쭉!~~~이용할것갇네요\\n잘 쓰고 있어용 근데 배송 업뎃이 좀 빨랐으면 좋겠네요 배송 조회도 정확히 안 되고 상품 받은지 꽤 됐는데도 배송완료가 안 떠서요8ㅁ8 받자마자 리뷰 쓰는 거 좋아하는데 배송완료 처리가 엄청 느려서 불편합니당\\n에이블리는 찜하는 곳을 여러 서랍으로 나눌 수 있고 할인도 해주고 배송비 계산 안 해도 그대로 가격 딱 보이는대로 볼 수 있으니까 좋아요 아쉬운 점은 사이즈가 딱 정해져 있어요 가끔 아닌 곳이 가끔 있지만 완전 그냥 오버핏이나 아예 S만 있거나 한 곳이 많더라고요 키가 작으신 분들이 사용하면 좋을 것 같네요 두 번째는 사이즈에요 사이즈가 보통 맨 밑에 있어서 죽죽 내려야 하는데 한 번에 내리는 것도 없고 비슷한 사진만 엄청 많아서 내리기 힘들고 기껏 내렸는데 사이즈가 안 써있으면 위로 올라가서 작고 긴 소개글씨 다 잀어보면서 사이즈 찾아야하는 게 너무 불편하네여\\n좋은데요 건의드리고싶은게있어요 마켓자체에 들어가는것은 안되나요 ? 마켓에서 예쁜걸봐서 에이블리 앱으로 구매하려니까 찾기가 너무 어려워요 제발 마켓자체사이트도 연동되게해주세요 ㅜㅠㅠㅜ\\n앱 처음 들어가면 뜨는 팝업? 창? 그게 ×표시 눌러도 안 꺼지고 그런데 좀 고쳐주세요\\n다 좋은데 리뷰 쓴 후 포인트 적립까지의 시간이 너무 길어요.. 바로 사용하고 싶은데 며칠 이상 걸리니까.. 타 앱은 20분 안에 정립되는데 조금 답답해요.\\n옷의 질좀 높여주세요.. 그리고 10대 학생들이 입을수 있는 옷좀 많이 노출시켜 주세요. 2~30대 옷들밖에 안보여요..\\n좋아요~ 근데 키랑 몸무게별로 리뷰 볼 수 있는 기능 생겼으면 좋겠어요. 그리고 특정 마켓 블락하는 기능도 생겼으면....무료배송 개죠음\\n리뷰수정에 오류가 많은듯합니다 사진수정이 추가는되는데 삭제는 안되네요 아마 리뷰인증 포인트 수령 때문인 것 같은데 검수하는과정에서 이런건 해결 안되나요?\\n배송빠르고 좋아요\\n문상 결제가 생겼으면 좋겠어요\\n안녕하세요!! 에이블리 정말 잘 쓰고 있는데 그 키작은 순, 키큰 순 이런것두 있으면 어떨까 싶어 4개 드려요 앞으로도 좋은제품 많이 부탁드려요!!!\\n진짜 다 좋은데 필터에 계절감도 넣어주셨음 조케써유ㅠㅠㅠㅠ 그거 빼고는 정말 다 좋씀다\\n옷도예쁘고 악세사리도 예뻐요\\n다른건 다좋은데 진짜 크림치즈마@에서만 사지 마세요 사진 어떻게 찍는지 모르겠지만 진짜 색감 사기급이고요 가격에 비해 질도 떨어집니다\\n평소에 잘 사용하고 있어요! 예쁘고 저렴해서 자꾸 결제하게 되네요ㅎㅎ 무엇보다 모든 상품이 다 무료배송이라 너무 좋아요!!\\n좋아요 이쁜옷들도 많고요\\n정말 좋습니다! 전체적으로 옷들이 너무 이쁘고 없는옷이 없고 상품이나 후기등등 보기도 편하고 앱이 복잡하지 않아서 정말 편리하고 유용하게 쓰고있는데 하나 아쉬운 점이 있다면 상품을 가격별로 본다거나 저가순 고가순 이렇게 설정할 수 있는 시스템이 없어서 조금 아쉬운 점이 있습니다. 그래도 제가 다른 앱들을 사용하면서 느낀거지만 이 앱이 가장 좋고 편리한 것 같습니다! 갠적으로도 아주 애용하는 앱이기도 하고요 만약 원하는 옷이나 갖고싶은 옷이 있으시다면 주저하지 말고 다운해보시기를 진심으로 추천드립니다!\\n음..검색결과가 그제품만똑바로 만나옴더좋을듯 너무다른거랑 섞여서 볼게많음 그거빼곤다좋아요 20.30만원이상 쿠폰도있었음좋겟음\\n좋은상품많네요\\n다좋은데 \"언니가 간다에서 얼음 벨트슬랙스\"추가 좀 해주세요ㅜ 이거 사고싶은데 에이블리에선 없네요ㅜ 이 글보신다면 꼭 넣어주시길..\\n특정 마켓에 들어갔을때 옷 보기가 너무 불편해요 카테고리순으로 있는게 아니라 가격순, 인기순, 신제품순 밖에 없어서 웹사이트에서 본 마음에 드는 제품을 찾기위해 하나하나 스크롤 내려가면서 찾아야해요 ㅠㅠ 마켓 내 검색기능도 없고.. 이 부분만 개선된다면 더 좋을 것 같습니다 !! 감사해요\\n옷도 이쁜거 많고 배송비도 무료여서 좋은데 무통장 입금할 때 불편해요 atm기로 입금하려면 적어도 천원단위로 입금이 가능한데 vip가 되거나 만원,천원단위로 떨어지지 않고 백원단위 씩으로 된 옷들은(ex 12900) 입금할 때 포인트를 쓰지않는 이상 입금하기가 너무 불편해요 여기서 더 많이 넣으면 입금확인도 되지않고 직접문의를 해야돼서 다소 번거로워요 무통장 입금을 할 때 백원단위로 된 옷들은 (ex 12900)->(13000)으로 입금해서 백원은 예치금등으로 적용되는 사이트들도 있던데 최대한 반영될 수 있으면 좋겠어요\\n다른 곳 보다 옷들 가격이 저렴해서 잘 쓰고있습니다. 근데 편의점 결제를 할때 환불계좌를 적는걸 선택으로 해주셨으면 좋겠어요. 편의점 결제를 이용하는 사람들은 계좌가 없는 학생들이 대부분 일텐데 환불계좌를 적으라고 하니 조금 불편하긴 하네요. 환불계좌를 안적으면 포인트로 환불을 해주는 등으로 바뀌었으면 좋겠습니다.\\n배송비 무료인 게 짱입니다.. 할인도 많이 돼서 이 가격에 이 많은 옷을 살 수 있다는 게.. 스타일 추천만 봐도 저 같이 옷 못 입는 사람도 예쁘게 코디해서 입을 수 있어서 좋아요! 개인 쇼핑몰이라서 배송이 쪼오끔 느리다는 게 단점이라면 단점이지만.... 지그재그 쓰다가 에이블리 쓰는데 에이블리가 더 좋아요!!\\n무료배송이 좋아요!! 근데 (1)어떤 마켓에서 예전에 업뎃된 상품을 검색하거나 (2) 한 마켓 안에서 \\'블라우스, 바지,,\\' 와 같이 분류해서 보는 방법은 없나요?ㅠㅜ 계속 뒤로가기해서 상품을 찾는 것은 힘들어요 (›´ω`‹ ) 아 또 (3) 사이트 들어가면 보이는 상품이 에이블리에는 안떠요 원래 모든 상품이 안 뜨나요??\\n좋아요. 예쁜 옷도 많고. 그런데 한 가지 아쉬운 점이 있어요. 추천 상품? 에이블리 들어가면 가장 처음에 나오는 화면 있죠, 그게 좀 아쉬워요. 제가 원피스만 보면 원피스 밖에 안뜨고, 폰케이스를 봤더니 폰케이스 밖에 안뜨네요;; 일부러 옷 검색하고 그렇게 했어요.. 좀 여러가지로 섞어서 선택해주시면 정말 단점 없는 앱 될것 같아요!\\n에이블리는 정말 좋은 앱이에요! 허나 좀 아쉬운게 있다하면.. 사이즈를 필터링 못한다는거에요..ㅜ 저같은 통통러들은 사이즈를 봐야하는데, 사이즈표도 아래에 표기되어있는 경우가 많아서.. 후기, 검색 에서에 필터링에 추가해주시길 바랄게요!!ㅠ😭😘\\n가끔 가다가 옷이 불량이라는 리뷰가 있어서 살까 말까 상세한 고민이 많이 되요ㅠㅠㅠ 가격도 좋고 디자인 예쁜 옷도 많은데 리뷰가 부족한 거랑 불량적으로 배달 온 옷에 대해 알려주시면 제품을 구매하는데 더 합리적인 선택을 할 수 있을 거 같아요!!\\n보기 편리해서 좋아요 ^!^ 여러 기준? 으로 분류해서 상품을 볼 수 있다는 점도 좋은데 폰케이스 구매할 때도 원하는 기종의 폰케이스만 볼 수 있게 해주시면 좋을 거 같네유,,, 제 기종인 갤럭시 a8 2018이나, 다른 기종도 찾기 어려워서용 ㅠㅠ 앱 너무 편리하고 잘 쓰고 있습니다\\n에이블리 너무 좋은데 몇 가지 추가할 기능 건의하고 싶어서 리뷰 써요. 1. 특정 마켓의 특정 상품을 검색할 때 상품 이름이 다들 비슷해서 찾기가 어렵습니다. 상품이름 옆에 마켓이름을 추가해서 검색해도 상품이 떴으면 좋겠어요. 현재 불편한 예시) 양털 자켓--> 너무 많이 뜸 Xx마켓 양털 자켓--> 안 뜸 2. 특정 마켓 안에서 따로 상품 검색이 가능했으면 좋겠어요. 3. 하단바에 홈, 스타일, 마켓, 찜 등이 있는데, 그 화면에서 버튼을 한 번 더 누르면 맨 위로 올라갔으면 좋겠어요. 다시 올리기가 힘들어요. 4. 3번과 비슷하게 올리고 내리기가 힘들어서 앱 내에 스크롤바가 생겼으면 좋겠어요. 5. 찜한 상품을 전체 상품 + 카테고리별 상품으로 나눠서 볼 수 있으면 좋겠어요. 6. 찜한 상품 화면에서 선택해 한꺼번에 장바구니에 넣을 수 있으면 좋겠어요. 꼭 부탁드릴게요. 감사합니다.\\n이제 막 가입 이용해볼께요\\n빨리 품절되고 상품재입고 하는데 시간도 걸리고 배송도 늦어지는 일이 잦았던 것 같아요. 그것 빼곤 만족합니다. ++최근에 든 생각이라 수정합니다. 리뷰 남길 때 구매자들이 자신이 산 사이즈 같은걸 안적으시는 경우가 많아서 사이즈 생각해야하는 경우에 너무 결정하기 힘들더라고요..ㅠ 그래서 리뷰 남기는 양식을 좀 더 체계적이고 구체적으로 해서 자신이 산 사이즈도 기입할 수 있게 해주시면 좋겠어요!\\n매우 만족해요. 공구도 잘 열리고 에이블리 이용하면 가성비가 좋습니다. 그래도 인터넷으로 제품 검색해보면 인터넷가 (최저가) 더 싼 경우도 (자주.. 많이) 있어요 아무래도 에이블리는 하나만 사도 무료배송이라는 특징이 있어서.. 그런부분은 어쩔수없지만 그래도 하나만 사도 무료배송인것도 특별한 장점! 옷들도 다 예쁜것들 나오고 잘 쓰고있습니다:)\\n무료배송이지만 모든쇼핑몰이 그것을 감안하고 가격을 배송비 플러스해서 받네요 ㅠㅠ 하지만 타 쇼핑몰 앱보다 더 많은 상품들이있어 하나를 찾을때도 비슷한옷인데 가성비좋은옷들을 쉽게찾을수있어 좋아요 스트레스 받을때 옷 쇼핑하고 담아두면 얼마나 좋게요..?\\n여러 쇼핑몰을 모아놔서 앱 자체는 쇼핑하기에 되게 좋은데 몇몇 상품들을 구매하려고 옵션버튼을 누르면 아예 하얀 화면이 떠버리고 선택이 안됩니다. 다른 마켓이나 같은 마켓의 제품들은 다 선택이 되는데 안되는 상품들이 종종 있었어요ㅠㅠ 혹시 싶어서 앱도 다시 지웠다 깔아봤는데 전혀 안되네요..이런건 좀 개선해주세요ㅠ 그것때문에 못사고 있는 것들도 있어요..\\n정말 애용하고 있는 앱입니다!! 하나 사도 무료배송인거 너무 좋아요! 다른 쇼핑몰 앱과 비교했을 때도 깔끔한 디자인이라 보기 편할 뿐더러 리뷰 올리면 주는 포인트 덕분에 사람들의 후기도 많아서 물건 사기 진짜 편한거 같아요! 딱 두가지만 개선해주시면 별점 5개 드리겠습니다!! 첫번째는 상품 정렬방식에 색깔을 추가해주시면 좋을거 같아요. 지금의 정렬방식은 원하는 상품은 찾을 수 있어도 원하는 색상의 상품은 찾기 힘들다고 생각합니다! 두번째는 후기 리뷰를 사이즈 별로 볼 수 있게되면 좋겠습니다! 구매자분들의 신체치수가 다양해서 본인과 가장 알맞는 치수를 찾기 힘든 것 같아요!!! 이 두가지만 개선해주시면 저에게는 완벽한 어플인 것 같습니다! 좋은 답변 기다리겠습니다!\\n다 프리사이즈여서 키작은사람들은 거의 입을옷이없고 가끔가다 150ver 160ver 있어서 그것만사야해요 가격은 너무좋고 기모옷도 많고 좋아용\\n모든 제품의 상세정보가 안떠요. 그냥 흰 화면으로만 떠요. 더보기 눌러도 그냥 흰 화면으로 뜹니다. 와이파이, 데이터로 해도 똑같고 삭제했다 다시 깔아도 똑같아요. 해결좀요~ 보니깐 저만 그런게 아닌것같네요\\n정말 이쁜옷들만 모아놔서 진짜 좋은데요 ㅜㅜ 사진이 너무 부족한것같아요.. 가디건 색이 너무 이뻐서 들어가봤는데 가디건을 바지 안에 좀 넣어놨더라구요 그래서 길이가 얼마나 되는지도 모르겠고... 활동적인 사진이 없어서 리뷰를 봐야 현실핏을 알 수 있고 ....음 ... 여러모로 불편해요.. 고쳐주셨음 합니다!\\n요즘 쇼핑할때 잘 쓰고있는 앱이에요! 무료배송인 것도 좋고,가격도 대체로 저렴한 편이라 애용중입니다 ㅎㅎ 다만 한가지 아쉬운점은 리뷰를 볼때 키,몸무게 등 사이즈별로 리뷰를 볼 수 있는 기능이 생겼으면 좋겠어요. 제 키에 맞는 리뷰를 보려면 시간이 걸리니까요ㅠㅠ 그 외에는 만족하며 쓰고 있습니다! :)\\n저는 너무 만족스러워요!! 살집이 있는편인데도 옷 찾기도 쉽고 배송비가 아까운경우가 많았는데 에이블리는 배송비가 무료여서 더 좋아요 예쁜물건들도 너무 많고 악세사리도 너무 이뻐요 가격도 혜자스럽고 너무 좋아요 옷도 질이 다 좋아요!! 다만 문제라면 앱에 오류가 가끔씩 뜨는거..?그래도 한달에 1번?도 안되게 떠서 큰 문제는 없어요!!\\n전체적으로 괜찮아요 전 제품 무료배송이고 1000할인 쿠폰도 자주 날아오고.. 물론 몇 만원 이상 사야 쓸 수 있는 쿠폰들이지만 무료배송이니 이해할 수 있어요. 다만 아쉬운 점은 검색란에 원하는 옷 검색을 한 후에 가격이나 스타일, 색깔 등을 지정할 수 있다는 건데요. 검색을 안하면 이 기능을 쓸 수 없어요. 검색하지 않아도 그런 캍0고리 지정할 수 있었으면 좋겠어요. 옷들은 내가 잘 골라 사면 다 괜찮은 거 옵니다. 추천!\\n상품 상세정보에 맨 위로 가는 거 말고도 \"맨 아래로 가는 기능\"도 있으면 좋겠어요 저는 실측 사이즈 먼저 보고 그 다음 디자인을 보는데 사이즈 보려면 수동으로 계에에에에에에속 내려야해요 그러다보니 진짜 맘에 들지 않는 이상 귀찮아서 그냥 나가는 경우도 많아요 개선해주시면 감사하겠습니다!\\n무료배송이고 여러 쇼핑몰 옷을 한 번에 볼 수 있어서 참 좋은데 스크롤을 아무리 내려도 똑같은 옷들이 계속 나와서 짜증 날 때가 많아요. +정확히는 카테고리에 원피스든 아우터든 들어가서 내리다보면 어느 순간부터 같은 옷들이 반복 됩니다. 검색하면 안 그러는데 카테고리로 들어가기만 하면 그러네요.\\n환불 계좌 없애주세요 ㅠㅠ\\n찜 기능이 아쉬워요. 찜한 상품들을 종류별로 서랍에 나누어 보관할 수 있는 점은 아주 좋아요! 하지만 아쉬운 점도 있네요. 일단 상품을 찜 목록에 추가할 때 기본 서랍을 제외하고 5개밖에 안 떠요. 이 부분은 오류인 것 같은데 빨리 고쳐주셨으면 좋겠습니다.ㅠㅠ 그리고 기본 서랍은 이름도 고칠 수 없고, 삭제할 수도 없는 점이 아쉬웠습니다. 삭제가 안 되는 점은 이해가 되지만 서랍이름은 바꿀 수 있게 해주셨으면 좋겠습니다.\\n무료 배송이고, 결제가 편리해서 너무 좋습니다. 하지만 너무 많은 쇼핑몰들이 입점되어 있어 혼잡한 것 같습니다. 인기순으로 나열하여 정렬했을 때도 옷이 정말 많다보니 진짜 옷의 질이 좋아서 인지 싸서 많이 산건지 구분이 잘 안갑니다.. 신뢰도가 떨어져요 또한, 질 좋은 쇼핑몰이 입점했을 경우 기존 쇼핑몰이 섭렵하고 있어 찾아보기란 사막에서 바늘 찾기 같습니다ㅠㅠ,, 비슷비슷한 느낌의 옷에, 쇼핑몰은 수십개가 되니깐 인기상품 뜬거만 봤을 뿐인데도 지치네요.. 인기 상품보다 스타일을 고려한 추천이 간절합니다ㅠㅠ\\n여기서 옷을 샀을 때 성공확률이 높아요! 정말 다 좋지만 배송만 빨라지면 진짜진짜 이것만 쓸 정도로 좋아요. 타사의 하루배송을 이용해보니 배송이 빠른게 정말 큰 장점으로 다가왔습니다. 그래도 제가 직접 가서 옷을 구매한 것 보다 더 마음에 드는 옷을 구매할 때도 있어서 만족스럽습니다. 리뷰도 체형을 보면서 볼 수 있다는게 너무 좋네요. 좋은 앱 만들어 주셔서 감사합니다😀 배송만.. 제발 제품만 빨리 받을 수 있다면 정말 엄청날것 같네요+++추가로 체형별로 선택해서 그 리뷰만 볼 수있게 되었으면 좋겠어요! 저랑 비슷한 체형을 찾으려고 계속 스크롤을 내리느라 옷 사는걸 포기해버릴때도 있어요..😂\\n에이블리가 간편하게 내가 보고싶은것을 골라서 가격도 내리고 올리고 할수도 있고 또 다른것은 색상도 내가 보고싶은것만 볼수있어서 항상 간편하게 느껴져서 너무 좋은것같아요. 여러개도 사봤지만 배송도 그렇게 늦게 오는 편도 아니라서 너무 쉽게 사는것같아서 더더욱 좋아요.ㅎㅎ\\n개인적으로 되게 좋았어요 (무료배송에 쇼핑몰(?)이 달라도 한번에 결제가 가능하다는점??) 근데 문제는 아직 들어온 쇼핑몰이 적어서인지 상품이 아직 다양하지는 못한거같고(상대적으로) 그래도 그 안에서 예쁜 옷도 많아서 나름 만족중입니다 ㅎㅎ 결제하기 편한게 강점~ 회원가입도 한번하고나면 다른 사이트마다 할필요도 없구요 나중에 더 커지게 된다면(?) 더 다양한 옷이 들어왔음 좋겠어요\\n*무료배송이라는 점이 가장 큰 장점. *위와 같은 장점 때문인지 가게마다 기본적으로 배송가능한 가격대가 있어서 막상 주문하려고 보면 금액이.....ㅎ *같은 제품도 가격대가 가게마다 다르므로 많이 돌아다녀봐야 함 (네**쇼핑 같은 곳은 같은 제품을 파는 곳과 가격을 한 눈에 비교가능한 것이 간혹 있던데 그런 장점이 있다면 더 좋을듯함) **다른 건 몰라도 이것만은 꼭 개선 했으면 하는 것-> 검색 필터에서 카테고리 선택할 때 여러가지 복수 선택이 가능했으면 함.. ex)상의, 맨투맨+후드 (상의 선택 후 맨투맨 따로 후드 따로 검색해야 하는 것이 번거로우며 두 디자인의 가격대 비교 후 선택이 다소 힘듦. 또한 현재 겨울 계절인 만큼 반팔제품만 제외하고 보고싶을 때가 있는데 그럼 각각 한 개씩밖에 선택이 불가해 불편할 때가 있음...)\\n저렴하긴한데 검색시 관련없는게 넘 많이 나옴 아 글고 후기에 만족/ 별로 말고 \"보통\" 옵션 만들어주심 안되나요? 후기 쓰려할때 늘 너무 극단적으로 옵션이 두개뿐이라 좀 그래요 대만족은 아니지만 그렇다고 별로도 진짜 아닌데 늘 고민함..\\n앱 자체는 무료 배송인것..등등 너무 좋아요 근데 만약 폰케이스를 사러 들어갔는데 제 폰 기종이 없더라구요 역시 ...ㅜㅜ 너무 슬픕니다 혹시 기종이 더 많이 있다면 다양하게 하는것도 나쁘지 않을 듯 하네요 아이폰 살 때 다시 와서 쇼핑하겠습니다 ㅠㅠ\\n옷도 많구..가격,키,연령대 등등 다 좋은데 결제할때 불편한게 있네용..ㅜㅠ\\n에이블리 너무 좋아요 !! 옷도 이쁘고요 근데 컴퓨터 쇼핑 유저들은 결제하기가 너무 어려운것 같아요 ㅜㅜㅜ 앱으로만 결제 가능해서 그점 개선 돼면 좋겠어요 ~ 그래도 옷도 이쁘고 가장 중요한것 ! 무료배송 짱입니다 ㅜㅜㅜ 에이블리 잘돼면 좋겠네요 :) 그렇지만 앱으로만 결제 가능한 점 고쳐주세요 ㅠㅜㅜ\\n모델 착용샷에서 같이 입은 옷들 정보도 있었으면 좋겠어요 이 기능 추가해주셨으면 해요!\\n배송빠르고 옷도 괜찮아요. 후기가 더 많았으면 하고 상세보기나 후기를 보려면 \\'더 보기\\' 버튼을 자주 눌러야해서 불편해요. 한 화면 안에 스크롤만으로 다 볼 수 있었으면 좋겠어요.\\n요즘 애용하는 쇼핑몰 앱이에요:D 좋은 점은 모든 옷이 무료 배송이고 여러 이벤트와 할인이 많다는 것이에요.단점은 쿠폰 유효기간이 길지 않다는 점 같아요.그리고 배송이 조금 느리다?그 정도 같아요!\\n다양항 쇼핑몰들을 한번에 볼수 있어서 편리하고 이벤트나 포인트가 많아 좋아요 😀 다만 배송정보표와 제가 물건을 받는 배송일이 너무 다르고 ( 일주일 이상으로 걸려서 받게 되는데) 막상 거기에는 최대 4일밖에 안뜨고 그 이상으로 받은 고객들이 있음에도 확인할 수 없어 불편합니다.. 배송일이 오래걸릴 수도 있을을 알고 주문하는거랑 모르고 주문하는게 고객입장에서는 다르건든요.. 5일 이상으로도 표시되도록 개선부탁드립니다\\n로그인이 좀 많아서 귀찮고 어려웠어요 곱창머리끈 구매하고 싶어서 깔았는데 아직 오지 않았지만 마음에 들면 좋겠습니다~ 50개에 구천구백원(9900원)인데다가 무료배송이여서 가격만은 완전만족입니다!\\n무료배송이라는게 정말 좋은것같아요!! 다만 아쉬운건 검색창에 상품을 검색해야지 가격대,색상 등을 설정할수있다는게 불편해요ㅠㅠ 검색말고 그냥 카테고리로 찾아봐도 가격대, 색상을 설정할수있었으면 좋겠어요\\n다 좋은데 마켓 차단 기능은 없나요?ㅠㅠㅠㅠㅠ진짜 크림치즈마켓 볼 때 마다 화 나고 보고싶재도 않은데 에이블리 마켓 1위이다 보니 자꾸 화면에 뜨더라구요ㅠㅠㅠㅠ진짜 크림치즈마켓은 믿고 거르세요.. 에이블리 고인물들 사이에서 가장 혐오하는 마켓 중 하나입니다 궁금하시면 유튜브에 쳐 보시길... ㅈㅂ 마켓 차단 기능 좀 만들어주세요ㅠㅠㅠㅠㅠㅠㅠㅠ\\n에이블리 잘 사용하고 있는 사용자 입니다 :) 이 앱의 옷들이 너무 이쁘고 스타일도 다양해서 좋은데요 ..!! 제가 키가 좀 작습니다 ㅜㅜ 그래서 모델에 비하면 옷이 너무 커서 스타일이 마음에 들어도 입지 못하는 옷이 많습니다 .. 그렇다고 사이즈가 많이 있는것도 아닙니다 . 딱 Free 사이즈 한 개 밖에 없어요 .. 오버핏이라 좋긴한데 몇개는 사이즈가 너무 큽니다 .. 스몰 사이즈도 준비해 주셨으면 좋겠어요 ㅠㅜ 그런 의미에서 별 4개 드립니다 !! 그래도 배송은 빨라서 좋아요 ㅎㅎ 리뷰도 많이 남겨져 있어서 믿고 살수 있어요 . 감사합니다 ㅎㅎ\\n원하는 옷 찾기도 수월하고 다양하게 있어서 좋은데, 간혹 가다가 상세 사진이 부족한 경우가 있어요. 옷의 디테일을 좀 더 꼼꼼히 보고싶은데 그렇지 않은 마켓들이 있어서 아쉬워요. 그리고 투데이에 비슷한 옷들만 나와서 그점도 조금 아쉬워요! 상담이랑은 친절하셔서 좋습니다. 가격비교하고 같은제품 찾기 제일 좋아요\\n여러 쇼핑몰 비교하기 좋고 리뷰도 다양해서 좋아요. 게다가 자기 사이즈, 키에 따라서 검색할 수 있는 기능도 있어서 좋았어요. 그런데 리뷰 볼 때 자기랑 비슷한 체형의 사람의 리뷰를 찾고 싶은데 체형에 따른 리뷰 검색도 됐으면 좋겠어요.\\n에이블리에서 세 번 정도 구매했는데 다 만족하고 있어요! 그런데 원래 사이트에서 사면 배송비가 비싸서 상품 업데이트될 때까지 기다리고 있는데 한참 걸릴까요? 9월 이전에는 와야 할 텐데ㅠㅠ 크림치즈마켓 업데이트 기다리고 있어요...\\n여러므로 다 좋은데 옷을 할인할때 언제까지 할인하는지 표기 되있으면 좋겠어요😄 사고 싶은 청자캣이 있는데 40000원에서 28000원으로 할인을 하는거에요 아직 사긴 그런데..지금 안사면 나중에 비싸게 사야하고..아무튼 그래서 표기가 되어있으면 편할것 같아요\\n여러제품을 한번에 배송비 없이 구매할 수 있어좋습니다. 다만 한 가지 개선점이 있다면 후기를 3개월 이내에만 쓸 수 있다는 점입니다. 저는 후기를 3개월 이내에 써야 한다는 사실도 몰랐고 제품을 사용하다보니 불편한점이 생겨 다른 소비자들이 알았으면 좋겠다는 생각에 리뷰를 쓰려 했으나 쓰지 못했습니다. 5개의 상품을 구매했는데 단 한건도 리뷰를 작성하지 못했습니다. 네이버같은 경우 한달이 넘어가 리뷰를 작성하면 한달 사용자로 분류하여 오히려 신뢰를 주는 리뷰로 판단 하게 합니다. 네이버 외에 다른 쇼핑앱들도 리뷰작성기간에 제한을 두지 않습니다. 리뷰는 제품을 살지 말지 판단하는 데 소비자들에게 있어 큰 부분이며 판매자에게는 제품의 보완점등을 제시함으로서 긍정적 영향을 주니까요. 제가 제 시간을 할애하면서까지 이렇게 긴 글을 쓰는 이유는 기간을 제한하여 리뷰를 작성하는 것이 불합리적이며 불편해서입니다. 리뷰작성은 사용자의 권리입니다. 이런 점이 꼭 개선되었으면 좋겠네요.\\n일단 이 앱의 가장 큰 장점이자 다른앱과의 차별점이 여러마켓의 옷을 한꺼번에 결제할 수 있고 무료배송이라는 점! 이러한 점이 편리하다보니 계속 이 앱을 쓰게 되는 것 같아요. 쿠폰도 자주 주시는 편이고. 더 많은 쇼핑몰들이 포함된다면 더 좋을 것 같아요. 다만 무통장입금 후 결제완료까지 시간이 지체되는 부분이 좀 당황스럽더라구요. 또 배송전에 옵션 변경할 때나 환불이나 교환을 원할 때 글을 하나하나 써야한다는 점이 불편한 것 같아요. 그리고 리뷰 작성자 실명이 공개되는 점은 보안되었으면 좋겠어요 김*희 이렇게만 나타나게 하거나 처음 입력했던 이메일 주소 중 일부를 보여주게 한단던가 하면 더 좋을 것 같아요.\\n진짜 딱 하나 말고는 진짜 완벽하구 이쁜 옷 앱인데여 ㅠㅠ 일단 여기는 쿠폰도 많고 배송비가 없어서 너무 좋습니다 ! 그런데 ㅠㅠ 이번에 편의점 결제 덕분에 나아지긴 했는데 결제 방법이 좀 더 다양했으면 좋겠어요 ㅠㅠ 학생이라 신용카드 이런걸 못해서 늘 아쉬웠었거든요 .. 네이버페이나 카카오페이가 추가되었으면 좋겠습니다 ㅠㅠ 근데 여기 징짜 이쁘고 좋아요 !!\\n리뷰 볼 때 따로 최근에 올라온 리뷰 / 나와 비슷한 체형인 이용자의 리뷰 이렇게 있었으면 좋겠어요,,, 피부에 착색된다는 것도 있는데 아직도 그러는지 궁금하기도 하고, 특히나 바지살땐ㄴ 나랑 비슷한 체형인 사람의 리뷰를 보고싶은데 대부분 하체통통이신 분들이 많아서 슬프더라구요...\\n완전 애용하는 앱이기도 하고 이벤트도 많이하고 쿠폰도 계속 주시고 정말 잘 사용하고 있습니다! 근데 다만 추가되면 더 좋을 것 같은에 있어서 별점4점 드려요! 그게뭐냐면, 뷰티용품이나 그런 여러가지 옷제외 상품들이 더 많이 들어왔으면 좋겠어요! 그럼 에이블리에서 더 많은 것 들을 시킬수있을걱 같은데 항상 화장품이나 향수 등등 판매하지 않아서 꼭 다른 무×사 등등 으로 넘어가서 사용하게 되더라구요ㅜ 그래서 추가됐으면 좋을 것 같아융우ㅜㅜ 그리고 또 쿠폰 사용갯수를 조금 더 늘려주시면 안되나요ㅜ? 쿠폰은 넘쳐나는데 또 쿠폰 기한이 얼마안남아서 사용하려고 하면 3개중 하나밖에 사용못하니까 좀 아깝더라구요ㅜ 그래서 좀 아쉽습니다ㅜㅜㅜㅜ\\n간편하고 다양하네요\\n정말 옷 살때 에이블리 밖에 안쓰고 대부분 에이블리에서 모든걸 구매하고있습니다 ! 정밀 유용하게 잘쓰고 젛지만 딱 하나 아쉬운 점이 리뷰를 볼때 내 신체 사이즈와 비슷한 사람을 찾기가 매우 힘들어요. 그래서 리뷰에 키와 몸무게 필터를 만들어주셨으면 좋겠습니다♡\\n음.......다 너무 좋아요 진짜 무료배송은 사랑이구요❤ 근데 아쉬운점이 1.리뷰를 볼때 내 키,몸무게를 쓰면 나랑 비슷한 키인 리뷰가 나오면 좋겠습니다 2. 그리고 폰케이스같은것도 리뷰에 무슨 기종 핸드폰무슨 색상 해서 입력하면 맞는 리뷰가 나오면 좋겠습니다 3.리뷰 작성한 사람에게 댓글을 달거나 따로 1대1로 궁금한거 주고 받으면 너무 좋겠습니다 위에 부족한점들을 고쳐주신다면 진짜 너무 편리하고 인생 쇼핑앱이 될수 있을것 같습니다! 긴글 읽어주셔서 감사합니당!\\n너무 좋은데 포인트 적립이 느리고 배송조회가 도착하기 6시간쯤 전부터 안되다가 갑자기 와서 당황스럽네요 그래도 택배사에서 도착 예정시간 안내해줘서 다행이긴 했어요..이런점 빼고는 너무 잘 이용하고 있고 무료배송에 예쁜 상품도 많고 진짜 좋아요ㅎㅎ\\n배송비없고그런건 좋은데 1+1특가 이렇게 적어놓고서 실제론 그가격에1+1이 아니라는게 허위광고같고 농락하는거같아서 기분나쁘네요.. 후기보니까 다른분도 1+1인줄알고삿는데 아니여서 기분이 나쁘다고하시더라구요 그런거 안하셧으면 좋겠습니다.\\n\\'배송비가 없다.\\' 온라인 쇼핑몰에서 이보다 더 한 장점이 있을까요 또, 다른곳보다 예쁜옷도 많아서 만족스럽습니다 아직 배송날이 얼마정도 걸릴지 기대가 됩니다.\\n무료배송 모아둔 사이트라 너무너무 잘 애용 중이에요! 그런데 검색기능이 좀 문제가 있는듯하여 남겨봐요. 저는 분명 브이넥 블라우스라고 검색했는데요. 거의 10개 중 8개가 니트가 나오네요...ㅠㅠ 셔츠면 모를까. 니트랑 블라우스는 다른거니 얼른 수정이 되길 바랍니다!ㅎㅎㅠㅠㅠ\\n에이블리 잘 쓰고 있어요! 근데 찜 목록에서 서랍위치 자유롭게 변경할 수 있게 해주면 좋을 것 같아요ㅠ ㅠ 이름순이나 가나다순, 영문순도 좋고 아니면 서랍을 드래그해서 끌어다 위치를 바꿀수있었음 좋겠어요 그리고 찜 서랍에서 할인순으로도 볼 수 있길 부탁드립니다!\\n폰케이스 광고를보고 다운받아봤더니...아이폰 케이스만 너무많아요...그래서 맘에드는 케이스도못사고..갤럭시도 제발 많이 출시해주세요. 아이폰 유저도 많다지만 갤럭시, 삼성유저도 많아요..ㅠ 아이폰만 많지않다고요...ㅠㅠ 아닌가? 제가 착각인가여...ㅎㅎ 하지만 예쁜 옷, 가방도많고...가격도 대부분 다 저렴하구! 너무 좋습니다~ 솔직히 좋은점이 더 많아요^^ 많고 귀찮아서...ㅋㅋ 못쓰는거지 진쩌 좋은점이 더 많답니다^^ 에이블리 항상 파이팅!!!!!!!!!♡⁺◟(●˙▾˙●)◞⁺♡\\n상품마다 리뷰보면 사람들이 옷이랑 아무관련없는사진올리거나 리뷰쓰기화면, 모델사진 그냥 캡쳐해서 올리던데 다 포토리뷰적립금 더받으려고 그러는건가요,,?? 다 제재해주셨으면 좋겠어용 그거빼고는 어플 다 마음에 들어요!\\n체형별 카테고리를 골라서 리뷰를 볼수있게하고 옷 상세정보(밑위, 허리둘레, 전체기장 등)필터가 좀더 다양해질수있었으면 좋겠어요. 그 외에 앱이 깔끔해서 보기 편한점이 되게 좋은것같아요\\n제가 요즘에 쇼핑 할 때 많이 애용하고 있는 앱인데요 1개 살 때 무료배송이라서 너무 좋았구요 이 앱에서 여러 쇼핑몰이 담겨 있어서 에이블리만 들어 가도 다른 앱을 이것저것 들어갈 필요 없이 바로 자신이 원한 옷들을 찾아볼수 있다는 큰 장점이 있어요 또 할인쿠폰도 있고 좋아요 지금 까지 써봤지만 아직까진 단점이라곤 없는 것같아요\\n배달비가 무료라는점이 가장 좋았습니다. 또한 포인트 방식과 여러 가지을 볼 수 있어 좋았습니다. 다만 옷 스타일이 다양하지 않고 획일화 된 것이 조금 아쉬웠습니다.\\n옷 너무 예쁘고 잘 쓰는데 아직 자기계좌 모르는 저같은 학생한테는 구매할 때 \\'환불계좌\\' 입구컷 당했어요ㅠㅠ 선택으로 해주시거나 편의점 결제 도입해주시면 안 될까요?? 아니면 포인트 같은 걸로 환불액을 지급받는다던지요..!\\n젤 밑으로 한번에 가는 버튼도 만들어주시면 좋을거 같아욤. 키가 큰 편이라 길이를 제일 먼저 보는데 상세사이즈는 대부분 가장 하단에 있으니까요! 유툽이랑 연동이 잘돼있어서 편하고 재밌어요. 마켓도 많구 무료배송♡도 너무 좋구 키도 맞출수 있구 딱 보기 편하게 있어서 넘무 좋아요 좋은점 투성이네요. 버튼 추가 한 번 고려해주십셔 에이블리님 ^♡^\\n다 너무 좋아요 ㅠㅠ 그치만... 무통장입금은 직원이 없으면 하기가 어려워서 어느때나 할수있게 계좌이체 결제 수단도 있으면 좋겠어요 ㅠ 최대한 빨리 계좌이체 결제 수단을 넣어주셨으면 합니다 ㅠㅠ\\n옷을 조금씩 사는 사람들한텐 정말 좋은 어플이고 가격비교도 가능해서 개꿀 어플 이것만 쓰게된다는 장점이 있는 방면 단점은 너무 크나큰 단점이 있다 옷을 쌓아두고 판매를 하는게 아니여서 배송이 매우매우 느리다는 점 잘못하면 2주도 걸릴수있다는게 제일 큰 단점\\n배송이 늦고 당일배송 제품을 따로 보기가 없어서 불편하다\\n앱 다른 거 다 좋은데 랙이 좀 많은 것 같아요 쓰다보면 어느순간 너무 느려져서 나갔다가 들어와야 하거나, 에이블리를 사용창에 두고 다른 앱을 쓰면 그 앱도 같이 랙이 걸리더라구요 사용창에서 에이블리를 지우면 문제가 사라져요. 문제가 생기면 에이블리를 껐다 다시 키는 걸로 해결 할 수 있긴 하지만 이런 적이 잦다보니 불편해요 요새 에이블리 사용자가 너무 많아져서 서버가 불안정 한 게 원인인 것 같기도 하고요..!! 개선이 필요할 것 같아요\\n다 좋은데 옷을 입고나오는 모델 분들이 다 날씬하신데 좀 통통?뚱뚱한 모델 분들이 나와서 좀 입어주셨으면 좋겠네요 ..제가 뚱뚱한 편인데 착용샷을 보면 다 날씬하셔서 좀 뚱뚱한편인 사람이 입으면 어떤핏인지 모르겠어서 사기가 좀 두렵네요\\n너무 좋아요! 근데 140 미만~140 옷이 별로 없어요ㅜ 당연히 20대 30대가 많이 이용하긴 하고 제가 09라 키도 작아서ㅠㅠ 바라는게 많아 죄송합ㄴ디ㅏㅜ 혹시 키는 140대 150대 160 170 다 나눠서 있는것도 좋을거같아요.. 에이블리 사랑해요💖\\n진짜너무너무 좋아요! 내키,연령대,원하는가격대에 맞는검색결과만 모아서보는것두 좋고,리뷰도 잘돼있는데 전상품 무료배송까지 해주니까 정말 편하고 좋은것같아요. 근데 다른 여기도 편의점결제 했으면 더바랄게없겠네여ㅜ딴건 다좋은데.. 다른데서 써보니까 편의점결제가 편하더라구요... 제발 편의점결제 넣어주세요ㅠㅠ!!\\n앱은 정말 좋은것 같은데, 비밀번호 찾으려니 안되네요 ㅠ 아이디 찾은 정보를 그대로 비밀번호 찾기하면 안됩니다~ 오류인것 같아요 :) 고쳐주시면 감사합니다!\\n잘 쓰고 있습니다! 한 가지 추가됐으면 하는게 있다면 옷 검색할때 카테고리에 패턴(도트,플라워,체크 등등)같은 것도 추가해서 검색할 수 있었으면 좋겠어요ㅠ 마음에 드는 옷 나올때까지 스크롤 하는게 시간이 너무 걸립니다요,,\\n주문하고 취소했는데 24시간 응대인지 바로 취소가 되네요 그리고 장바구니 물건 수량 더하고 빼고 싶은데 안되서 불편하네요 그리고 마켓들 상의/아우터/드레스 등 카테고리 만들어주심 안되나요 사용하기 불편하네요\\n최근 본 상품도 자동 저장되고 무료배송 비슷한 상품등 좋은 기능이 너무나 많은 데요 ㅠㅠㅠ ♥♥ 아쉬운 점은 ㅅ어플에는 있는 기능인 편의점결제 기능이 없다는 것입니다.제가 미성년자라 부모님의 도움을 받아야하는 데 편의점 결제가 있다면 너무 편리하고 유용한 기능으로 쓰일 것 같습니당!\\n쇼핑하기딱좋아요 가격도착하고 옷뿐아니라 악세사리며 이것저것판매하니 좋아요\\n에이블리로 많이 사용했던 사람 중 한명인데요 제가 며칠전에 폰을 바꾸게 되서 다시 에이블리를 깔고 새로 가입을 하려고 했는데 전화번호를 적고 인증하기를 누르면 계속 아이디를 찾는 곳으로 이동이 되더라구요ㅠㅠ 저는 새로 가입을 하고싶은데 말이죠..ㅠㅠ 그래서 제가 이미 가입했었더라도 새로 가입할 수 있게 해주시면 좋을것 같습니당\\n다 좋은데 목요일에 놀러 갈 때 입으려고 월요일에 주문했는데 아니 1일 걸린다고 적혀있어서 기다렸거든요? 근데 벌써 수요일인데 준비 중이라고 뜹니다. 어떻게 된 일인지...\\n바지 같은 경우 S, M, L 같이 허리사이즈로 찾을 수 있게 이런 필터같은 것 좀 만들어주시면 좋겠어요ㅠㅠ 제 허리 사이즈인 바지를 찾기가 너무 어려워서요 무료배송인 점이 가장 좋은 것 같네요😀 개선해주시면 감사하겠습니다\\n에이블리가 자신의 키에 맞는 옷 사고싶은 옷 색깔 옷 가격을 정해서 그 안에서 고를 수 있어서 너무 좋지만 딱 한가지 아쉬운 점이 있다면 체형(사이즈)도 고를 수 있게끔 해주시면 좋을거같아요\\n진짜 너무 좋고 옷사기도 너무 편하고 심심할때 찾아보는재미때문에 다 좋은데 쿠폰이나 세일등 한정된거 다 끝났는데 우려먹는다고 해여하나 그런건 좀 별로였던거 같아요 그래도 에이블리때문에 옷 사는 안목도 늘고 쉽고 편하게 쇼핑할 수 있어서 참 좋아용\\n정말 너무너무 좋아요 요즘 매일 하는 어플...😍 무료배송 너무 좋고 다른 셀럽마켓 모음앱보다 너무 좋아요 다만 배송이 좀 늦다는게 아쉽네요오ㅜㅜㅜㅜ 그점 빼고는 옷이랑 가방 반지 등등 거의 모든게 다 있어서 이어플 하나를 통해 쇼핑도 한번에 하고 주문도 한번에 할수 있어서 좋아요😍😍😍😍\\n진짜 좋은ㄴ앱 감사합니다ㅜㅜㅜ 유용하게 잘 쓰고 있어요 근데 갤럭시랑 아이폰 폰케이스 창을 아예 따로 분리해주시면 안되나요ㅜㅜㅠㅜ 갤럭시유전데 맨날ㄹ 폰케이스 고를때마다 서러움 진짜 앱 너문머누너무너무 좋은데ㅜㅜㅜ 기종 분리기능있으면 더 좋을것가타욤ㅁ ㅜㅜㅠ\\n브랜*를 주로 이용했었어요. 저는 무조건 베스트 목록에서 찾던 원단재질/색상/종류를 보고 사거든요. 요즘은 여름이라 무조건 폴리원단. 타사 플랫폼이랑 다른 점은 일단 베스트 목록 가격대 자체가 확실히 싸요. 거의 3만원대를 찾기가 힘들 정도로 저렴이 위주로 나열이 되있네요. 그래서 가격부담없이 찾기 좋았구요. 배송비 무료. 요것도 가장 큰 장점이네요. 타사 플랫폼은 각각 원하는 제품을 장바구니에 담다보면 쇼핑몰이 중구난방으로 잡혀서 배송비 중복으로 많이 부담되거든요. 그리고 판매수가 바로바로 보여서 어떤 옷이 잘 나가는지 확인할 수 있어요. 저는 판매가 얼마나 됐나랑 리뷰같이 보고 구매의사 결정 짓거든요. 바로바로 한눈에 확인 가능해서 좋네요. 베스트 제품들 요번에 구매해보고 정말 베스트인 제품들이다 느껴지면 자주 이용할려구요.\\n제가 인터넷쇼핑을 좋아하진 않는데 에이블리는 제가 애용하는 앱입니당~^!!배송비가 없어 좋고 리뷰도 꼼꼼히 있어 좋아요 벌써2개나 구매했어영♡♡모두 고고하셔유♡♡^^\\n택배사 파업에도 불구하고 꽤나 빨리 왔고 기존에 사용하던 어플에서 본 같은 제품임에도 할인률이 더 높고 사용하기도 편했어요. 저는 너무 만족했고 자주 이용할것 같아요. 어플 중에서 가장 만족스러웠던 앱이에요. 공지같은 것도 빠르게 올라오고 이해하기 편하게 올려주셔서 좋앗어용\\n키 필터, 연령대 정하기 덕분에 저랑 맞는 옷들을 쉽고 빠르게 찾을 수 있어서 너무 좋아요. 또 키가 작아서 살 수 있는 옷들이 적을까 걱정도 했는데 키가 작아도 살 수 있는 옷들이 많았어요 그리고 곱창끈도 이쁜 게 너무 많아서 진짜 너무너무 좋아요 에이블리 응원합니다 💓\\n에이블리는 이벤트를 자주해서 좋아요! 다른곳은 쿠폰사용시 제한이 많아서 아쉬웠는데 에이블리 쿠폰은 만원이상도 많고 포인트도 쉽게 사용가능해서 좋아요!! 추천합니다😀\\n에이블리에서 옷을 많이는 안샀지만 그래도 이용하고 있는 사람인데요 제가 나이가 적고 키가평균인 편이라 별로 잘맞는건 없더라구요.. 그래도 이쁜 옷은 많아서 좋습니다!\\n같은 디자인의 옷을 비교하고 살 수 있어 좋아요:) 또 디자인은 같아도 컬러를 폭넓게 고를 수도 있구요!\\n정말 만족스러운 어플이에요~한개만 주문해도 배송비가 없다니 이 점이 가장 좋은 거 같아요 또 동시에 여러 물건들은 비교하면서 볼 수 있다는 점도 큰 메리트죠 종종 이용하고 있어요🥰\\n정말 다 편리하고 좋은데요ㅠㅠ 만14미만이 이용할때는 계좌번호가 없으니 사용하기가 힘들어요ㅠㅠ 분명 만3세 이상이라고 되있어서 깔았는데 환불받을 계좌를 치라니ㅠㅠ 편의점 결제를 하는데도 계속 치라는데 편의접 결제 할때는 환불 계좌 적는거 안적어도 되게 해주세요ㅠㅠ 그래도 좋아요 일단 강추할게염\\n정말 예쁜옷도 악세사리도 많았어요 아쉬운 점이 있다면 옷이랑 악세사리등등을 따로 매치해볼수 있는 기능이 추가되었으면 합니다\\n이벤트도 많고 쿠폰도 자주줘서 좋아요 무엇보다 쇼핑할것도 한곳에 다모아둬서 사고싶은거 찾기도 쉽고 다른데보다 저렴하게 구매할수있는것듀 많아서좋아요\\n쇼핑할 제품 정보나 결제시스템까지 다른 사이트랑 다르게 깔끔하게 빠르게 진행되서 너무 좋습니다!\\n브랜디 앱도 사용중인데 옷쇼핑하기에는 솔직히 에이블리가 더 예쁜상품이 많은것같아요 ㅋㅋ 키트상품도 이쁜거 봐뒀는데 계좌코가 석자라 나중에 사려구요 ㅎ....\\n친구 덕분에 좋은 앱을 알게 됐어요. 근데 단점은 쇼핑하는 일이 늘어서 통장이 텅장이 됐어요...\\n1분 썼는데도 좋아요! ㅠ 여름옷 찾고있는데 터치 몇번하면 바로 나오니까 너무 편하고 좋아요 ㅠ\\n앱으로 편리하게 이쁜 옷 맘껏 구경하고 편리하게 구매 할 수 있어서 너무 좋아요~! 앞으로 자주 이용할게요^^\\n전 상품 무료배송인게 넘 좋아요! 이쁜 옷도 진짜 많고 세일도 자주 하고요~ 옷이라 악세사리 같은거로만 보면 지그○그나 브○디보다 상품도 더 다양하고 많은거 같아요. 잘 쓰고 있습니다!!\\n할인이벤트도 꾸준이많이하고 입점업체가 많아서 좋아오 단골이용하고있습니다 입점업체들 떠나지않게 잘케어해주세오 ㅜ\\n너무 좋지만 환불 계좌는 선택 사항이면 좋겠습니다..부모님 몰래 하는거라 물어볼수도 없네요..ㅠㅠ\\n선택한 의류와 비슷한 의류를 다양하게 추천해줘서 원하는 스타일을 빠르게 찾을 수 있어 매우 편리하고 좋습니다^^\\n너무 편리하고요! 택배도 엄청 빨리빨리와요! 사이즈도 잘맞고 10대에게도 잘 어울리는 옷도 많아요!\\n음 이거 동생 폰이라 이름이 이런데요 아니 환불을 했는데 환불금액이 0원이라 떴는데요 12만원 넘게 구매했는데 12만원 안돌려주시는건가요 ? 아니면 환불하는 금액이 없는건가요? 상품취소였는데요 현금으로 결제했습니다 빠른답변 부탁드려요...ㅠ\\n다른 쇼핑몰 하고 다르게 결제하다 변경할수도 있고 다양한 쇼핑몰을 한곳에서 같이 결제 하니 편해용~ 한곳에서 다양하게 볼수 있고 쇼핑 한다는 점이 최고 입니당~~~!!\\n슬림한 옷 빅사이즈 신발 등등 다양하고 아기자기한 물건들이 많아 한번 들어오면 쉽게 못 나갑니다^^\\n다양한 조건으로 검색할 수 있어서 원하는 스타일의 옷을 찾을 수 있어서 좋았어요.\\n다 좋은데 상의 하의 세분화되어 있던 거 왜 없애셨나요ㅜㅜ불편해요...다시돌려주세요 흑흑\\n저렴하고 좋아요 중학생딸이 입기에 가성비 좋아서 자주 이용합니다.\\n너무 잘 사용하고 있어요 보기편하고 가격도 저렴하고 이쁜 옷들 마나요ㅎㅎ\\n쇼핑하기 편리하고, 쿠폰도 많아서 할인이 쏠쏠합니다!\\n오래 쓰면서 개선 되었으면 하는 점이 필요하여 작성해봅니다. 총평은 너무 좋아요. 1. 계절별 필터 추가 여름 혹은 겨울 두 계절 정도라도 필터에서 선택하면 그 계절 위주로 옷이 나왔으면 합니다. 여름 옷 사고 싶은데 겨울옷만 수두룩 빽빽이라 아쉬워요. 2. 나이별 추천 저는 10대이고 너무 어른스러운 옷을 지향하지 않는 편인데 추천에서 어른스러운 옷이 많이 나와요. (ex 오프숄더) 연령대 관련도 조금 수정해주세요! 3. 추천 옷 회원님을 위한 추천해서 홈에 뜨는 옷들이 있는데 그게 다 똑같은 옷만 항상 추천 되니까 항상 그것만 보게 되더라구요 다른 스타일의 옷을 보고 싶을 때도 좀 불편합니다 4. 만족도 별 옷을 검색해서 찾아볼 때 리뷰 많은 순 인기순 저가순 등등 해서 나오는데 만족도가 높은 순도 추가 되었으면 좋겠습니다. 일단 이정도가 가장 필요할 것 같아요. 그리고 10대 관련 마켓도 많이 들어오면 좋겠습니다! 꾸준히 잘 쓸게요 에이블리 만들어주셔서 감사합니다 💖\\n구매품목이 다양하고 결재방식이 여러가지라 좋아요.\\n저렴한물건도 많고 저렴하지만 퀄리티도 괜찮아서 다좋아요ㅎ\\n진짜 진짜 너무 편리해요...... 내스타일 옷찾기 딱좋은 어플 ㅠㅠㅠㅠ\\n리뷰하러왔다가 배송이 느리다는 말이 많은데 니트 블라우스 등 구매해봤지만 저는 그렇진 않았던거 같고 패킹도 잘 되어왔었고 무료배송은 물론 종종 쿠폰도 많이 주시고 다른 쇼핑어플들도 깔려있지만 에이블리가 보기 편해서 잘 쓰고 있어요! 이번에 구매한 자켓도 잘 도착했으면 좋겠네용 ㅎㅎ\\n오랜만에 다시 깔았어요~~ 상품 찾기 편리하고 다양하네요!!\\n페북에 계속뜨길래 봤는데 이쁜옷들이많더라구요ㅎㅎ 앞으로자주애용할게요!^^\\n아니 살려고 들어갔는데 계속 나가지고 나가지고 반복이에요... 10분 전만해도 잘되더니 갑자기 안되네요ㅡㅡ.. 친구들이랑 옷살려고했는데..ㅜ 제발 빨리 고쳐주세요.. 그리구 안보기나 관심없음 그런게 생겼음 좋겠어요! 있을진 모르겠지만 없는거 같더라고요.. 산거중에 불량은 없지만 이런점들 개선해주시면 좋을것같아요ㅠㅠ ☞이번에 새로 왔슴다!! 다시 오류 사라지고 잘 사용하고 있습니다!! 저의 폰 문제도 있었을수도있었을 것 같아용ㅇ!! 잘 쓰겠습니당 추천 드려용..!! (편의점 결재 조하요♡)\\n제가 원하는 옷들을 쉽게 찾을 수 있어서 좋았어여\\n배송비 무료라고 하는데 a마켓을 인터넷에 치면 a마켓 사이트에 찾아보면 에이블리 내에서는 배송비 무료인척 하지만 사이트를 보면 배송비 포함 가격이네요 이게 뭔가요 고객을 상대로 사기치는거 아닌가요? 배송비 무료와 배송비 무료인척 배송비 포함은 전혀 다른데요\\n알림 오는데 너무 귀여운 문구로 와요ㅋㅅㅋㅋ 가격도 너무 좋고 다 이쁨\\n다 좋은데 케이스에 갤럭시 케이스 종류도 많이 넣어주세요 맨날 아이폰케이스만 있네요... 누가보면 폰 종류가 아이폰만 있는줄 알것같아요. (전 별 3개) +++ 계속 사용하다보니까 너무 좋네요!! 태세전환이 쫌 심해서 죄송하구요!! 너무 잘 이용하고 있고요 지금운 갤럭히 케이스도 있고 옷이나 액세서리, 가방 같은것도 싼가격에 이용할수있어서 좋아여영👍🏻👍🏻 에이블리 사랑합니다💜\\n정리잘되어있고 예쁜옷 잘찾을수있어좋아용^^\\n상품들 전부 너무 예뻐요! 예쁜 상품들 많이 모아주셔서 감사합니다!🥰\\n에이블리 너무 좋은데 가끔 상품설명이 안보이는 오류가 발생하더라고요ㅜㅠ 그게 어쩌다 한번이면 괜찮은데 지금 약 3일동안 1일에 1번씩 그랬다가 나아지고 그랬다가 나아지고 그러고 있네요ㅠㅜ 저만 그런지는 모르겠지만 조금 더 원활한 앱사용을 위해 해결해주셨으면 좋겠어요ㅠ\\n폰케이스나 팝잇,곱창밴드,귀걸이 등 악세사리 같은것들을 살땐 에이블리만한 앱이 없는거 같아요!!유튭보다가 광고가 나와도 끝까지 보고있어욬ㅋㅋㅌㅋㅋㅋ여러분 에이블리합시다~~🖤\\n진짜 너무 좋아요 잘쓰고 있어요 거의 모든 옷이나 가방 다 여기서 사는거 같아요\\n여러 쇼핑몰이 모여있어서 정보가 많아서 편리해요\\n진짜 후기만 잘보면 무조건 성공 임. 게다가 체형이랑 취향 분석도 해줘서 내 마음에 쏙 드는옷 고르기 쉬워요.저 옷 실패 잘하는데 여기서 옷샀을 때 실패한 적 없었음.사람마다 다를 순 있겠지만 저는 진짜 좋았어요.에이블리 진짜 대박임..\\n좋긴 좋은데 댓글에 있는것처럼 최종 금액이 확실하게 보였으면 좋겠습니다. 만약 배게 사이즈 마다 금액이 다른데 가장 작은 금액을 들고와서 할인을 하는냥 기재해놓는건 속이는것같습니다. 또 편의점 결제를 할때 편의점의 브랜드가 더 늘어났으면 좋겠습니다. 미니스톱이라던가 작지만 대중화된 편의점도 결제가 되었으면 좋겠습니다.\\n예쁜옷도 많고 좋은데 혹시 후기 신고기능은 없을까요..? 가끔씩 후기에 예쁘다는말을 심한 욕을 넣어서 후기를넣으시거나 뜬금없이 자기 아이돌 가수 홍보하는후기같은게 많네용..\\n진짜 이쁜옷 많구용 할인도 하더라구용 그 앱에서 예쁜 옷 많이 샀어용!!!\\n너무 좋은데 검색 할때 밑에 색상, 가격 이런식으로 추가로(?) 더 검색이 가능하잖아요! 그때 제조국도 추가하면 더 좋을것 같아요\\n무배라서 엄청 좋고 원래는 옷만 파는곳이였는데 다양하게 팔아서 그런지 더 좋아진거같아요\\n굉장히 다양한 상품이 준비되어 있어 놀랐어요. 제가 좋아하는 최애 마켓들은 있지않아 아쉽지만 그럼에도 이쁜 옷이 많아서 오늘 또 최애마켓이 하나 추가되버렸습니당ㅎㅎ 앱 구성도 깔끔해 보이고 좋아요!\\n여러 브랜드를 한눈에 보고맘에 드는걸 담아두었다 비교하니 넘 좋아요^^\\n뚱뚱이들의 좋은 정보 쉽게 구매할수 없는옷들 에이블리에서 구매할수 있어서 행복해요\\n자주쓰거나 공신력있는앱이 아닌거같아 설치고민했는데 상당히안정적이네요. 시간이밤이라그런지모르겠지만~ 주말 낮에도와봐야겠어요.\\n원하는 스타일 찾기 편해 자주 구매하게 되요\\n리뷰에 관련없는사진 제지안될까요 리뷰 찾아보기가 힘들어요ㅜㅜ\\n앱 자체는 좋은데... 페북에서 광고뜨는 옷이 이뻐서 클릭하면 그 옷이 아니라 에이블리 메인화면으로 가지네요ㅠㅠㅜ\\n진짜 옷, 악세사리, 신발 등등 진짜 필요한것마다 고를 수 있고 필요한걸 찾아서 입을 수 있고 사이즈 신경쓰지 않고 시킬 수 있어서 좋은것같아요!!! 짱이예요 진짜 최고!!!\\n할인율도 높고, 제품들이 다양하고 예뻐요\\n다 좋은데 모델이 여러명인 쇼핑몰에선 그 착샷이 어떤 모델의 착샷인지 쓰는 것이 있었으면 좋겠어요 모델 키랑 제 키랑 비교해서 구매하고 싶은데 모델이 여러명이면 어떤 모델분의 착샷인지 몰라서 길이를 가늠하기 어렵더라구요 ㅜ..\\n너무너무 쓰기 좋아욤! 화장품옷 등등 여러가지 살수 있어서 좋은것같아요 혹시 이거 편의점 가서 바코드드리고 현금드릴때 그냥 편의점 들어가자마자 바코드 보여주고 현금만 내고 오면되나요? 알려주시긴했는데 저만 이해가...ㅎㅎ ....제가 cu,Gs25편의점에서 하는 방법 알려주시면 감사할것같아용! 너무나도 에블 잘쓰고 있어용!\\n그냥 앱만 깔아놨던 시절.. 광고많이 뜬다고 싫어했는데, 앱 사용하기 시작하니깐 광고도 좋음.. 에이블리 내 돈 다 가져가...\\n예쁜게 많아 구경하다 주문했는데 빠른건 아니지만 배송도 잘 오고 받은 옷도 맘에 들어 또 눈팅하다 질렀네요 ^^ 최근 사용하는 앱 중엔 젤 맘에 들어요~\\n사이즈 바로 볼 수 있게 상품정보 / 사이즈 / 리뷰/ 문의 이런식으로 만들어주시면 안되나요 대부분 사이즈가 맨밑에 있어서 보러가기 힘들어요\\n가격도 저렴하구 이쁜 옷이 많아서 정말 좋아용🥰\\n에이블리 참 좋은거 같아요 쇼핑몰 중간 역할 확실히 하는 듯 주문 취소도 에이블리에서 할수있고 굿굿 다른 어플은 직접 쇼핑몰가서 구구절절 사유 쓰고 취소 신청 기달리는데!\\n한꺼번에 원하는 상품을 볼 수 있어 좋았어요\\n여기서 샀는데 완전 이쁘고 왠만한거는 보풀이 안생겨요 그래서 좋은거 같고 옷이 이쁘고 여기는 무료배송이여서 부담도 없고 세일도 많이되서 좋아요!\\n예쁜옷 많아서 좋아요 쿠폰도 활용할 수 있는게 많구요.\\n비교하기 쉽게 연관상품이 잘 나와서 좋네요\\n원하는 스타일과 사이즈 가격대 설정가능한 게 편해요. 전 상품 무료배송이 가장 좋은 점인 것 같네요. 아직은 불만없이 잘 사용하고 있습니다!\\n편하고 여러 디자인을 한번에 볼수 있어요\\n아직 배송중이지만 이쁜 옷들이 너무 많은 것 같아요! 무엇보다 상세정보를 통해 저에게 어울리는 옷들을 찾을 수 있어 좋았어요😚\\n원래는 다른쇼핑몰이용중인데 중학생딸아이가 자꾸 이쁜상품을보여주면서 배송도 빠르다고 계속알려주길래 보다보니 제가 더 주문을하고있네요^^ 가격도저렴하고 종류가 다양해서 좋아요\\n진짜 이쁜 상품 너무 많고 상품 가격대도 너무 만족스러워요!! 배송도 빠르고 10대~20대분들 강추 합니다\\n개인적으로는 무료배송 시스템도 좋은것같고 나쁜점은 별로 없지만 굳이 뽑자면 제가 아직 10대인데 너무 성인 옷들이 많아서 조금 제가 살수 있는옷이 제한되는감이 있습니다.\\n이쁜 옷들 너무 많아요 ❤❤ 근데 거의 다 큰옷들이라 몸집이 작은 키작녀들이 입을만한 옷이 없어서 좀 아쉽네요 ... 이 앱은 150이상인 분들만 사용하시는걸 추천드립니다 😊😊\\n내 취향을 저격하고 저의 체형에 맞는 옷들이 여러가지 있고 저렴하게 구매할 수 있는 쿠폰이나 세일을 많이해서 자주 구경하고 눈여겨 보는 건 구매하기도 하는데, 전반적으로 질도 괜찮아서 요줌 너무 맘에 들어요\\n옷이쁜게 진짜 많더라구요!!너무너무 좋은데..1가지 문제점은 저한테 맞는 옷이별루 없드라구용..좀만더 늘려졌으면 해용🥰\\n좋아요 다양하게 있어서 비교선택하기. 좋아요\\n자신의 취향에 맞는 옷을 추천해 줘서 쇼핑 할 때 너무 편합니다\\n초창기때에 비해 많이 좋아졌어요. 하지만 렉이 걸리네요.. +수정: 이제 렉이 안 걸리네요! +에이블리가 점점 발전합니다!\\n주문배송할때 주소,우편번호 입력이 아예 안되요. 다른건 다 좋은데 안되서 매우 힘드네요.\\n빠르고 좋아요 옷이 정말 예쁘고 많네요\\n가격도 타사쇼핑몰과 비교했을때 저렴한것같고 여러제품,상품들이 많이있는것같아서 앞으로 자주 이용할것같은 예감이 드네여..\\n진짜 옷도다양하고 좋은데 결제할때 하루만에 해야 되서 이틀정도시간을주면좋겠어요. 금요일날 구매함 월요일날 용돈 받아서계산할껀데 토요일까지이런거는참고부탁\\n무료배송에 할인도 많이되고 좋아요\\n에이블리에서 예쁜 옷이랑 그런게 세일도 많이하고 거의다 1~2일 안에 다 와서 너무좋은것 같아요!!\\n정말 좋지만...제가 초등학생이라 맞는옷이 좀 없구 폰케이스는 왜 아이폰 밖게없나요?ㅠㅠ 안드도 있다해두 갤럭시랑 최신폰만 있고..엘지는 웁니다\\n저의 아빠가 항상 옷 사주실때 로그인 힘들다고 그랬는데 이것은 간편하고 한번하고 또 다시 안 해도되니까 편리하다고 하셨어요 에이블리 깔으세요 너무 좋아요\\n추천 피드도 잘 올라오고 무엇보다 한개를 사도 항상 배송비 무료인 점이 이 앱을 가장 많이 사용하게 만드는듯 후기나 상품 검색 다 원하는 필터 적용해서 빠르게 볼수 있는 것도 좋은 것 같음\\n와 초기 사용잔데 옷이 이뻐요오!\\n아직 옷이나 머 에이블리에서 파는거 사본적은 없는디에..칭구들이 엄청 조타고 햇서여!!! 곧있음 케이스 살거에열 ✌🏻\\n큰옷도 이쁘게 많고 큰 신발도 있구 너무 좋아요.10살 딸아이 옷도 같이 구매 했어요. 사이즈가 작은것부터 큰것까지 다양해서 느므 좋네요.\\n진짜 좋은게 많고 특히 무료배송이라서 좋았어요 그리고 저는 카드나 이런걸로 사면 부모님이 다 확인하고 해서 인터넷에서 몰래 사는 불가능했는데 에이블리는 현금 결제 되니까 부모님 몰래 살 때 진짜 좋았어요 저는 무료배송 현금결제 되는게 가장 좋았어요\\n너무좋아요 하루에 1벌 구매할정도로 많이 쓰고있어요♡♡\\nㅈㄱㅈㄱ 보다 (어플은 틀려도 같은 쇼핑몰인데) 훨씬싸고 배송비까지 없어서 너무 좋아요! 쿠폰이벤트도 자주함 찐리뷰임.\\n가격이. 저렴한것들이 있어소 좋음\\n옷도 이쁜게많고 찾는상품이 많아서 구매를 잘하고있어요! 불편한점은 없는것같아요\\n리뷰부터 보는게 편리하고 내 체격에 맞는 분들 쉽게 찾아서 비교도 할수 있어서 좋아요 옷도 좋고 가격도 합리적입니다\\n에이블리에서 옷도 이쁘고 자주사요 ㅋㅋ 요즘 쇼핑 지원금 이벤트 잇길래 아무생각 없이 뽑앗는데 2만원권 당첨이 됏네요......................................... 💖💖\\n친구가 소개해 줘서 깔았는데 배송비도 무료고, 예쁜 옷도 많아서 자주 애용 중입니다~\\n가격비교도 되고 비슷한옷보기있어 맘에 드는옷을 찾기쉬워서 좋아요 만족합니다^^\\n저렴하고 이쁜 옷과 악세사리들을 한번에 살수 있어 좋아요. 이벤트도 많아서 너무 만족 합니다.\\n쿠폰활용하면 싸게 살수있어서 좋아용 그리고 비슷한 제품 추천이 정말 정확해요 가격비교하기좋고 포인트도 금방 쌓여서 옷살때 꼭 이용해요^^♡\\n내 스타일에 딱맞는 맞춤형~~! 배송비무료라 더좋아요~ 할인쿠폰 마니주세요~^\\n원하는 스타일을 한눈에 보기싶게 볼수있고연관되어 비슷한 상품을 볼수있어서 좋다\\n다양한 옷들이 너무 많고 질문에 친절하시고 아직 옷이 안왔지만, 자주자주 애용할거같아용\\n싸고 좋은거 많음 검색도 편함\\n취향에 맞는 옷 찾기 좋아요\\n가격 좋고 디자인도 괜찮아요\\n평소에 많이 애용하고 즐겨 옷을 구매하는 곳이에요! 너무 이쁜 옷도 많고 무엇보다 무료배송이라 좋아요!\\nㅎ 제 체형에 맞게, 스타일에 맞게 쉽게 옷을 고를 수 잇어서 좋으네요~~굿~👍\\n무료배송이라는것이너무좋고 내가원하는걸찾을수잇게편하게되어잇어요!\\n취향이나 평소 즐겨찾는 스타일로 추천해서 고민없이 시간낭비없이 바로 살수있어 좋아요\\n가격도저렴하고 종류도많고좋아요 근데 장신들을위해 옷들도많았으면좋겠어요 제가 173인데 길이땜에 아무거나못사겠어요\\n취향에 맞게 찾기가편합니다.^^\\n다양한 사이즈에 이쁜 옷들이 많아서 좋아요\\n키와 몸무게ㅂㅣ교하며 구매할수있어좋고 기작녀들 마른이들 구매 적당\\n마눌님이 설치했어요 ㅜㅜ, 옷이 다양하고 저렴하고 회원가입하면 할인도 좋아요. ㅎㅎ\\n디자인들이 제가 맘에 드는 것들이 많아여~ 또 모델분도 좋아하는 분이고여^^ 종종 들릴게여~\\n예쁜 옷 겁나 많고 렉도 안 걸리고 그리고 거기에 카드나 통장 없는 사람들 생각해서 편의점 결제,,완저 완벽 그 자체임\\n필요정보만 빠르게 서치되서 좋네요~ 좀더 다양한 브랜드만 더 보안되면 좋을거 같아요\\n에이블리 vip 찍었습니당！！！！ 좀만 더 쓰면 vip 다음등급이네요ㅋㅋㅋㅋㅋㅋㅋ 정말 좋은 앱인거같아요 서버가 가끔씩 불안정한거 빼고 만족합니다 :)\\n다양하고 한꺼번에 비슷한 종류도 볼수 있고 배송도 빠르고 좋아용~~~\\n제가 좋아하는 스타일을 한번에 보여줘서 많은쇼핑몰사이트 돌아다니지 않아도 되서 좋아요~\\n항상 너무너무 잘사용하고있어요! 옷 종류가 타사에 비해서 많아서 좋아요!\\n여러가지 제품들을 한눈에 볼수잇어 간편하니 완죤 좋아요 ㅎ 앞으로도 좋은 제품 마구마구 주세요^-^\\n솔직히 이앱은 고칠점이 생각 안나고 빅사이즈 전용으로 에이블리2 나왔으면 좋겠음 호기심이 많은편이라 빅사이즈 들어가봤는데 그냥 옷 종류만 좀 나눠져 있어서 불편해보였음\\n이쁜 옷도 많고 무배도 좋고 전체적으로 좋아요ㅎㅎㅎㅎ\\n간편하고 빠르고 좋아요!\\n편리하고 다양해서 좋아요 원하는 상품을 검색을 통해 비교하며 구입할 수 있어서 좋아요\\n에이블리에는 예쁜옷이 너무 많아서 먼저 뭘사야될지 항상 고민하게 되요 앞으로도 번창하시길 바랄께요\\n아니 할인 쿠폰 뭐예요...? 감동이야 진짜 애용해야지.....♥ 평소에도 잘 썼는데 진짜...❤\\n이쁜옷들진짜많구요 나만알기엔너무아까워요 일단 가격조절할수있고 진짜가성비💣💣💣짱!\\n모델이 다 말라서 내 몸무게를 넣고 나랑 같은 키몸무계 모델이 입은 옷도 보고싶어용.나랑 같은 체형 모델 옷 같은 시스템두 좋을것 같아요\\n중1딸아이 전용 쇼핑몰입니다 다양하고 배송비 무료 쿠폰많이줘서 저렴히 구입하고 좋아요\\n‼️주문취소 3~4일 걸린다‼️ 는 점 빼곤 엄청 좋아요!!! 무료배송, 여러가지의 쿠폰들, 간편한 결제, 찾기 쉬운 리뷰들.. 잘 갖춰진 앱입니다!\\nㄹㅇ 찐 좋은데 완전 추천.. 옷 바지 등등 그런거 다 한가지 앱 에이블리에서만 쓰고 있음 ㅠㅠ\\n너무 좋아요~나한테 어울리는 관심상품 추천상품~알려도 주고굿!!!\\n보기쉽게 정리되있어서 좋아요\\n다 좋은데 다른글처럼 최종가격을 확실하게 적어줬으면,,,\\n할인 쿠폰이 많아서 좋아요! 앞으로도 쿠폰 마니 뿌려주세용ㅎㅎ 옷도 이쁜거 마나요♡\\n원하는 디자인의 옷을 검색하고 저렴하게 구매해서 좋아요!\\n가입이 편하고, 주문도 손쉽네요~ 가격도 만족합니다^^\\n항상 예쁜 상품들이 많아서 지르고싶어지는게 자제중이에요ㅠㅋㅋ\\n안좋은 마켓도 있지만 이거 없어지면 안 될 정도로 잘 애용합니다..🥰🥰\\n가격대비 옷감재질이 좋아요^^\\n토탈쇼핑앱도 거의 기본사이즈들이 많은데 빅사이즈도 다양하게있어서 기분이 좋네요\\n깔끔하고 무료배송이라 좋아요\\n취향에 맞게 비슷한 옷들이 추천되고 가격이 저렴한데 무배라 더 좋아요 👍\\n조카가 좋아했으면 좋겠어요 자주 이용할께요\\n키에맞춰서 찾을수있다는점이좋아요 그리고 결제가간단해서좋내여\\n옷 사는 어플 중에서 제일 많이 사용하고 있어요! 제가 원하는 옷들도 많아서 좋아요\\n완전 좋아요 다른 쇼핑 앱보다 훨씬 좋아요 에이블리 짱 최고입니다.\\n항상 너무이쁜옷들이마나서 너무좋아용♡\\n빅사이즈 말고 스몰사이즈 모음도 해주세요ㅠㅠㅠㅠ 157 39에 허리 20-21인데 맞는 옷 찾기 너무 힘들어요ㅠㅠㅠ\\n큰 사이즈도 있고 옷 종류도 많아 좋아요\\n배송도 빠르고^^ 편하게 쇼핑할 수 있어서 잘 이용하고 있습니다^^\\n예쁜 옷들도 많고 여러 혜택도 많아서 쇼핑하기 좋아요!\\n몇번 사용 했는데 반했어영 넘 좋은 물건 많이 있어용 ~~~^^ 정말 좋아용\\n브랜드도 다양하고 일단 무료배송이라는 점이 좋아요!\\n혹시 가능하시다면 비침/안비침 카테고리에 넣는것도 좋을 것 같아용...!\\n사용하기 좋고 연관상품 많아서 찾는 스타일 쫙 볼수있어서 👍\\n이 앱 오랫동안은 아니여도 6달? 동안 잘 사용하고 있습니다 !! 최고의 쇼핑앱 💜🤭\\n다양한 옷과 리뷰보고 옷을 선택 할수있어서 좋아요\\n솔직히말하면 별 그램에서 애플 나눔한다길래 깔고 아이팟 프로 받음 그러고 계속 안쓰고있음..ㅋ\\n예쁜것들이많아서 좋아요! 초딩인뎅 엄마한태물어보고 많이사야징~\\n쉽고 빠르게 구매할수있고 무료배송이너무마음에들어요\\n다른쇼핑몰에 새로운디자인의옷도볼수있고 좋아요\\n한번에 찾아볼수 있어서 편하고 이쁜옷도 많아서 좋음\\n종류별로 잘되어있고 마켓 별로 답변도 빨라요\\n주문하고자하는 스타일을 간편하게 찾을수있어서 좋아요\\n청소년옷사기 싸고 좋아요\\n완전 조음 쩡짱 무료배송 사랑합니다\\n저렴하게 잘 이용합니다. 무료배송 굳!!!\\n다양하고 특이한 아이템이 많아서 매일 들여다봅니다\\n무배라 좋고 문구류도 다양해요\\n예쁜옷을 한곳에서 볼수있고 무료배송에! 좋아용~\\n유용해요 리빙상품도많아 구경재미가쏠쏠해요\\n취향에 따른 옷들이 모여있어서 너무 편하네요~! 강추합니다 ㅎㅎ\\n결제도 쉽고, 무엇보다 배송비가 없다는 점이 좋은 것 같아요.\\n예쁜옷들을 취향대로 보고 고를 수 있어서 너무 좋아요\\n진짜 이건 대박임 무료배송에 할인은 엄청 많이 해주고 쿠폰도 많이 주고 👍\\n딸아이가 옷구매하기 넘좋은 앱인거 같네요 앞으로 자주 이용 할 듯 합니다\\n좋아요!! 다만 중간에 튕길때가 있어요! 고민하지마시고 깔아보세요\\n비교상품 볼수있어 너무 좋아요\\n검색 상품 종류가 많아서 좋아요\\n심심할때 아이쇼핑하기 좋아요\\n제주도는 배송비가 붙어서 그점만 아쉽네요..\\n굳이요~~ 시원시원디자인~ 메뉴가 잘보임.\\n이쁜옷 한번에 볼수있어서 좋아요~ 쿠본이벤트도많아 넘나좋아요^^\\n제가사고싶은 스타일을 한번에 볼수 있어 편해요^^ 자주이용할께요^^\\n상품 고르기 편하고 좋아요\\n다 좋은데 서랍(찜한 목록) 순서 변경 할 수 있게 만들어주세요!\\n검색하기 편하고 추천되능것도 거의 제스탈이라 넘 좋아요\\n무료배송 진짜 좋아요ㅎㅎ 옷도 다양하고 예뻐요\\n인터넷으로 사면 실패하는 경우가 많은데 괜찮아요\\n다 좋은데 주문 취소했는데 주문 취소중만 뜨고 취소가 안 되네요ㅠ 어떡하나요\\n양심적으로 디자인이 뛰어난 옷을 저렴하게 팔아서 😀좋아요.\\n쿠폰사용해서 더 싸게 구매하는 것 같고 무료배송도 마음에 들어요\\n완전 저 스타일 옷이랑 악세사리 등등 넘 많아서 대만족이예요~~^^\\n다양한 디자인 많고 원하는 제품이 바로나옵니다\\nAi로 찾고싶은옷을 다 찾을수 있어서 좋아요!\\n예쁜 옷과 악세사리를 좋아하시는 분들께 추천드립니다!!\\n주기적으로 세일 쿠폰 너무 유용해요!!\\n옷뿐만 아니라 코스메틱이나 다른 잡화들도 있어서 좋아요!\\n무료배송인것도 가격비교도 쿠폰혜택도 좋아요\\n편의점 결재가 생겨서 많이 사용해요!!\\n저렴하게사서 좋아요. 검색도 쉽구요.\\n일단첫구매 사진상으론 괜찮아요~^^\\n저렴한 상품도 배송비가 없어서 아무 때나 부담 없이 주문할 수 있어서 좋아요\\n너무 좋네요 원하는 스타일의 옷이 다 있어요\\n키와 연령 가격대 색상별로 검색하고 볼수있어서 너무좋아여♡ 오늘 지름신강림했네여\\n첫구매. 가입도 쉽고, 사용하기 쉽습니다\\n쇼핑하기 편하고 쿠폰을 아주ㅋㅋ마뉘 주네요\\n예쁜데도 타쇼핑몰에 비해 저렴해서 좋아요~^^\\n편리하고 비슷한옷 비교해서 보기도 좋아요\\n옷 진짜 안 사는 편이고 살만 쪄서 쇼핑하는거 맨날 곤혹 치르고 여름에는 덥게 나가서 옷 사러 갔다가 짜증만 내고 엄마랑 맨날 같이 고르러 갔다가 싸우는데.. 여러매장 들리는것보다 많은 옷이 있고 후기도 많은 옷은 괜찮은것 같아서 좋아요 할인도 계속 해주고 가성비 엄청 따져서 싸지만 좋은후기 있는 옷 4벌에 상품 하나 샀는데 5만원 들어요! 할인 할 때 사니까 좋은것 같아요\\n다양한 옷들도 많고 좋네요\\n제 스타일에 맞는 코디 할 수 있어서 좋네요^__^에이블리 사랑합니당♥♥\\n네이버 페이를 평소에 잘 이용하는데 너무 편하고 좋아요^^\\n사이즈길이색상에맞게 잘구매할수있는곳!!!강추\\n앱사용 편하고 잘되네요. 예쁜옷 많네요.\\n편하고 좋고 저렴한 물건이 많아요\\n넘넘 좋고 이쁜것들도 많아용! 😸\\n간편하고 배송비 무료라 너무 좋아요\\n옷 이쁜거 많아서 좋고 무료배송이라 잘 쓰고있어요\\n너무너무 좋은데요ㅜㅜ PC버전도 내주심 안될까요??ㅜㅜㅜㅜ\\n무료배송 짱짱!!!좋고 예쁜 제품 너무 많다ㅜㅜ\\n옷도 괜찮고 사이즈도 적당해서 좋아요.\\n조은 옷 많아요! 이뻐요! 만족하며 주문했어요^^\\n두딸들이 좋아하는 아이템 선물하게 되서 좋았습니다\\n예쁜옷이 많고 할인혜택이 많아서 좋아요\\n여러 쇼핑몰을 한번에 볼수 있어서 편해요\\n회원가입 하려는데 계속 휴대폰 인증번호 전송 실패\\U0001f972\\n사용하기 편하고 무료배송이라 더욱좋아요\\n다양한 스타일에 저렴한가격 할인도 짱\\n무료배송이라서 좋아요.\\n이용하기 편하고 추천상품 사게됨\\n쇼핑상품을 찾기편하고좋네용ㅋ\\n좋아용 쇼핑앱중엔 최고 편리하고 볼게많음\\n2025년 동안 제가 고등학생때 제발 남게 해주세요. 고등학생 때 사라고 하셨고 그리고 제품이랑 그런 게 이뻐서 계속 쓰고 싶습니다!\\n가격착하고 배송좋고 너무만족스러워요\\n완전 무료배송이라 편하고 좋음\\n무료배송에 상품들 비교할수 있어서 좋아여\\n에이블리 너무너무 좋아요ㅜㅜㅜㅜㅜ 저 30마넌 결제햣는ㄷㅔ 99퍼 할인권 받게해져요ㅜㅜㅜㅜㅠ 제발 ㅠㅠㅠㅠㅠㅠ 하느님 부처님 24시간뒤에 하러올께요ㅜㅜㅜㅜ 제발 ㅜㅜㅜㅜㅜ\\n깔끔하고 일목요연하게 정리되어 있음\\n옷이 다양하고 무배라 좋아요~\\n제품도 많고 저렴하고 좋아요\\n다양하게 한번에 구매가능해서 좋아요\\n첫구매 할인적용해서 주문했는데 편하네요~^^\\n배송비 없어서 좋아요 예쁜거도 많아서 너무 좋아요\\n딸아이 선물 구매로 아주좋아요\\n좋은 상품 많아요\\n처음 지인소개로 앱구경해보고 구입했는데 너무 좋아요,\\n다양한 제품을 볼 수 있어서 편해요.\\n에이블리 검색하기 좋고 쇼핑하기 편해요\\n아 진짜 너무 좋아요 진짜... 벌써 패밀리에요!! 에이블리 너무 좋아요 ㅠㅠㅜㅡ\\n여기만큼 할인 많이하고 무료배송인 곳은 없는듯해요(제 기준)\\n제 친구가 바지를 입고왔는데 쉬원해보이고 이뻐서 어디서 샀냐고 물어보니까 에이블리 그러더라고요 제 키가 애매해서 바지가 제 마음에 딱드는 그런게 별로 없었는데 에이블리에서 건졌네요 배송이 좀 느려서 4점 줄까 하다가 옷보고 그 1점이 채워졌습니당ㅎㅎㅎ\\n좋아요 예쁜 옷 많아요 자주 사용합니다^^\\n여러가지 한꺼번에 볼수있어서 좋아요 감사합니다\\n검색기능이 좀 더 개발되었으면 좋겠어요.\\n되게편리하고좋아요\\n옷 살때 넘 편하게 잘 쓰구 잇음니다😊\\n가격을 정할수있어 좋고 학생이 사기에 거북하지 안아 좋다\\n배송비가 무료라서 좋아요!!\\n편하고 좋아요^^ 자주 이용하게될 앱이예요!!!^^\\n저렴하고 스타일좋음\\n전제품이 무료 배송이여서 좋아요\\n좋아요~ 만족합니다 적극추천드려요\\n가격에 비해 상품이 퀄리티가 높아요\\n저렴하면서도 고퀄이 많음~~~~\\n모든것이 무료 배송이라 넘넘 맘에들어욤^~^\\n옷이 모두 깔끔하고 예뻐요~!!\\n딸 옷 사줬더니 편하다고 하네요.\\n상품 리뷰를 확인할수 있어서 좋아요 ~\\n진짜 최근에 해서 하는법도 모르는데 옷 3개중 1개가 안와서 물어보려고 전화했는데 친절하게 얘기해주시고ㅠㅠ 너무 감사해요\\n무배에 제품도다양! 애용합니다\\n쿠폰도 많고 무료배송되서 좋아요\\n방금 쿠폰 받아서 4만원 넘는거 2만원초반에 샀어요 너무 좋네요 ㅠㅠ 기분째집니다\\n스타일 딱 맞게 골라줘서 넘 좋아여\\n큰옷이 좀 있어서 좋아요~\\n항상 쿠폰 안 좋은걸로만 줘요 저도 좀 좋은걸로 주세염 ....\\n마음에드는옷들도 많고 종류도많아서 좋아요\\n주문이 편리해요\\n딸아이쇼핑 앱 대부분이 무배라 넘 좋네요\\n좋은 상품 사고 있습니다\\n앱사용이 쉽고 이쁜옷이 많아 좋아요\\n사이즈별로 디테일하게 리뷰를 남길수있어서 편해요\\n사이즈도좋고 암튼 쇼핑하기다좋아요 ㅎ\\n원하는게 바로바로 나와서 편리하고 좋은것같아요!!\\n좋네여 ㅎㅎ 동생 추천으로 봣는데 애용할것 같아요\\n가입절차편함 이쁜옷많음 결제편함\\n4차로 연 에이블리 100만원쿠폰 당첨되게 해주세요ㅠㅠ 100만원 당첨되면 사비로도 옷 많이 살께욤ㅠㅠ🥺🥺 사고 싶은 옷이 너무 많은데 못사구 있어용 ㅜ 꼭 당첨되고 싶습니다. 이름은 표 라고 되있는 vlp입니다!!!❤❤\\n할인많이되서 넘넘좋아용\\n옷도 예쁘고 배송도 빨라요\\n간단하게 주문 방법 좋아요\\n다양하게 검색해서 좋아요\\n배송빠르고 좋아요\\n물건 받아보구 내 이야길 들려주지.,\\n쇼핑하기 편하고 좋아요\\n이쁜 상품이 너무 많아요❤❤❤\\n옷을 처음 사보는데 성공했어요,, 되게 친절하네요ㅠ\\n저렴하고 무배라 만족합니다\\n다양하고 예쁜옷이 넘 많아요^^\\n정말 좋은데 화면 색깔이 검정인것도 있으면 좋겠어요!좀만 어두운 곳에서 밝기를 낮춰도 눈이 좀 아프네여ㅠㅠ그리고 상품을 검색했을때 카테고리?에 후기 남기는곳에 만족도 나오는것도 설정하는거에 추가되면 좋겠고,상품 사진?을 볼때 확대할수 있으면 좋겠어요.상품을 자세히 보고싶은데 그게 가끔 안될때가 있어요.그래서 후기로 보는데 후기에 없을때고 있고요.이런 부분들을 조금식 수정 해주셨으면 좋겠어요.:)\\n만족해요. 쇼핑하기 좋은 구조\\n쿠폰도 주시고 무료배송 더 저렴한가격 굿\\n옷을 굉장히 잘 보여줘서 좋아요! 근데 옷감이나 1달 입어본 후기 같은 것도 있었으면 좋겠어요. 세탁 후 리뷰, 1달 착용 리뷰 등으로 옷이 얼마나 더 실용성 있고 더 오래 보관이 되는지 알고 싶습니다. 또한 옷소재에 대한 설명이랑 옷감 사진이 더 많았으면 좋겠어요!\\n계속 배송이 늦는다 그러시는데 그건 안에 입점되어있는 쇼핑몰 문제에요.. 잘쓰고잇어용\\n리뷰 낮은순 왜 없앤거죠? 너무 판매처 생각만 해주신거 같은데요. 쇼핑몰마다 사진이 정확하지 않은 경우도 있는데 여기서 피해받으면 제대로 알아보지 않았다고 고객탓 할 거 아닌가요? 직접 볼 수 없는 이상 사는 입장에선 별점이 낮은 사람들과 높은 사람들을 비교하고 사는 게 당연한 거라고 생각 안하세요?\\n이쁜옷도 많아서 정말 좋네요~~♡\\n진짜 진짜 완존 좋아용..ㅠ 옷도 싸고 여러가지 뭐 섬유향수나 그런 것들도 딴 곳보단 싸게 팔아서 좋은데 딱 한가지 아쉬운 점이 있다면 살때 포인트를 쓰는데 10%만 할인이 되서 좀 아쉬워요..ㅠ 거이 50개 가까이사서 포인트 만오천 몇 하는데 쿠폰이나 포인트 쓸 줄을 몰랐어서 썼는데 10%만 되서 아쉽네요.. 한 30%나 40%정도 되면 좋을텐데 말이죵..ㅠ\\n무료배송 진짜 최고!\\n아니 진짜 옷도 다 이쁘구 막 그런데 요몇일 접속이 안돼요 🥺🥺 인터넷 연결 안뜬다고 할때도 있고 에이블리 문구가 안뜨고 그냥 하얀 화면만 계속 있을때가 있어요:(( 다른 앱들은 다 괜찮은데 에이블리만 그레용ㅇ ㅠ 그것만 고쳐주세요!!\\n항상 즐거운 쇼칭 하고 있어요~~\\n여러모로 사용하기가 좋고 많은게 있어서 더욱 더 좋음\\n전 품목 무료배송이라 너무 좋은 것 같고. 옷이 하나하나 다 안이쁜게 없어서 너무 좋고. 옷부터 온갖 다양한 물건을 다양한 가격에 저렴하게 팔아서 좋고 특히 가방들이 너무 예뻐서 좋다. 다만 아쉬운점은 한번 주문할 때 하나의 쿠폰만 사용할 수 있어서 좀 아쉽고 쿠폰 사용 제한 금액이 말도 안되게 2000원권 주면서 10000원쓰라하고 70000원 쓰라하고 너무 무리예요. 날리는 경우가 많아 아쉽다.\\n다 좋은데 편의점 결제하고 취소를 했는데 안되요 마켓에 문의를 해도 답이 없고 편의점에서도 돈 환불이 안 된다 하고요 미치겠네요 어떻게든 해주세요(마켓마다 응닺시간이 달라서 12시간 기다려야하고 짧아도 3시간은 기다려야하는데 어떻게 좀 해주세요)\\n친구가 추천해서 깔았는데 좋네요\\n제발 밑으로 바로가기 좀 만들어주세요...ㅠ 맨 위로 가기는 있으면서 왜 맨 밑으로 가기는 없나요 제발 만들어주세요 제발제발 ㅠㅠ\\n배송비없고 각각 다른 쇼핑몰 가격합쳐서 쿠폰사용이되다니,, 대박이네요~ 에이블리 대표님 인터뷰에서 수수료를 최소화해서 마켓수를 늘렸다는 글을 봤었는데 더 애정하게 되더라구요~좋은마인드의 좋은기업이 잘되길 바랍니다^^\\n다양한 스타일의 옷과 악세사리, 신발 등이 있어서 좋아요! 그리고 무엇보다 배송비가 무료라는 점이 다른 어플과는 비교도 안될만큼 좋은점인것 같아요!! 물건을 구매하는 것도 너무 편하게 구매 할 수 있어요\\n첫 사용인데 편리하고 좋아요:)\\n저는.너무 좋았어요 배송이 평일만 3~4일 걸린다는거 빼고욥 !!\\n이용이 편리하고 무료배송이라 넘 좋고 합리적으로 운영되는 것 같아요!! 좋아요!!\\n편의점 결제가 정말 편한 것 같아요\\n예쁜옷들이 많아서 좋아요\\n맘에 드는 옷이 많네요\\n좋아요!! 무료배송!!!! 예쁘다!\\n옷 이쁜것도 많고요 가끔 무인통장으로 결제 했는데 주문 취소 될때도 있지만 해결 해줘서 정말 좋은거 같아요!! 진짜로 걱정 했는데ㅠㅠ 해결 해주셔서 감사합니다!! 진짜로 자주 이용하고 있어욧! 가격도 저렴한 옷도 많고 이벤트도 자주 하니깐 너무 좋은거 같아요!! 진짜 추천 해요오 문제 있으면 바로 바로 해결 해주시고 . 너무 고마워요 진짜 앞으로도 자주 이용할게욧\\n좋아요. 상품도 다양하고~~\\n초창기부터 이용했는데 그땐금액상관없이10퍼센트 쿠폰도주고좋았었는데 요샌그런것도 없고 배송이 다느려진거같고 품절된거는빨리 내려야하는데 구입한뒤에 몇일 기다리다가 품절됬다고 그런게많아서 취소하면 또 몇일기다려야되고 그런게짜증나네요 지그재그앱깔고있어요\\n옷 다 맘에 드는것밖에 없어요 -에이블리 단골자-\\n전체적으로 시스템도 마음에 들었고 무엇보다 여러 사이트에서 구매하는데도 배송비가 붙지않는 다는점에서 가장 크게 마음에 들었습니다 이전에 타 어플을 사용하려고 장바구니에 담았더니 배송비만 2~3만원이 나왔던 적이 있어서 더 크게 만족했던 것같아요 한 가지 바라는 점이 있다면 후기를 체형별, 구매사이즈별로 나눠볼 수 있는 기눙도 생기면 더 좋을 것같아요ㅜ\\n아니 진짜 이렇게 쿠폰이 많이주는 쇼핑몰 못 봤어 무료배송에 거의 매일매일 쿠폰주지 그것도 제한없는 할인쿠폰 진짜 에이블리 쓰고 나서 다른 쇼핑물 안 쓰고 있고,만원.십만원.이십만원 아낌없이 쿠폰 해주고 당첨 안 돼면 천원쿠폰도 주고 결제도 편의점,통장 다 되고 리얼로 에이블리 사랑해요ㅎㅎ\\n결제가 간편해서 너무 좋아요 처음 어플을 접해도 쉽게 잘 사용 할 수 있는 것 같아요 리뷰도 잘되어있어서 꼼꼼히 따져서 샀더니 실패할 확률도 줄어들었어요 ! 감사합니다 :)\\n검색하기너무좋고 종류도많고\\n이쁘고 싼 옷들도 많아서 학생들도 부담없이 구매하기 좋은 어플인 것 같아요. 많은 쇼핑몰을 이용해봤지만 에이블리가 가장 편하고 좋습니다. 가격설정도 편하고 간편결제도 있어서 구매할때 시간절약도 되구요. 앞으로 더 애용할 예정입니다!\\n진짜 최고의 쇼핑앱임,,,,, 옷도 내취향따라서 잘추천해주고 마켓도 다양하고 무엇보다 무료배송이 최고임,,,, 진짜 ㅈㄱㅈㄱ, ㅂㄹㄷ 다써봤는데 이것만큼 요긴한 쇼핑앱은 없음. 최고🥺👍💕\\n와 너무 좋아요 가격이랑 스타일대로 조절할수도있고 이쁜옷들도 많고요 근데 쿠폰을 한번에 쓸수없는건가요? 쿠폰이 여러개 생겼는데 한가지만 쓸수있네요...한번에 쿠폰을 쓸수있게 만들어주시면 더 좋을거같아요!\\n엄...일단 다 좋아요! 하지만 물건을 주문 할 때 쿠폰 적용 가능이 있는데 하나 밖에 못쓰더라구요?! 솔직히 쿠폰 하나라도 있으면 얼른얼른 사용하고 싶은데 저도 학생인지라 돈을 아껴야하고... 쿠폰 적용 가능이 예를 들면 7장 중에 6장인데 이 6장 다 쓰고 싶어요. 쿠폰이 1000원 짜리 3000원 짜리 7000원 짜리 등이 있는데 다 가격이 제한 되어 있잖아요...제가 총 사고 싶은 금액이 십만원이 넘는데 7000원만 쓰기엔...좀...그래서 쓸 수 있는 쿠폰들은 다 쓰고 싶어요...! 뭐 쿠폰 이런 것만 고쳐주세요...ㅜㅠㅜㅠㅠ 이거 말고는 다 좋아요!! 추천 상품들도 너무 예쁘고ㅠㅠㅠㅠㅠ❤❤\\n판매자 분들도 착하시고 무엇보다 무료뱌송이라서 그점이 매우 좋았고 한번도 싶패한게 없어서 신뢰감이 생겼어요\\n편하고 이쁜옷이 많아서 좋아요 그래서 조금 아쉬운점은 바지를 검색해서 들어가면 밑에 다른 상품들도 나오는데 이 바지와 매치했던 티셔츠가 너무 궁금한데 밑에 안나온다는게 너무 아쉬워요ㅠㅠ 찾기 힘들어요ㅠㅠ\\n안녕하세요! 에이블리 앱 진짜 잘쓰고 있습니당...진짜 제 최애 쇼핑앱이고요☆ 그런데 그 찜하기 할때 내가 만든 카테고리 별로 찜하기 할때마다 좀 불편한 점이 있거든요... 그 카테고리가 아마 만든 순서대로 인것같은데 잘 찜하지 않는 류의 카테고리가 그 순서때문에 항상 상위에 있어서 자주 찜하는 항목은 밑으로 매번 내려가야만 찜할 수 있다는게 좀 늘... 번거로워요ㅠㅠ 제가 카테고리를 좀 많이 만들어서 그런것도 있겠지만... 여튼 그래서 카테고리 순서를 제가 변경할 수 있었으면 좋겠어요ㅠㅠ 무조건 처음 한게 박제되는...그런거 말고요 그럼 이만!\\n저는 정말 만족하면서 사용하고 있어요!! 보풀이 잘 난다는데 그건 쇼핑몰 제품마다 다 다르다보니 저는 나지 않았고 예쁘고 싼 옷들이 너무 많아서 저같은 학생들이 이용하기 좋은 쇼핑앱이에요!!\\n제가 지그재그앱과 에이블리앱 다써봤는데 지그재그는 일단 느리고 기다리는 시간이 길어 솔직히 시간이 아깝습니다 반면 에이블리는 자체적으로 인터넷이아닌 완전한앱이기에 그닥 느리지 않아요 그리고 지그재그는 많은 양에 쇼핑몰이 있어 내가 원하는 옷들과 비슷한 옷을 찾아 비교해보기 편한 앱이고 에이블리도 편하긴 한데 지그재그보단 쇼핑몰이 많진 않아서 비교한 마켓,옷가지가 그렇게 많진 않아요 지그재그는 카테고리,연령별,내가 찾는 유형옷등이 따로존재합니다 마찬가지로 에이블리도 존재하고요 여기까진 둘다 비등비등해요 이걸보고 솔직히 에이블리가 제일 좋았는데 리뷰자체적으로 굉장히 솔직하고 평이 단호합니다 또한 쇼핑몰 많긴 하지만 지그재그보단 아니죠 그래서 옷자체를 많이보면서 살짝 눈이 아픈데 에이블리는 비교할 옷 재질등 쇼핑몰이 적어 금방 비교하고 정하고 시간절약이 되서 개인적으로 굉장히 좋았고 그냥 지그재그보단 편하고 시간절약되고 리뷰가 솔직하고 여러기능들 덕에 원하는 옷 금방찾고 편해요\\n옷 살때 잘 쓰고 있어요! 깔끔해서 옷 고르기도 편해용 근데 리뷰를 볼 때 필터가 있음 좋겠어요 나랑 스펙이 비슷한 사람의 리뷰를 보고 싶은데 찾는게 시간이 오래 걸려서 불편할 때가 종종 있더라구요 😭😭 그리고 다크 모드가 있었으면 좋겠어요 밤에 누워서 보다보면 너무 하얘서 눈이 아파요 ㅜ 이 두가지만 빼면 정말 좋은 앱이에요\\n전 품목 무료배송이라는 점과 다양한 상품들을 한눈에 볼 수 있어서 편리해요! 같은 디자인이라도 회사마다 가격과 미세한 디자인들이 다른데 쉽게 비교할 수 있다는게 큰 장점입니다\\n미쳣다 와 진짜 여러분 이거 대박이에요 진짜ㅠㅠ가격도 싼편 많고 무엇보다 09년생인데도 겁나 쉽게 결재 가능해요 품질도 거의다 좋고..말할 필요가 없어요..없는거 빼고 다 파니까 꼭 깔아요 젭알... +그리고 케이스도 겔럭시 진짜 많아서 조아요ㅠㅠ제가 a51 쓰고 있는데 그게 최신인데도 기종이 진짜 없는데 여긴 널려있어요..이걸 왜 이제 알았는지 모릅니다;;\\n저는 아주 만족스러운 앱이였어요 특히나 편의점 결제가 완전 좋더라구요 엄마 몰래 살수도 있고 편의점 결제는 정말정말 추천드립니다 또 옷이나 다른 제품들도 상태가 좋구요 저는 정말 만족합니다!\\n일단 무엇보다 모든 옷이 무료배송인것, 그리고 리뷰작성시 적립금이 큰게 최대 장점인것 같아요! 예쁜옷도 다양하고 원하는옷 찾아보기도 쉽네요.\\n안녕하세요~!!! 옷에 관심이 많은데 에이블리 덕분에 쇼핑욕구 가득 채우고 있습니다ㅎㅎ 그런데 에이블리 다 좋은데 혹시 자신이 찜한 스토어 볼 수 있게하는 기능은 없을까요....ㅠㅜ 제가 찜한 저만의 스타일들이 있는 스토어들을 한데 모아서 보고싶어요....ㅠㅜ\\n옷들이 넘호 예뻐용><\\n'"
            ]
          },
          "metadata": {
            "tags": []
          },
          "execution_count": 21
        }
      ]
    },
    {
      "cell_type": "code",
      "metadata": {
        "colab": {
          "base_uri": "https://localhost:8080/"
        },
        "id": "9uFVt1ZjizBR",
        "outputId": "8a356c49-412b-440e-cca6-6cf478ffd51e"
      },
      "source": [
        "tokens_ko = t.morphs(content_text)\n",
        "tokens_ko"
      ],
      "execution_count": 22,
      "outputs": [
        {
          "output_type": "execute_result",
          "data": {
            "text/plain": [
              "['여러',\n",
              " '지인',\n",
              " '들',\n",
              " '과',\n",
              " '머리핀',\n",
              " '몇개',\n",
              " '4만원',\n",
              " '상당',\n",
              " '주문',\n",
              " '했는데',\n",
              " '..',\n",
              " '3',\n",
              " '주',\n",
              " '나',\n",
              " '걸립니다',\n",
              " '..',\n",
              " '상품',\n",
              " '준비',\n",
              " '기간',\n",
              " '이',\n",
              " '1일',\n",
              " '이라는데',\n",
              " '..',\n",
              " '상품',\n",
              " '재고',\n",
              " '도',\n",
              " '없이',\n",
              " '판매',\n",
              " '하는',\n",
              " '마켓',\n",
              " '...',\n",
              " '배송',\n",
              " '지연',\n",
              " '이라',\n",
              " '메세지',\n",
              " '도',\n",
              " '없어',\n",
              " '.',\n",
              " '구매',\n",
              " '자',\n",
              " '가',\n",
              " '먼저',\n",
              " '말',\n",
              " '해야',\n",
              " '답변',\n",
              " '이',\n",
              " '랍시고',\n",
              " '주고',\n",
              " '..',\n",
              " '역시',\n",
              " '중국산',\n",
              " '..',\n",
              " '가격',\n",
              " '에',\n",
              " '비해',\n",
              " '퀄리티',\n",
              " '많이',\n",
              " '떨어져요',\n",
              " '..',\n",
              " '그',\n",
              " '마켓',\n",
              " '을',\n",
              " '믿은것보다',\n",
              " '.\"',\n",
              " '에이',\n",
              " '블리',\n",
              " '\"',\n",
              " '믿고',\n",
              " '주문',\n",
              " '했는데',\n",
              " '.',\n",
              " '완전',\n",
              " '실망',\n",
              " '스럽네요',\n",
              " '..',\n",
              " '이번',\n",
              " '거래',\n",
              " '끝나면',\n",
              " '탈퇴',\n",
              " '각',\n",
              " '이요',\n",
              " '.',\n",
              " '마켓',\n",
              " '대변인',\n",
              " '만',\n",
              " '하는',\n",
              " '대한민국',\n",
              " '1등',\n",
              " '쇼핑몰',\n",
              " '\\n',\n",
              " '이번',\n",
              " '업데이트',\n",
              " '진짜',\n",
              " '별로',\n",
              " '다',\n",
              " ';;',\n",
              " '왜',\n",
              " '한지',\n",
              " '모르겠음',\n",
              " '어느',\n",
              " '쇼핑몰',\n",
              " '에',\n",
              " '들어가서',\n",
              " '카테',\n",
              " '코리',\n",
              " '선택',\n",
              " '한',\n",
              " '후',\n",
              " '에',\n",
              " '옛날',\n",
              " '처럼',\n",
              " '정렬',\n",
              " ',',\n",
              " '키',\n",
              " ',',\n",
              " '색상',\n",
              " ',',\n",
              " '가격',\n",
              " '이런거',\n",
              " '선택',\n",
              " '할수',\n",
              " '있었으면',\n",
              " '좋겠음',\n",
              " '\\n',\n",
              " 'ㅇㄴ',\n",
              " '제',\n",
              " '가',\n",
              " '다른',\n",
              " '계정',\n",
              " '으로',\n",
              " '고데',\n",
              " '기를',\n",
              " '주문',\n",
              " '을',\n",
              " '했는데',\n",
              " '하루',\n",
              " '뒤',\n",
              " '에',\n",
              " '도착',\n",
              " '이라고',\n",
              " '떠서',\n",
              " '일이',\n",
              " '있어서',\n",
              " '몇',\n",
              " '시간',\n",
              " '뒤',\n",
              " '에',\n",
              " '찾으러',\n",
              " '갔는데',\n",
              " '없어요',\n",
              " '제',\n",
              " '돈',\n",
              " '만',\n",
              " '날린',\n",
              " '건지',\n",
              " '아님',\n",
              " '다른',\n",
              " '데',\n",
              " '로',\n",
              " '잘못',\n",
              " '배송',\n",
              " '이',\n",
              " '됬는지',\n",
              " '몰',\n",
              " '라도',\n",
              " '어떻',\n",
              " '게',\n",
              " '든',\n",
              " '배상',\n",
              " '받고싶습니다',\n",
              " '!!!',\n",
              " '😡😡',\n",
              " '\\n',\n",
              " '내',\n",
              " '변심',\n",
              " '으로',\n",
              " '환불',\n",
              " '한',\n",
              " '것',\n",
              " '도',\n",
              " '아니고',\n",
              " '쇼핑몰',\n",
              " '측',\n",
              " '에서',\n",
              " '품절',\n",
              " '되서',\n",
              " '환불',\n",
              " '해주겠다고',\n",
              " '했음',\n",
              " '.',\n",
              " '근데',\n",
              " '환불',\n",
              " '계좌',\n",
              " '를',\n",
              " '옛날',\n",
              " '에',\n",
              " '등록',\n",
              " '해',\n",
              " '놔서',\n",
              " '환불',\n",
              " '안내받자',\n",
              " '환불',\n",
              " '계좌',\n",
              " '바꾸고싶다고',\n",
              " '연락',\n",
              " '함',\n",
              " '.',\n",
              " '쇼핑몰',\n",
              " '측',\n",
              " '이',\n",
              " '답장',\n",
              " '하길',\n",
              " '자기',\n",
              " '네',\n",
              " '는',\n",
              " '이미',\n",
              " '환불',\n",
              " '완료',\n",
              " '해서',\n",
              " '에이',\n",
              " '블리',\n",
              " '측',\n",
              " '에',\n",
              " '문의',\n",
              " '하',\n",
              " '라',\n",
              " '함',\n",
              " '.',\n",
              " '에이',\n",
              " '블리',\n",
              " '측',\n",
              " '에',\n",
              " '바로',\n",
              " '문의',\n",
              " '함',\n",
              " '.',\n",
              " '안',\n",
              " '봄',\n",
              " '.',\n",
              " '결국',\n",
              " '변경',\n",
              " '안',\n",
              " '한',\n",
              " '채',\n",
              " '로',\n",
              " '당일',\n",
              " '환불',\n",
              " '됌',\n",
              " '.',\n",
              " '환불',\n",
              " '되자마자',\n",
              " '이미',\n",
              " '환불',\n",
              " '완료',\n",
              " '되서',\n",
              " '안된다고',\n",
              " '문의',\n",
              " '답장',\n",
              " '옴',\n",
              " '.',\n",
              " '이',\n",
              " '게뭐',\n",
              " '예',\n",
              " '영',\n",
              " 'ㅋㅋㅋㅋㅋ',\n",
              " '진짜',\n",
              " '개별',\n",
              " '로',\n",
              " '.',\n",
              " 'ㅎ',\n",
              " '연예인',\n",
              " '모델',\n",
              " '섭외',\n",
              " '할',\n",
              " '시간',\n",
              " '에',\n",
              " '더',\n",
              " '빠른',\n",
              " '컨슈머',\n",
              " '대응',\n",
              " '이',\n",
              " '훨씬',\n",
              " '필요할듯',\n",
              " '\\n',\n",
              " '여기는',\n",
              " '품절',\n",
              " '확인',\n",
              " '제대로',\n",
              " '안',\n",
              " '하시나요',\n",
              " '?',\n",
              " '매번',\n",
              " '품절',\n",
              " '이라고',\n",
              " '구매',\n",
              " '하고',\n",
              " '취소',\n",
              " '되고',\n",
              " '한번',\n",
              " '정도',\n",
              " '는',\n",
              " '이해',\n",
              " '하겠는데',\n",
              " '산거',\n",
              " '3',\n",
              " '번은',\n",
              " '그러네요',\n",
              " 'ㅎ',\n",
              " '진짜',\n",
              " '소비자',\n",
              " '두고',\n",
              " '장난',\n",
              " '질하는',\n",
              " '것',\n",
              " '도',\n",
              " '아니고',\n",
              " '중간',\n",
              " '에서',\n",
              " '중개',\n",
              " '하는',\n",
              " '거',\n",
              " '면',\n",
              " '제대로',\n",
              " '해야지',\n",
              " '가게',\n",
              " '랑',\n",
              " '품절',\n",
              " '확인',\n",
              " '도',\n",
              " '안',\n",
              " '하고',\n",
              " '판매',\n",
              " '만',\n",
              " '하면',\n",
              " '끝',\n",
              " '이다',\n",
              " '~',\n",
              " '이런',\n",
              " '건가',\n",
              " '요',\n",
              " '?',\n",
              " '마인드',\n",
              " '개별',\n",
              " '로',\n",
              " '네',\n",
              " '요',\n",
              " '\\n',\n",
              " '배송',\n",
              " '은',\n",
              " '느리고',\n",
              " '판매',\n",
              " '자',\n",
              " '는',\n",
              " '문의',\n",
              " '글',\n",
              " '에',\n",
              " '답',\n",
              " '도',\n",
              " '없고',\n",
              " '한참',\n",
              " '만에',\n",
              " '온',\n",
              " '물건',\n",
              " '은',\n",
              " '구',\n",
              " '매',\n",
              " '한',\n",
              " '거',\n",
              " '랑',\n",
              " '전혀',\n",
              " '다른',\n",
              " '옷',\n",
              " '이고',\n",
              " '반품',\n",
              " '신청',\n",
              " '했는데',\n",
              " '역시',\n",
              " '답',\n",
              " '은',\n",
              " '없고',\n",
              " '전화',\n",
              " '를',\n",
              " '해야',\n",
              " '해결',\n",
              " '이',\n",
              " '되려나',\n",
              " ';;',\n",
              " '\\n',\n",
              " '회원',\n",
              " '가입',\n",
              " '을',\n",
              " '하려고하니깐',\n",
              " '회원',\n",
              " '가입',\n",
              " '이',\n",
              " '되있다고',\n",
              " '해서',\n",
              " '아이디',\n",
              " '찾기',\n",
              " '해서',\n",
              " '아이디',\n",
              " '치고',\n",
              " '로그인',\n",
              " '하려고하면',\n",
              " '없는',\n",
              " '아이디',\n",
              " '라고',\n",
              " '하고',\n",
              " '그래서',\n",
              " '회원',\n",
              " '가입',\n",
              " '하려고하니깐',\n",
              " '있는',\n",
              " '아이디',\n",
              " '라고',\n",
              " '되있고',\n",
              " '문의',\n",
              " '하려고하니깐',\n",
              " '로그인',\n",
              " '하',\n",
              " '라고',\n",
              " '하면',\n",
              " '어떻게',\n",
              " '이용',\n",
              " '하죠',\n",
              " '??.....',\n",
              " '쓰고',\n",
              " '싶어도',\n",
              " '못',\n",
              " '쓰도록',\n",
              " '만들어져있으니',\n",
              " '할말이',\n",
              " '없네요',\n",
              " '\\n',\n",
              " '에이',\n",
              " '블리',\n",
              " '일',\n",
              " '을',\n",
              " '잘',\n",
              " '안',\n",
              " '하는것',\n",
              " '같에요',\n",
              " '.',\n",
              " '상품',\n",
              " '을',\n",
              " '일주일',\n",
              " '전',\n",
              " '에',\n",
              " '주문',\n",
              " '했는데',\n",
              " '갑자기',\n",
              " '일주일',\n",
              " '뒤',\n",
              " '에',\n",
              " '연락',\n",
              " '와',\n",
              " '서',\n",
              " '상품',\n",
              " '품절',\n",
              " '이라고',\n",
              " '하니',\n",
              " '황당했네요',\n",
              " '.',\n",
              " '품절',\n",
              " '확인',\n",
              " '좀',\n",
              " '제대로',\n",
              " '하면',\n",
              " '좋겠습니다',\n",
              " '.',\n",
              " '그냥',\n",
              " '브렌',\n",
              " '*',\n",
              " '을',\n",
              " '사용',\n",
              " '하는게',\n",
              " '더',\n",
              " '좋겠어요',\n",
              " '.',\n",
              " '\\n',\n",
              " '배송',\n",
              " '너무',\n",
              " '느리네요',\n",
              " '.',\n",
              " '질문',\n",
              " '했더니',\n",
              " '답변',\n",
              " '도',\n",
              " '불쾌하구요',\n",
              " '관리',\n",
              " '가',\n",
              " '잘',\n",
              " '안되는듯',\n",
              " '..?',\n",
              " '어플',\n",
              " '삭제',\n",
              " '합니다',\n",
              " '수고',\n",
              " '요',\n",
              " '.',\n",
              " '\\n',\n",
              " '요즘',\n",
              " '에이블리',\n",
              " '에',\n",
              " '실망',\n",
              " '이',\n",
              " '커지네요',\n",
              " '..',\n",
              " '배송',\n",
              " '도',\n",
              " '점점',\n",
              " '느려지고',\n",
              " '쿠폰',\n",
              " '수도',\n",
              " '줄어들고',\n",
              " '있어요',\n",
              " '.',\n",
              " '고급',\n",
              " '(?)',\n",
              " '회원',\n",
              " '일수록',\n",
              " '더',\n",
              " '다양한',\n",
              " '쿠폰',\n",
              " '을',\n",
              " '지급',\n",
              " '해야하는게',\n",
              " '당연한거',\n",
              " '아닌',\n",
              " '기요',\n",
              " '..?',\n",
              " '등급',\n",
              " '이',\n",
              " '올라갈수록',\n",
              " '낮은',\n",
              " '가격',\n",
              " '에',\n",
              " '사용',\n",
              " '가능한',\n",
              " '쿠폰',\n",
              " '이',\n",
              " '없어요',\n",
              " '.',\n",
              " '확대',\n",
              " '축소도',\n",
              " '안',\n",
              " '돼서',\n",
              " '불편한',\n",
              " '점',\n",
              " '이',\n",
              " '꽤',\n",
              " '있어요',\n",
              " '.',\n",
              " '그리고',\n",
              " '배송비',\n",
              " '가',\n",
              " '없어서',\n",
              " '좋아했는데',\n",
              " '다른',\n",
              " '곳',\n",
              " '에',\n",
              " '같은',\n",
              " '상품',\n",
              " '을',\n",
              " '찾아보니',\n",
              " '배송비',\n",
              " '가',\n",
              " '빠진',\n",
              " '가격',\n",
              " '으로',\n",
              " '팔고',\n",
              " '있더라구요',\n",
              " '.',\n",
              " '배송비',\n",
              " '없는',\n",
              " '척',\n",
              " '하고',\n",
              " '상품',\n",
              " '가격',\n",
              " '에',\n",
              " '배송비',\n",
              " '를',\n",
              " '포함',\n",
              " '해',\n",
              " '놓는건',\n",
              " '가요',\n",
              " '..?',\n",
              " '정말',\n",
              " '많은',\n",
              " '생각',\n",
              " '이',\n",
              " '드네',\n",
              " '요',\n",
              " '...',\n",
              " '\\n',\n",
              " '별',\n",
              " '주기도',\n",
              " '아깝네',\n",
              " '니',\n",
              " '들',\n",
              " '이',\n",
              " '택배',\n",
              " '사를',\n",
              " '잘',\n",
              " '했어야지',\n",
              " '어',\n",
              " '지연',\n",
              " '되가지고',\n",
              " '3',\n",
              " '주',\n",
              " '나',\n",
              " '밀렸는데',\n",
              " '그게',\n",
              " '말',\n",
              " '이냐',\n",
              " '방구',\n",
              " '어떻겠든',\n",
              " '이번',\n",
              " '주내로',\n",
              " '오게',\n",
              " '해',\n",
              " '라',\n",
              " '니',\n",
              " '들',\n",
              " '안',\n",
              " '그러면',\n",
              " '신고',\n",
              " '한다',\n",
              " '.',\n",
              " '\\n',\n",
              " '디자인',\n",
              " '만',\n",
              " '보고',\n",
              " '예쁘다고',\n",
              " '덥석',\n",
              " '구매',\n",
              " '하지',\n",
              " '마세요',\n",
              " '..',\n",
              " '품질',\n",
              " '보증',\n",
              " '기간',\n",
              " '이나',\n",
              " '반품',\n",
              " '및',\n",
              " '교환',\n",
              " '이',\n",
              " '어떤',\n",
              " '지도',\n",
              " '꼼꼼히',\n",
              " '따져',\n",
              " '보세요',\n",
              " '!',\n",
              " '손목시계',\n",
              " '구매',\n",
              " '했는데',\n",
              " '2',\n",
              " '주',\n",
              " '지나',\n",
              " '서',\n",
              " '멈춰서',\n",
              " '시',\n",
              " '계방',\n",
              " '갔더니',\n",
              " '고장',\n",
              " '나서',\n",
              " '멈춘거라고',\n",
              " '해서',\n",
              " '교환',\n",
              " '요청',\n",
              " '했더니',\n",
              " '일주일',\n",
              " '교환',\n",
              " '기간',\n",
              " '지난거라',\n",
              " '교환',\n",
              " '이',\n",
              " '어렵다고',\n",
              " '어이없는',\n",
              " '답변',\n",
              " '듣고',\n",
              " '시계',\n",
              " '버렸네요',\n",
              " '..',\n",
              " 'TV',\n",
              " '광고',\n",
              " '만',\n",
              " '해서',\n",
              " '물건',\n",
              " '팔줄만',\n",
              " '알',\n",
              " '지',\n",
              " '소비자',\n",
              " '의',\n",
              " '서비스',\n",
              " '정책',\n",
              " '은',\n",
              " '완전',\n",
              " '꽝',\n",
              " '이네',\n",
              " '요',\n",
              " '!',\n",
              " '저',\n",
              " '같은',\n",
              " '피해자',\n",
              " '가',\n",
              " '더',\n",
              " '안',\n",
              " '나오면',\n",
              " '좋겠네요',\n",
              " '.',\n",
              " '앱',\n",
              " '삭제',\n",
              " '합니다',\n",
              " '\\n',\n",
              " '다',\n",
              " '좋은데',\n",
              " '14',\n",
              " '세',\n",
              " '미만',\n",
              " '은',\n",
              " '스스로',\n",
              " '못',\n",
              " '시키나요',\n",
              " '?',\n",
              " '왜',\n",
              " '결제',\n",
              " '가',\n",
              " '안',\n",
              " '돼죠',\n",
              " '팔면',\n",
              " '안',\n",
              " '될거라도',\n",
              " '판',\n",
              " '것',\n",
              " '도',\n",
              " '아닌데',\n",
              " '왜',\n",
              " '못',\n",
              " '시키나용',\n",
              " 'ㅎ',\n",
              " '\\n',\n",
              " '인터넷',\n",
              " '에서',\n",
              " '똑같은',\n",
              " '거',\n",
              " '찾아보세요',\n",
              " '에이',\n",
              " '블리',\n",
              " '가격',\n",
              " '장난',\n",
              " '아니게',\n",
              " '부풀릴',\n",
              " '때',\n",
              " '가',\n",
              " '많아요',\n",
              " '\\n',\n",
              " '제발',\n",
              " '배송',\n",
              " '좀',\n",
              " '빨리',\n",
              " '왔으면',\n",
              " '좋겠어요',\n",
              " '.',\n",
              " '저번',\n",
              " '엔',\n",
              " '3',\n",
              " '주정',\n",
              " '도',\n",
              " '후',\n",
              " '에',\n",
              " '오고',\n",
              " '배송',\n",
              " '이',\n",
              " '느려서',\n",
              " '이',\n",
              " '젠',\n",
              " '이',\n",
              " '앱',\n",
              " '을',\n",
              " '통해',\n",
              " '옷',\n",
              " '을',\n",
              " '사는게',\n",
              " '줄거',\n",
              " '같네요',\n",
              " '.',\n",
              " '\\n',\n",
              " '이',\n",
              " '어플',\n",
              " '을',\n",
              " '깔',\n",
              " '기전',\n",
              " '에',\n",
              " '옷',\n",
              " '보다는',\n",
              " '악세사리',\n",
              " '를',\n",
              " '위해',\n",
              " '구매',\n",
              " '하는',\n",
              " '용도',\n",
              " '가',\n",
              " '좋을것',\n",
              " '같네요',\n",
              " '.',\n",
              " '기본',\n",
              " '적',\n",
              " '으로',\n",
              " '옷',\n",
              " '들',\n",
              " '을',\n",
              " '구매',\n",
              " '하면',\n",
              " '배송',\n",
              " '이',\n",
              " '너무',\n",
              " '늦어요',\n",
              " '주문',\n",
              " '하면',\n",
              " '계속',\n",
              " '상품',\n",
              " '준비',\n",
              " '중',\n",
              " '이라고',\n",
              " '만',\n",
              " '떠있고',\n",
              " '상품',\n",
              " '준비',\n",
              " '기간',\n",
              " '?',\n",
              " '며칠',\n",
              " '지나서',\n",
              " '보냈나하고',\n",
              " '확인',\n",
              " '하면',\n",
              " '여전히',\n",
              " '준비',\n",
              " '중',\n",
              " 'ㅋㅋㅋ',\n",
              " '악세사리',\n",
              " '는',\n",
              " '금방',\n",
              " '오던데',\n",
              " '옷',\n",
              " '은',\n",
              " '음',\n",
              " '..',\n",
              " '할',\n",
              " '많하',\n",
              " '않이예요',\n",
              " '.',\n",
              " '\\n',\n",
              " '판매',\n",
              " '처',\n",
              " '측',\n",
              " '도',\n",
              " '에이',\n",
              " '블리',\n",
              " '측',\n",
              " '도',\n",
              " '대',\n",
              " '응방',\n",
              " '식',\n",
              " '이',\n",
              " '넘',\n",
              " '늦어요',\n",
              " '심지어',\n",
              " '뜯지도',\n",
              " '않았는데',\n",
              " '반품',\n",
              " '안된다고',\n",
              " '하더라구요',\n",
              " '...',\n",
              " '반품',\n",
              " '안되면',\n",
              " '온라인쇼핑',\n",
              " '을',\n",
              " '어떻게',\n",
              " '합',\n",
              " '니까',\n",
              " '!',\n",
              " '배송비',\n",
              " '제',\n",
              " '가',\n",
              " '물',\n",
              " '고서',\n",
              " '라도',\n",
              " '반품',\n",
              " '한다는데',\n",
              " '왜',\n",
              " '안된다고하는지',\n",
              " '...',\n",
              " '참고',\n",
              " '로',\n",
              " '판매',\n",
              " '처',\n",
              " '측',\n",
              " '주장',\n",
              " '입니다',\n",
              " '..',\n",
              " '에이블리',\n",
              " '에서는',\n",
              " '기다리란',\n",
              " '말',\n",
              " '만',\n",
              " '4~5일',\n",
              " '째하고있네요',\n",
              " '이러면서',\n",
              " '7일',\n",
              " '채우려나',\n",
              " '봅니다',\n",
              " '\\n',\n",
              " '총',\n",
              " '3',\n",
              " '가지',\n",
              " '상품',\n",
              " '을',\n",
              " '주문',\n",
              " '했던',\n",
              " '사람',\n",
              " '입니다',\n",
              " '.',\n",
              " '다',\n",
              " '다른',\n",
              " '마켓',\n",
              " '이라는',\n",
              " '것',\n",
              " '을',\n",
              " '인지',\n",
              " '하고',\n",
              " '시켰음에도',\n",
              " '4일',\n",
              " '이나',\n",
              " '아무런',\n",
              " '문자',\n",
              " '없이',\n",
              " '상품',\n",
              " '준비',\n",
              " '중',\n",
              " '만',\n",
              " '뜨더라구요',\n",
              " '?',\n",
              " '그런데',\n",
              " '이상한',\n",
              " '건',\n",
              " '제',\n",
              " '아는',\n",
              " '지인',\n",
              " '이',\n",
              " '제',\n",
              " '가',\n",
              " '상품',\n",
              " '을',\n",
              " '구매',\n",
              " '한',\n",
              " '다음',\n",
              " '날',\n",
              " '저',\n",
              " '와',\n",
              " '똑같은',\n",
              " '제품',\n",
              " '을',\n",
              " '구매',\n",
              " '했는데',\n",
              " '지인',\n",
              " '은',\n",
              " '하루',\n",
              " '만에',\n",
              " '왔습니다',\n",
              " '.',\n",
              " '각기',\n",
              " '다른',\n",
              " '매장',\n",
              " '에서',\n",
              " '배송',\n",
              " '을',\n",
              " '한다고도',\n",
              " '했고',\n",
              " '배송',\n",
              " '지연',\n",
              " '이',\n",
              " '되면',\n",
              " '문자',\n",
              " '가',\n",
              " '온다는',\n",
              " '것',\n",
              " '도',\n",
              " '알겠는데',\n",
              " ',',\n",
              " '지인',\n",
              " '은',\n",
              " '하루',\n",
              " '만에',\n",
              " '배송',\n",
              " '되고',\n",
              " '지',\n",
              " '연',\n",
              " '알림',\n",
              " '문자',\n",
              " ...]"
            ]
          },
          "metadata": {
            "tags": []
          },
          "execution_count": 22
        }
      ]
    },
    {
      "cell_type": "code",
      "metadata": {
        "colab": {
          "base_uri": "https://localhost:8080/"
        },
        "id": "pkydZAXVjCDJ",
        "outputId": "38331232-7565-4802-d625-5d587dcd1019"
      },
      "source": [
        "ko = nltk.Text(tokens_ko)\n",
        "print(len(ko.tokens)) #토큰 전체 갯수\n",
        "print(len(set(ko.tokens))) # 토큰 unique 개수"
      ],
      "execution_count": 23,
      "outputs": [
        {
          "output_type": "stream",
          "text": [
            "75079\n",
            "9701\n"
          ],
          "name": "stdout"
        }
      ]
    },
    {
      "cell_type": "markdown",
      "metadata": {
        "id": "N6T69dmDHwVR"
      },
      "source": [
        "#### (1) 빈출 상위 100개 단어 (Stop words 포함)\n",
        "\n",
        "nltk.Text()를 사용하여 전체 리뷰에서 사용되었던 빈출 상위 100개에 대해서 추출하였다.\n",
        "\n",
        "해당 결과를 보면 불용어 (stop words)가 많이 들어있는 것을 확인할 수 있다."
      ]
    },
    {
      "cell_type": "code",
      "metadata": {
        "colab": {
          "base_uri": "https://localhost:8080/"
        },
        "id": "2SMWOQKOjSE9",
        "outputId": "4f3db866-3907-4865-93e0-f360b7971982"
      },
      "source": [
        "ko = nltk.Text(tokens_ko)\n",
        "ko.vocab().most_common(100)\n"
      ],
      "execution_count": 24,
      "outputs": [
        {
          "output_type": "execute_result",
          "data": {
            "text/plain": [
              "[('이', 1973),\n",
              " ('\\n', 1920),\n",
              " ('.', 1311),\n",
              " ('도', 1153),\n",
              " ('에', 1040),\n",
              " ('가', 994),\n",
              " ('을', 878),\n",
              " ('옷', 795),\n",
              " ('배송', 730),\n",
              " ('..', 606),\n",
              " ('안', 577),\n",
              " ('은', 548),\n",
              " ('상품', 523),\n",
              " ('를', 511),\n",
              " ('너무', 509),\n",
              " ('들', 491),\n",
              " ('다', 488),\n",
              " ('앱', 397),\n",
              " ('는', 388),\n",
              " ('만', 359),\n",
              " ('?', 354),\n",
              " ('하고', 338),\n",
              " ('한', 332),\n",
              " ('...', 328),\n",
              " ('요', 325),\n",
              " (',', 323),\n",
              " ('것', 322),\n",
              " ('에서', 297),\n",
              " ('으로', 295),\n",
              " ('좀', 294),\n",
              " ('로', 281),\n",
              " ('좋아요', 270),\n",
              " ('쿠폰', 268),\n",
              " ('주문', 266),\n",
              " ('제', 261),\n",
              " ('수', 251),\n",
              " ('진짜', 250),\n",
              " ('에이', 249),\n",
              " ('취소', 238),\n",
              " ('무료', 238),\n",
              " ('구매', 232),\n",
              " ('때', 228),\n",
              " ('할', 225),\n",
              " ('리뷰', 225),\n",
              " ('다른', 224),\n",
              " ('잘', 224),\n",
              " ('!', 218),\n",
              " ('블리', 214),\n",
              " ('좋은데', 212),\n",
              " ('가격', 211),\n",
              " ('결제', 208),\n",
              " ('못', 202),\n",
              " ('했는데', 194),\n",
              " ('해서', 187),\n",
              " ('환불', 186),\n",
              " ('왜', 183),\n",
              " ('더', 181),\n",
              " ('사용', 181),\n",
              " ('거', 179),\n",
              " ('점', 179),\n",
              " ('그', 176),\n",
              " ('문의', 171),\n",
              " ('많이', 164),\n",
              " ('그리고', 163),\n",
              " ('쇼핑몰', 159),\n",
              " ('고', 159),\n",
              " ('ㅠㅠ', 157),\n",
              " ('같아요', 153),\n",
              " ('에이블리', 150),\n",
              " ('검색', 149),\n",
              " ('정말', 148),\n",
              " ('마켓', 147),\n",
              " ('의', 147),\n",
              " ('개', 147),\n",
              " ('계속', 146),\n",
              " ('제품', 144),\n",
              " ('주', 139),\n",
              " ('1', 137),\n",
              " ('중', 134),\n",
              " ('저', 133),\n",
              " ('케이스', 133),\n",
              " ('하면', 131),\n",
              " ('가입', 129),\n",
              " ('다시', 127),\n",
              " ('좋겠어요', 126),\n",
              " ('배송비', 126),\n",
              " ('나', 125),\n",
              " ('하는', 125),\n",
              " ('적', 123),\n",
              " ('품절', 122),\n",
              " ('서', 122),\n",
              " ('이라', 121),\n",
              " ('하나', 120),\n",
              " ('내', 118),\n",
              " ('전', 118),\n",
              " ('게', 117),\n",
              " ('어플', 117),\n",
              " ('인', 116),\n",
              " ('근데', 115),\n",
              " ('좋은', 114)]"
            ]
          },
          "metadata": {
            "tags": []
          },
          "execution_count": 24
        }
      ]
    },
    {
      "cell_type": "markdown",
      "metadata": {
        "id": "ji8Ue79NHpvq"
      },
      "source": [
        "#### (2) 불용어 제거 후 상위 50위 다시 확인 "
      ]
    },
    {
      "cell_type": "code",
      "metadata": {
        "id": "_PKKz3Wijjid"
      },
      "source": [
        "stop_words = ['.','좋은데','할','정말','나','안','하고','만','의','주','개','!','한','에서','더','그','저','ㅠㅠ','?',',','\\n','가','요','...','을','수','에','질문','제','를','이','도','좋','1','는','로','으로','2','것','은','다',',','니다','대','들','데','..','2020','2021','때','것','고','거','좀','는데','~','ㅎㅎ','하나','이상','뭐','까','있는','잘','습니다','다면','했','주려','지','있','못','후','줄','중','과','어떤','다면','잘','습니다','했','주려','지','있','못','어떤','과','중요한','단어','라고','가요','까요','....','ㅋㅋ','ㅋㅋㅋ','보이','네']"
      ],
      "execution_count": 25,
      "outputs": []
    },
    {
      "cell_type": "code",
      "metadata": {
        "colab": {
          "base_uri": "https://localhost:8080/"
        },
        "id": "wYQ4jU_mkhLP",
        "outputId": "06ff7867-f2b8-47bf-a9e7-188527a29374"
      },
      "source": [
        "tokens_ko = [each_word for each_word in tokens_ko \n",
        "           if each_word not in stop_words]\n",
        "\n",
        "ko = nltk.Text(tokens_ko)\n",
        "data = ko.vocab().most_common(50)\n",
        "data"
      ],
      "execution_count": 26,
      "outputs": [
        {
          "output_type": "execute_result",
          "data": {
            "text/plain": [
              "[('옷', 795),\n",
              " ('배송', 730),\n",
              " ('상품', 523),\n",
              " ('너무', 509),\n",
              " ('앱', 397),\n",
              " ('좋아요', 270),\n",
              " ('쿠폰', 268),\n",
              " ('주문', 266),\n",
              " ('진짜', 250),\n",
              " ('에이', 249),\n",
              " ('취소', 238),\n",
              " ('무료', 238),\n",
              " ('구매', 232),\n",
              " ('리뷰', 225),\n",
              " ('다른', 224),\n",
              " ('블리', 214),\n",
              " ('가격', 211),\n",
              " ('결제', 208),\n",
              " ('했는데', 194),\n",
              " ('해서', 187),\n",
              " ('환불', 186),\n",
              " ('왜', 183),\n",
              " ('사용', 181),\n",
              " ('점', 179),\n",
              " ('문의', 171),\n",
              " ('많이', 164),\n",
              " ('그리고', 163),\n",
              " ('쇼핑몰', 159),\n",
              " ('같아요', 153),\n",
              " ('에이블리', 150),\n",
              " ('검색', 149),\n",
              " ('마켓', 147),\n",
              " ('계속', 146),\n",
              " ('제품', 144),\n",
              " ('케이스', 133),\n",
              " ('하면', 131),\n",
              " ('가입', 129),\n",
              " ('다시', 127),\n",
              " ('좋겠어요', 126),\n",
              " ('배송비', 126),\n",
              " ('하는', 125),\n",
              " ('적', 123),\n",
              " ('품절', 122),\n",
              " ('서', 122),\n",
              " ('이라', 121),\n",
              " ('내', 118),\n",
              " ('전', 118),\n",
              " ('게', 117),\n",
              " ('어플', 117),\n",
              " ('인', 116)]"
            ]
          },
          "metadata": {
            "tags": []
          },
          "execution_count": 26
        }
      ]
    },
    {
      "cell_type": "code",
      "metadata": {
        "colab": {
          "base_uri": "https://localhost:8080/",
          "height": 379
        },
        "id": "_iHE2BAxlP-I",
        "outputId": "2f741367-8389-4541-ea12-6697df2e66cb"
      },
      "source": [
        "# 시각화\n",
        "import matplotlib.pyplot as plt\n",
        "import seaborn as sns\n",
        "import graphviz\n",
        "from sklearn.tree import export_graphviz\n",
        "\n",
        "plt.rc('font', family='NanumBarunGothic') \n",
        "plt.figure(figsize=(30,10))\n",
        "ko.plot(50)\n",
        "\n",
        "plt.show()"
      ],
      "execution_count": 27,
      "outputs": [
        {
          "output_type": "display_data",
          "data": {
            "image/png": "[encoded data removed]",
            "text/plain": [
              "<Figure size 2160x720 with 1 Axes>"
            ]
          },
          "metadata": {
            "tags": []
          }
        }
      ]
    },
    {
      "cell_type": "markdown",
      "metadata": {
        "id": "HsX9fHVzKix6"
      },
      "source": [
        "\n",
        "stop words 리스트를 만들고 제거하여, 새롭게 상위 50개를 추출하여 에이블리 서비스의 장단점에 대해서 추측해볼 수 있었다.\n",
        "\n",
        "- 장점 \n",
        "1. 빠른 서비스 : 전체적으로 옷, 배송, 상품에 대한 단어가 상대적으로 많이 들어가 있었으며 '좋아요'라는 단어의 빈도수를 파악하였을 때 기본적인 서비스에 대한 만족도가 많은 것으로 예상할 수 있음\n",
        "2. 무료 배송 : 배송이 무료인 부분이 사용자의 입장에서 큰 부분이기 때문에 큰 만족도를 줄 수 있었을 것으로 예상됨\n",
        "3. 쿠폰 제공 : 다른 서비스에 비해서 에이블리의 쿠폰 제공이 잘 이루어지고 있음을 확인할 수 있음\n",
        "\n",
        "\n",
        "- 단점 (아마도 1:1 응답 서비스에서 해결하지 못하는 부분이 어플 리뷰로 넘어왔을 것이다.)\n",
        "1. 품절 : 다양한 옷가게들을 에이블리 하나로 사용하다보니, 품절에 대한 부분이 잦을 수 밖에 없음 \n",
        "2. 환불 : 환불에 대한 문제를 제대로 해결받지 못하는 부분이 존재하고 있음"
      ]
    },
    {
      "cell_type": "code",
      "metadata": {
        "colab": {
          "base_uri": "https://localhost:8080/",
          "height": 254
        },
        "id": "bPRfg9azljYb",
        "outputId": "8bc44023-a5c3-4d70-ecfd-e8311df4d112"
      },
      "source": [
        "from wordcloud import WordCloud\n",
        "\n",
        "wordcloud = WordCloud(font_path='/content/drive/MyDrive/ddive/applemyungjo-regular.ttf',\n",
        "                      relative_scaling =0.2,\n",
        "                      background_color = 'white',).generate_from_frequencies(dict(data))\n",
        "plt.figure()\n",
        "plt.imshow(wordcloud)\n",
        "plt.axis(\"off\")\n",
        "plt.show()"
      ],
      "execution_count": 39,
      "outputs": [
        {
          "output_type": "display_data",
          "data": {
            "image/png": "[encoded data removed]",
            "text/plain": [
              "<Figure size 576x396 with 1 Axes>"
            ]
          },
          "metadata": {
            "tags": []
          }
        }
      ]
    },
    {
      "cell_type": "markdown",
      "metadata": {
        "id": "-o-jmsPCfxLP"
      },
      "source": [
        "### 4.    Run LDA topic modeling and try to find insights from modeling."
      ]
    },
    {
      "cell_type": "markdown",
      "metadata": {
        "id": "ciulXeJNfxLP"
      },
      "source": [
        "#### 데이터 전처리 / 불용어 제거"
      ]
    },
    {
      "cell_type": "code",
      "metadata": {
        "scrolled": true,
        "colab": {
          "base_uri": "https://localhost:8080/"
        },
        "id": "g421LaPBfxLQ",
        "outputId": "4bd8a684-f675-4696-aa7e-ed5e2ec8df84"
      },
      "source": [
        "# 불용어 제거\n",
        "import re\n",
        "re.compile('<title>(.*)</title>')\n",
        "\n",
        "def preprocessing(text):\n",
        "    # 개행문자 제거\n",
        "    text = re.sub('\\\\\\\\n',' ', text)\n",
        "    text = re.sub('[.,;:\\)(*?!~#$%&=#}{ㄱㄴㄷㄹㅁㅂㅅㅇㅈㅊㅋㅌㅍㅎㅠㅜ]','',text)\n",
        "    #중복생성 공백값\n",
        "    text = re.sub(' +', ' ', text)\n",
        "    return text\n",
        "                  \n",
        "def remove_stopwords(text):\n",
        "    tokens = text.split(' ')\n",
        "    stops = \"어요 아 휴 아이구 아이쿠 아이고 어 나 우리 저희 따라 의해 을 를 에 의 가 으로 로 에게 뿐이다 의거하여 근거하여 입각하여 기준으로 예하면 예를 들면 예를 들자면 저 소인 소생 저희 지말고 하지마 하지마라 다른 물론 또한 그리고 비길수 없다 해서는 안된다 뿐만 아니라 만이 아니다 만은 아니다 막론하고 관계없이 그치지 않다 그러나 그런데 하지만 든간에 논하지 않다 따지지 않다 설사 비록 더라도 아니면 만 못하다 하는 편이 낫다 불문하고 향하여 향해서 향하다 쪽으로 틈타 이용하여 타다 오르다 제외하고 이 외에 이 밖에 하여야 비로소 한다면 몰라도 외에도 이곳 여기 부터 기점으로 따라서 할 생각이다 하려고하다 이리하여 그리하여 그렇게 함으로써 하지만 일때 할때 앞에서 중에서 보는데서 으로써 로써 까지 해야한다 일것이다 반드시 할줄알다 할수있다 할수있어 임에 틀림없다 한다면 등 등등 제 겨우 단지 다만 할뿐 딩동 댕그 대해서 대하여 대하면 훨씬 얼마나 얼마만큼 얼마큼 남짓 여 얼마간 약간 다소 좀 조금 다수 몇 얼마 지만 하물며 또한 그러나 그렇지만 하지만 이외에도 대해 말하자면 뿐이다 다음에 반대로 반대로 말하자면 이와 반대로 바꾸어서 말하면 바꾸어서 한다면 만약 그렇지않으면 까악 툭 딱 삐걱거리다 보드득 비걱거리다 꽈당 응당 해야한다 에 가서 각 각각 여러분 각종 각자 제각기 하도록하다 와 과 그러므로 그래서 고로 한 까닭에 하기 때문에 거니와 이지만 대하여 관하여 관한 과연 실로 아니나다를가 생각한대로 진짜로 한적이있다 하곤하였다 하 하하 허허 아하 거바 와 오 왜 어째서 무엇때문에 어찌 하겠는가 무슨 어디 어느곳 더군다나 하물며 더욱이는 어느때 언제 야 이봐 어이 여보시오 흐흐 흥 휴 헉헉 헐떡헐떡 영차 여차 어기여차 끙끙 아야 앗 아야 콸콸 졸졸 좍좍 뚝뚝 주룩주룩 솨 우르르 그래도 또 그리고 바꾸어말하면 바꾸어말하자면 혹은 혹시 답다 및 그에 따르는 때가 되어 즉 지든지 설령 가령 하더라도 할지라도 일지라도 지든지 몇 거의 하마터면 인젠 이젠 된바에야 된이상 만큼 어찌됏든 그위에 게다가 점에서 보아 비추어 보아 고려하면 하게될것이다 일것이다 비교적 좀 보다더 비하면 시키다 하게하다 할만하다 의해서 연이서 이어서 잇따라 뒤따라 뒤이어 결국 의지하여 기대여 통하여 자마자 더욱더 불구하고 얼마든지 마음대로 주저하지 않고 곧 즉시 바로 당장 하자마자 밖에 안된다 하면된다 그래 그렇지 요컨대 다시 말하자면 바꿔 말하면 즉 구체적으로 말하자면 시작하여 시초에 이상 허 헉 허걱 바와같이 해도좋다 해도된다 게다가 더구나 하물며 와르르 팍 퍽 펄렁 동안 이래 하고있었다 이었다 에서 로부터 까지 예하면 했어요 해요 함께 같이 더불어 마저 마저도 양자 모두 습니다 가까스로 하려고하다 즈음하여 다른 다른 방면으로 해봐요 습니까 했어요 말할것도 없고 무릎쓰고 개의치않고 하는것만 못하다 하는것이 낫다 매 매번 들 모 어느것 어느 로써 갖고말하자면 어디 어느쪽 어느것 어느해 어느 년도 라 해도 언젠가 어떤것 어느것 저기 저쪽 저것 그때 그럼 그러면 요만한걸 그래 그때 저것만큼 그저 이르기까지 할 줄 안다 할 힘이 있다 너 너희 당신 어찌 설마 차라리 할지언정 할지라도 할망정 할지언정 구토하다 게우다 토하다 메쓰겁다 옆사람 퉤 쳇 의거하여 근거하여 의해 따라 힘입어 그 다음 버금 두번째로 기타 첫번째로 나머지는 그중에서 견지에서 형식으로 쓰여 입장에서 위해서 단지 의해되다 하도록시키다 뿐만아니라 반대로 전후 전자 앞의것 잠시 잠깐 하면서 그렇지만 다음에 그러한즉 그런즉 남들 아무거나 어찌하든지 같다 비슷하다 예컨대 이럴정도로 어떻게 만약 만일 위에서 서술한바와같이 인 듯하다 하지 않는다면 만약에 무엇 무슨 어느 어떤 아래윗 조차 한데 그럼에도 불구하고 여전히 심지어 까지도 조차도 하지 않도록 않기 위하여 때 시각 무렵 시간 동안 어때 어떠한 하여금 네 예 우선 누구 누가 알겠는가 아무도 줄은모른다 줄은 몰랏다 하는 김에 겸사겸사 하는바 그런 까닭에 한 이유는 그러니 그러니까 때문에 그 너희 그들 너희들 타인 것 것들 너 위하여 공동으로 동시에 하기 위하여 어찌하여 무엇때문에 붕붕 윙윙 나 우리 엉엉 휘익 윙윙 오호 아하 어쨋든 만 못하다 하기보다는 차라리 하는 편이 낫다 흐흐 놀라다 상대적으로 말하자면 마치 아니라면 쉿 그렇지 않으면 그렇지 않다면 안 그러면 아니었다면 하든지 아니면 이라면 좋아 알았어 하는것도 그만이다 어쩔수 없다 하나 일 일반적으로 일단 한켠으로는 오자마자 이렇게되면 이와같다면 전부 한마디 한항목 근거로 하기에 아울러 하지 않도록 않기 위해서 이르기까지 이 되다 로 인하여 까닭으로 이유만으로 이로 인하여 그래서 이 때문에 그러므로 그런 까닭에 알 수 있다 결론을 낼 수 있다 으로 인하여 있다 어떤것 관계가 있다 관련이 있다 연관되다 어떤것들 에 대해 이리하여 그리하여 여부 하기보다는 하느니 하면 할수록 운운 이러이러하다 하구나 하도다 다시말하면 다음으로 에 있다 에 달려 있다 우리 우리들 오히려 하기는한데 어떻게 어떻해 어찌됏어 어때 어째서 본대로 자 이 이쪽 여기 이것 이번 이렇게말하자면 이런 이러한 이와 같은 요만큼 요만한 것 얼마 안 되는 것 이만큼 이 정도의 이렇게 많은 것 이와 같다 이때 이렇구나 것과 같이 끼익 삐걱 따위 와 같은 사람들 부류의 사람들 왜냐하면 중의하나 오직 오로지 에 한하다 하기만 하면 도착하다 까지 미치다 도달하다 정도에 이르다 할 지경이다 결과에 이르다 관해서는 여러분 하고 있다 한 후 혼자 자기 자기집 자신 우에 종합한것과같이 총적으로 보면 총적으로 말하면 총적으로 대로 하다 으로서 참 그만이다 할 따름이다 쿵 탕탕 쾅쾅 둥둥 봐 봐라 아이야 아니 와아 응 아이 참나 년 월 일 령 영 일 이 삼 사 오 육 륙 칠 팔 구 이천육 이천칠 이천팔 이천구 하나 둘 셋 넷 다섯 여섯 일곱 여덟 아홉 령 영 이 있 하 것 들 그 되 수 이 보 않 없 나 사람 주 아니 등 같 우리 때 년 가 한 지 대하 오 말 일 그렇 위하 때문 그것 두 말하 알 그러나 받 못하 일 그런 또 문제 더 사회 많 그리고 좋 크 따르 중 나오 가지 씨 시키 만들 지금 생각하 그러 속 하나 집 살 모르 적 월 데 자신 안 어떤 내 내 경우 명 생각 시간 그녀 다시 이런 앞 보이 번 나 다른 어떻 여자 개 전 들 사실 이렇 점 싶 말 정도 좀 원 잘 통하 놓\"\n",
        "    meaningful_words = [w for w in tokens if not w in stops]\n",
        "    return ' '.join(meaningful_words)\n",
        "\n",
        "review['NEW'] = review['comment'].apply(remove_stopwords)\n",
        "review['NEW'] = review['NEW'].apply(preprocessing)\n",
        "review['NEW'].head(10)"
      ],
      "execution_count": 30,
      "outputs": [
        {
          "output_type": "execute_result",
          "data": {
            "text/plain": [
              "0    여러지인들과 머리핀몇개4만원상당 주문했는데3주나걸립니다상품준비기간이1일이라는데상품재...\n",
              "1    업데이트 별로다 한지 모르겠음 쇼핑몰에 들어가서 카테코리 선택한 후에 옛날처럼 정렬...\n",
              "2    제가 계정으로 고데기를 주문을 했는데 하루뒤에 도착이라고 떠서 일이 있어서 몇시간 ...\n",
              "3    변심으로 환불한것도 아니고 쇼핑몰측에서 품절되서 환불해주겠다고했음 근데 환불계좌를 ...\n",
              "4    여기는 품절 확인 제대로 안하시나요 품절이라고 구매하고 취소되고 한번정도는 이해하겠...\n",
              "5    배송은 느리고 판매자는 문의글에 답도 한참 만에 온 물건은 구매한거랑 전혀 옷 반품...\n",
              "6    회원가입을 하려고하니깐 회원가입이 되있다고해서 아이디 찾기해서 아이디 치고 로그인하...\n",
              "7    에이블리 일을 안하는것 같에요 상품을 일주일 전에 주문했는데 갑자기 일주일뒤에 연락...\n",
              "8     배송 너무 느리네요 질문했더니 답변도 불쾌하구요 관리가 안되는듯 어플 삭제합니다 수고요\n",
              "9    요즘 에이블리에 실망이 커지네요 배송도 점점 느려지고 쿠폰수도 줄어들고 있어요 고급...\n",
              "Name: NEW, dtype: object"
            ]
          },
          "metadata": {
            "tags": []
          },
          "execution_count": 30
        }
      ]
    },
    {
      "cell_type": "markdown",
      "metadata": {
        "id": "Xwf_ew9wfxLQ"
      },
      "source": [
        "#### 전처리 (주어, 불필요한 조사 등등 제거)"
      ]
    },
    {
      "cell_type": "code",
      "metadata": {
        "colab": {
          "base_uri": "https://localhost:8080/"
        },
        "id": "7hBykZXld_BB",
        "outputId": "15583416-2ac6-496a-f558-d0db105eecdd"
      },
      "source": [
        "import nltk\n",
        "\n",
        "nltk.download('punkt')\n",
        "\n",
        "review['NEW'] = review.apply(lambda row: nltk.word_tokenize(row['NEW']), axis=1)"
      ],
      "execution_count": 31,
      "outputs": [
        {
          "output_type": "stream",
          "text": [
            "[nltk_data] Downloading package punkt to /root/nltk_data...\n",
            "[nltk_data]   Package punkt is already up-to-date!\n"
          ],
          "name": "stdout"
        }
      ]
    },
    {
      "cell_type": "code",
      "metadata": {
        "colab": {
          "base_uri": "https://localhost:8080/"
        },
        "id": "GT5Zp0GlfxLR",
        "outputId": "908aae3f-e6d8-46c6-e390-d1773e4a0206"
      },
      "source": [
        "tokenized_doc = review['NEW'].apply(lambda x: [word for word in x if len(word) < 5 and len(word) > 2])\n",
        "len_star = len(tokenized_doc)\n",
        "len_star\n",
        "\n",
        "tokenized_doc.head(10)"
      ],
      "execution_count": 32,
      "outputs": [
        {
          "output_type": "execute_result",
          "data": {
            "text/plain": [
              "0              [판매하는, 메세지도, 구매자가, 말해야, 퀄리티, 에이블리, 끝나면]\n",
              "1    [업데이트, 별로다, 모르겠음, 쇼핑몰에, 들어가서, 카테코리, 선택한, 옛날처럼,...\n",
              "2    [계정으로, 고데기를, 주문을, 했는데, 하루뒤에, 있어서, 몇시간, 찾으러, 갔는...\n",
              "3    [변심으로, 아니고, 품절되서, 옛날에, 환불계좌, 연락함, 답장하길, 자기네는, ...\n",
              "4    [여기는, 제대로, 구매하고, 취소되고, 3번은, 그러네요, 소비자, 아니고, 중간...\n",
              "5     [배송은, 느리고, 판매자는, 문의글에, 물건은, 답은없고, 전화를, 해결이, 되려나]\n",
              "6    [아이디, 찾기해서, 아이디, 회원가입, 되있고, 이용하죠, 싶어도, 못쓰도록, 할...\n",
              "7    [에이블리, 안하는것, 같에요, 상품을, 일주일, 갑자기, 연락와서, 확인좀, 제대...\n",
              "8                          [느리네요, 답변도, 관리가, 안되는듯, 수고요]\n",
              "9    [실망이, 커지네요, 배송도, 느려지고, 쿠폰수도, 줄어들고, 있어요, 다양한, 쿠...\n",
              "Name: NEW, dtype: object"
            ]
          },
          "metadata": {
            "tags": []
          },
          "execution_count": 32
        }
      ]
    },
    {
      "cell_type": "code",
      "metadata": {
        "colab": {
          "base_uri": "https://localhost:8080/"
        },
        "id": "9Z2MC4FbfxLT",
        "outputId": "a393cb6c-1d29-4712-e2d9-a8d603d9eeb4"
      },
      "source": [
        "tokenized_doc[300]"
      ],
      "execution_count": 33,
      "outputs": [
        {
          "output_type": "execute_result",
          "data": {
            "text/plain": [
              "['보기도',\n",
              " '안되고',\n",
              " '사용했던',\n",
              " '쿠폰을',\n",
              " '준대요',\n",
              " '변심으로',\n",
              " '주문취소',\n",
              " '할수도',\n",
              " '있는데',\n",
              " '쿠폰은',\n",
              " '앱들과',\n",
              " '비교가',\n",
              " '주문한',\n",
              " '환불처리',\n",
              " '할꺼임']"
            ]
          },
          "metadata": {
            "tags": []
          },
          "execution_count": 33
        }
      ]
    },
    {
      "cell_type": "code",
      "metadata": {
        "colab": {
          "base_uri": "https://localhost:8080/"
        },
        "id": "zyqZcPkcfxLW",
        "outputId": "4641b702-573b-4d2c-e3d6-f66a003ccbca"
      },
      "source": [
        "# 역토큰화 (토큰화 작업을 되돌림)\n",
        "\n",
        "detokenized_doc = []\n",
        "for i in range(len(review)):\n",
        "    t = ' '.join(tokenized_doc[i])\n",
        "    detokenized_doc.append(t)\n",
        "\n",
        "review['NEW_full'] = detokenized_doc\n",
        "\n",
        "review['NEW_full'][:5]"
      ],
      "execution_count": 34,
      "outputs": [
        {
          "output_type": "execute_result",
          "data": {
            "text/plain": [
              "0                      판매하는 메세지도 구매자가 말해야 퀄리티 에이블리 끝나면\n",
              "1    업데이트 별로다 모르겠음 쇼핑몰에 들어가서 카테코리 선택한 옛날처럼 이런거 선택할수...\n",
              "2    계정으로 고데기를 주문을 했는데 하루뒤에 있어서 몇시간 찾으러 갔는데 없어요 제돈만...\n",
              "3    변심으로 아니고 품절되서 옛날에 환불계좌 연락함 답장하길 자기네는 문의함 환불됌 안...\n",
              "4    여기는 제대로 구매하고 취소되고 3번은 그러네요 소비자 아니고 중간에서 중개하는 제...\n",
              "Name: NEW_full, dtype: object"
            ]
          },
          "metadata": {
            "tags": []
          },
          "execution_count": 34
        }
      ]
    },
    {
      "cell_type": "markdown",
      "metadata": {
        "id": "cHP1mIFSfxLX"
      },
      "source": [
        "#### 토픽 모델링\n",
        "\n",
        "- max_features값을 500으로 설정하여 상위 500개 단어 보존하였다.\n",
        "- topic의 수를 14, radom_state 800으로 파라미터 값을 설정하였을 때의 결과를 통해서 토픽의 내용을 가장 잘 추측할 수 있었다."
      ]
    },
    {
      "cell_type": "code",
      "metadata": {
        "colab": {
          "base_uri": "https://localhost:8080/"
        },
        "id": "3bV9OpSyfxLX",
        "outputId": "03c37644-5da0-44a0-a6a9-b7d35ba94f98"
      },
      "source": [
        "from sklearn.feature_extraction.text import TfidfVectorizer\n",
        "tfidfv = TfidfVectorizer().fit_transform(review['NEW_full'])\n",
        "tfidfv.toarray()\n",
        "\n",
        "from sklearn.feature_extraction.text import TfidfVectorizer\n",
        "vectorizer = TfidfVectorizer(max_features= 500) # 상위 1,000개의 단어를 보존 \n",
        "X = vectorizer.fit_transform(review['NEW_full'])\n",
        "X.shape # TF-IDF 행렬의 크기 확인\n",
        "\n"
      ],
      "execution_count": 35,
      "outputs": [
        {
          "output_type": "execute_result",
          "data": {
            "text/plain": [
              "(1920, 500)"
            ]
          },
          "metadata": {
            "tags": []
          },
          "execution_count": 35
        }
      ]
    },
    {
      "cell_type": "code",
      "metadata": {
        "colab": {
          "base_uri": "https://localhost:8080/"
        },
        "id": "5siOcSflfxLY",
        "outputId": "ae3f89bd-4630-4057-c2e5-ea4b3a686336"
      },
      "source": [
        "!pip install --upgrade tomotopy\n",
        "\n",
        "from sklearn.decomposition import LatentDirichletAllocation\n",
        "lda_model=LatentDirichletAllocation(n_components=14,learning_method='online',random_state=800,max_iter=1)\n",
        "\n",
        "lda_top=lda_model.fit_transform(X)\n",
        "\n",
        "print(lda_model.components_)\n",
        "print(lda_model.components_.shape) \n",
        "\n",
        "lda_top[0]"
      ],
      "execution_count": 36,
      "outputs": [
        {
          "output_type": "stream",
          "text": [
            "Requirement already up-to-date: tomotopy in /usr/local/lib/python3.7/dist-packages (0.12.1)\n",
            "Requirement already satisfied, skipping upgrade: numpy>=1.11.0 in /usr/local/lib/python3.7/dist-packages (from tomotopy) (1.21.0)\n",
            "[[0.17423485 0.16430143 0.48931173 ... 0.19696526 1.88484203 0.17295506]\n",
            " [0.18129507 0.19794753 0.39007608 ... 0.19215996 0.17109869 1.55425766]\n",
            " [0.1834948  3.49731849 0.17127995 ... 0.16354437 0.16216153 5.04153657]\n",
            " ...\n",
            " [0.16589517 0.1650618  0.17205456 ... 0.19922764 0.18275614 0.31887388]\n",
            " [0.19849483 0.15441697 0.16964797 ... 0.18772322 0.18025396 0.22210312]\n",
            " [3.00035845 0.14997303 0.18485875 ... 0.17860373 0.18475816 0.48605856]]\n",
            "(14, 500)\n"
          ],
          "name": "stdout"
        },
        {
          "output_type": "execute_result",
          "data": {
            "text/plain": [
              "array([0.02672304, 0.02672328, 0.02672302, 0.02672313, 0.02672302,\n",
              "       0.02672307, 0.02672302, 0.02672315, 0.02672306, 0.02672382,\n",
              "       0.65259921, 0.02672312, 0.02672305, 0.02672303])"
            ]
          },
          "metadata": {
            "tags": []
          },
          "execution_count": 36
        }
      ]
    },
    {
      "cell_type": "code",
      "metadata": {
        "scrolled": true,
        "colab": {
          "base_uri": "https://localhost:8080/"
        },
        "id": "O1BWozS4fxLY",
        "outputId": "9e043d7e-a054-48ba-8cb6-27c026c7732e"
      },
      "source": [
        "terms = vectorizer.get_feature_names()\n",
        "\n",
        "def get_topics(components, feature_names, n=5):\n",
        "    for idx, topic in enumerate(components):\n",
        "        print(\"Topic %d:\" % (idx+1), [(feature_names[i], topic[i].round(2)) for i in topic.argsort()[:-n - 1:-1]])\n",
        "get_topics(lda_model.components_, terms)"
      ],
      "execution_count": 37,
      "outputs": [
        {
          "output_type": "stream",
          "text": [
            "Topic 1: [('많아요', 21.07), ('좋네요', 17.63), ('상품이', 8.19), ('아이폰', 5.42), ('굉장히', 4.45)]\n",
            "Topic 2: [('좋아요', 94.3), ('갑자기', 18.69), ('다양한', 15.06), ('많아서', 13.27), ('편리하고', 12.89)]\n",
            "Topic 3: [('원하는', 5.78), ('찾기가', 5.54), ('스타일을', 5.23), ('힘들어요', 5.04), ('카테고리', 4.68)]\n",
            "Topic 4: [('쇼핑몰', 11.14), ('좋은데요', 5.5), ('여러가지', 4.58), ('깔았는데', 4.49), ('안되네요', 4.35)]\n",
            "Topic 5: [('사용하기', 8.53), ('없어요', 7.24), ('다좋은데', 6.76), ('불편해요', 6.7), ('종류가', 4.96)]\n",
            "Topic 6: [('있어서', 25.09), ('다양하게', 7.58), ('쇼핑하기', 7.42), ('편해요', 7.29), ('사이즈', 7.1)]\n",
            "Topic 7: [('많아서', 8.0), ('좋았어요', 7.06), ('한눈에', 7.03), ('있네요', 6.68), ('편하게', 6.5)]\n",
            "Topic 8: [('한번에', 13.13), ('리뷰를', 11.03), ('포인트', 9.28), ('쿠폰이', 8.89), ('서버가', 8.45)]\n",
            "Topic 9: [('다양하고', 20.43), ('같아요', 20.11), ('좋아요', 15.61), ('있어요', 12.58), ('스타일', 10.27)]\n",
            "Topic 10: [('에이블리', 14.72), ('좋아하는', 7.46), ('좋지만', 5.91), ('할인도', 5.77), ('안되나요', 5.04)]\n",
            "Topic 11: [('좋은데', 45.52), ('배송비가', 12.15), ('있으면', 10.68), ('좋겠어요', 10.55), ('비슷한', 9.71)]\n",
            "Topic 12: [('배송이', 12.01), ('느려요', 11.2), ('해주세요', 10.68), ('무엇보다', 10.52), ('배송비', 8.79)]\n",
            "Topic 13: [('좋겠어요', 20.88), ('무료배송', 20.63), ('있었으면', 13.25), ('쿠폰도', 12.08), ('좋아용', 10.35)]\n",
            "Topic 14: [('편하고', 16.12), ('편의점', 14.62), ('옷들이', 11.81), ('솔직히', 7.36), ('좋은데', 4.55)]\n"
          ],
          "name": "stdout"
        }
      ]
    },
    {
      "cell_type": "markdown",
      "metadata": {
        "id": "GcG630paf1zn"
      },
      "source": [
        "전체적으로 아래와 같은 사용자 리뷰들에 대한 topic을 뽑아낼 수 있었다. \n",
        "1. 다양한 스타일의 상품이 많아서 좋다\n",
        "2. 본인이 원하는 스타일을 찾기가 힘들다.\n",
        "3. 특정 사이즈나 종류의 옷이 없다(품절)\n",
        "4. 할인이나 쿠폰을 자주 공유하면 좋겠다.\n",
        "5. 무료배송은 좋은데 배송 속도가 느린 편이다."
      ]
    },
    {
      "cell_type": "markdown",
      "metadata": {
        "id": "Kz5hzg1CfxLZ"
      },
      "source": [
        "### 5.    Visualize your work."
      ]
    },
    {
      "cell_type": "code",
      "metadata": {
        "id": "P3XJUnAMaDxL"
      },
      "source": [
        "# pyLDAvis를 사용하여 topic과 단어 시각화를 진행하는 방법은 이해하였으나, \n",
        "# gensim에 대한 이해력이 아직 부족하여 사이킷런으로 모델링하는 과정까지 진행하였습니다.\n",
        "\n",
        "\n",
        "# import pyLDAvis\n",
        "# pyLDAvis.display()"
      ],
      "execution_count": 38,
      "outputs": []
    },
    {
      "cell_type": "code",
      "metadata": {
        "id": "WA7hHU5caOn0"
      },
      "source": [
        "\n"
      ],
      "execution_count": 38,
      "outputs": []
    },
    {
      "cell_type": "code",
      "metadata": {
        "id": "9X30UNC9cZah"
      },
      "source": [
        ""
      ],
      "execution_count": null,
      "outputs": []
    }
  ]
}